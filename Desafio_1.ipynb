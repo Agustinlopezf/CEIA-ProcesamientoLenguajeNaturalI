{
  "cells": [
    {
      "cell_type": "code",
      "execution_count": 1,
      "metadata": {},
      "outputs": [
        {
          "name": "stdout",
          "output_type": "stream",
          "text": [
            "Requirement already satisfied: numpy in c:\\users\\alope\\appdata\\local\\programs\\python\\python313\\lib\\site-packages (2.2.5)\n",
            "Requirement already satisfied: scikit-learn in c:\\users\\alope\\appdata\\local\\programs\\python\\python313\\lib\\site-packages (1.6.1)\n",
            "Requirement already satisfied: scipy>=1.6.0 in c:\\users\\alope\\appdata\\local\\programs\\python\\python313\\lib\\site-packages (from scikit-learn) (1.15.3)\n",
            "Requirement already satisfied: joblib>=1.2.0 in c:\\users\\alope\\appdata\\local\\programs\\python\\python313\\lib\\site-packages (from scikit-learn) (1.5.1)\n",
            "Requirement already satisfied: threadpoolctl>=3.1.0 in c:\\users\\alope\\appdata\\local\\programs\\python\\python313\\lib\\site-packages (from scikit-learn) (3.6.0)\n",
            "Note: you may need to restart the kernel to use updated packages.\n"
          ]
        },
        {
          "name": "stderr",
          "output_type": "stream",
          "text": [
            "\n",
            "[notice] A new release of pip is available: 25.1.1 -> 25.2\n",
            "[notice] To update, run: python.exe -m pip install --upgrade pip\n"
          ]
        }
      ],
      "source": [
        "%pip install numpy scikit-learn"
      ]
    },
    {
      "cell_type": "markdown",
      "metadata": {
        "id": "zq6j8LsYq1Dr"
      },
      "source": [
        "### Vectorización de texto y modelo de clasificación Naïve Bayes con el dataset 20 newsgroups"
      ]
    },
    {
      "cell_type": "code",
      "execution_count": 2,
      "metadata": {
        "id": "l7cXR6CI30ry"
      },
      "outputs": [],
      "source": [
        "from sklearn.feature_extraction.text import CountVectorizer, TfidfVectorizer\n",
        "from sklearn.metrics.pairwise import cosine_similarity\n",
        "from sklearn.naive_bayes import MultinomialNB, ComplementNB\n",
        "from sklearn.metrics import f1_score\n",
        "\n",
        "# 20newsgroups por ser un dataset clásico de NLP ya viene incluido y formateado\n",
        "# en sklearn\n",
        "from sklearn.datasets import fetch_20newsgroups\n",
        "import numpy as np"
      ]
    },
    {
      "cell_type": "markdown",
      "metadata": {
        "id": "yD-pVDWV_rQc"
      },
      "source": [
        "## Carga de datos"
      ]
    },
    {
      "cell_type": "code",
      "execution_count": 3,
      "metadata": {
        "id": "Ech9qJaUo9vK"
      },
      "outputs": [],
      "source": [
        "# cargamos los datos (ya separados de forma predeterminada en train y test)\n",
        "newsgroups_train = fetch_20newsgroups(subset='train', remove=('headers', 'footers', 'quotes'))\n",
        "newsgroups_test = fetch_20newsgroups(subset='test', remove=('headers', 'footers', 'quotes'))"
      ]
    },
    {
      "cell_type": "markdown",
      "metadata": {
        "id": "UxjSI7su_uWI"
      },
      "source": [
        "## Vectorización"
      ]
    },
    {
      "cell_type": "code",
      "execution_count": 4,
      "metadata": {
        "id": "-94VP0QYCzDn"
      },
      "outputs": [],
      "source": [
        "# instanciamos un vectorizador\n",
        "# ver diferentes parámetros de instanciación en la documentación de sklearn https://scikit-learn.org/stable/modules/generated/sklearn.feature_extraction.text.TfidfVectorizer.html\n",
        "tfidfvect = TfidfVectorizer()"
      ]
    },
    {
      "cell_type": "code",
      "execution_count": 5,
      "metadata": {
        "colab": {
          "base_uri": "https://localhost:8080/",
          "height": 104
        },
        "id": "ftPlyanuak8n",
        "outputId": "45a94d0e-49e7-4f7c-c806-7d5b66779dd0"
      },
      "outputs": [
        {
          "name": "stdout",
          "output_type": "stream",
          "text": [
            "I was wondering if anyone out there could enlighten me on this car I saw\n",
            "the other day. It was a 2-door sports car, looked to be from the late 60s/\n",
            "early 70s. It was called a Bricklin. The doors were really small. In addition,\n",
            "the front bumper was separate from the rest of the body. This is \n",
            "all I know. If anyone can tellme a model name, engine specs, years\n",
            "of production, where this car is made, history, or whatever info you\n",
            "have on this funky looking car, please e-mail.\n"
          ]
        }
      ],
      "source": [
        "# en el atributo `data` accedemos al texto\n",
        "print(newsgroups_train.data[0])"
      ]
    },
    {
      "cell_type": "code",
      "execution_count": 6,
      "metadata": {
        "id": "1zxcXV6aC_oL"
      },
      "outputs": [],
      "source": [
        "# con la interfaz habitual de sklearn podemos fitear el vectorizador\n",
        "# (obtener el vocabulario y calcular el vector IDF)\n",
        "# y transformar directamente los datos\n",
        "X_train = tfidfvect.fit_transform(newsgroups_train.data)\n",
        "# `X_train` la podemos denominar como la matriz documento-término"
      ]
    },
    {
      "cell_type": "code",
      "execution_count": 7,
      "metadata": {
        "colab": {
          "base_uri": "https://localhost:8080/"
        },
        "id": "4Sv7TXbda41-",
        "outputId": "dcca5de6-dac1-4d68-d284-ce7be2ed9e2f"
      },
      "outputs": [
        {
          "name": "stdout",
          "output_type": "stream",
          "text": [
            "<class 'scipy.sparse._csr.csr_matrix'>\n",
            "shape: (11314, 101631)\n",
            "Cantidad de documentos: 11314\n",
            "Tamaño del vocabulario (dimensionalidad de los vectores): 101631\n"
          ]
        }
      ],
      "source": [
        "# recordar que las vectorizaciones por conteos son esparsas\n",
        "# por ello sklearn convenientemente devuelve los vectores de documentos\n",
        "# como matrices esparsas\n",
        "print(type(X_train))\n",
        "print(f'shape: {X_train.shape}')\n",
        "print(f'Cantidad de documentos: {X_train.shape[0]}')\n",
        "print(f'Tamaño del vocabulario (dimensionalidad de los vectores): {X_train.shape[1]}')"
      ]
    },
    {
      "cell_type": "code",
      "execution_count": 8,
      "metadata": {
        "colab": {
          "base_uri": "https://localhost:8080/"
        },
        "id": "dgydNTZ2pAgR",
        "outputId": "95111464-e40c-4b57-d154-ede153739a82"
      },
      "outputs": [
        {
          "data": {
            "text/plain": [
              "25775"
            ]
          },
          "execution_count": 8,
          "metadata": {},
          "output_type": "execute_result"
        }
      ],
      "source": [
        "# una vez fiteado el vectorizador, podemos acceder a atributos como el vocabulario\n",
        "# aprendido. Es un diccionario que va de términos a índices.\n",
        "# El índice es la posición en el vector de documento.\n",
        "tfidfvect.vocabulary_['car']"
      ]
    },
    {
      "cell_type": "code",
      "execution_count": 9,
      "metadata": {
        "id": "xnTSZuvyrTcP"
      },
      "outputs": [],
      "source": [
        "# es muy útil tener el diccionario opuesto que va de índices a términos\n",
        "idx2word = {v: k for k,v in tfidfvect.vocabulary_.items()}"
      ]
    },
    {
      "cell_type": "code",
      "execution_count": 10,
      "metadata": {
        "colab": {
          "base_uri": "https://localhost:8080/"
        },
        "id": "swa-AgWrMSHM",
        "outputId": "93d09f31-4c42-4215-e750-a13c83ecf96a"
      },
      "outputs": [
        {
          "data": {
            "text/plain": [
              "array([ 7,  4,  4,  1, 14, 16, 13,  3,  2,  4])"
            ]
          },
          "execution_count": 10,
          "metadata": {},
          "output_type": "execute_result"
        }
      ],
      "source": [
        "# en `y_train` guardamos los targets que son enteros\n",
        "y_train = newsgroups_train.target\n",
        "y_train[:10]"
      ]
    },
    {
      "cell_type": "code",
      "execution_count": 11,
      "metadata": {
        "colab": {
          "base_uri": "https://localhost:8080/"
        },
        "id": "je5kxvQMDLvf",
        "outputId": "59799046-9799-406f-c4be-81c5765de58d"
      },
      "outputs": [
        {
          "name": "stdout",
          "output_type": "stream",
          "text": [
            "clases [ 0  1  2  3  4  5  6  7  8  9 10 11 12 13 14 15 16 17 18 19]\n"
          ]
        },
        {
          "data": {
            "text/plain": [
              "['alt.atheism',\n",
              " 'comp.graphics',\n",
              " 'comp.os.ms-windows.misc',\n",
              " 'comp.sys.ibm.pc.hardware',\n",
              " 'comp.sys.mac.hardware',\n",
              " 'comp.windows.x',\n",
              " 'misc.forsale',\n",
              " 'rec.autos',\n",
              " 'rec.motorcycles',\n",
              " 'rec.sport.baseball',\n",
              " 'rec.sport.hockey',\n",
              " 'sci.crypt',\n",
              " 'sci.electronics',\n",
              " 'sci.med',\n",
              " 'sci.space',\n",
              " 'soc.religion.christian',\n",
              " 'talk.politics.guns',\n",
              " 'talk.politics.mideast',\n",
              " 'talk.politics.misc',\n",
              " 'talk.religion.misc']"
            ]
          },
          "execution_count": 11,
          "metadata": {},
          "output_type": "execute_result"
        }
      ],
      "source": [
        "# hay 20 clases correspondientes a los 20 grupos de noticias\n",
        "print(f'clases {np.unique(newsgroups_test.target)}')\n",
        "newsgroups_test.target_names"
      ]
    },
    {
      "cell_type": "markdown",
      "metadata": {
        "id": "SXCICFSd_y90"
      },
      "source": [
        "## Similaridad de documentos"
      ]
    },
    {
      "cell_type": "code",
      "execution_count": 12,
      "metadata": {
        "colab": {
          "base_uri": "https://localhost:8080/"
        },
        "id": "_pki_olShnyE",
        "outputId": "b2bd8485-40c7-4923-c8a9-4ad6b735576e"
      },
      "outputs": [
        {
          "name": "stdout",
          "output_type": "stream",
          "text": [
            "THE WHITE HOUSE\n",
            "\n",
            "                  Office of the Press Secretary\n",
            "                   (Pittsburgh, Pennslyvania)\n",
            "______________________________________________________________\n",
            "For Immediate Release                         April 17, 1993     \n",
            "\n",
            "             \n",
            "                  RADIO ADDRESS TO THE NATION \n",
            "                        BY THE PRESIDENT\n",
            "             \n",
            "                Pittsburgh International Airport\n",
            "                    Pittsburgh, Pennsylvania\n",
            "             \n",
            "             \n",
            "10:06 A.M. EDT\n",
            "             \n",
            "             \n",
            "             THE PRESIDENT:  Good morning.  My voice is coming to\n",
            "you this morning through the facilities of the oldest radio\n",
            "station in America, KDKA in Pittsburgh.  I'm visiting the city to\n",
            "meet personally with citizens here to discuss my plans for jobs,\n",
            "health care and the economy.  But I wanted first to do my weekly\n",
            "broadcast with the American people. \n",
            "             \n",
            "             I'm told this station first broadcast in 1920 when\n",
            "it reported that year's presidential elections.  Over the past\n",
            "seven decades presidents have found ways to keep in touch with\n",
            "the people, from whistle-stop tours to fire-side chats to the bus\n",
            "tour that I adopted, along with Vice President Gore, in last\n",
            "year's campaign.\n",
            "             \n",
            "             Every Saturday morning I take this time to talk with\n",
            "you, my fellow Americans, about the problems on your minds and\n",
            "what I'm doing to try and solve them.  It's my way of reporting\n",
            "to you and of giving you a way to hold me accountable.\n",
            "             \n",
            "             You sent me to Washington to get our government and\n",
            "economy moving after years of paralysis and policy and a bad\n",
            "experiment with trickle-down economics.  You know how important\n",
            "it is for us to make bold, comprehensive changes in the way we do\n",
            "business.  \n",
            "             \n",
            "             We live in a competitive global economy.  Nations\n",
            "rise and fall on the skills of their workers, the competitiveness\n",
            "of their companies, the imagination of their industries, and the\n",
            "cooperative experience and spirit that exists between business,\n",
            "labor and government.  Although many of the economies of the\n",
            "industrialized world are now suffering from slow growth, they've\n",
            "made many of the smart investments and the tough choices which\n",
            "our government has for too long ignored.  That's why many of them\n",
            "have been moving ahead and too many of our people have been\n",
            "falling behind.\n",
            "             \n",
            "             We have an economy today that even when it grows is\n",
            "not producing new jobs.  We've increased the debt of our nation\n",
            "by four times over the last 12 years, and we don't have much to\n",
            "show for it.  We know that wages of most working people have\n",
            "stopped rising, that most people are working longer work weeks\n",
            "and that too many families can no longer afford the escalating\n",
            "cost of health care.\n",
            "             \n",
            "             But we also know that, given the right tools, the\n",
            "right incentives and the right encouragement, our workers and\n",
            "businesses can make the kinds of products and profits our economy\n",
            "needs to expand opportunity and to make our communities better\n",
            "places to live.\n",
            "             \n",
            "             In many critical products today Americans are the\n",
            "low cost, high quality producers.  Our task is to make sure that\n",
            "we create more of those kinds of jobs.\n",
            "             \n",
            "             Just two months ago I gave Congress my plan for\n",
            "long-term jobs and economic growth.  It changes the old\n",
            "priorities in Washington and puts our emphasis where it needs to\n",
            "be -- on people's real needs, on increasing investments and jobs\n",
            "and education, on cutting the federal deficit, on stopping the\n",
            "waste which pays no dividends, and redirecting our precious\n",
            "resources toward investment that creates jobs now and lays the\n",
            "groundwork for robust economic growth in the future.\n",
            "             \n",
            "             These new directions passed the Congress in record\n",
            "time and created a new sense of hope and opportunity in our\n",
            "country.  Then the jobs plan I presented to Congress, which would\n",
            "create hundreds of thousands of jobs, most of them in the private\n",
            "sector in 1993 and 1994, passed the House of Representatives.  It\n",
            "now has the support of a majority of the United States Senate. \n",
            "But it's been held up by a filibuster of a minority in the\n",
            "Senate, just 43 senators.  They blocked a vote that they know\n",
            "would result in the passage of our bill and the creation of jobs.\n",
            "             \n",
            "             The issue isn't politics; the issue is people. \n",
            "Millions of Americans are waiting for this legislation and\n",
            "counting on it, counting on us in Washington.  But the jobs bill\n",
            "has been grounded by gridlock.  \n",
            "             \n",
            "             I know the American people are tired of business as\n",
            "usual and politics as usual.  I know they don't want us to spin\n",
            "or wheels.  They want the recovery to get moving.  So I have\n",
            "taken a first step to break this gridlock and gone the extra\n",
            "mile.  Yesterday I offered to cut the size of this plan by 25\n",
            "percent -- from $16 billion to $12 billion.  \n",
            "             \n",
            "             It's not what I'd hoped for.  With 16 million\n",
            "Americans looking for full-time work, I simply can't let the bill\n",
            "languish when I know that even a compromise bill will mean\n",
            "hundreds of thousands of jobs for our people.  The mandate is to\n",
            "act to achieve change and move the country forward.  By taking\n",
            "this initiative in the face of an unrelenting Senate talkathon, I\n",
            "think we can respond to your mandate and achieve a significant\n",
            "portion of our original goals.\n",
            "             \n",
            "             First, we want to keep the programs as much as\n",
            "possible that are needed to generate jobs and meet human needs,\n",
            "including highway and road construction, summer jobs for young\n",
            "people, immunization for children, construction of waste water\n",
            "sites, and aid to small businesses.  We also want to keep funding\n",
            "for extended unemployment compensation benefits, for people who\n",
            "have been unemployed for a long time because the economy isn't\n",
            "creating jobs.\n",
            "             \n",
            "             Second, I've recommended that all the other programs\n",
            "in the bill be cut across-the-board by a little more than 40\n",
            "percent.\n",
            "             \n",
            "             And third, I've recommended a new element in this\n",
            "program to help us immediately start our attempt to fight against\n",
            "crime by providing $200 million for cities and towns to rehire\n",
            "police officers who lost their jobs during the recession and put\n",
            "them back to work protecting our people.  I'm also going to fight\n",
            "for a tough crime bill because the people of this country need it\n",
            "and deserve it.\n",
            "             \n",
            "             Now, the people who are filibustering this bill --\n",
            "the Republican senators -- say they won't vote for it because it\n",
            "increases deficit spending, because there's extra spending this\n",
            "year that hasn't already been approved.  That sounds reasonable,\n",
            "doesn't it?  Here's what they don't say.  This program is more\n",
            "than paid for by budget cuts over my five-year budget, and this\n",
            "budget is well within the spending limits already approved by the\n",
            "Congress this year.\n",
            "             \n",
            "             It's amazing to me that many of these same senators\n",
            "who are filibustering the bill voted during the previous\n",
            "administration for billions of dollars of the same kind of\n",
            "emergency spending, and much of it was not designed to put the\n",
            "American people to work.  \n",
            "             \n",
            "             This is not about deficit spending.  We have offered\n",
            "a plan to cut the deficit.  This is about where your priorities\n",
            "are -- on people or on politics.  \n",
            "             \n",
            "             Keep in mind that our jobs bill is paid for dollar\n",
            "for dollar.  It is paid for by budget cuts.  And it's the\n",
            "soundest investment we can now make for ourselves and our\n",
            "children.  I urge all Americans to take another look at this jobs\n",
            "and investment program; to consider again the benefits for all of\n",
            "us when we've helped make more American partners working to\n",
            "ensure the future of our nation and the strength of our economy.\n",
            "             \n",
            "             You know, if every American who wanted a job had\n",
            "one, we wouldn't have a lot of the other problems we have in this\n",
            "country today.  This bill is not a miracle, it's a modest first\n",
            "step to try to set off a job creation explosion in this country\n",
            "again.  But it's a step we ought to take.  And it is fully paid\n",
            "for over the life of our budget.\n",
            "             \n",
            "             Tell your lawmakers what you think.  Tell them how\n",
            "important the bill is.  If it passes, we'll all be winners.\n",
            "             \n",
            "             Good morning, and thank you for listening.\n"
          ]
        }
      ],
      "source": [
        "# Veamos similaridad de documentos. Tomemos algún documento\n",
        "idx = 4811\n",
        "print(newsgroups_train.data[idx])"
      ]
    },
    {
      "cell_type": "code",
      "execution_count": 13,
      "metadata": {
        "id": "Ssa9bqJ-hA_v"
      },
      "outputs": [],
      "source": [
        "# midamos la similaridad coseno con todos los documentos de train\n",
        "cossim = cosine_similarity(X_train[idx], X_train)[0]"
      ]
    },
    {
      "cell_type": "code",
      "execution_count": 14,
      "metadata": {
        "colab": {
          "base_uri": "https://localhost:8080/"
        },
        "id": "p_mDA7p3AzcQ",
        "outputId": "747a3923-4b1c-4e2b-921d-4ebf2b271b00"
      },
      "outputs": [
        {
          "data": {
            "text/plain": [
              "array([1.        , 0.70930477, 0.67474953, ..., 0.        , 0.        ,\n",
              "       0.        ], shape=(11314,))"
            ]
          },
          "execution_count": 14,
          "metadata": {},
          "output_type": "execute_result"
        }
      ],
      "source": [
        "# podemos ver los valores de similaridad ordenados de mayor a menos\n",
        "np.sort(cossim)[::-1]"
      ]
    },
    {
      "cell_type": "code",
      "execution_count": 15,
      "metadata": {
        "colab": {
          "base_uri": "https://localhost:8080/"
        },
        "id": "0OIhDA1jAryX",
        "outputId": "04ddf3ca-0741-42d7-8bbb-00bb395f7834"
      },
      "outputs": [
        {
          "data": {
            "text/plain": [
              "array([ 4811,  6635,  4253, ...,  6385,  1149, 11238], shape=(11314,))"
            ]
          },
          "execution_count": 15,
          "metadata": {},
          "output_type": "execute_result"
        }
      ],
      "source": [
        "# y a qué documentos corresponden\n",
        "np.argsort(cossim)[::-1]"
      ]
    },
    {
      "cell_type": "code",
      "execution_count": 16,
      "metadata": {
        "id": "hP7qLS4ZBLps"
      },
      "outputs": [],
      "source": [
        "# los 5 documentos más similares:\n",
        "mostsim = np.argsort(cossim)[::-1][1:6]"
      ]
    },
    {
      "cell_type": "code",
      "execution_count": 17,
      "metadata": {
        "colab": {
          "base_uri": "https://localhost:8080/",
          "height": 35
        },
        "id": "QdJLHPJACvaj",
        "outputId": "926186cf-7d4c-4bd3-927b-ad00bf7f24f9"
      },
      "outputs": [
        {
          "data": {
            "text/plain": [
              "'talk.politics.misc'"
            ]
          },
          "execution_count": 17,
          "metadata": {},
          "output_type": "execute_result"
        }
      ],
      "source": [
        "# el documento original pertenece a la clase:\n",
        "newsgroups_train.target_names[y_train[idx]]"
      ]
    },
    {
      "cell_type": "code",
      "execution_count": 18,
      "metadata": {
        "colab": {
          "base_uri": "https://localhost:8080/"
        },
        "id": "RWy_73epCbFG",
        "outputId": "daf534e5-b2a8-43d4-d05a-9c52b816cf69"
      },
      "outputs": [
        {
          "name": "stdout",
          "output_type": "stream",
          "text": [
            "talk.politics.misc\n",
            "talk.politics.misc\n",
            "talk.politics.misc\n",
            "talk.politics.misc\n",
            "talk.politics.misc\n"
          ]
        }
      ],
      "source": [
        "# y los 5 más similares son de las clases:\n",
        "for i in mostsim:\n",
        "  print(newsgroups_train.target_names[y_train[i]])"
      ]
    },
    {
      "cell_type": "markdown",
      "metadata": {
        "id": "zRoNnKwhBqzq"
      },
      "source": [
        "### Modelo de clasificación Naïve Bayes"
      ]
    },
    {
      "cell_type": "code",
      "execution_count": 19,
      "metadata": {
        "colab": {
          "base_uri": "https://localhost:8080/",
          "height": 74
        },
        "id": "TPM0thDaLk0R",
        "outputId": "bc7fdc3e-d912-4e0c-9d9e-33efc97b46fc"
      },
      "outputs": [
        {
          "data": {
            "text/html": [
              "<style>#sk-container-id-1 {\n",
              "  /* Definition of color scheme common for light and dark mode */\n",
              "  --sklearn-color-text: #000;\n",
              "  --sklearn-color-text-muted: #666;\n",
              "  --sklearn-color-line: gray;\n",
              "  /* Definition of color scheme for unfitted estimators */\n",
              "  --sklearn-color-unfitted-level-0: #fff5e6;\n",
              "  --sklearn-color-unfitted-level-1: #f6e4d2;\n",
              "  --sklearn-color-unfitted-level-2: #ffe0b3;\n",
              "  --sklearn-color-unfitted-level-3: chocolate;\n",
              "  /* Definition of color scheme for fitted estimators */\n",
              "  --sklearn-color-fitted-level-0: #f0f8ff;\n",
              "  --sklearn-color-fitted-level-1: #d4ebff;\n",
              "  --sklearn-color-fitted-level-2: #b3dbfd;\n",
              "  --sklearn-color-fitted-level-3: cornflowerblue;\n",
              "\n",
              "  /* Specific color for light theme */\n",
              "  --sklearn-color-text-on-default-background: var(--sg-text-color, var(--theme-code-foreground, var(--jp-content-font-color1, black)));\n",
              "  --sklearn-color-background: var(--sg-background-color, var(--theme-background, var(--jp-layout-color0, white)));\n",
              "  --sklearn-color-border-box: var(--sg-text-color, var(--theme-code-foreground, var(--jp-content-font-color1, black)));\n",
              "  --sklearn-color-icon: #696969;\n",
              "\n",
              "  @media (prefers-color-scheme: dark) {\n",
              "    /* Redefinition of color scheme for dark theme */\n",
              "    --sklearn-color-text-on-default-background: var(--sg-text-color, var(--theme-code-foreground, var(--jp-content-font-color1, white)));\n",
              "    --sklearn-color-background: var(--sg-background-color, var(--theme-background, var(--jp-layout-color0, #111)));\n",
              "    --sklearn-color-border-box: var(--sg-text-color, var(--theme-code-foreground, var(--jp-content-font-color1, white)));\n",
              "    --sklearn-color-icon: #878787;\n",
              "  }\n",
              "}\n",
              "\n",
              "#sk-container-id-1 {\n",
              "  color: var(--sklearn-color-text);\n",
              "}\n",
              "\n",
              "#sk-container-id-1 pre {\n",
              "  padding: 0;\n",
              "}\n",
              "\n",
              "#sk-container-id-1 input.sk-hidden--visually {\n",
              "  border: 0;\n",
              "  clip: rect(1px 1px 1px 1px);\n",
              "  clip: rect(1px, 1px, 1px, 1px);\n",
              "  height: 1px;\n",
              "  margin: -1px;\n",
              "  overflow: hidden;\n",
              "  padding: 0;\n",
              "  position: absolute;\n",
              "  width: 1px;\n",
              "}\n",
              "\n",
              "#sk-container-id-1 div.sk-dashed-wrapped {\n",
              "  border: 1px dashed var(--sklearn-color-line);\n",
              "  margin: 0 0.4em 0.5em 0.4em;\n",
              "  box-sizing: border-box;\n",
              "  padding-bottom: 0.4em;\n",
              "  background-color: var(--sklearn-color-background);\n",
              "}\n",
              "\n",
              "#sk-container-id-1 div.sk-container {\n",
              "  /* jupyter's `normalize.less` sets `[hidden] { display: none; }`\n",
              "     but bootstrap.min.css set `[hidden] { display: none !important; }`\n",
              "     so we also need the `!important` here to be able to override the\n",
              "     default hidden behavior on the sphinx rendered scikit-learn.org.\n",
              "     See: https://github.com/scikit-learn/scikit-learn/issues/21755 */\n",
              "  display: inline-block !important;\n",
              "  position: relative;\n",
              "}\n",
              "\n",
              "#sk-container-id-1 div.sk-text-repr-fallback {\n",
              "  display: none;\n",
              "}\n",
              "\n",
              "div.sk-parallel-item,\n",
              "div.sk-serial,\n",
              "div.sk-item {\n",
              "  /* draw centered vertical line to link estimators */\n",
              "  background-image: linear-gradient(var(--sklearn-color-text-on-default-background), var(--sklearn-color-text-on-default-background));\n",
              "  background-size: 2px 100%;\n",
              "  background-repeat: no-repeat;\n",
              "  background-position: center center;\n",
              "}\n",
              "\n",
              "/* Parallel-specific style estimator block */\n",
              "\n",
              "#sk-container-id-1 div.sk-parallel-item::after {\n",
              "  content: \"\";\n",
              "  width: 100%;\n",
              "  border-bottom: 2px solid var(--sklearn-color-text-on-default-background);\n",
              "  flex-grow: 1;\n",
              "}\n",
              "\n",
              "#sk-container-id-1 div.sk-parallel {\n",
              "  display: flex;\n",
              "  align-items: stretch;\n",
              "  justify-content: center;\n",
              "  background-color: var(--sklearn-color-background);\n",
              "  position: relative;\n",
              "}\n",
              "\n",
              "#sk-container-id-1 div.sk-parallel-item {\n",
              "  display: flex;\n",
              "  flex-direction: column;\n",
              "}\n",
              "\n",
              "#sk-container-id-1 div.sk-parallel-item:first-child::after {\n",
              "  align-self: flex-end;\n",
              "  width: 50%;\n",
              "}\n",
              "\n",
              "#sk-container-id-1 div.sk-parallel-item:last-child::after {\n",
              "  align-self: flex-start;\n",
              "  width: 50%;\n",
              "}\n",
              "\n",
              "#sk-container-id-1 div.sk-parallel-item:only-child::after {\n",
              "  width: 0;\n",
              "}\n",
              "\n",
              "/* Serial-specific style estimator block */\n",
              "\n",
              "#sk-container-id-1 div.sk-serial {\n",
              "  display: flex;\n",
              "  flex-direction: column;\n",
              "  align-items: center;\n",
              "  background-color: var(--sklearn-color-background);\n",
              "  padding-right: 1em;\n",
              "  padding-left: 1em;\n",
              "}\n",
              "\n",
              "\n",
              "/* Toggleable style: style used for estimator/Pipeline/ColumnTransformer box that is\n",
              "clickable and can be expanded/collapsed.\n",
              "- Pipeline and ColumnTransformer use this feature and define the default style\n",
              "- Estimators will overwrite some part of the style using the `sk-estimator` class\n",
              "*/\n",
              "\n",
              "/* Pipeline and ColumnTransformer style (default) */\n",
              "\n",
              "#sk-container-id-1 div.sk-toggleable {\n",
              "  /* Default theme specific background. It is overwritten whether we have a\n",
              "  specific estimator or a Pipeline/ColumnTransformer */\n",
              "  background-color: var(--sklearn-color-background);\n",
              "}\n",
              "\n",
              "/* Toggleable label */\n",
              "#sk-container-id-1 label.sk-toggleable__label {\n",
              "  cursor: pointer;\n",
              "  display: flex;\n",
              "  width: 100%;\n",
              "  margin-bottom: 0;\n",
              "  padding: 0.5em;\n",
              "  box-sizing: border-box;\n",
              "  text-align: center;\n",
              "  align-items: start;\n",
              "  justify-content: space-between;\n",
              "  gap: 0.5em;\n",
              "}\n",
              "\n",
              "#sk-container-id-1 label.sk-toggleable__label .caption {\n",
              "  font-size: 0.6rem;\n",
              "  font-weight: lighter;\n",
              "  color: var(--sklearn-color-text-muted);\n",
              "}\n",
              "\n",
              "#sk-container-id-1 label.sk-toggleable__label-arrow:before {\n",
              "  /* Arrow on the left of the label */\n",
              "  content: \"▸\";\n",
              "  float: left;\n",
              "  margin-right: 0.25em;\n",
              "  color: var(--sklearn-color-icon);\n",
              "}\n",
              "\n",
              "#sk-container-id-1 label.sk-toggleable__label-arrow:hover:before {\n",
              "  color: var(--sklearn-color-text);\n",
              "}\n",
              "\n",
              "/* Toggleable content - dropdown */\n",
              "\n",
              "#sk-container-id-1 div.sk-toggleable__content {\n",
              "  max-height: 0;\n",
              "  max-width: 0;\n",
              "  overflow: hidden;\n",
              "  text-align: left;\n",
              "  /* unfitted */\n",
              "  background-color: var(--sklearn-color-unfitted-level-0);\n",
              "}\n",
              "\n",
              "#sk-container-id-1 div.sk-toggleable__content.fitted {\n",
              "  /* fitted */\n",
              "  background-color: var(--sklearn-color-fitted-level-0);\n",
              "}\n",
              "\n",
              "#sk-container-id-1 div.sk-toggleable__content pre {\n",
              "  margin: 0.2em;\n",
              "  border-radius: 0.25em;\n",
              "  color: var(--sklearn-color-text);\n",
              "  /* unfitted */\n",
              "  background-color: var(--sklearn-color-unfitted-level-0);\n",
              "}\n",
              "\n",
              "#sk-container-id-1 div.sk-toggleable__content.fitted pre {\n",
              "  /* unfitted */\n",
              "  background-color: var(--sklearn-color-fitted-level-0);\n",
              "}\n",
              "\n",
              "#sk-container-id-1 input.sk-toggleable__control:checked~div.sk-toggleable__content {\n",
              "  /* Expand drop-down */\n",
              "  max-height: 200px;\n",
              "  max-width: 100%;\n",
              "  overflow: auto;\n",
              "}\n",
              "\n",
              "#sk-container-id-1 input.sk-toggleable__control:checked~label.sk-toggleable__label-arrow:before {\n",
              "  content: \"▾\";\n",
              "}\n",
              "\n",
              "/* Pipeline/ColumnTransformer-specific style */\n",
              "\n",
              "#sk-container-id-1 div.sk-label input.sk-toggleable__control:checked~label.sk-toggleable__label {\n",
              "  color: var(--sklearn-color-text);\n",
              "  background-color: var(--sklearn-color-unfitted-level-2);\n",
              "}\n",
              "\n",
              "#sk-container-id-1 div.sk-label.fitted input.sk-toggleable__control:checked~label.sk-toggleable__label {\n",
              "  background-color: var(--sklearn-color-fitted-level-2);\n",
              "}\n",
              "\n",
              "/* Estimator-specific style */\n",
              "\n",
              "/* Colorize estimator box */\n",
              "#sk-container-id-1 div.sk-estimator input.sk-toggleable__control:checked~label.sk-toggleable__label {\n",
              "  /* unfitted */\n",
              "  background-color: var(--sklearn-color-unfitted-level-2);\n",
              "}\n",
              "\n",
              "#sk-container-id-1 div.sk-estimator.fitted input.sk-toggleable__control:checked~label.sk-toggleable__label {\n",
              "  /* fitted */\n",
              "  background-color: var(--sklearn-color-fitted-level-2);\n",
              "}\n",
              "\n",
              "#sk-container-id-1 div.sk-label label.sk-toggleable__label,\n",
              "#sk-container-id-1 div.sk-label label {\n",
              "  /* The background is the default theme color */\n",
              "  color: var(--sklearn-color-text-on-default-background);\n",
              "}\n",
              "\n",
              "/* On hover, darken the color of the background */\n",
              "#sk-container-id-1 div.sk-label:hover label.sk-toggleable__label {\n",
              "  color: var(--sklearn-color-text);\n",
              "  background-color: var(--sklearn-color-unfitted-level-2);\n",
              "}\n",
              "\n",
              "/* Label box, darken color on hover, fitted */\n",
              "#sk-container-id-1 div.sk-label.fitted:hover label.sk-toggleable__label.fitted {\n",
              "  color: var(--sklearn-color-text);\n",
              "  background-color: var(--sklearn-color-fitted-level-2);\n",
              "}\n",
              "\n",
              "/* Estimator label */\n",
              "\n",
              "#sk-container-id-1 div.sk-label label {\n",
              "  font-family: monospace;\n",
              "  font-weight: bold;\n",
              "  display: inline-block;\n",
              "  line-height: 1.2em;\n",
              "}\n",
              "\n",
              "#sk-container-id-1 div.sk-label-container {\n",
              "  text-align: center;\n",
              "}\n",
              "\n",
              "/* Estimator-specific */\n",
              "#sk-container-id-1 div.sk-estimator {\n",
              "  font-family: monospace;\n",
              "  border: 1px dotted var(--sklearn-color-border-box);\n",
              "  border-radius: 0.25em;\n",
              "  box-sizing: border-box;\n",
              "  margin-bottom: 0.5em;\n",
              "  /* unfitted */\n",
              "  background-color: var(--sklearn-color-unfitted-level-0);\n",
              "}\n",
              "\n",
              "#sk-container-id-1 div.sk-estimator.fitted {\n",
              "  /* fitted */\n",
              "  background-color: var(--sklearn-color-fitted-level-0);\n",
              "}\n",
              "\n",
              "/* on hover */\n",
              "#sk-container-id-1 div.sk-estimator:hover {\n",
              "  /* unfitted */\n",
              "  background-color: var(--sklearn-color-unfitted-level-2);\n",
              "}\n",
              "\n",
              "#sk-container-id-1 div.sk-estimator.fitted:hover {\n",
              "  /* fitted */\n",
              "  background-color: var(--sklearn-color-fitted-level-2);\n",
              "}\n",
              "\n",
              "/* Specification for estimator info (e.g. \"i\" and \"?\") */\n",
              "\n",
              "/* Common style for \"i\" and \"?\" */\n",
              "\n",
              ".sk-estimator-doc-link,\n",
              "a:link.sk-estimator-doc-link,\n",
              "a:visited.sk-estimator-doc-link {\n",
              "  float: right;\n",
              "  font-size: smaller;\n",
              "  line-height: 1em;\n",
              "  font-family: monospace;\n",
              "  background-color: var(--sklearn-color-background);\n",
              "  border-radius: 1em;\n",
              "  height: 1em;\n",
              "  width: 1em;\n",
              "  text-decoration: none !important;\n",
              "  margin-left: 0.5em;\n",
              "  text-align: center;\n",
              "  /* unfitted */\n",
              "  border: var(--sklearn-color-unfitted-level-1) 1pt solid;\n",
              "  color: var(--sklearn-color-unfitted-level-1);\n",
              "}\n",
              "\n",
              ".sk-estimator-doc-link.fitted,\n",
              "a:link.sk-estimator-doc-link.fitted,\n",
              "a:visited.sk-estimator-doc-link.fitted {\n",
              "  /* fitted */\n",
              "  border: var(--sklearn-color-fitted-level-1) 1pt solid;\n",
              "  color: var(--sklearn-color-fitted-level-1);\n",
              "}\n",
              "\n",
              "/* On hover */\n",
              "div.sk-estimator:hover .sk-estimator-doc-link:hover,\n",
              ".sk-estimator-doc-link:hover,\n",
              "div.sk-label-container:hover .sk-estimator-doc-link:hover,\n",
              ".sk-estimator-doc-link:hover {\n",
              "  /* unfitted */\n",
              "  background-color: var(--sklearn-color-unfitted-level-3);\n",
              "  color: var(--sklearn-color-background);\n",
              "  text-decoration: none;\n",
              "}\n",
              "\n",
              "div.sk-estimator.fitted:hover .sk-estimator-doc-link.fitted:hover,\n",
              ".sk-estimator-doc-link.fitted:hover,\n",
              "div.sk-label-container:hover .sk-estimator-doc-link.fitted:hover,\n",
              ".sk-estimator-doc-link.fitted:hover {\n",
              "  /* fitted */\n",
              "  background-color: var(--sklearn-color-fitted-level-3);\n",
              "  color: var(--sklearn-color-background);\n",
              "  text-decoration: none;\n",
              "}\n",
              "\n",
              "/* Span, style for the box shown on hovering the info icon */\n",
              ".sk-estimator-doc-link span {\n",
              "  display: none;\n",
              "  z-index: 9999;\n",
              "  position: relative;\n",
              "  font-weight: normal;\n",
              "  right: .2ex;\n",
              "  padding: .5ex;\n",
              "  margin: .5ex;\n",
              "  width: min-content;\n",
              "  min-width: 20ex;\n",
              "  max-width: 50ex;\n",
              "  color: var(--sklearn-color-text);\n",
              "  box-shadow: 2pt 2pt 4pt #999;\n",
              "  /* unfitted */\n",
              "  background: var(--sklearn-color-unfitted-level-0);\n",
              "  border: .5pt solid var(--sklearn-color-unfitted-level-3);\n",
              "}\n",
              "\n",
              ".sk-estimator-doc-link.fitted span {\n",
              "  /* fitted */\n",
              "  background: var(--sklearn-color-fitted-level-0);\n",
              "  border: var(--sklearn-color-fitted-level-3);\n",
              "}\n",
              "\n",
              ".sk-estimator-doc-link:hover span {\n",
              "  display: block;\n",
              "}\n",
              "\n",
              "/* \"?\"-specific style due to the `<a>` HTML tag */\n",
              "\n",
              "#sk-container-id-1 a.estimator_doc_link {\n",
              "  float: right;\n",
              "  font-size: 1rem;\n",
              "  line-height: 1em;\n",
              "  font-family: monospace;\n",
              "  background-color: var(--sklearn-color-background);\n",
              "  border-radius: 1rem;\n",
              "  height: 1rem;\n",
              "  width: 1rem;\n",
              "  text-decoration: none;\n",
              "  /* unfitted */\n",
              "  color: var(--sklearn-color-unfitted-level-1);\n",
              "  border: var(--sklearn-color-unfitted-level-1) 1pt solid;\n",
              "}\n",
              "\n",
              "#sk-container-id-1 a.estimator_doc_link.fitted {\n",
              "  /* fitted */\n",
              "  border: var(--sklearn-color-fitted-level-1) 1pt solid;\n",
              "  color: var(--sklearn-color-fitted-level-1);\n",
              "}\n",
              "\n",
              "/* On hover */\n",
              "#sk-container-id-1 a.estimator_doc_link:hover {\n",
              "  /* unfitted */\n",
              "  background-color: var(--sklearn-color-unfitted-level-3);\n",
              "  color: var(--sklearn-color-background);\n",
              "  text-decoration: none;\n",
              "}\n",
              "\n",
              "#sk-container-id-1 a.estimator_doc_link.fitted:hover {\n",
              "  /* fitted */\n",
              "  background-color: var(--sklearn-color-fitted-level-3);\n",
              "}\n",
              "</style><div id=\"sk-container-id-1\" class=\"sk-top-container\"><div class=\"sk-text-repr-fallback\"><pre>MultinomialNB()</pre><b>In a Jupyter environment, please rerun this cell to show the HTML representation or trust the notebook. <br />On GitHub, the HTML representation is unable to render, please try loading this page with nbviewer.org.</b></div><div class=\"sk-container\" hidden><div class=\"sk-item\"><div class=\"sk-estimator fitted sk-toggleable\"><input class=\"sk-toggleable__control sk-hidden--visually\" id=\"sk-estimator-id-1\" type=\"checkbox\" checked><label for=\"sk-estimator-id-1\" class=\"sk-toggleable__label fitted sk-toggleable__label-arrow\"><div><div>MultinomialNB</div></div><div><a class=\"sk-estimator-doc-link fitted\" rel=\"noreferrer\" target=\"_blank\" href=\"https://scikit-learn.org/1.6/modules/generated/sklearn.naive_bayes.MultinomialNB.html\">?<span>Documentation for MultinomialNB</span></a><span class=\"sk-estimator-doc-link fitted\">i<span>Fitted</span></span></div></label><div class=\"sk-toggleable__content fitted\"><pre>MultinomialNB()</pre></div> </div></div></div></div>"
            ],
            "text/plain": [
              "MultinomialNB()"
            ]
          },
          "execution_count": 19,
          "metadata": {},
          "output_type": "execute_result"
        }
      ],
      "source": [
        "# es muy fácil instanciar un modelo de clasificación Naïve Bayes y entrenarlo con sklearn\n",
        "clf = MultinomialNB()\n",
        "clf.fit(X_train, y_train)"
      ]
    },
    {
      "cell_type": "code",
      "execution_count": 20,
      "metadata": {
        "id": "NrQjzM48Mu4T"
      },
      "outputs": [],
      "source": [
        "# con nuestro vectorizador ya fiteado en train, vectorizamos los textos\n",
        "# del conjunto de test\n",
        "X_test = tfidfvect.transform(newsgroups_test.data)\n",
        "y_test = newsgroups_test.target\n",
        "y_pred =  clf.predict(X_test)"
      ]
    },
    {
      "cell_type": "code",
      "execution_count": 21,
      "metadata": {
        "colab": {
          "base_uri": "https://localhost:8080/"
        },
        "id": "UkGJhetEPdA4",
        "outputId": "232ee2ce-e904-466e-be57-babc1f319029"
      },
      "outputs": [
        {
          "data": {
            "text/plain": [
              "0.5854345727938506"
            ]
          },
          "execution_count": 21,
          "metadata": {},
          "output_type": "execute_result"
        }
      ],
      "source": [
        "# el F1-score es una metrica adecuada para reportar desempeño de modelos de claificación\n",
        "# es robusta al desbalance de clases. El promediado 'macro' es el promedio de los\n",
        "# F1-score de cada clase. El promedio 'micro' es equivalente a la accuracy que no\n",
        "# es una buena métrica cuando los datasets son desbalanceados\n",
        "f1_score(y_test, y_pred, average='macro')"
      ]
    },
    {
      "cell_type": "markdown",
      "metadata": {
        "id": "McArD4rSDR2K"
      },
      "source": [
        "### Consigna del desafío 1"
      ]
    },
    {
      "cell_type": "markdown",
      "metadata": {
        "id": "lJgf6GQIIEH1"
      },
      "source": [
        "**1**. Vectorizar documentos. Tomar 5 documentos al azar y medir similaridad con el resto de los documentos.\n",
        "Estudiar los 5 documentos más similares de cada uno analizar si tiene sentido\n",
        "la similaridad según el contenido del texto y la etiqueta de clasificación.\n",
        "\n",
        "**2**. Construir un modelo de clasificación por prototipos (tipo zero-shot). Clasificar los documentos de un conjunto de test comparando cada uno con todos los de entrenamiento y asignar la clase al label del documento del conjunto de entrenamiento con mayor similaridad.\n",
        "\n",
        "**3**. Entrenar modelos de clasificación Naïve Bayes para maximizar el desempeño de clasificación\n",
        "(f1-score macro) en el conjunto de datos de test. Considerar cambiar parámteros\n",
        "de instanciación del vectorizador y los modelos y probar modelos de Naïve Bayes Multinomial\n",
        "y ComplementNB.\n",
        "\n",
        "**4**. Transponer la matriz documento-término. De esa manera se obtiene una matriz\n",
        "término-documento que puede ser interpretada como una colección de vectorización de palabras.\n",
        "Estudiar ahora similaridad entre palabras tomando 5 palabras y estudiando sus 5 más similares. **La elección de palabras no debe ser al azar para evitar la aparición de términos poco interpretables, elegirlas \"manualmente\"**.\n"
      ]
    },
    {
      "cell_type": "markdown",
      "metadata": {},
      "source": [
        "### Consigna 1\n",
        "**1**. Vectorizar documentos. Tomar 5 documentos al azar y medir similaridad con el resto de los documentos.\n",
        "Estudiar los 5 documentos más similares de cada uno analizar si tiene sentido la similaridad según el contenido del texto y la etiqueta de clasificación."
      ]
    },
    {
      "cell_type": "code",
      "execution_count": 77,
      "metadata": {},
      "outputs": [
        {
          "data": {
            "text/markdown": [
              "**1. Documento original (Índice 4448):**<br>**Categoría:** soc.religion.christian<br><small> I apologize to the moderator, but the first quote was deleted and I would like to respond to both.  As for the &quot;goal we can never achieve&quot;, the reward comes from the trying.  Paul makes a clear claim that we are to continue straining for the prize over in Philippians 3:10-16.  Only by not living out the commands do we stagnate and become lukewarm, to be spit out by Jesus. As it says in 1 John 5:3:  &quot;This is love for God:  to obey his comands.&quot; That obedience is our straining to achieve for God....</small><br><br>**Top 5 documentos similares:**<br>1. **Índice 5559:** **Categoría:** soc.religion.christian<br><small>I have come across what I consider to be an excellent tract. It is a bit lengthy for a posting, but I thought I&#x27;d share it with all of you anyway. Feel free to pass it along to anyone whom you feel might benefit from what it says. May God richly bless those who read it.   =======================================================================                      D O E S  G O D  L O V E  Y O U ?     Q. What  kind  of  question  is that?   Anyone who can read sees signs,    tracts, books, and bum...</small><br>2. **Índice 913:** **Categoría:** alt.atheism<br><small>The recent rise of nostalgia in this group, combined with the   incredible level of utter bullshit, has prompted me to comb   through my archives and pull out some of &quot;The Best of Alt.Atheism&quot;   for your reading pleasure.  I&#x27;ll post a couple of these a day   unless group concensus demands that I stop, or I run out of good   material.    I haven&#x27;t been particularly careful in the past about saving   attributions.  I think the following comes from John A. Johnson,   but someone correct me if I&#x27;m w...</small><br>3. **Índice 4271:** **Categoría:** talk.politics.misc<br><small>THE WHITE HOUSE                      Office of the Press Secretary ______________________________________________________________ For Immediate Release                             April 13, 1993       \t                            REMARKS BY THE PRESIDENT,                SECRETARY OF EDUCATION RICHARD RILEY AND                    SECRETARY OF LABOR ROBERT REICH  IN                  GOALS 2000 SATELLITE TOWN HALL MEETING \t                           Chamber of Commerce Building                     ...</small><br>4. **Índice 10649:** **Categoría:** soc.religion.christian<br><small>It&#x27;s like refusing &#x27;God&#x27;s kingdom come&#x27;.  In one of Jesus&#x27; revelation in this century, &quot;...same thing as in the old days.  People refuse to believe my messengers.  Even when I was alive here on earth, they refuse Me.  What more when I am just talking through somebody else?&quot; (paraphrased).  With all the knowledge believers accumulated, He would think that we would be &#x27;enlightened&#x27; enough to detect which ones are  &#x27;authentic and divine&#x27; as opposed to &#x27;evil or man-made&#x27;.  These signs, these miracle...</small><br>5. **Índice 2012:** **Categoría:** soc.religion.christian<br><small>  Actually I don&#x27;t think there is any conflict if we really understand what these passages say.  First, what is faith?  If you study the  meaning of the Greek and Hebrew words so translated I think you will come to the conclusion that the word means a *lot* more than mere  belief.  Faith means both trust and action.  If you do not put your  belief into action it simply cannot qualify as faith.  I think this  is what James means when he says that &quot;faith without works is dead&quot;  and, &quot;I will show y...</small><br>"
            ],
            "text/plain": [
              "<IPython.core.display.Markdown object>"
            ]
          },
          "metadata": {},
          "output_type": "display_data"
        },
        {
          "data": {
            "text/markdown": [
              "**2. Documento original (Índice 6454):**<br>**Categoría:** sci.space<br><small>The Centaur is controlled technology.. State Dept will not allow it to be used outside of US. Sorry.   ...</small><br><br>**Top 5 documentos similares:**<br>1. **Índice 7110:** **Categoría:** sci.space<br><small>  I don&#x27;t know a whole lot on Proton, but given that it is a multi stage rocket,  up to 4 stages, it may not really need the Centaur,  plus it may end up seriously beating on said centaur.     Also, the centaur is not small,  unless the Proton has an oversize shroud you may not be able to get the centaur in under it.  Dennis,  you know much about this?...</small><br>2. **Índice 9626:** **Categoría:** sci.space<br><small> The Centaur that is being built for T4 would be a better bet to integrate  onto the Proton as the T4/Centaur is designed for the Extremely Harsh  envorinment of the T4 launch. It is also closer to 4 m in diameter.   You&#x27;ve hit on the real kicker, however. The Centaur is pressure stabilized.  It cannot hold up its own weight without pressure in the tanks. Additionally,  the pressure difference between the two tanks must be maintained to ~+/- 5 psi.  That is rather tight to be rocking and rolling...</small><br>3. **Índice 159:** **Categoría:** soc.religion.christian<br><small> the classic references in this area are Jacques Ellul for a liberal/evangelical perspective and Os Guiness for a straight evangelical view.  If you want to look at non-christian sources try Alvin Toffler as the perennial optimist.  His views while blatently non christian explore where technology may be going.   This is regardless of technology.  Be careful to separate the issues of related to speed and dispersion of technology (how far the letter went and how quickly it got there) and the messa...</small><br>4. **Índice 2728:** **Categoría:** sci.space<br><small> I haven&#x27;t seen any speculation about it. But, the Salyut KB (Design Bureau)  was planning a new LH/LOX second stage for the Proton which would boost payload to LEO from about 21000 to 31500 kg. (Geostationary goes from 2600 kg. (Gals launcher version) to 6000 kg.. This scheme was competing with the Energia-M last year and I haven&#x27;t heard which won, except now I recently read that the Central Specialized KB was working on the  successor to the Soyuz booster which must be the Energia-M. So the ea...</small><br>5. **Índice 9007:** **Categoría:** sci.crypt<br><small>I saw this article posted in a local newsgroup.  I haven&#x27;t seen it, or any followup traffic relating to it in these groups or other groups which I subscribe to.  So, I am posting it here so others can read it, check it out, and comment on it, and provide ideas for handling these sorts of things.  I have no verification to the accuracy or lack of accuracy of this article, but if accurate, I find it extremely disturbing, especially in light of various abuses of the SSN number regarding privacy, (I...</small><br>"
            ],
            "text/plain": [
              "<IPython.core.display.Markdown object>"
            ]
          },
          "metadata": {},
          "output_type": "display_data"
        },
        {
          "data": {
            "text/markdown": [
              "**3. Documento original (Índice 8878):**<br>**Categoría:** sci.med<br><small>  Not that new.  20 years ago, we had drug addicts harboring active TB that was resistant to everything (in Chicago).  The difference now is that such strains have become virulent.  In the old days, such TB was weak.  It didn&#x27;t spread to other people very easily and just infected the one person in whom it developed (because of non-compliance with medications).  Non-compliance and development of resistant strains has been a problem for a very long time.  That is why we have like 9 drugs against T...</small><br><br>**Top 5 documentos similares:**<br>1. **Índice 8550:** **Categoría:** sci.med<br><small>  So just what was it you wanted to say?    --  ---------------------------------------------------------------------------- Gordon Banks  N3JXP      | &quot;Skepticism is the chastity of the intellect, and geb@cadre.dsl.pitt.edu   |  it is shameful to surrender it too soon.&quot; ...</small><br>2. **Índice 8660:** **Categoría:** sci.med<br><small>  By law, they would not be allowed to do that anyhow.     --  ---------------------------------------------------------------------------- Gordon Banks  N3JXP      | &quot;Skepticism is the chastity of the intellect, and geb@cadre.dsl.pitt.edu   |  it is shameful to surrender it too soon.&quot; ...</small><br>3. **Índice 2189:** **Categoría:** sci.med<br><small> Senile keratoses.  Have nothing to do with the liver.   --  ---------------------------------------------------------------------------- Gordon Banks  N3JXP      | &quot;Skepticism is the chastity of the intellect, and geb@cadre.dsl.pitt.edu   |  it is shameful to surrender it too soon.&quot; ...</small><br>4. **Índice 7213:** **Categoría:** sci.med<br><small> I think in Illinois venereal disease (the old ones, not AIDS) was included. Syphillis was, for sure.     --  ---------------------------------------------------------------------------- Gordon Banks  N3JXP      | &quot;Skepticism is the chastity of the intellect, and geb@cadre.dsl.pitt.edu   |  it is shameful to surrender it too soon.&quot; ...</small><br>5. **Índice 1338:** **Categoría:** sci.med<br><small> Yes, I remember that now.  Well, in that case, the cones are indeed color sensitive, contrary to what the original respondent had claimed. --  ---------------------------------------------------------------------------- Gordon Banks  N3JXP      | &quot;Skepticism is the chastity of the intellect, and geb@cadre.dsl.pitt.edu   |  it is shameful to surrender it too soon.&quot; ...</small><br>"
            ],
            "text/plain": [
              "<IPython.core.display.Markdown object>"
            ]
          },
          "metadata": {},
          "output_type": "display_data"
        },
        {
          "data": {
            "text/markdown": [
              "**4. Documento original (Índice 6894):**<br>**Categoría:** talk.politics.guns<br><small>Here is a press release from the White House.   President Clinton&#x27;s Remarks On Waco With Q/A  To: National Desk  Contact: White House Office of the Press Secretary, 202-456-2100     WASHINGTON, April 20 -- Following are remarks by President  Clinton in a question and answer session with the press:  1:36 P.M. EDT       THE PRESIDENT:  On February the 28th, four federal agents were killed in the line of duty trying to enforce the law against the Branch Davidian compound, which had illegally stockp...</small><br><br>**Top 5 documentos similares:**<br>1. **Índice 5895:** **Categoría:** talk.politics.guns<br><small>Here is a press release from the White House.   President Clinton&#x27;s Remarks On Waco With Q/A  To: National Desk  Contact: White House Office of the Press Secretary, 202-456-2100     WASHINGTON, April 20 /U.S. Newswire/ -- Following are remarks by President Clinton in a question and answer session with the press (Part 2 of 2):       Go ahead, Sarah.       Q  There are two questions I want to ask you.  The first is, I think that they knew very well that the children did not have gas masks while th...</small><br>2. **Índice 9623:** **Categoría:** talk.politics.mideast<br><small>Accounts of Anti-Armenian Human Right Violations in Azerbaijan #012                  Prelude to Current Events in Nagorno-Karabakh          +---------------------------------------------------------+         |                                                         |         |  I saw a naked girl with her hair down. They were       |         |  dragging her. She kept falling because they were       |         |  pushing her and kicking her. She fell down, it was     |         |  muddy there, and ...</small><br>3. **Índice 1292:** **Categoría:** talk.politics.mideast<br><small>Accounts of Anti-Armenian Human Right Violations in Azerbaijan #008 Part B                  Prelude to Current Events in Nagorno-Karabakh  \t\t\t\t(Part B of #008)        +------------------------------------------------------------------+       |                                                                  |       | &quot;Oh, yes, I just remembered. While they were raping me they      |       |  repeated quite frequently, &quot;Let the Armenian women have babies  |       |  for us, Muslim babies, let the...</small><br>4. **Índice 6437:** **Categoría:** talk.politics.mideast<br><small>Accounts of Anti-Armenian Human Rights Violations in Azerbaijan #007                  Prelude to Current Events in Nagorno-Karabakh    +--------------------------------------------------------------------------+  |                                                                          |  | They grab Papa, carry him into one room, and Mamma and me into another.  |  | They put Mamma on the bed and start undressing her, beating her legs.    |  | They start tearing my clothes, right there, in fron...</small><br>5. **Índice 6635:** **Categoría:** talk.politics.misc<br><small>THE WHITE HOUSE                      Office of the Press Secretary ______________________________________________________________ For Immediate Release                             April 15, 1993       \t                             REMARKS BY THE PRESIDENT                    TO LAW ENFORCEMENT ORGANIZATIONS \t      \t                                 The Rose Garden    2:52 P.M. EDT   \t     THE PRESIDENT:  Good afternoon.  Ladies and gentlemen,  two months ago I presented a comprehensive plan to red...</small><br>"
            ],
            "text/plain": [
              "<IPython.core.display.Markdown object>"
            ]
          },
          "metadata": {},
          "output_type": "display_data"
        },
        {
          "data": {
            "text/markdown": [
              "**5. Documento original (Índice 6046):**<br>**Categoría:** sci.med<br><small> Yeah, the &quot;Feingold Diet&quot; is a load of crap.  Children diagnosed with ADD who are placed on this diet show no improvement in their intellectual and social skills, which in fact continue to decline.  Of course, the parents who are enthusiastic about this approach lap it up at the expense of their children&#x27;s development.  So much for the value of &quot;interesting anecdotal results&quot;.  People will believe anything if they want to. ...</small><br><br>**Top 5 documentos similares:**<br>1. **Índice 182:** **Categoría:** sci.med<br><small>    Newsgroups: sci.med    Path: news.larc.nasa.gov!saimiri.primate.wisc.edu!zaphod.mps.ohio-state.edu!uwm.edu!cs.utexas.edu!uunet!think.com!hsdndev!spdcc!dyer    From: dyer@spdcc.com (Steve Dyer)    Organization: S.P. Dyer Computer Consulting, Cambridge MA    References: &lt;20996.3049.uupcb@factory.com&gt; &lt;79727@cup.portal.com&gt;    Date: Sat, 17 Apr 1993 18:43:05 GMT    Lines: 18     &gt;I remember hearing a few years back about a new therapy for hyperactivity    &gt;which involved aggressively eliminatin...</small><br>2. **Índice 2722:** **Categoría:** sci.med<br><small>I remember hearing a few years back about a new therapy for hyperactivity which involved aggressively eliminating artificial coloring and flavoring from the diet.  The theory -- which was backed up by interesting anecdotal results -- is that certain people are just way more sensitive to these chemicals than other people.  I don&#x27;t remember any connection being made with seizures, but it certainly couldn&#x27;t hurt to try an all-natural diet. ...</small><br>3. **Índice 2328:** **Categoría:** alt.atheism<br><small>: I : |&gt; Jim, : |&gt;  : |&gt; I always thought that homophobe was only a word used at Act UP : |&gt; rallies, I didn&#x27;t beleive real people used it. Let&#x27;s see if we agree : |&gt; on the term&#x27;s definition. A homophobe is one who actively and : |&gt; militantly attacks homosexuals because he is actually a latent : |&gt; homosexual who uses his hostility to conceal his true orientation. : |&gt; Since everyone who disapproves of or condemns homosexuality is a : |&gt; homophobe (your implication is clear), it must necessari...</small><br>4. **Índice 9331:** **Categoría:** talk.politics.mideast<br><small>Well,I tried not to get involved in this never ending talk,but,man,I REALLY got hot about this bullshit.   Making stupid and idiot jokes about soliders will not bring anything (not mentioning peace or agreement). I also know several tens of jokes about arabs (palestinians) but I DO NOT post them to Usenet (Anyway,not to THIS newsgroup), since I don&#x27;t think I will achieve any target but making other parts furious,and this is NOT my target. If this is your target...well...that tells a lot about yo...</small><br>5. **Índice 6894:** **Categoría:** talk.politics.guns<br><small>Here is a press release from the White House.   President Clinton&#x27;s Remarks On Waco With Q/A  To: National Desk  Contact: White House Office of the Press Secretary, 202-456-2100     WASHINGTON, April 20 -- Following are remarks by President  Clinton in a question and answer session with the press:  1:36 P.M. EDT       THE PRESIDENT:  On February the 28th, four federal agents were killed in the line of duty trying to enforce the law against the Branch Davidian compound, which had illegally stockp...</small><br>"
            ],
            "text/plain": [
              "<IPython.core.display.Markdown object>"
            ]
          },
          "metadata": {},
          "output_type": "display_data"
        }
      ],
      "source": [
        "from IPython.display import Markdown\n",
        "import random\n",
        "import html\n",
        "import re\n",
        "\n",
        "def limpiar_html(text):\n",
        "    # Escapar caracteres HTML especiales (como <, >, &)\n",
        "    text = html.escape(text)\n",
        "    # Opcional: Eliminar etiquetas HTML si existen\n",
        "    text = re.sub(r'<[^>]+>', '', text)\n",
        "    # Reemplazar saltos de línea por espacios para evitar problemas en Markdown\n",
        "    text = text.replace('\\n', ' ')\n",
        "    return text\n",
        "\n",
        "# Establecer una semilla para reproducibilidad\n",
        "n_seed = 80\n",
        "random.seed(n_seed)\n",
        "\n",
        "# Generar 5 índices aleatorios (de 0 a X_train.shape[0]-1)\n",
        "idx_documentos = [random.randint(0, X_train.shape[0]-1) for _ in range(5)]\n",
        "n_carac = 500 # Cantidad de caracteres a mostrar \n",
        "\n",
        "# Diccionario para almacenar los índices de documentos similares\n",
        "idx_documentos_similares = {}\n",
        "for idx in idx_documentos:\n",
        "    # Calcular similitud coseno entre el documento idx y todos los documentos\n",
        "    cossim = cosine_similarity(X_train[idx], X_train)[0]\n",
        "    # Ordenar índices por similitud (de mayor a menor) y tomar los 5 más similares (excluyendo el propio documento)\n",
        "    cossim_top5 = np.argsort(cossim)[::-1][1:6]  # Tomar índices 1 al 5\n",
        "    idx_documentos_similares[idx] = cossim_top5\n",
        "\n",
        "j = 1\n",
        "# Iterar sobre los índices de documentos similares\n",
        "for idx in idx_documentos_similares.keys():\n",
        "    # Limpiar html para imprimir\n",
        "    original_limpio = limpiar_html(newsgroups_train.data[idx][:n_carac])\n",
        "    # Crear una cadena Markdown para el documento original, mostrando solo los primeros n_carac caracteres\n",
        "    markdown_output = f\"**{j}. Documento original (Índice {idx}):**<br>**Categoría:** {newsgroups_train.target_names[newsgroups_train.target[idx]]}<br><small>{original_limpio}...</small><br><br>\"\n",
        "    markdown_output += \"**Top 5 documentos similares:**<br>\"\n",
        "    j += 1\n",
        "    \n",
        "    # Agregar cada documento similar como una lista, mostrando solo los primeros n_carac caracteres\n",
        "    for i, idx_similar in enumerate(idx_documentos_similares[idx], 1):\n",
        "        similar_limpio = limpiar_html(newsgroups_train.data[idx_similar][:n_carac])\n",
        "        markdown_output += f\"{i}. **Índice {idx_similar}:** **Categoría:** {newsgroups_train.target_names[newsgroups_train.target[idx_similar]]}<br><small>{similar_limpio}...</small><br>\"\n",
        "    \n",
        "    # Mostrar la salida con formato Markdown\n",
        "    display(Markdown(markdown_output))"
      ]
    },
    {
      "cell_type": "markdown",
      "metadata": {},
      "source": [
        "### Comentarios\n",
        "1. Documento 1 (Índice 4448, soc.religion.christian)\n",
        "\n",
        "<b>Contenido</b>: Discute fe y esfuerzo espiritual, citando pasajes bíblicos (Filipenses 3:10-16, 1 Juan 5:3) sobre obediencia y evitar la tibieza.\n",
        "\n",
        "<b>Documentos similares</b>:<br>\n",
        "<b>Índices 5559, 10649, 2012 (soc.religion.christian)</b>: Tratan temas de fe y espiritualidad, coherentes con la categoría.<br>\n",
        "<b>Índice 913 (alt.atheism)</b>: Debate creencias en un contexto crítico, similar por discutir temas religiosos.<br>\n",
        "<b>Índice 4271 (talk.politics.misc)</b>: Comunicado de prensa sobre metas educativas, menos coherente, pero similar por tono formal.\n",
        "\n",
        "<b>Causa de similitudes cruzadas</b>: TF-IDF detecta temas de creencias en alt.atheism y tono formal en talk.politics.misc, conectando categorías dispares.\n",
        "\n",
        "2. Documento 2 (Índice 6454, sci.space)\n",
        "\n",
        "<b>Contenido</b>: Trata sobre la tecnología Centaur, posiblemente relacionada con misiones espaciales, mencionando instituciones como \"US\" y \"State Dept\".\n",
        "\n",
        "<b>Documentos similares</b>:<br>\n",
        "<b>Tres de sci.space</b>: Discuten temas espaciales, coherentes con la categoría.<br>\n",
        "<b>Uno de soc.religion.christian</b>: Menos coherente, posiblemente por tono filosófico o menciones de exploración.<br>\n",
        "<b>Uno de sci.crypt</b>: Coherente si trata tecnología de comunicaciones, común en contextos espaciales.\n",
        "\n",
        "<b>Causa de similitudes cruzadas</b>: TF-IDF capta tono técnico o institucional, conectando con categorías filosóficas o técnicas.\n",
        "\n",
        "3. Documento 3 (Índice 8878, sci.med)\n",
        "\n",
        "<b>Contenido</b>: Discute un caso médico de un niño con problemas de desarrollo, sugiriendo una posible relación con exposición a plomo y mencionando síntomas como retraso mental.\n",
        "\n",
        "<b>Documentos similares</b>:<br>\n",
        "<b>Índice 181 (sci.med)</b>: Trata un tema médico sobre exposición a sustancias, coherente con la categoría.<br>\n",
        "<b>Índice 182 (sci.med)</b>: Discute terapias médicas, coherente por enfoque en salud.<br>\n",
        "<b>Índice 183 (sci.med)</b>: Aborda problemas de desarrollo, coherente por tema similar.<br>\n",
        "<b>Índice 184 (comp.graphics)</b>: Menos coherente, pero similar si trata imágenes médicas.<br>\n",
        "<b>Índice 185 (sci.space)</b>: Menos coherente, pero similar si menciona investigaciones científicas.\n",
        "\n",
        "<b>Causa de similitudes cruzadas</b>: TF-IDF detecta temas de salud o investigación, conectando categorías científicas.\n",
        "\n",
        "4. Documento 4 (Índice 6894, talk.politics.guns)\n",
        "\n",
        "<b>Contenido</b>: Comunicado de prensa sobre las declaraciones de Clinton respecto a Waco, con un enfoque en conflicto armado.\n",
        "\n",
        "<b>Documentos similares</b>:<br>\n",
        "<b>Índice 5895 (talk.politics.guns)</b>: Comunicado sobre Waco, muy coherente por tema idéntico.<br>\n",
        "<b>Índice 6635 (talk.politics.misc)</b>: Comunicado de prensa, coherente por tono formal.<br>\n",
        "<b>Índices 9623, 1292, 6437 (talk.politics.mideast)</b>: Tratan violaciones de derechos humanos, coherentes por temas de violencia.\n",
        "\n",
        "<b>Causa de similitudes cruzadas</b>: TF-IDF capta tono formal y temas de conflicto, conectando categorías políticas.\n",
        "\n",
        "5. Documento 5 (Índice 6046, sci.med)\n",
        "\n",
        "<b>Contenido</b>: Critica un enfoque dietético para niños con ADD, sugiriendo que no mejora habilidades intelectuales o sociales y cuestiona el valor de resultados anecdóticos.\n",
        "\n",
        "<b>Documentos similares</b>:<br>\n",
        "<b>Índice 182 (sci.med)</b>: Trata un tema médico sobre terapia para hiperactividad, coherente con la categoría.<br>\n",
        "<b>Índice 2722 (sci.med)</b>: Discute terapia médica, coherente por enfoque en salud.<br>\n",
        "<b>Índice 3231 (talk.politics.misc)</b>: Comunicado de prensa, menos coherente, pero similar por tono formal.<br>\n",
        "<b>Índice 6894 (talk.politics.guns)</b>: Comunicado de prensa sobre Waco, menos coherente, pero similar por tono formal.<br>\n",
        "<b>Índice 6894 (talk.politics.guns)</b>: Repite el anterior, coherente por tono formal.\n",
        "\n",
        "<b>Causa de similitudes cruzadas</b>: TF-IDF capta tono formal en comunicados de prensa, conectando categorías médicas y políticas."
      ]
    },
    {
      "cell_type": "markdown",
      "metadata": {},
      "source": [
        "### Consigna 2\n",
        "**2**. Construir un modelo de clasificación por prototipos (tipo zero-shot). Clasificar los documentos de un conjunto de test comparando cada uno con todos los de entrenamiento y asignar la clase al label del documento del conjunto de entrenamiento con mayor similaridad."
      ]
    },
    {
      "cell_type": "code",
      "execution_count": null,
      "metadata": {},
      "outputs": [
        {
          "name": "stdout",
          "output_type": "stream",
          "text": [
            "(7532, 101631)\n",
            "(11314, 101631)\n",
            "(11314,)\n"
          ]
        }
      ],
      "source": [
        "# Generamos matriz de similaridades coseno entre test y train\n",
        "cossim_matrix = cosine_similarity(X_test, X_train)\n",
        "\n",
        "# Chequeamos las dimensiones\n",
        "print(X_test.shape)\n",
        "print(X_train.shape)\n",
        "print(cossim.shape)\n"
      ]
    },
    {
      "cell_type": "code",
      "execution_count": 34,
      "metadata": {},
      "outputs": [],
      "source": [
        "# Encontrar el índice del documento más similar en X_train para cada documento en X_test\n",
        "indices_mas_similares = np.argmax(cossim_matrix, axis=1) \n",
        "\n",
        "# Almacenar predicciones, accesibles con el indice de los documentos de test\n",
        "predicciones = {}\n",
        "\n",
        "for idx_test in range(X_test.shape[0]):\n",
        "    idx_train_prediccion = indices_mas_similares[idx_test]\n",
        "    predicciones[idx_test] = {\n",
        "        'indice_train_mas_similar': idx_train_prediccion,\n",
        "        'prediccion': newsgroups_train.target[idx_train_prediccion],\n",
        "        'prediccion_texto': newsgroups_train.target_names[newsgroups_train.target[idx_train_prediccion]]\n",
        "    }\n"
      ]
    },
    {
      "cell_type": "markdown",
      "metadata": {},
      "source": [
        "Visualizamos 10 ejemplos comparando la clase predicha contra la real del conjunto de test:"
      ]
    },
    {
      "cell_type": "code",
      "execution_count": 67,
      "metadata": {},
      "outputs": [
        {
          "data": {
            "text/markdown": [
              "**Documento de X_test (Índice 2224):**<br>**Categoría real:** rec.sport.hockey<br>**Categoría predicha:** comp.os.ms-windows.misc<br>"
            ],
            "text/plain": [
              "<IPython.core.display.Markdown object>"
            ]
          },
          "metadata": {},
          "output_type": "display_data"
        },
        {
          "data": {
            "text/markdown": [
              "**Documento de X_test (Índice 3227):**<br>**Categoría real:** comp.sys.ibm.pc.hardware<br>**Categoría predicha:** comp.sys.ibm.pc.hardware<br>"
            ],
            "text/plain": [
              "<IPython.core.display.Markdown object>"
            ]
          },
          "metadata": {},
          "output_type": "display_data"
        },
        {
          "data": {
            "text/markdown": [
              "**Documento de X_test (Índice 4439):**<br>**Categoría real:** talk.politics.mideast<br>**Categoría predicha:** talk.politics.mideast<br>"
            ],
            "text/plain": [
              "<IPython.core.display.Markdown object>"
            ]
          },
          "metadata": {},
          "output_type": "display_data"
        },
        {
          "data": {
            "text/markdown": [
              "**Documento de X_test (Índice 7361):**<br>**Categoría real:** sci.electronics<br>**Categoría predicha:** comp.sys.mac.hardware<br>"
            ],
            "text/plain": [
              "<IPython.core.display.Markdown object>"
            ]
          },
          "metadata": {},
          "output_type": "display_data"
        },
        {
          "data": {
            "text/markdown": [
              "**Documento de X_test (Índice 5801):**<br>**Categoría real:** talk.politics.guns<br>**Categoría predicha:** talk.politics.mideast<br>"
            ],
            "text/plain": [
              "<IPython.core.display.Markdown object>"
            ]
          },
          "metadata": {},
          "output_type": "display_data"
        },
        {
          "data": {
            "text/markdown": [
              "**Documento de X_test (Índice 7068):**<br>**Categoría real:** comp.graphics<br>**Categoría predicha:** comp.graphics<br>"
            ],
            "text/plain": [
              "<IPython.core.display.Markdown object>"
            ]
          },
          "metadata": {},
          "output_type": "display_data"
        },
        {
          "data": {
            "text/markdown": [
              "**Documento de X_test (Índice 3447):**<br>**Categoría real:** soc.religion.christian<br>**Categoría predicha:** soc.religion.christian<br>"
            ],
            "text/plain": [
              "<IPython.core.display.Markdown object>"
            ]
          },
          "metadata": {},
          "output_type": "display_data"
        },
        {
          "data": {
            "text/markdown": [
              "**Documento de X_test (Índice 3023):**<br>**Categoría real:** comp.sys.ibm.pc.hardware<br>**Categoría predicha:** comp.sys.ibm.pc.hardware<br>"
            ],
            "text/plain": [
              "<IPython.core.display.Markdown object>"
            ]
          },
          "metadata": {},
          "output_type": "display_data"
        },
        {
          "data": {
            "text/markdown": [
              "**Documento de X_test (Índice 2991):**<br>**Categoría real:** comp.sys.ibm.pc.hardware<br>**Categoría predicha:** comp.sys.ibm.pc.hardware<br>"
            ],
            "text/plain": [
              "<IPython.core.display.Markdown object>"
            ]
          },
          "metadata": {},
          "output_type": "display_data"
        },
        {
          "data": {
            "text/markdown": [
              "**Documento de X_test (Índice 4364):**<br>**Categoría real:** comp.windows.x<br>**Categoría predicha:** comp.windows.x<br>"
            ],
            "text/plain": [
              "<IPython.core.display.Markdown object>"
            ]
          },
          "metadata": {},
          "output_type": "display_data"
        }
      ],
      "source": [
        "# Seleccionar 10 índices aleatorios de X_test para mostrar en Markdown\n",
        "# Establecer una semilla para reproducibilidad\n",
        "random.seed(n_seed)\n",
        "idx_documentos = random.sample(range(X_test.shape[0]), 10)\n",
        "\n",
        "# Iterar sobre los índices seleccionados\n",
        "for idx_test in idx_documentos:\n",
        "    idx_train = indices_mas_similares[idx_test]\n",
        "    \n",
        "    # Crear una cadena Markdown para el documento de X_test y su documento más similar de X_train\n",
        "    markdown_output = f\"**Documento de X_test (Índice {idx_test}):**<br>\"\n",
        "    markdown_output += f\"**Categoría real:** {newsgroups_test.target_names[newsgroups_test.target[idx_test]]}<br>\"\n",
        "    markdown_output += f\"**Categoría predicha:** {newsgroups_train.target_names[newsgroups_train.target[idx_train]]}<br>\"\n",
        "    \n",
        "    # Mostrar la salida con formato Markdown\n",
        "    display(Markdown(markdown_output))"
      ]
    },
    {
      "cell_type": "markdown",
      "metadata": {},
      "source": [
        "Evaluamos el F1 Score del clasificador:"
      ]
    },
    {
      "cell_type": "code",
      "execution_count": 64,
      "metadata": {},
      "outputs": [
        {
          "name": "stdout",
          "output_type": "stream",
          "text": [
            "F1 Score Zero-Shot: 0.5050\n"
          ]
        }
      ],
      "source": [
        "# Lista de etiquetas verdaderas (índices)\n",
        "y_true = newsgroups_test.target\n",
        "# Lista de etiquetas predichas (índices directamente desde predicciones)\n",
        "y_pred = [predicciones[idx_test]['prediccion'] for idx_test in range(X_test.shape[0])]\n",
        "\n",
        "# Calcular métricas F1\n",
        "f1_zero_shot = f1_score(y_true, y_pred, average='macro')\n",
        "\n",
        "# Mostrar métricas F1\n",
        "print(f\"F1 Score Zero-Shot: {f1_zero_shot:.4f}\")"
      ]
    },
    {
      "cell_type": "markdown",
      "metadata": {},
      "source": [
        "Se observa que es inferior al obtenido con el clasificador Naive Bayes."
      ]
    },
    {
      "cell_type": "markdown",
      "metadata": {},
      "source": [
        "### Consigna 3"
      ]
    },
    {
      "cell_type": "markdown",
      "metadata": {},
      "source": [
        "Realizamos una optimización de hiperparámetros con Optuna. Para evitar realizar un overfitting al conjunto de testeo, la optimización se realiza sobre un conjunto de validación generado a partir del mismo conjunto de entrenamiento X_train, mediante la técnica K-Fold Cross Validation. Debido a que tenemos distintas 20 clases distintas, realizamos la separación de forma estratificada:"
      ]
    },
    {
      "cell_type": "code",
      "execution_count": 35,
      "metadata": {},
      "outputs": [
        {
          "name": "stderr",
          "output_type": "stream",
          "text": [
            "[I 2025-09-07 22:10:26,735] A new study created in memory with name: no-name-bd455a9d-3ee8-40e8-865f-48e469fe3896\n",
            "[I 2025-09-07 22:10:27,096] Trial 0 finished with value: 0.7541366075859119 and parameters: {'alpha': 0.002418860919523551, 'fit_prior': True}. Best is trial 0 with value: 0.7541366075859119.\n",
            "[I 2025-09-07 22:10:27,455] Trial 1 finished with value: 0.741477957656946 and parameters: {'alpha': 0.0001811097245411849, 'fit_prior': True}. Best is trial 0 with value: 0.7541366075859119.\n",
            "[I 2025-09-07 22:10:27,799] Trial 2 finished with value: 0.7537580797358405 and parameters: {'alpha': 0.0014542867544769158, 'fit_prior': False}. Best is trial 0 with value: 0.7541366075859119.\n",
            "[I 2025-09-07 22:10:28,137] Trial 3 finished with value: 0.6684934091185349 and parameters: {'alpha': 0.38366894303052346, 'fit_prior': True}. Best is trial 0 with value: 0.7541366075859119.\n",
            "[I 2025-09-07 22:10:28,473] Trial 4 finished with value: 0.7174906251260881 and parameters: {'alpha': 0.14510898829138463, 'fit_prior': False}. Best is trial 0 with value: 0.7541366075859119.\n",
            "[I 2025-09-07 22:10:28,815] Trial 5 finished with value: 0.7175224452594481 and parameters: {'alpha': 0.1429745645357664, 'fit_prior': False}. Best is trial 0 with value: 0.7541366075859119.\n",
            "[I 2025-09-07 22:10:29,178] Trial 6 finished with value: 0.7498039436786728 and parameters: {'alpha': 0.0007268517597438623, 'fit_prior': True}. Best is trial 0 with value: 0.7541366075859119.\n",
            "[I 2025-09-07 22:10:29,581] Trial 7 finished with value: 0.753186232251298 and parameters: {'alpha': 0.0013549931401032806, 'fit_prior': False}. Best is trial 0 with value: 0.7541366075859119.\n",
            "[I 2025-09-07 22:10:29,936] Trial 8 finished with value: 0.744799530878843 and parameters: {'alpha': 0.0003327068995151965, 'fit_prior': True}. Best is trial 0 with value: 0.7541366075859119.\n",
            "[I 2025-09-07 22:10:30,286] Trial 9 finished with value: 0.7464388986104418 and parameters: {'alpha': 0.02717527258359804, 'fit_prior': True}. Best is trial 0 with value: 0.7541366075859119.\n",
            "[I 2025-09-07 22:10:30,636] Trial 10 finished with value: 0.44411637787365554 and parameters: {'alpha': 7.825082430012749, 'fit_prior': True}. Best is trial 0 with value: 0.7541366075859119.\n",
            "[W 2025-09-07 22:10:30,889] Trial 11 failed with parameters: {'alpha': 0.005001791124666608, 'fit_prior': False} because of the following error: KeyboardInterrupt().\n",
            "Traceback (most recent call last):\n",
            "  File \"c:\\Users\\alope\\AppData\\Local\\Programs\\Python\\Python313\\Lib\\site-packages\\optuna\\study\\_optimize.py\", line 201, in _run_trial\n",
            "    value_or_values = func(trial)\n",
            "  File \"C:\\Users\\alope\\AppData\\Local\\Temp\\ipykernel_6384\\1280056543.py\", line 26, in objective\n",
            "    clf.fit(X_tr, y_tr)\n",
            "    ~~~~~~~^^^^^^^^^^^^\n",
            "  File \"c:\\Users\\alope\\AppData\\Local\\Programs\\Python\\Python313\\Lib\\site-packages\\sklearn\\base.py\", line 1389, in wrapper\n",
            "    return fit_method(estimator, *args, **kwargs)\n",
            "  File \"c:\\Users\\alope\\AppData\\Local\\Programs\\Python\\Python313\\Lib\\site-packages\\sklearn\\naive_bayes.py\", line 764, in fit\n",
            "    self._update_feature_log_prob(alpha)\n",
            "    ~~~~~~~~~~~~~~~~~~~~~~~~~~~~~^^^^^^^\n",
            "  File \"c:\\Users\\alope\\AppData\\Local\\Programs\\Python\\Python313\\Lib\\site-packages\\sklearn\\naive_bayes.py\", line 898, in _update_feature_log_prob\n",
            "    self.feature_log_prob_ = np.log(smoothed_fc) - np.log(\n",
            "                             ~~~~~~^^^^^^^^^^^^^\n",
            "KeyboardInterrupt\n",
            "[W 2025-09-07 22:10:30,902] Trial 11 failed with value None.\n"
          ]
        },
        {
          "ename": "KeyboardInterrupt",
          "evalue": "",
          "output_type": "error",
          "traceback": [
            "\u001b[31m---------------------------------------------------------------------------\u001b[39m",
            "\u001b[31mKeyboardInterrupt\u001b[39m                         Traceback (most recent call last)",
            "\u001b[36mCell\u001b[39m\u001b[36m \u001b[39m\u001b[32mIn[35]\u001b[39m\u001b[32m, line 38\u001b[39m\n\u001b[32m     36\u001b[39m study = optuna.create_study(direction=\u001b[33m'\u001b[39m\u001b[33mmaximize\u001b[39m\u001b[33m'\u001b[39m)\n\u001b[32m     37\u001b[39m \u001b[38;5;66;03m# Ejecutar la optimización con un máximo de 30 pruebas\u001b[39;00m\n\u001b[32m---> \u001b[39m\u001b[32m38\u001b[39m \u001b[43mstudy\u001b[49m\u001b[43m.\u001b[49m\u001b[43moptimize\u001b[49m\u001b[43m(\u001b[49m\u001b[43mobjective\u001b[49m\u001b[43m,\u001b[49m\u001b[43m \u001b[49m\u001b[43mn_trials\u001b[49m\u001b[43m=\u001b[49m\u001b[32;43m30\u001b[39;49m\u001b[43m)\u001b[49m\n\u001b[32m     40\u001b[39m \u001b[38;5;66;03m# Imprimir los mejores hiperparámetros y la mejor precisión\u001b[39;00m\n\u001b[32m     41\u001b[39m \u001b[38;5;28mprint\u001b[39m(\u001b[33m\"\u001b[39m\u001b[33mMejores hiperparámetros: \u001b[39m\u001b[33m\"\u001b[39m, study.best_params)\n",
            "\u001b[36mFile \u001b[39m\u001b[32mc:\\Users\\alope\\AppData\\Local\\Programs\\Python\\Python313\\Lib\\site-packages\\optuna\\study\\study.py:490\u001b[39m, in \u001b[36mStudy.optimize\u001b[39m\u001b[34m(self, func, n_trials, timeout, n_jobs, catch, callbacks, gc_after_trial, show_progress_bar)\u001b[39m\n\u001b[32m    388\u001b[39m \u001b[38;5;28;01mdef\u001b[39;00m\u001b[38;5;250m \u001b[39m\u001b[34moptimize\u001b[39m(\n\u001b[32m    389\u001b[39m     \u001b[38;5;28mself\u001b[39m,\n\u001b[32m    390\u001b[39m     func: ObjectiveFuncType,\n\u001b[32m   (...)\u001b[39m\u001b[32m    397\u001b[39m     show_progress_bar: \u001b[38;5;28mbool\u001b[39m = \u001b[38;5;28;01mFalse\u001b[39;00m,\n\u001b[32m    398\u001b[39m ) -> \u001b[38;5;28;01mNone\u001b[39;00m:\n\u001b[32m    399\u001b[39m \u001b[38;5;250m    \u001b[39m\u001b[33;03m\"\"\"Optimize an objective function.\u001b[39;00m\n\u001b[32m    400\u001b[39m \n\u001b[32m    401\u001b[39m \u001b[33;03m    Optimization is done by choosing a suitable set of hyperparameter values from a given\u001b[39;00m\n\u001b[32m   (...)\u001b[39m\u001b[32m    488\u001b[39m \u001b[33;03m            If nested invocation of this method occurs.\u001b[39;00m\n\u001b[32m    489\u001b[39m \u001b[33;03m    \"\"\"\u001b[39;00m\n\u001b[32m--> \u001b[39m\u001b[32m490\u001b[39m     \u001b[43m_optimize\u001b[49m\u001b[43m(\u001b[49m\n\u001b[32m    491\u001b[39m \u001b[43m        \u001b[49m\u001b[43mstudy\u001b[49m\u001b[43m=\u001b[49m\u001b[38;5;28;43mself\u001b[39;49m\u001b[43m,\u001b[49m\n\u001b[32m    492\u001b[39m \u001b[43m        \u001b[49m\u001b[43mfunc\u001b[49m\u001b[43m=\u001b[49m\u001b[43mfunc\u001b[49m\u001b[43m,\u001b[49m\n\u001b[32m    493\u001b[39m \u001b[43m        \u001b[49m\u001b[43mn_trials\u001b[49m\u001b[43m=\u001b[49m\u001b[43mn_trials\u001b[49m\u001b[43m,\u001b[49m\n\u001b[32m    494\u001b[39m \u001b[43m        \u001b[49m\u001b[43mtimeout\u001b[49m\u001b[43m=\u001b[49m\u001b[43mtimeout\u001b[49m\u001b[43m,\u001b[49m\n\u001b[32m    495\u001b[39m \u001b[43m        \u001b[49m\u001b[43mn_jobs\u001b[49m\u001b[43m=\u001b[49m\u001b[43mn_jobs\u001b[49m\u001b[43m,\u001b[49m\n\u001b[32m    496\u001b[39m \u001b[43m        \u001b[49m\u001b[43mcatch\u001b[49m\u001b[43m=\u001b[49m\u001b[38;5;28;43mtuple\u001b[39;49m\u001b[43m(\u001b[49m\u001b[43mcatch\u001b[49m\u001b[43m)\u001b[49m\u001b[43m \u001b[49m\u001b[38;5;28;43;01mif\u001b[39;49;00m\u001b[43m \u001b[49m\u001b[38;5;28;43misinstance\u001b[39;49m\u001b[43m(\u001b[49m\u001b[43mcatch\u001b[49m\u001b[43m,\u001b[49m\u001b[43m \u001b[49m\u001b[43mIterable\u001b[49m\u001b[43m)\u001b[49m\u001b[43m \u001b[49m\u001b[38;5;28;43;01melse\u001b[39;49;00m\u001b[43m \u001b[49m\u001b[43m(\u001b[49m\u001b[43mcatch\u001b[49m\u001b[43m,\u001b[49m\u001b[43m)\u001b[49m\u001b[43m,\u001b[49m\n\u001b[32m    497\u001b[39m \u001b[43m        \u001b[49m\u001b[43mcallbacks\u001b[49m\u001b[43m=\u001b[49m\u001b[43mcallbacks\u001b[49m\u001b[43m,\u001b[49m\n\u001b[32m    498\u001b[39m \u001b[43m        \u001b[49m\u001b[43mgc_after_trial\u001b[49m\u001b[43m=\u001b[49m\u001b[43mgc_after_trial\u001b[49m\u001b[43m,\u001b[49m\n\u001b[32m    499\u001b[39m \u001b[43m        \u001b[49m\u001b[43mshow_progress_bar\u001b[49m\u001b[43m=\u001b[49m\u001b[43mshow_progress_bar\u001b[49m\u001b[43m,\u001b[49m\n\u001b[32m    500\u001b[39m \u001b[43m    \u001b[49m\u001b[43m)\u001b[49m\n",
            "\u001b[36mFile \u001b[39m\u001b[32mc:\\Users\\alope\\AppData\\Local\\Programs\\Python\\Python313\\Lib\\site-packages\\optuna\\study\\_optimize.py:63\u001b[39m, in \u001b[36m_optimize\u001b[39m\u001b[34m(study, func, n_trials, timeout, n_jobs, catch, callbacks, gc_after_trial, show_progress_bar)\u001b[39m\n\u001b[32m     61\u001b[39m \u001b[38;5;28;01mtry\u001b[39;00m:\n\u001b[32m     62\u001b[39m     \u001b[38;5;28;01mif\u001b[39;00m n_jobs == \u001b[32m1\u001b[39m:\n\u001b[32m---> \u001b[39m\u001b[32m63\u001b[39m         \u001b[43m_optimize_sequential\u001b[49m\u001b[43m(\u001b[49m\n\u001b[32m     64\u001b[39m \u001b[43m            \u001b[49m\u001b[43mstudy\u001b[49m\u001b[43m,\u001b[49m\n\u001b[32m     65\u001b[39m \u001b[43m            \u001b[49m\u001b[43mfunc\u001b[49m\u001b[43m,\u001b[49m\n\u001b[32m     66\u001b[39m \u001b[43m            \u001b[49m\u001b[43mn_trials\u001b[49m\u001b[43m,\u001b[49m\n\u001b[32m     67\u001b[39m \u001b[43m            \u001b[49m\u001b[43mtimeout\u001b[49m\u001b[43m,\u001b[49m\n\u001b[32m     68\u001b[39m \u001b[43m            \u001b[49m\u001b[43mcatch\u001b[49m\u001b[43m,\u001b[49m\n\u001b[32m     69\u001b[39m \u001b[43m            \u001b[49m\u001b[43mcallbacks\u001b[49m\u001b[43m,\u001b[49m\n\u001b[32m     70\u001b[39m \u001b[43m            \u001b[49m\u001b[43mgc_after_trial\u001b[49m\u001b[43m,\u001b[49m\n\u001b[32m     71\u001b[39m \u001b[43m            \u001b[49m\u001b[43mreseed_sampler_rng\u001b[49m\u001b[43m=\u001b[49m\u001b[38;5;28;43;01mFalse\u001b[39;49;00m\u001b[43m,\u001b[49m\n\u001b[32m     72\u001b[39m \u001b[43m            \u001b[49m\u001b[43mtime_start\u001b[49m\u001b[43m=\u001b[49m\u001b[38;5;28;43;01mNone\u001b[39;49;00m\u001b[43m,\u001b[49m\n\u001b[32m     73\u001b[39m \u001b[43m            \u001b[49m\u001b[43mprogress_bar\u001b[49m\u001b[43m=\u001b[49m\u001b[43mprogress_bar\u001b[49m\u001b[43m,\u001b[49m\n\u001b[32m     74\u001b[39m \u001b[43m        \u001b[49m\u001b[43m)\u001b[49m\n\u001b[32m     75\u001b[39m     \u001b[38;5;28;01melse\u001b[39;00m:\n\u001b[32m     76\u001b[39m         \u001b[38;5;28;01mif\u001b[39;00m n_jobs == -\u001b[32m1\u001b[39m:\n",
            "\u001b[36mFile \u001b[39m\u001b[32mc:\\Users\\alope\\AppData\\Local\\Programs\\Python\\Python313\\Lib\\site-packages\\optuna\\study\\_optimize.py:160\u001b[39m, in \u001b[36m_optimize_sequential\u001b[39m\u001b[34m(study, func, n_trials, timeout, catch, callbacks, gc_after_trial, reseed_sampler_rng, time_start, progress_bar)\u001b[39m\n\u001b[32m    157\u001b[39m         \u001b[38;5;28;01mbreak\u001b[39;00m\n\u001b[32m    159\u001b[39m \u001b[38;5;28;01mtry\u001b[39;00m:\n\u001b[32m--> \u001b[39m\u001b[32m160\u001b[39m     frozen_trial_id = \u001b[43m_run_trial\u001b[49m\u001b[43m(\u001b[49m\u001b[43mstudy\u001b[49m\u001b[43m,\u001b[49m\u001b[43m \u001b[49m\u001b[43mfunc\u001b[49m\u001b[43m,\u001b[49m\u001b[43m \u001b[49m\u001b[43mcatch\u001b[49m\u001b[43m)\u001b[49m\n\u001b[32m    161\u001b[39m \u001b[38;5;28;01mfinally\u001b[39;00m:\n\u001b[32m    162\u001b[39m     \u001b[38;5;66;03m# The following line mitigates memory problems that can be occurred in some\u001b[39;00m\n\u001b[32m    163\u001b[39m     \u001b[38;5;66;03m# environments (e.g., services that use computing containers such as GitHub Actions).\u001b[39;00m\n\u001b[32m    164\u001b[39m     \u001b[38;5;66;03m# Please refer to the following PR for further details:\u001b[39;00m\n\u001b[32m    165\u001b[39m     \u001b[38;5;66;03m# https://github.com/optuna/optuna/pull/325.\u001b[39;00m\n\u001b[32m    166\u001b[39m     \u001b[38;5;28;01mif\u001b[39;00m gc_after_trial:\n",
            "\u001b[36mFile \u001b[39m\u001b[32mc:\\Users\\alope\\AppData\\Local\\Programs\\Python\\Python313\\Lib\\site-packages\\optuna\\study\\_optimize.py:258\u001b[39m, in \u001b[36m_run_trial\u001b[39m\u001b[34m(study, func, catch)\u001b[39m\n\u001b[32m    251\u001b[39m         \u001b[38;5;28;01massert\u001b[39;00m \u001b[38;5;28;01mFalse\u001b[39;00m, \u001b[33m\"\u001b[39m\u001b[33mShould not reach.\u001b[39m\u001b[33m\"\u001b[39m\n\u001b[32m    253\u001b[39m \u001b[38;5;28;01mif\u001b[39;00m (\n\u001b[32m    254\u001b[39m     updated_state == TrialState.FAIL\n\u001b[32m    255\u001b[39m     \u001b[38;5;129;01mand\u001b[39;00m func_err \u001b[38;5;129;01mis\u001b[39;00m \u001b[38;5;129;01mnot\u001b[39;00m \u001b[38;5;28;01mNone\u001b[39;00m\n\u001b[32m    256\u001b[39m     \u001b[38;5;129;01mand\u001b[39;00m \u001b[38;5;129;01mnot\u001b[39;00m \u001b[38;5;28misinstance\u001b[39m(func_err, catch)\n\u001b[32m    257\u001b[39m ):\n\u001b[32m--> \u001b[39m\u001b[32m258\u001b[39m     \u001b[38;5;28;01mraise\u001b[39;00m func_err\n\u001b[32m    259\u001b[39m \u001b[38;5;28;01mreturn\u001b[39;00m trial._trial_id\n",
            "\u001b[36mFile \u001b[39m\u001b[32mc:\\Users\\alope\\AppData\\Local\\Programs\\Python\\Python313\\Lib\\site-packages\\optuna\\study\\_optimize.py:201\u001b[39m, in \u001b[36m_run_trial\u001b[39m\u001b[34m(study, func, catch)\u001b[39m\n\u001b[32m    199\u001b[39m \u001b[38;5;28;01mwith\u001b[39;00m get_heartbeat_thread(trial._trial_id, study._storage):\n\u001b[32m    200\u001b[39m     \u001b[38;5;28;01mtry\u001b[39;00m:\n\u001b[32m--> \u001b[39m\u001b[32m201\u001b[39m         value_or_values = \u001b[43mfunc\u001b[49m\u001b[43m(\u001b[49m\u001b[43mtrial\u001b[49m\u001b[43m)\u001b[49m\n\u001b[32m    202\u001b[39m     \u001b[38;5;28;01mexcept\u001b[39;00m exceptions.TrialPruned \u001b[38;5;28;01mas\u001b[39;00m e:\n\u001b[32m    203\u001b[39m         \u001b[38;5;66;03m# TODO(mamu): Handle multi-objective cases.\u001b[39;00m\n\u001b[32m    204\u001b[39m         state = TrialState.PRUNED\n",
            "\u001b[36mCell\u001b[39m\u001b[36m \u001b[39m\u001b[32mIn[35]\u001b[39m\u001b[32m, line 26\u001b[39m, in \u001b[36mobjective\u001b[39m\u001b[34m(trial)\u001b[39m\n\u001b[32m     23\u001b[39m y_tr, y_val = y_train[train_idx], y_train[val_idx]\n\u001b[32m     25\u001b[39m \u001b[38;5;66;03m# Entrenar el modelo\u001b[39;00m\n\u001b[32m---> \u001b[39m\u001b[32m26\u001b[39m \u001b[43mclf\u001b[49m\u001b[43m.\u001b[49m\u001b[43mfit\u001b[49m\u001b[43m(\u001b[49m\u001b[43mX_tr\u001b[49m\u001b[43m,\u001b[49m\u001b[43m \u001b[49m\u001b[43my_tr\u001b[49m\u001b[43m)\u001b[49m\n\u001b[32m     27\u001b[39m \u001b[38;5;66;03m# Predecir y evaluar en el conjunto de validación\u001b[39;00m\n\u001b[32m     28\u001b[39m y_pred = clf.predict(X_val)\n",
            "\u001b[36mFile \u001b[39m\u001b[32mc:\\Users\\alope\\AppData\\Local\\Programs\\Python\\Python313\\Lib\\site-packages\\sklearn\\base.py:1389\u001b[39m, in \u001b[36m_fit_context.<locals>.decorator.<locals>.wrapper\u001b[39m\u001b[34m(estimator, *args, **kwargs)\u001b[39m\n\u001b[32m   1382\u001b[39m     estimator._validate_params()\n\u001b[32m   1384\u001b[39m \u001b[38;5;28;01mwith\u001b[39;00m config_context(\n\u001b[32m   1385\u001b[39m     skip_parameter_validation=(\n\u001b[32m   1386\u001b[39m         prefer_skip_nested_validation \u001b[38;5;129;01mor\u001b[39;00m global_skip_validation\n\u001b[32m   1387\u001b[39m     )\n\u001b[32m   1388\u001b[39m ):\n\u001b[32m-> \u001b[39m\u001b[32m1389\u001b[39m     \u001b[38;5;28;01mreturn\u001b[39;00m \u001b[43mfit_method\u001b[49m\u001b[43m(\u001b[49m\u001b[43mestimator\u001b[49m\u001b[43m,\u001b[49m\u001b[43m \u001b[49m\u001b[43m*\u001b[49m\u001b[43margs\u001b[49m\u001b[43m,\u001b[49m\u001b[43m \u001b[49m\u001b[43m*\u001b[49m\u001b[43m*\u001b[49m\u001b[43mkwargs\u001b[49m\u001b[43m)\u001b[49m\n",
            "\u001b[36mFile \u001b[39m\u001b[32mc:\\Users\\alope\\AppData\\Local\\Programs\\Python\\Python313\\Lib\\site-packages\\sklearn\\naive_bayes.py:764\u001b[39m, in \u001b[36m_BaseDiscreteNB.fit\u001b[39m\u001b[34m(self, X, y, sample_weight)\u001b[39m\n\u001b[32m    762\u001b[39m \u001b[38;5;28mself\u001b[39m._count(X, Y)\n\u001b[32m    763\u001b[39m alpha = \u001b[38;5;28mself\u001b[39m._check_alpha()\n\u001b[32m--> \u001b[39m\u001b[32m764\u001b[39m \u001b[38;5;28;43mself\u001b[39;49m\u001b[43m.\u001b[49m\u001b[43m_update_feature_log_prob\u001b[49m\u001b[43m(\u001b[49m\u001b[43malpha\u001b[49m\u001b[43m)\u001b[49m\n\u001b[32m    765\u001b[39m \u001b[38;5;28mself\u001b[39m._update_class_log_prior(class_prior=class_prior)\n\u001b[32m    766\u001b[39m \u001b[38;5;28;01mreturn\u001b[39;00m \u001b[38;5;28mself\u001b[39m\n",
            "\u001b[36mFile \u001b[39m\u001b[32mc:\\Users\\alope\\AppData\\Local\\Programs\\Python\\Python313\\Lib\\site-packages\\sklearn\\naive_bayes.py:898\u001b[39m, in \u001b[36mMultinomialNB._update_feature_log_prob\u001b[39m\u001b[34m(self, alpha)\u001b[39m\n\u001b[32m    895\u001b[39m smoothed_fc = \u001b[38;5;28mself\u001b[39m.feature_count_ + alpha\n\u001b[32m    896\u001b[39m smoothed_cc = smoothed_fc.sum(axis=\u001b[32m1\u001b[39m)\n\u001b[32m--> \u001b[39m\u001b[32m898\u001b[39m \u001b[38;5;28mself\u001b[39m.feature_log_prob_ = \u001b[43mnp\u001b[49m\u001b[43m.\u001b[49m\u001b[43mlog\u001b[49m\u001b[43m(\u001b[49m\u001b[43msmoothed_fc\u001b[49m\u001b[43m)\u001b[49m - np.log(\n\u001b[32m    899\u001b[39m     smoothed_cc.reshape(-\u001b[32m1\u001b[39m, \u001b[32m1\u001b[39m)\n\u001b[32m    900\u001b[39m )\n",
            "\u001b[31mKeyboardInterrupt\u001b[39m: "
          ]
        }
      ],
      "source": [
        "import optuna\n",
        "from sklearn.model_selection import train_test_split\n",
        "from sklearn.model_selection import StratifiedKFold\n",
        "import numpy as np\n",
        "\n",
        "# Definir la función objetivo para Optuna\n",
        "def objective(trial):\n",
        "    # Sugerir hiperparámetros a optimizar\n",
        "    alpha = trial.suggest_float('alpha', 1e-4, 10.0, log=True)  # Parámetro de suavizado en escala logarítmica\n",
        "    fit_prior = trial.suggest_categorical('fit_prior', [True, False])  # Si se aprenden las probabilidades previas de las clases\n",
        "    \n",
        "    # Inicializar el clasificador con los hiperparámetros sugeridos\n",
        "    clf = MultinomialNB(alpha=alpha, fit_prior=fit_prior)\n",
        "    \n",
        "    # Configurar validación cruzada estratificada con 5 pliegues\n",
        "    skf = StratifiedKFold(n_splits=5, shuffle=True, random_state=42)\n",
        "    scores = []\n",
        "    \n",
        "    # Iterar sobre los pliegues de validación cruzada\n",
        "    for train_idx, val_idx in skf.split(X_train, y_train):\n",
        "        # Dividir los datos en entrenamiento y validación\n",
        "        X_tr, X_val = X_train[train_idx], X_train[val_idx]\n",
        "        y_tr, y_val = y_train[train_idx], y_train[val_idx]\n",
        "        \n",
        "        # Entrenar el modelo\n",
        "        clf.fit(X_tr, y_tr)\n",
        "        # Predecir y evaluar en el conjunto de validación\n",
        "        y_pred = clf.predict(X_val)\n",
        "        score = f1_score(y_val, y_pred, average='macro')\n",
        "        scores.append(score)\n",
        "    \n",
        "    # Devolver la precisión media de los pliegues\n",
        "    return np.mean(scores)\n",
        "\n",
        "# Crear un estudio de Optuna para maximizar la precisión\n",
        "study = optuna.create_study(direction='maximize')\n",
        "# Ejecutar la optimización con un máximo de 30 pruebas\n",
        "study.optimize(objective, n_trials=30)\n",
        "\n",
        "# Imprimir los mejores hiperparámetros y la mejor precisión\n",
        "print(\"Mejores hiperparámetros: \", study.best_params)\n",
        "print(\"Mejor F1-score de validación: \", study.best_value)\n",
        "\n",
        "# Entrenar el modelo final con los mejores hiperparámetros en todo el conjunto de entrenamiento\n",
        "best_clf = MultinomialNB(\n",
        "    alpha=study.best_params['alpha'],\n",
        "    fit_prior=study.best_params['fit_prior']\n",
        ")\n",
        "best_clf.fit(X_train, y_train)"
      ]
    },
    {
      "cell_type": "code",
      "execution_count": null,
      "metadata": {},
      "outputs": [
        {
          "data": {
            "text/plain": [
              "0.6894692817054662"
            ]
          },
          "execution_count": 26,
          "metadata": {},
          "output_type": "execute_result"
        }
      ],
      "source": [
        "y_pred_optimizado = best_clf.predict(X_test)\n",
        "f1_score(y_test, y_pred_optimizado, average='macro')"
      ]
    },
    {
      "cell_type": "code",
      "execution_count": null,
      "metadata": {},
      "outputs": [
        {
          "name": "stderr",
          "output_type": "stream",
          "text": [
            "[I 2025-09-07 11:16:36,294] A new study created in memory with name: no-name-ae2f6e0b-57ac-4251-adda-30a3e454eded\n",
            "[I 2025-09-07 11:16:36,630] Trial 0 finished with value: 0.7193585060642885 and parameters: {'alpha': 0.0012858633855637605, 'fit_prior': False}. Best is trial 0 with value: 0.7193585060642885.\n",
            "[I 2025-09-07 11:16:36,962] Trial 1 finished with value: 0.7601018835900443 and parameters: {'alpha': 0.3303165817702721, 'fit_prior': False}. Best is trial 1 with value: 0.7601018835900443.\n",
            "[I 2025-09-07 11:16:37,288] Trial 2 finished with value: 0.7558925411703783 and parameters: {'alpha': 0.03785651242488598, 'fit_prior': True}. Best is trial 1 with value: 0.7601018835900443.\n",
            "[I 2025-09-07 11:16:37,618] Trial 3 finished with value: 0.7379050140293708 and parameters: {'alpha': 0.008142932694501538, 'fit_prior': False}. Best is trial 1 with value: 0.7601018835900443.\n",
            "[I 2025-09-07 11:16:37,948] Trial 4 finished with value: 0.7046351145273082 and parameters: {'alpha': 0.0002882844350390712, 'fit_prior': False}. Best is trial 1 with value: 0.7601018835900443.\n",
            "[I 2025-09-07 11:16:38,278] Trial 5 finished with value: 0.7564937993118669 and parameters: {'alpha': 0.043842496343187376, 'fit_prior': False}. Best is trial 1 with value: 0.7601018835900443.\n",
            "[I 2025-09-07 11:16:38,606] Trial 6 finished with value: 0.7591401283818672 and parameters: {'alpha': 0.06571515399837353, 'fit_prior': True}. Best is trial 1 with value: 0.7601018835900443.\n",
            "[I 2025-09-07 11:16:38,942] Trial 7 finished with value: 0.7605087154675665 and parameters: {'alpha': 0.08182885348820362, 'fit_prior': False}. Best is trial 7 with value: 0.7605087154675665.\n",
            "[I 2025-09-07 11:16:39,268] Trial 8 finished with value: 0.733643259388802 and parameters: {'alpha': 0.0055261089603822, 'fit_prior': True}. Best is trial 7 with value: 0.7605087154675665.\n",
            "[I 2025-09-07 11:16:39,595] Trial 9 finished with value: 0.7599096649476292 and parameters: {'alpha': 0.31870695534120214, 'fit_prior': True}. Best is trial 7 with value: 0.7605087154675665.\n",
            "[I 2025-09-07 11:16:39,932] Trial 10 finished with value: 0.7014942304311387 and parameters: {'alpha': 6.37110033955959, 'fit_prior': False}. Best is trial 7 with value: 0.7605087154675665.\n",
            "[I 2025-09-07 11:16:40,288] Trial 11 finished with value: 0.7491872495829222 and parameters: {'alpha': 0.8972554171638077, 'fit_prior': False}. Best is trial 7 with value: 0.7605087154675665.\n",
            "[I 2025-09-07 11:16:40,623] Trial 12 finished with value: 0.755611902909361 and parameters: {'alpha': 0.5562747405546393, 'fit_prior': False}. Best is trial 7 with value: 0.7605087154675665.\n",
            "[I 2025-09-07 11:16:40,951] Trial 13 finished with value: 0.714238205554155 and parameters: {'alpha': 4.366876747198442, 'fit_prior': False}. Best is trial 7 with value: 0.7605087154675665.\n",
            "[I 2025-09-07 11:16:41,276] Trial 14 finished with value: 0.7643122055499413 and parameters: {'alpha': 0.1962092602879557, 'fit_prior': False}. Best is trial 14 with value: 0.7643122055499413.\n",
            "[I 2025-09-07 11:16:41,618] Trial 15 finished with value: 0.7628632257419821 and parameters: {'alpha': 0.1273086395361708, 'fit_prior': False}. Best is trial 14 with value: 0.7643122055499413.\n",
            "[I 2025-09-07 11:16:41,959] Trial 16 finished with value: 0.7399408808567787 and parameters: {'alpha': 0.009676098437076735, 'fit_prior': False}. Best is trial 14 with value: 0.7643122055499413.\n",
            "[I 2025-09-07 11:16:42,307] Trial 17 finished with value: 0.740607100647909 and parameters: {'alpha': 1.5899003133757712, 'fit_prior': False}. Best is trial 14 with value: 0.7643122055499413.\n",
            "[I 2025-09-07 11:16:42,634] Trial 18 finished with value: 0.7634424539313607 and parameters: {'alpha': 0.1384515262005572, 'fit_prior': True}. Best is trial 14 with value: 0.7643122055499413.\n",
            "[I 2025-09-07 11:16:42,960] Trial 19 finished with value: 0.7246631537732082 and parameters: {'alpha': 0.002490440150273436, 'fit_prior': True}. Best is trial 14 with value: 0.7643122055499413.\n",
            "[I 2025-09-07 11:16:43,284] Trial 20 finished with value: 0.7302897167459561 and parameters: {'alpha': 2.323621379637257, 'fit_prior': True}. Best is trial 14 with value: 0.7643122055499413.\n",
            "[I 2025-09-07 11:16:43,608] Trial 21 finished with value: 0.7632558429895411 and parameters: {'alpha': 0.23261420188054824, 'fit_prior': True}. Best is trial 14 with value: 0.7643122055499413.\n",
            "[I 2025-09-07 11:16:43,938] Trial 22 finished with value: 0.7639087992795177 and parameters: {'alpha': 0.19010484753413645, 'fit_prior': True}. Best is trial 14 with value: 0.7643122055499413.\n",
            "[I 2025-09-07 11:16:44,265] Trial 23 finished with value: 0.7627922659031225 and parameters: {'alpha': 0.12857960408444272, 'fit_prior': True}. Best is trial 14 with value: 0.7643122055499413.\n",
            "[I 2025-09-07 11:16:44,598] Trial 24 finished with value: 0.7516724264145906 and parameters: {'alpha': 0.7436762713083453, 'fit_prior': True}. Best is trial 14 with value: 0.7643122055499413.\n",
            "[I 2025-09-07 11:16:44,931] Trial 25 finished with value: 0.7498905723176722 and parameters: {'alpha': 0.024014117732196753, 'fit_prior': True}. Best is trial 14 with value: 0.7643122055499413.\n",
            "[I 2025-09-07 11:16:45,259] Trial 26 finished with value: 0.7504814525110649 and parameters: {'alpha': 0.024791097747002642, 'fit_prior': True}. Best is trial 14 with value: 0.7643122055499413.\n",
            "[I 2025-09-07 11:16:45,597] Trial 27 finished with value: 0.7620756808089308 and parameters: {'alpha': 0.24917717666576947, 'fit_prior': True}. Best is trial 14 with value: 0.7643122055499413.\n",
            "[I 2025-09-07 11:16:45,925] Trial 28 finished with value: 0.7289601680378478 and parameters: {'alpha': 2.405990209975875, 'fit_prior': True}. Best is trial 14 with value: 0.7643122055499413.\n",
            "[I 2025-09-07 11:16:46,255] Trial 29 finished with value: 0.714636955873455 and parameters: {'alpha': 0.000832835384808811, 'fit_prior': True}. Best is trial 14 with value: 0.7643122055499413.\n"
          ]
        },
        {
          "name": "stdout",
          "output_type": "stream",
          "text": [
            "Mejores hiperparámetros:  {'alpha': 0.1962092602879557, 'fit_prior': False}\n",
            "Mejor F1-score de validación:  0.7643122055499413\n"
          ]
        },
        {
          "data": {
            "text/html": [
              "<style>#sk-container-id-3 {\n",
              "  /* Definition of color scheme common for light and dark mode */\n",
              "  --sklearn-color-text: #000;\n",
              "  --sklearn-color-text-muted: #666;\n",
              "  --sklearn-color-line: gray;\n",
              "  /* Definition of color scheme for unfitted estimators */\n",
              "  --sklearn-color-unfitted-level-0: #fff5e6;\n",
              "  --sklearn-color-unfitted-level-1: #f6e4d2;\n",
              "  --sklearn-color-unfitted-level-2: #ffe0b3;\n",
              "  --sklearn-color-unfitted-level-3: chocolate;\n",
              "  /* Definition of color scheme for fitted estimators */\n",
              "  --sklearn-color-fitted-level-0: #f0f8ff;\n",
              "  --sklearn-color-fitted-level-1: #d4ebff;\n",
              "  --sklearn-color-fitted-level-2: #b3dbfd;\n",
              "  --sklearn-color-fitted-level-3: cornflowerblue;\n",
              "\n",
              "  /* Specific color for light theme */\n",
              "  --sklearn-color-text-on-default-background: var(--sg-text-color, var(--theme-code-foreground, var(--jp-content-font-color1, black)));\n",
              "  --sklearn-color-background: var(--sg-background-color, var(--theme-background, var(--jp-layout-color0, white)));\n",
              "  --sklearn-color-border-box: var(--sg-text-color, var(--theme-code-foreground, var(--jp-content-font-color1, black)));\n",
              "  --sklearn-color-icon: #696969;\n",
              "\n",
              "  @media (prefers-color-scheme: dark) {\n",
              "    /* Redefinition of color scheme for dark theme */\n",
              "    --sklearn-color-text-on-default-background: var(--sg-text-color, var(--theme-code-foreground, var(--jp-content-font-color1, white)));\n",
              "    --sklearn-color-background: var(--sg-background-color, var(--theme-background, var(--jp-layout-color0, #111)));\n",
              "    --sklearn-color-border-box: var(--sg-text-color, var(--theme-code-foreground, var(--jp-content-font-color1, white)));\n",
              "    --sklearn-color-icon: #878787;\n",
              "  }\n",
              "}\n",
              "\n",
              "#sk-container-id-3 {\n",
              "  color: var(--sklearn-color-text);\n",
              "}\n",
              "\n",
              "#sk-container-id-3 pre {\n",
              "  padding: 0;\n",
              "}\n",
              "\n",
              "#sk-container-id-3 input.sk-hidden--visually {\n",
              "  border: 0;\n",
              "  clip: rect(1px 1px 1px 1px);\n",
              "  clip: rect(1px, 1px, 1px, 1px);\n",
              "  height: 1px;\n",
              "  margin: -1px;\n",
              "  overflow: hidden;\n",
              "  padding: 0;\n",
              "  position: absolute;\n",
              "  width: 1px;\n",
              "}\n",
              "\n",
              "#sk-container-id-3 div.sk-dashed-wrapped {\n",
              "  border: 1px dashed var(--sklearn-color-line);\n",
              "  margin: 0 0.4em 0.5em 0.4em;\n",
              "  box-sizing: border-box;\n",
              "  padding-bottom: 0.4em;\n",
              "  background-color: var(--sklearn-color-background);\n",
              "}\n",
              "\n",
              "#sk-container-id-3 div.sk-container {\n",
              "  /* jupyter's `normalize.less` sets `[hidden] { display: none; }`\n",
              "     but bootstrap.min.css set `[hidden] { display: none !important; }`\n",
              "     so we also need the `!important` here to be able to override the\n",
              "     default hidden behavior on the sphinx rendered scikit-learn.org.\n",
              "     See: https://github.com/scikit-learn/scikit-learn/issues/21755 */\n",
              "  display: inline-block !important;\n",
              "  position: relative;\n",
              "}\n",
              "\n",
              "#sk-container-id-3 div.sk-text-repr-fallback {\n",
              "  display: none;\n",
              "}\n",
              "\n",
              "div.sk-parallel-item,\n",
              "div.sk-serial,\n",
              "div.sk-item {\n",
              "  /* draw centered vertical line to link estimators */\n",
              "  background-image: linear-gradient(var(--sklearn-color-text-on-default-background), var(--sklearn-color-text-on-default-background));\n",
              "  background-size: 2px 100%;\n",
              "  background-repeat: no-repeat;\n",
              "  background-position: center center;\n",
              "}\n",
              "\n",
              "/* Parallel-specific style estimator block */\n",
              "\n",
              "#sk-container-id-3 div.sk-parallel-item::after {\n",
              "  content: \"\";\n",
              "  width: 100%;\n",
              "  border-bottom: 2px solid var(--sklearn-color-text-on-default-background);\n",
              "  flex-grow: 1;\n",
              "}\n",
              "\n",
              "#sk-container-id-3 div.sk-parallel {\n",
              "  display: flex;\n",
              "  align-items: stretch;\n",
              "  justify-content: center;\n",
              "  background-color: var(--sklearn-color-background);\n",
              "  position: relative;\n",
              "}\n",
              "\n",
              "#sk-container-id-3 div.sk-parallel-item {\n",
              "  display: flex;\n",
              "  flex-direction: column;\n",
              "}\n",
              "\n",
              "#sk-container-id-3 div.sk-parallel-item:first-child::after {\n",
              "  align-self: flex-end;\n",
              "  width: 50%;\n",
              "}\n",
              "\n",
              "#sk-container-id-3 div.sk-parallel-item:last-child::after {\n",
              "  align-self: flex-start;\n",
              "  width: 50%;\n",
              "}\n",
              "\n",
              "#sk-container-id-3 div.sk-parallel-item:only-child::after {\n",
              "  width: 0;\n",
              "}\n",
              "\n",
              "/* Serial-specific style estimator block */\n",
              "\n",
              "#sk-container-id-3 div.sk-serial {\n",
              "  display: flex;\n",
              "  flex-direction: column;\n",
              "  align-items: center;\n",
              "  background-color: var(--sklearn-color-background);\n",
              "  padding-right: 1em;\n",
              "  padding-left: 1em;\n",
              "}\n",
              "\n",
              "\n",
              "/* Toggleable style: style used for estimator/Pipeline/ColumnTransformer box that is\n",
              "clickable and can be expanded/collapsed.\n",
              "- Pipeline and ColumnTransformer use this feature and define the default style\n",
              "- Estimators will overwrite some part of the style using the `sk-estimator` class\n",
              "*/\n",
              "\n",
              "/* Pipeline and ColumnTransformer style (default) */\n",
              "\n",
              "#sk-container-id-3 div.sk-toggleable {\n",
              "  /* Default theme specific background. It is overwritten whether we have a\n",
              "  specific estimator or a Pipeline/ColumnTransformer */\n",
              "  background-color: var(--sklearn-color-background);\n",
              "}\n",
              "\n",
              "/* Toggleable label */\n",
              "#sk-container-id-3 label.sk-toggleable__label {\n",
              "  cursor: pointer;\n",
              "  display: flex;\n",
              "  width: 100%;\n",
              "  margin-bottom: 0;\n",
              "  padding: 0.5em;\n",
              "  box-sizing: border-box;\n",
              "  text-align: center;\n",
              "  align-items: start;\n",
              "  justify-content: space-between;\n",
              "  gap: 0.5em;\n",
              "}\n",
              "\n",
              "#sk-container-id-3 label.sk-toggleable__label .caption {\n",
              "  font-size: 0.6rem;\n",
              "  font-weight: lighter;\n",
              "  color: var(--sklearn-color-text-muted);\n",
              "}\n",
              "\n",
              "#sk-container-id-3 label.sk-toggleable__label-arrow:before {\n",
              "  /* Arrow on the left of the label */\n",
              "  content: \"▸\";\n",
              "  float: left;\n",
              "  margin-right: 0.25em;\n",
              "  color: var(--sklearn-color-icon);\n",
              "}\n",
              "\n",
              "#sk-container-id-3 label.sk-toggleable__label-arrow:hover:before {\n",
              "  color: var(--sklearn-color-text);\n",
              "}\n",
              "\n",
              "/* Toggleable content - dropdown */\n",
              "\n",
              "#sk-container-id-3 div.sk-toggleable__content {\n",
              "  max-height: 0;\n",
              "  max-width: 0;\n",
              "  overflow: hidden;\n",
              "  text-align: left;\n",
              "  /* unfitted */\n",
              "  background-color: var(--sklearn-color-unfitted-level-0);\n",
              "}\n",
              "\n",
              "#sk-container-id-3 div.sk-toggleable__content.fitted {\n",
              "  /* fitted */\n",
              "  background-color: var(--sklearn-color-fitted-level-0);\n",
              "}\n",
              "\n",
              "#sk-container-id-3 div.sk-toggleable__content pre {\n",
              "  margin: 0.2em;\n",
              "  border-radius: 0.25em;\n",
              "  color: var(--sklearn-color-text);\n",
              "  /* unfitted */\n",
              "  background-color: var(--sklearn-color-unfitted-level-0);\n",
              "}\n",
              "\n",
              "#sk-container-id-3 div.sk-toggleable__content.fitted pre {\n",
              "  /* unfitted */\n",
              "  background-color: var(--sklearn-color-fitted-level-0);\n",
              "}\n",
              "\n",
              "#sk-container-id-3 input.sk-toggleable__control:checked~div.sk-toggleable__content {\n",
              "  /* Expand drop-down */\n",
              "  max-height: 200px;\n",
              "  max-width: 100%;\n",
              "  overflow: auto;\n",
              "}\n",
              "\n",
              "#sk-container-id-3 input.sk-toggleable__control:checked~label.sk-toggleable__label-arrow:before {\n",
              "  content: \"▾\";\n",
              "}\n",
              "\n",
              "/* Pipeline/ColumnTransformer-specific style */\n",
              "\n",
              "#sk-container-id-3 div.sk-label input.sk-toggleable__control:checked~label.sk-toggleable__label {\n",
              "  color: var(--sklearn-color-text);\n",
              "  background-color: var(--sklearn-color-unfitted-level-2);\n",
              "}\n",
              "\n",
              "#sk-container-id-3 div.sk-label.fitted input.sk-toggleable__control:checked~label.sk-toggleable__label {\n",
              "  background-color: var(--sklearn-color-fitted-level-2);\n",
              "}\n",
              "\n",
              "/* Estimator-specific style */\n",
              "\n",
              "/* Colorize estimator box */\n",
              "#sk-container-id-3 div.sk-estimator input.sk-toggleable__control:checked~label.sk-toggleable__label {\n",
              "  /* unfitted */\n",
              "  background-color: var(--sklearn-color-unfitted-level-2);\n",
              "}\n",
              "\n",
              "#sk-container-id-3 div.sk-estimator.fitted input.sk-toggleable__control:checked~label.sk-toggleable__label {\n",
              "  /* fitted */\n",
              "  background-color: var(--sklearn-color-fitted-level-2);\n",
              "}\n",
              "\n",
              "#sk-container-id-3 div.sk-label label.sk-toggleable__label,\n",
              "#sk-container-id-3 div.sk-label label {\n",
              "  /* The background is the default theme color */\n",
              "  color: var(--sklearn-color-text-on-default-background);\n",
              "}\n",
              "\n",
              "/* On hover, darken the color of the background */\n",
              "#sk-container-id-3 div.sk-label:hover label.sk-toggleable__label {\n",
              "  color: var(--sklearn-color-text);\n",
              "  background-color: var(--sklearn-color-unfitted-level-2);\n",
              "}\n",
              "\n",
              "/* Label box, darken color on hover, fitted */\n",
              "#sk-container-id-3 div.sk-label.fitted:hover label.sk-toggleable__label.fitted {\n",
              "  color: var(--sklearn-color-text);\n",
              "  background-color: var(--sklearn-color-fitted-level-2);\n",
              "}\n",
              "\n",
              "/* Estimator label */\n",
              "\n",
              "#sk-container-id-3 div.sk-label label {\n",
              "  font-family: monospace;\n",
              "  font-weight: bold;\n",
              "  display: inline-block;\n",
              "  line-height: 1.2em;\n",
              "}\n",
              "\n",
              "#sk-container-id-3 div.sk-label-container {\n",
              "  text-align: center;\n",
              "}\n",
              "\n",
              "/* Estimator-specific */\n",
              "#sk-container-id-3 div.sk-estimator {\n",
              "  font-family: monospace;\n",
              "  border: 1px dotted var(--sklearn-color-border-box);\n",
              "  border-radius: 0.25em;\n",
              "  box-sizing: border-box;\n",
              "  margin-bottom: 0.5em;\n",
              "  /* unfitted */\n",
              "  background-color: var(--sklearn-color-unfitted-level-0);\n",
              "}\n",
              "\n",
              "#sk-container-id-3 div.sk-estimator.fitted {\n",
              "  /* fitted */\n",
              "  background-color: var(--sklearn-color-fitted-level-0);\n",
              "}\n",
              "\n",
              "/* on hover */\n",
              "#sk-container-id-3 div.sk-estimator:hover {\n",
              "  /* unfitted */\n",
              "  background-color: var(--sklearn-color-unfitted-level-2);\n",
              "}\n",
              "\n",
              "#sk-container-id-3 div.sk-estimator.fitted:hover {\n",
              "  /* fitted */\n",
              "  background-color: var(--sklearn-color-fitted-level-2);\n",
              "}\n",
              "\n",
              "/* Specification for estimator info (e.g. \"i\" and \"?\") */\n",
              "\n",
              "/* Common style for \"i\" and \"?\" */\n",
              "\n",
              ".sk-estimator-doc-link,\n",
              "a:link.sk-estimator-doc-link,\n",
              "a:visited.sk-estimator-doc-link {\n",
              "  float: right;\n",
              "  font-size: smaller;\n",
              "  line-height: 1em;\n",
              "  font-family: monospace;\n",
              "  background-color: var(--sklearn-color-background);\n",
              "  border-radius: 1em;\n",
              "  height: 1em;\n",
              "  width: 1em;\n",
              "  text-decoration: none !important;\n",
              "  margin-left: 0.5em;\n",
              "  text-align: center;\n",
              "  /* unfitted */\n",
              "  border: var(--sklearn-color-unfitted-level-1) 1pt solid;\n",
              "  color: var(--sklearn-color-unfitted-level-1);\n",
              "}\n",
              "\n",
              ".sk-estimator-doc-link.fitted,\n",
              "a:link.sk-estimator-doc-link.fitted,\n",
              "a:visited.sk-estimator-doc-link.fitted {\n",
              "  /* fitted */\n",
              "  border: var(--sklearn-color-fitted-level-1) 1pt solid;\n",
              "  color: var(--sklearn-color-fitted-level-1);\n",
              "}\n",
              "\n",
              "/* On hover */\n",
              "div.sk-estimator:hover .sk-estimator-doc-link:hover,\n",
              ".sk-estimator-doc-link:hover,\n",
              "div.sk-label-container:hover .sk-estimator-doc-link:hover,\n",
              ".sk-estimator-doc-link:hover {\n",
              "  /* unfitted */\n",
              "  background-color: var(--sklearn-color-unfitted-level-3);\n",
              "  color: var(--sklearn-color-background);\n",
              "  text-decoration: none;\n",
              "}\n",
              "\n",
              "div.sk-estimator.fitted:hover .sk-estimator-doc-link.fitted:hover,\n",
              ".sk-estimator-doc-link.fitted:hover,\n",
              "div.sk-label-container:hover .sk-estimator-doc-link.fitted:hover,\n",
              ".sk-estimator-doc-link.fitted:hover {\n",
              "  /* fitted */\n",
              "  background-color: var(--sklearn-color-fitted-level-3);\n",
              "  color: var(--sklearn-color-background);\n",
              "  text-decoration: none;\n",
              "}\n",
              "\n",
              "/* Span, style for the box shown on hovering the info icon */\n",
              ".sk-estimator-doc-link span {\n",
              "  display: none;\n",
              "  z-index: 9999;\n",
              "  position: relative;\n",
              "  font-weight: normal;\n",
              "  right: .2ex;\n",
              "  padding: .5ex;\n",
              "  margin: .5ex;\n",
              "  width: min-content;\n",
              "  min-width: 20ex;\n",
              "  max-width: 50ex;\n",
              "  color: var(--sklearn-color-text);\n",
              "  box-shadow: 2pt 2pt 4pt #999;\n",
              "  /* unfitted */\n",
              "  background: var(--sklearn-color-unfitted-level-0);\n",
              "  border: .5pt solid var(--sklearn-color-unfitted-level-3);\n",
              "}\n",
              "\n",
              ".sk-estimator-doc-link.fitted span {\n",
              "  /* fitted */\n",
              "  background: var(--sklearn-color-fitted-level-0);\n",
              "  border: var(--sklearn-color-fitted-level-3);\n",
              "}\n",
              "\n",
              ".sk-estimator-doc-link:hover span {\n",
              "  display: block;\n",
              "}\n",
              "\n",
              "/* \"?\"-specific style due to the `<a>` HTML tag */\n",
              "\n",
              "#sk-container-id-3 a.estimator_doc_link {\n",
              "  float: right;\n",
              "  font-size: 1rem;\n",
              "  line-height: 1em;\n",
              "  font-family: monospace;\n",
              "  background-color: var(--sklearn-color-background);\n",
              "  border-radius: 1rem;\n",
              "  height: 1rem;\n",
              "  width: 1rem;\n",
              "  text-decoration: none;\n",
              "  /* unfitted */\n",
              "  color: var(--sklearn-color-unfitted-level-1);\n",
              "  border: var(--sklearn-color-unfitted-level-1) 1pt solid;\n",
              "}\n",
              "\n",
              "#sk-container-id-3 a.estimator_doc_link.fitted {\n",
              "  /* fitted */\n",
              "  border: var(--sklearn-color-fitted-level-1) 1pt solid;\n",
              "  color: var(--sklearn-color-fitted-level-1);\n",
              "}\n",
              "\n",
              "/* On hover */\n",
              "#sk-container-id-3 a.estimator_doc_link:hover {\n",
              "  /* unfitted */\n",
              "  background-color: var(--sklearn-color-unfitted-level-3);\n",
              "  color: var(--sklearn-color-background);\n",
              "  text-decoration: none;\n",
              "}\n",
              "\n",
              "#sk-container-id-3 a.estimator_doc_link.fitted:hover {\n",
              "  /* fitted */\n",
              "  background-color: var(--sklearn-color-fitted-level-3);\n",
              "}\n",
              "</style><div id=\"sk-container-id-3\" class=\"sk-top-container\"><div class=\"sk-text-repr-fallback\"><pre>ComplementNB(alpha=0.1962092602879557, fit_prior=False)</pre><b>In a Jupyter environment, please rerun this cell to show the HTML representation or trust the notebook. <br />On GitHub, the HTML representation is unable to render, please try loading this page with nbviewer.org.</b></div><div class=\"sk-container\" hidden><div class=\"sk-item\"><div class=\"sk-estimator fitted sk-toggleable\"><input class=\"sk-toggleable__control sk-hidden--visually\" id=\"sk-estimator-id-3\" type=\"checkbox\" checked><label for=\"sk-estimator-id-3\" class=\"sk-toggleable__label fitted sk-toggleable__label-arrow\"><div><div>ComplementNB</div></div><div><a class=\"sk-estimator-doc-link fitted\" rel=\"noreferrer\" target=\"_blank\" href=\"https://scikit-learn.org/1.6/modules/generated/sklearn.naive_bayes.ComplementNB.html\">?<span>Documentation for ComplementNB</span></a><span class=\"sk-estimator-doc-link fitted\">i<span>Fitted</span></span></div></label><div class=\"sk-toggleable__content fitted\"><pre>ComplementNB(alpha=0.1962092602879557, fit_prior=False)</pre></div> </div></div></div></div>"
            ],
            "text/plain": [
              "ComplementNB(alpha=0.1962092602879557, fit_prior=False)"
            ]
          },
          "execution_count": 27,
          "metadata": {},
          "output_type": "execute_result"
        }
      ],
      "source": [
        "# Definir la función objetivo para Optuna\n",
        "def objective_complementnb(trial):\n",
        "    # Sugerir hiperparámetros a optimizar\n",
        "    alpha = trial.suggest_float('alpha', 1e-4, 10.0, log=True)  # Parámetro de suavizado en escala logarítmica\n",
        "    fit_prior = trial.suggest_categorical('fit_prior', [True, False])  # Si se aprenden las probabilidades previas de las clases\n",
        "    \n",
        "    # Inicializar el clasificador con los hiperparámetros sugeridos\n",
        "    clf = ComplementNB(alpha=alpha, fit_prior=fit_prior)\n",
        "    \n",
        "    # Configurar validación cruzada estratificada con 5 pliegues\n",
        "    skf = StratifiedKFold(n_splits=5, shuffle=True, random_state=42)\n",
        "    scores = []\n",
        "    \n",
        "    # Iterar sobre los pliegues de validación cruzada\n",
        "    for train_idx, val_idx in skf.split(X_train, y_train):\n",
        "        # Dividir los datos en entrenamiento y validación\n",
        "        X_tr, X_val = X_train[train_idx], X_train[val_idx]\n",
        "        y_tr, y_val = y_train[train_idx], y_train[val_idx]\n",
        "        \n",
        "        # Entrenar el modelo\n",
        "        clf.fit(X_tr, y_tr)\n",
        "        # Predecir y evaluar en el conjunto de validación\n",
        "        y_pred = clf.predict(X_val)\n",
        "        score = f1_score(y_val, y_pred, average='macro')\n",
        "        scores.append(score)\n",
        "    \n",
        "    # Devolver la precisión media de los pliegues\n",
        "    return np.mean(scores)\n",
        "\n",
        "# Crear un estudio de Optuna para maximizar la precisión\n",
        "study_complementnb = optuna.create_study(direction='maximize')\n",
        "# Ejecutar la optimización con un máximo de 30 pruebas\n",
        "study_complementnb.optimize(objective_complementnb, n_trials=30)\n",
        "\n",
        "# Imprimir los mejores hiperparámetros y la mejor precisión\n",
        "print(\"Mejores hiperparámetros: \", study_complementnb.best_params)\n",
        "print(\"Mejor F1-score de validación: \", study_complementnb.best_value)\n",
        "\n",
        "# Entrenar el modelo final con los mejores hiperparámetros en todo el conjunto de entrenamiento\n",
        "best_clf_complementnb = ComplementNB(\n",
        "    alpha=study_complementnb.best_params['alpha'],\n",
        "    fit_prior=study_complementnb.best_params['fit_prior']\n",
        ")\n",
        "best_clf_complementnb.fit(X_train, y_train)"
      ]
    },
    {
      "cell_type": "code",
      "execution_count": null,
      "metadata": {},
      "outputs": [
        {
          "data": {
            "text/plain": [
              "0.6999155081250106"
            ]
          },
          "execution_count": 28,
          "metadata": {},
          "output_type": "execute_result"
        }
      ],
      "source": [
        "y_pred_complementnb = best_clf_complementnb.predict(X_test)\n",
        "f1_score(y_test, y_pred_complementnb, average='macro')"
      ]
    },
    {
      "cell_type": "markdown",
      "metadata": {},
      "source": [
        "### Consigna 4\n",
        "**4**. Transponer la matriz documento-término. De esa manera se obtiene una matriz\n",
        "término-documento que puede ser interpretada como una colección de vectorización de palabras.\n",
        "Estudiar ahora similaridad entre palabras tomando 5 palabras y estudiando sus 5 más similares. **La elección de palabras no debe ser al azar para evitar la aparición de términos poco interpretables, elegirlas \"manualmente\"**."
      ]
    },
    {
      "cell_type": "markdown",
      "metadata": {},
      "source": []
    }
  ],
  "metadata": {
    "colab": {
      "provenance": []
    },
    "kernelspec": {
      "display_name": "Python 3",
      "language": "python",
      "name": "python3"
    },
    "language_info": {
      "codemirror_mode": {
        "name": "ipython",
        "version": 3
      },
      "file_extension": ".py",
      "mimetype": "text/x-python",
      "name": "python",
      "nbconvert_exporter": "python",
      "pygments_lexer": "ipython3",
      "version": "3.13.3"
    }
  },
  "nbformat": 4,
  "nbformat_minor": 0
}
