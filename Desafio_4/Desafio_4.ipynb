{
  "cells": [
    {
      "cell_type": "markdown",
      "metadata": {
        "id": "g3yeJGnCYxuF"
      },
      "source": [
        "<img src=\"https://github.com/hernancontigiani/ceia_memorias_especializacion/raw/master/Figures/logoFIUBA.jpg\" width=\"500\" align=\"center\">\n",
        "\n",
        "\n",
        "# Procesamiento de lenguaje natural\n",
        "## Modelo sequence to sequence - Traductor"
      ]
    },
    {
      "cell_type": "markdown",
      "metadata": {
        "id": "Iv5PEwGzZA9-"
      },
      "source": [
        "### Consigna\n",
        "\n",
        "Replicar y extender el traductor:\n",
        "- Replicar el modelo en PyTorch.\n",
        "- Extender el entrenamiento a más datos y tamaños de secuencias mayores.\n",
        "- Explorar el impacto de la cantidad de neuronas en las capas recurrentes.\n",
        "- Mostrar 5 ejemplos de traducciones generadas.\n",
        "\n",
        "Extras que se pueden probar: \n",
        "- Embeddingspre-entrenados para los dos idiomas\n",
        "- Cambiar la estrategia de generación (por ejemplo muestreo aleatorio)"
      ]
    },
    {
      "cell_type": "markdown",
      "metadata": {},
      "source": [
        "## 1. Datos"
      ]
    },
    {
      "cell_type": "code",
      "execution_count": 155,
      "metadata": {},
      "outputs": [
        {
          "data": {
            "text/plain": [
              "device(type='cpu')"
            ]
          },
          "execution_count": 155,
          "metadata": {},
          "output_type": "execute_result"
        }
      ],
      "source": [
        "import re\n",
        "\n",
        "import numpy as np\n",
        "import pandas as pd\n",
        "import matplotlib.pyplot as plt\n",
        "import seaborn as sns\n",
        "\n",
        "import torch\n",
        "import torch.nn.functional as F\n",
        "import torch.nn as nn\n",
        "from torch.utils.data import Dataset, DataLoader\n",
        "\n",
        "cuda = torch.cuda.is_available()\n",
        "device = torch.device('cuda' if torch.cuda.is_available() else 'cpu')\n",
        "device"
      ]
    },
    {
      "cell_type": "code",
      "execution_count": 156,
      "metadata": {},
      "outputs": [],
      "source": [
        "# torchsummar actualmente tiene un problema con las LSTM, por eso\n",
        "# se utiliza torchinfo, un fork del proyecto original con el bug solucionado\n",
        "from torchinfo import summary\n",
        "\n",
        "import os\n",
        "import platform\n",
        "\n",
        "if os.access('torch_helpers.py', os.F_OK) is False:\n",
        "    if platform.system() == 'Windows':\n",
        "        !curl !wget https://raw.githubusercontent.com/FIUBA-Posgrado-Inteligencia-Artificial/procesamiento_lenguaje_natural/main/scripts/torch_helpers.py > torch_helpers.py\n",
        "    else:\n",
        "        !wget torch_helpers.py https://raw.githubusercontent.com/FIUBA-Posgrado-Inteligencia-Artificial/procesamiento_lenguaje_natural/main/scripts/torch_helpers.py"
      ]
    },
    {
      "cell_type": "code",
      "execution_count": 157,
      "metadata": {},
      "outputs": [
        {
          "name": "stderr",
          "output_type": "stream",
          "text": [
            "Downloading...\n",
            "From: http://storage.googleapis.com/download.tensorflow.org/data/spa-eng.zip\n",
            "To: /home/agustin/Desktop/CEIA UBA/Procesamiento Lenguaje Natural I/CEIA-ProcesamientoLenguajeNaturalI/Desafio_4/Dataset/spa-eng.zip\n",
            "100%|██████████| 2.64M/2.64M [00:03<00:00, 869kB/s]\n"
          ]
        }
      ],
      "source": [
        "# Descargar la carpeta de dataset\n",
        "import gdown\n",
        "import zipfile\n",
        "if os.access('spa-eng', os.F_OK) is False:\n",
        "    if os.access('simpsons_dataset.zip', os.F_OK) is False:\n",
        "        url = 'http://storage.googleapis.com/download.tensorflow.org/data/spa-eng.zip'\n",
        "        output = os.path.join(\"./Dataset\", \"spa-eng.zip\")\n",
        "        gdown.download(url, output, quiet=False)\n",
        "    with zipfile.ZipFile(output, 'r') as zip_ref:\n",
        "        zip_ref.extractall(\"./Dataset\")\n",
        "else:\n",
        "    print(\"El dataset ya se encuentra descargado\")\n",
        "\n",
        "# dataset_file\n",
        "\n",
        "text_file = os.path.join(\"./Dataset\", \"spa-eng/spa.txt\")\n",
        "with open(text_file) as f:\n",
        "    lines = f.read().split(\"\\n\")[:-1]\n"
      ]
    },
    {
      "cell_type": "markdown",
      "metadata": {},
      "source": [
        "### Funciones de guardado del modelo"
      ]
    },
    {
      "cell_type": "code",
      "execution_count": 158,
      "metadata": {},
      "outputs": [],
      "source": [
        "import json\n",
        "\n",
        "def save_checkpoint(folder, model, optimizer, history, config,\n",
        "                    input_tokenizer, output_tokenizer,\n",
        "                    word2idx_inputs, word2idx_outputs, embedding_matrix, embedding_matrix_decoder=None):\n",
        "    \"\"\"\n",
        "    Guarda todos los elementos necesarios para reconstruir el entrenamiento.\n",
        "    \"\"\"\n",
        "    os.makedirs(folder, exist_ok=True)\n",
        "\n",
        "    torch.save(model.state_dict(), os.path.join(folder, \"seq2seq_model.pth\"))\n",
        "    torch.save(optimizer.state_dict(), os.path.join(folder, \"optimizer_state.pth\"))\n",
        "    torch.save(config, os.path.join(folder, \"config.pth\"))\n",
        "\n",
        "    np.save(os.path.join(folder, \"embedding_matrix.npy\"), embedding_matrix)\n",
        "    if embedding_matrix_decoder is not None:\n",
        "        np.save(os.path.join(folder, \"embedding_matrix_decoder.npy\"), embedding_matrix_decoder)\n",
        "\n",
        "    with open(os.path.join(folder, \"input_tokenizer.pkl\"), \"wb\") as f:\n",
        "        pickle.dump(input_tokenizer, f)\n",
        "    with open(os.path.join(folder, \"output_tokenizer.pkl\"), \"wb\") as f:\n",
        "        pickle.dump(output_tokenizer, f)\n",
        "    with open(os.path.join(folder, \"word2idx_inputs.pkl\"), \"wb\") as f:\n",
        "        pickle.dump(word2idx_inputs, f)\n",
        "    with open(os.path.join(folder, \"word2idx_outputs.pkl\"), \"wb\") as f:\n",
        "        pickle.dump(word2idx_outputs, f)\n",
        "\n",
        "    with open(os.path.join(folder, \"history.json\"), \"w\") as f:\n",
        "        json.dump(history, f)\n",
        "\n",
        "    print(f\"Checkpoint guardado en: {folder}\")\n",
        "\n",
        "\n",
        "def load_checkpoint(folder, Encoder, Decoder, Seq2Seq, device=\"cpu\"):\n",
        "    \"\"\"\n",
        "    Carga todo desde una carpeta y reconstruye el modelo listo para usar.\n",
        "    Retorna: model, optimizer, history, config, tokenizers, vocabularios, embedding_matrix\n",
        "    \"\"\"\n",
        "    # 1. Configuración\n",
        "    config = torch.load(os.path.join(folder, \"config.pth\"), map_location=device)\n",
        "\n",
        "    # 2. Tokenizers y vocabularios\n",
        "    with open(os.path.join(folder, \"input_tokenizer.pkl\"), \"rb\") as f:\n",
        "        input_tokenizer = pickle.load(f)\n",
        "    with open(os.path.join(folder, \"output_tokenizer.pkl\"), \"rb\") as f:\n",
        "        output_tokenizer = pickle.load(f)\n",
        "    with open(os.path.join(folder, \"word2idx_inputs.pkl\"), \"rb\") as f:\n",
        "        word2idx_inputs = pickle.load(f)\n",
        "    with open(os.path.join(folder, \"word2idx_outputs.pkl\"), \"rb\") as f:\n",
        "        word2idx_outputs = pickle.load(f)\n",
        "\n",
        "    # 3. Embedding matrices (encoder obligatoria, decoder opcional)\n",
        "    embedding_matrix_encoder = np.load(os.path.join(folder, \"embedding_matrix.npy\"))\n",
        "\n",
        "    path_decoder = os.path.join(folder, \"embedding_matrix_decoder.npy\")\n",
        "    embedding_matrix_decoder = np.load(path_decoder) if os.path.exists(path_decoder) else None\n",
        "\n",
        "    vocab_size_encoder = int(embedding_matrix_encoder.shape[0])\n",
        "    # 4. Modelo\n",
        "    encoder = Encoder(\n",
        "        vocab_size=vocab_size_encoder,\n",
        "        embedding_matrix=embedding_matrix_encoder\n",
        "    )\n",
        "\n",
        "    if embedding_matrix_decoder is not None:\n",
        "        decoder = Decoder(\n",
        "            vocab_size=config[\"num_words_output\"],\n",
        "            output_dim=config[\"num_words_output\"],\n",
        "            embedding_matrix=embedding_matrix_decoder\n",
        "        )\n",
        "    else:\n",
        "        print(\"No se encontró embedding_matrix_decoder.npy — se entrenará embedding en el Decoder.\")\n",
        "        decoder = Decoder(\n",
        "            vocab_size=config[\"num_words_output\"],\n",
        "            output_dim=config[\"num_words_output\"]\n",
        "        )\n",
        "\n",
        "    model = Seq2Seq(encoder, decoder)\n",
        "    model.load_state_dict(torch.load(os.path.join(folder, \"seq2seq_model.pth\"), map_location=device))\n",
        "    model.to(device)\n",
        "    model.eval()\n",
        "\n",
        "    # 5. Optimizador\n",
        "    optimizer = torch.optim.Adam(model.parameters(), lr=config[\"lr\"])\n",
        "    optimizer.load_state_dict(torch.load(os.path.join(folder, \"optimizer_state.pth\"), map_location=device))\n",
        "\n",
        "    # 6. Historia\n",
        "    with open(os.path.join(folder, \"history.json\"), \"r\") as f:\n",
        "        history = json.load(f)\n",
        "\n",
        "    print(f\"Checkpoint cargado desde: {folder}\")\n",
        "\n",
        "    return {\n",
        "        \"model\": model,\n",
        "        \"optimizer\": optimizer,\n",
        "        \"history\": history,\n",
        "        \"config\": config,\n",
        "        \"input_tokenizer\": input_tokenizer,\n",
        "        \"output_tokenizer\": output_tokenizer,\n",
        "        \"word2idx_inputs\": word2idx_inputs,\n",
        "        \"word2idx_outputs\": word2idx_outputs,\n",
        "        \"embedding_matrix\": embedding_matrix\n",
        "    }\n",
        "\n",
        "\n",
        "def check_checkpoint_exists(folder):\n",
        "    \"\"\"\n",
        "    Verifica si existen todos los archivos necesarios en la carpeta.\n",
        "    Retorna True si el checkpoint está completo.\n",
        "    \"\"\"\n",
        "    required_files = [\n",
        "        \"seq2seq_model.pth\",\n",
        "        \"optimizer_state.pth\",\n",
        "        \"config.pth\",\n",
        "        \"embedding_matrix.npy\",\n",
        "        \"input_tokenizer.pkl\",\n",
        "        \"output_tokenizer.pkl\",\n",
        "        \"word2idx_inputs.pkl\",\n",
        "        \"word2idx_outputs.pkl\",\n",
        "        \"history.json\"\n",
        "    ]\n",
        "\n",
        "    missing = [f for f in required_files if not os.path.exists(os.path.join(folder, f))]\n",
        "    if missing:\n",
        "        print(f\"Faltan archivos en el checkpoint: {missing}\")\n",
        "        return False\n",
        "    print(f\"Checkpoint completo encontrado en: {folder}\")\n",
        "    return True"
      ]
    },
    {
      "cell_type": "markdown",
      "metadata": {},
      "source": [
        "## 2. Entrenamiento Baseline\n",
        "Se tomará el modelo entrenado en clase como Baseline para comparación al aplicar cambios:"
      ]
    },
    {
      "cell_type": "markdown",
      "metadata": {},
      "source": [
        "### 2.1. Limitación dataset"
      ]
    },
    {
      "cell_type": "code",
      "execution_count": 159,
      "metadata": {},
      "outputs": [
        {
          "name": "stdout",
          "output_type": "stream",
          "text": [
            "Cantidad de rows disponibles: 118964\n",
            "Cantidad de rows utilizadas: 6000\n"
          ]
        }
      ],
      "source": [
        "# Mezclar el dataset, forzar semilla siempre igual\n",
        "np.random.seed([40])\n",
        "np.random.shuffle(lines)\n",
        "\n",
        "def generar_secuencias(lines, MAX_NUM_SENTENCES=6000):\n",
        "    input_sentences = []\n",
        "    output_sentences = []\n",
        "    output_sentences_inputs = []\n",
        "    count = 0\n",
        "\n",
        "    for line in lines:\n",
        "        count += 1\n",
        "        if count > MAX_NUM_SENTENCES:\n",
        "            break\n",
        "\n",
        "        if '\\t' not in line:\n",
        "            continue\n",
        "\n",
        "        # Input sentence --> eng\n",
        "        # output --> spa\n",
        "        input_sentence, output = line.rstrip().split('\\t')\n",
        "\n",
        "        # output sentence (decoder_output) tiene <eos>\n",
        "        output_sentence = output + ' <eos>'\n",
        "        # output sentence input (decoder_input) tiene <sos>\n",
        "        output_sentence_input = '<sos> ' + output\n",
        "\n",
        "        input_sentences.append(input_sentence)\n",
        "        output_sentences.append(output_sentence)\n",
        "        output_sentences_inputs.append(output_sentence_input)\n",
        "    return input_sentences, output_sentences, output_sentences_inputs\n",
        "\n",
        "\n",
        "# Por limitaciones de RAM no se leen todas las filas\n",
        "MAX_NUM_SENTENCES = 6000\n",
        "input_sentences, output_sentences, output_sentences_inputs = generar_secuencias(lines, MAX_NUM_SENTENCES)\n",
        "\n",
        "print(\"Cantidad de rows disponibles:\", len(lines))\n",
        "print(\"Cantidad de rows utilizadas:\", len(input_sentences))"
      ]
    },
    {
      "cell_type": "code",
      "execution_count": 160,
      "metadata": {},
      "outputs": [
        {
          "data": {
            "text/plain": [
              "('A deal is a deal.',\n",
              " 'Un trato es un trato. <eos>',\n",
              " '<sos> Un trato es un trato.')"
            ]
          },
          "execution_count": 160,
          "metadata": {},
          "output_type": "execute_result"
        }
      ],
      "source": [
        "input_sentences[0], output_sentences[0], output_sentences_inputs[0]"
      ]
    },
    {
      "cell_type": "markdown",
      "metadata": {},
      "source": [
        "### 2.2. Preprocesamiento"
      ]
    },
    {
      "cell_type": "code",
      "execution_count": 161,
      "metadata": {},
      "outputs": [
        {
          "name": "stdout",
          "output_type": "stream",
          "text": [
            "Palabras en el vocabulario: 3851\n",
            "Sentencia de entrada más larga: 32\n",
            "Palabras en el vocabulario: 5721\n",
            "Sentencia de salida más larga: 36\n"
          ]
        }
      ],
      "source": [
        "# Tokenizar las palabras con el Tokenizer de Keras\n",
        "# Definir una máxima cantidad de palabras a utilizar:\n",
        "# - num_words --> the maximum number of words to keep, based on word frequency.\n",
        "# - Only the most common num_words-1 words will be kept.\n",
        "from torch_helpers import Tokenizer\n",
        "\n",
        "def tokenizar_texto(input_sentences, output_sentences, output_sentences_inputs, MAX_VOCAB_SIZE=8000):\n",
        "    input_tokenizer = Tokenizer(num_words=MAX_VOCAB_SIZE)\n",
        "    input_tokenizer.fit_on_texts(input_sentences)\n",
        "    input_integer_seq = input_tokenizer.texts_to_sequences(input_sentences)\n",
        "\n",
        "    word2idx_inputs = input_tokenizer.word_index\n",
        "    print(\"Palabras en el vocabulario:\", len(word2idx_inputs))\n",
        "\n",
        "    max_input_len = max(len(sen) for sen in input_integer_seq)\n",
        "    print(\"Sentencia de entrada más larga:\", max_input_len)\n",
        "\n",
        "\n",
        "    # A los filtros de símbolos del Tokenizer agregamos el \"¿\",\n",
        "    # sacamos los \"<>\" para que no afectar nuestros tokens\n",
        "    output_tokenizer = Tokenizer(num_words=MAX_VOCAB_SIZE, filters='!\"#$%&()*+,-./:;=¿?@[\\\\]^_`{|}~\\t\\n')\n",
        "    output_tokenizer.fit_on_texts([\"<sos>\", \"<eos>\"] + output_sentences)\n",
        "    output_integer_seq = output_tokenizer.texts_to_sequences(output_sentences)\n",
        "    output_input_integer_seq = output_tokenizer.texts_to_sequences(output_sentences_inputs)\n",
        "\n",
        "    word2idx_outputs = output_tokenizer.word_index\n",
        "    print(\"Palabras en el vocabulario:\", len(word2idx_outputs))\n",
        "\n",
        "    num_words_output = min(len(word2idx_outputs) + 1, MAX_VOCAB_SIZE) # Se suma 1 por el primer <sos>\n",
        "    max_out_len = max(len(sen) for sen in output_integer_seq)\n",
        "    print(\"Sentencia de salida más larga:\", max_out_len)\n",
        "\n",
        "    return {\n",
        "        'input_tokenizer': input_tokenizer,\n",
        "        'output_tokenizer': output_tokenizer,\n",
        "        'input_integer_seq': input_integer_seq,\n",
        "        'output_integer_seq': output_integer_seq,\n",
        "        'output_input_integer_seq': output_input_integer_seq,\n",
        "        'word2idx_inputs': word2idx_inputs,\n",
        "        'word2idx_outputs': word2idx_outputs,\n",
        "        'max_input_len': max_input_len,\n",
        "        'max_out_len': max_out_len,\n",
        "        'num_words_output': num_words_output\n",
        "    }\n",
        "\n",
        "# Definir el tamaño máximo del vocabulario\n",
        "MAX_VOCAB_SIZE = 8000\n",
        "\n",
        "salida_tokenizador = tokenizar_texto(input_sentences, output_sentences, output_sentences_inputs, MAX_VOCAB_SIZE)\n",
        "\n",
        "input_tokenizer = salida_tokenizador[\"input_tokenizer\"]\n",
        "output_tokenizer = salida_tokenizador[\"output_tokenizer\"]\n",
        "input_integer_seq = salida_tokenizador[\"input_integer_seq\"]\n",
        "output_integer_seq = salida_tokenizador[\"output_integer_seq\"]\n",
        "output_input_integer_seq = salida_tokenizador[\"output_input_integer_seq\"]\n",
        "num_words_output = salida_tokenizador[\"num_words_output\"]\n",
        "word2idx_inputs = salida_tokenizador[\"word2idx_inputs\"]\n",
        "word2idx_outputs = salida_tokenizador[\"word2idx_outputs\"]\n"
      ]
    },
    {
      "cell_type": "code",
      "execution_count": 162,
      "metadata": {},
      "outputs": [],
      "source": [
        "# Por una cuestion de que no explote la RAM se limitará el tamaño de las sentencias de entrada\n",
        "# a la mitad:\n",
        "max_input_len = 16\n",
        "max_out_len = 18"
      ]
    },
    {
      "cell_type": "code",
      "execution_count": 163,
      "metadata": {},
      "outputs": [
        {
          "name": "stdout",
          "output_type": "stream",
          "text": [
            "Cantidad de rows del dataset: 6000\n",
            "encoder_input_sequences shape: (6000, 16)\n",
            "decoder_input_sequences shape: (6000, 18)\n",
            "decoder_output_sequences shape: (6000, 18)\n"
          ]
        }
      ],
      "source": [
        "from torch_helpers import pad_sequences\n",
        "print(\"Cantidad de rows del dataset:\", len(input_integer_seq))\n",
        "\n",
        "encoder_input_sequences = pad_sequences(input_integer_seq, maxlen=max_input_len)\n",
        "print(\"encoder_input_sequences shape:\", encoder_input_sequences.shape)\n",
        "\n",
        "decoder_input_sequences = pad_sequences(output_input_integer_seq, maxlen=max_out_len, padding='post')\n",
        "print(\"decoder_input_sequences shape:\", decoder_input_sequences.shape)\n",
        "\n",
        "decoder_output_sequences = pad_sequences(output_integer_seq, maxlen=max_out_len, padding='post')\n",
        "print(\"decoder_output_sequences shape:\", decoder_output_sequences.shape)"
      ]
    },
    {
      "cell_type": "code",
      "execution_count": 164,
      "metadata": {},
      "outputs": [
        {
          "name": "stdout",
          "output_type": "stream",
          "text": [
            "encoder_input_size: 16\n",
            "decoder_input_size: 18\n",
            "Output dim 5722\n"
          ]
        }
      ],
      "source": [
        "class Data(Dataset):\n",
        "    def __init__(self, encoder_input, decoder_input, decoder_output):\n",
        "        # Convertir los arrays de numpy a tensores. \n",
        "        # pytorch espera en general entradas 32bits\n",
        "        self.encoder_inputs = torch.from_numpy(encoder_input.astype(np.int32))\n",
        "        self.decoder_inputs = torch.from_numpy(decoder_input.astype(np.int32))\n",
        "        # Transformar los datos a oneHotEncoding\n",
        "        # la loss function esperan la salida float\n",
        "        # Para CrossEntropyLoss: guardar los targets como índices de clase (LongTensor),\n",
        "        # shape = (N, seq_len), dtype = torch.int64\n",
        "        self.decoder_outputs = torch.from_numpy(decoder_output).to(torch.int64)\n",
        "\n",
        "        self.len = self.decoder_outputs.shape[0]\n",
        "\n",
        "    def __getitem__(self,index):\n",
        "        return self.encoder_inputs[index], self.decoder_inputs[index], self.decoder_outputs[index]\n",
        "\n",
        "    def __len__(self):\n",
        "        return self.len\n",
        "\n",
        "data_set = Data(encoder_input_sequences, decoder_input_sequences, decoder_output_sequences)\n",
        "\n",
        "encoder_input_size = data_set.encoder_inputs.shape[1]\n",
        "print(\"encoder_input_size:\", encoder_input_size)\n",
        "\n",
        "decoder_input_size = data_set.decoder_inputs.shape[1]\n",
        "print(\"decoder_input_size:\", decoder_input_size)\n",
        "\n",
        "output_dim = num_words_output\n",
        "print(\"Output dim\", output_dim)"
      ]
    },
    {
      "cell_type": "code",
      "execution_count": 165,
      "metadata": {},
      "outputs": [
        {
          "name": "stdout",
          "output_type": "stream",
          "text": [
            "Tamaño del conjunto de entrenamiento: 4800\n",
            "Tamaño del conjunto de validacion: 1200\n"
          ]
        }
      ],
      "source": [
        "torch.manual_seed(42)\n",
        "valid_set_size = int(data_set.len * 0.2)\n",
        "train_set_size = data_set.len - valid_set_size\n",
        "\n",
        "train_set = torch.utils.data.Subset(data_set, range(train_set_size))\n",
        "valid_set = torch.utils.data.Subset(data_set, range(train_set_size, data_set.len))\n",
        "\n",
        "print(\"Tamaño del conjunto de entrenamiento:\", len(train_set))\n",
        "print(\"Tamaño del conjunto de validacion:\", len(valid_set))\n",
        "\n",
        "train_loader = torch.utils.data.DataLoader(train_set, batch_size=32, shuffle=True, drop_last=True)\n",
        "valid_loader = torch.utils.data.DataLoader(valid_set, batch_size=32, shuffle=False, drop_last=True)"
      ]
    },
    {
      "cell_type": "markdown",
      "metadata": {},
      "source": [
        "### 2.3. Preparar los embeddings"
      ]
    },
    {
      "cell_type": "code",
      "execution_count": 166,
      "metadata": {},
      "outputs": [
        {
          "name": "stdout",
          "output_type": "stream",
          "text": [
            "Los embeddings gloveembedding.pkl ya están descargados\n"
          ]
        }
      ],
      "source": [
        "# Descargar los embeddings desde un gogle drive (es la forma más rápida)\n",
        "# NOTA: No hay garantía de que estos links perduren, en caso de que no estén\n",
        "# disponibles descargar de la página oficial como se explica en el siguiente bloque\n",
        "import os\n",
        "import gdown\n",
        "if os.access('gloveembedding.pkl', os.F_OK) is False:\n",
        "    url = 'https://drive.google.com/uc?id=1wlDBOrxPq2-3htQ6ryVo7K1XnzLcfh4r&export=download'\n",
        "    output = 'gloveembedding.pkl'\n",
        "    gdown.download(url, output, quiet=False)\n",
        "else:\n",
        "    print(\"Los embeddings gloveembedding.pkl ya están descargados\")"
      ]
    },
    {
      "cell_type": "code",
      "execution_count": 167,
      "metadata": {},
      "outputs": [],
      "source": [
        "import logging\n",
        "from pathlib import Path\n",
        "from io import StringIO\n",
        "import pickle\n",
        "\n",
        "class WordsEmbeddings(object):\n",
        "    logger = logging.getLogger(__name__)\n",
        "\n",
        "    def __init__(self):\n",
        "        # load the embeddings\n",
        "        words_embedding_pkl = Path(self.PKL_PATH)\n",
        "        if not words_embedding_pkl.is_file():\n",
        "            words_embedding_txt = Path(self.WORD_TO_VEC_MODEL_TXT_PATH)\n",
        "            assert words_embedding_txt.is_file(), 'Words embedding not available'\n",
        "            embeddings = self.convert_model_to_pickle()\n",
        "        else:\n",
        "            embeddings = self.load_model_from_pickle()\n",
        "        self.embeddings = embeddings\n",
        "        # build the vocabulary hashmap\n",
        "        index = np.arange(self.embeddings.shape[0])\n",
        "        # Dicctionarios para traducir de embedding a IDX de la palabra\n",
        "        self.word2idx = dict(zip(self.embeddings['word'], index))\n",
        "        self.idx2word = dict(zip(index, self.embeddings['word']))\n",
        "\n",
        "    def get_words_embeddings(self, words):\n",
        "        words_idxs = self.words2idxs(words)\n",
        "        return self.embeddings[words_idxs]['embedding']\n",
        "\n",
        "    def words2idxs(self, words):\n",
        "        return np.array([self.word2idx.get(word, -1) for word in words])\n",
        "\n",
        "    def idxs2words(self, idxs):\n",
        "        return np.array([self.idx2word.get(idx, '-1') for idx in idxs])\n",
        "\n",
        "    def load_model_from_pickle(self):\n",
        "        self.logger.debug(\n",
        "            'loading words embeddings from pickle {}'.format(\n",
        "                self.PKL_PATH\n",
        "            )\n",
        "        )\n",
        "        max_bytes = 2**28 - 1 # 256MB\n",
        "        bytes_in = bytearray(0)\n",
        "        input_size = os.path.getsize(self.PKL_PATH)\n",
        "        with open(self.PKL_PATH, 'rb') as f_in:\n",
        "            for _ in range(0, input_size, max_bytes):\n",
        "                bytes_in += f_in.read(max_bytes)\n",
        "        embeddings = pickle.loads(bytes_in)\n",
        "        self.logger.debug('words embeddings loaded')\n",
        "        return embeddings\n",
        "\n",
        "    def convert_model_to_pickle(self):\n",
        "        # create a numpy strctured array:\n",
        "        # word     embedding\n",
        "        # U50      np.float32[]\n",
        "        # word_1   a, b, c\n",
        "        # word_2   d, e, f\n",
        "        # ...\n",
        "        # word_n   g, h, i\n",
        "        self.logger.debug(\n",
        "            'converting and loading words embeddings from text file {}'.format(\n",
        "                self.WORD_TO_VEC_MODEL_TXT_PATH\n",
        "            )\n",
        "        )\n",
        "        structure = [('word', np.dtype('U' + str(self.WORD_MAX_SIZE))),\n",
        "                     ('embedding', np.float32, (self.N_FEATURES,))]\n",
        "        structure = np.dtype(structure)\n",
        "        # load numpy array from disk using a generator\n",
        "        with open(self.WORD_TO_VEC_MODEL_TXT_PATH, encoding=\"utf8\") as words_embeddings_txt:\n",
        "            embeddings_gen = (\n",
        "                (line.split()[0], line.split()[1:]) for line in words_embeddings_txt\n",
        "                if len(line.split()[1:]) == self.N_FEATURES\n",
        "            )\n",
        "            embeddings = np.fromiter(embeddings_gen, structure)\n",
        "        # add a null embedding\n",
        "        null_embedding = np.array(\n",
        "            [('null_embedding', np.zeros((self.N_FEATURES,), dtype=np.float32))],\n",
        "            dtype=structure\n",
        "        )\n",
        "        embeddings = np.concatenate([embeddings, null_embedding])\n",
        "        # dump numpy array to disk using pickle\n",
        "        max_bytes = 2**28 - 1 # # 256MB\n",
        "        bytes_out = pickle.dumps(embeddings, protocol=pickle.HIGHEST_PROTOCOL)\n",
        "        with open(self.PKL_PATH, 'wb') as f_out:\n",
        "            for idx in range(0, len(bytes_out), max_bytes):\n",
        "                f_out.write(bytes_out[idx:idx+max_bytes])\n",
        "        self.logger.debug('words embeddings loaded')\n",
        "        return embeddings\n",
        "\n",
        "\n",
        "class GloveEmbeddings(WordsEmbeddings):\n",
        "    WORD_TO_VEC_MODEL_TXT_PATH = 'glove.twitter.27B.50d.txt'\n",
        "    PKL_PATH = 'gloveembedding.pkl'\n",
        "    N_FEATURES = 50\n",
        "    WORD_MAX_SIZE = 60\n",
        "\n",
        "class FasttextEmbeddings(WordsEmbeddings):\n",
        "    WORD_TO_VEC_MODEL_TXT_PATH = 'cc.en.300.vec'\n",
        "    PKL_PATH = 'fasttext.pkl'\n",
        "    N_FEATURES = 300\n",
        "    WORD_MAX_SIZE = 60"
      ]
    },
    {
      "cell_type": "code",
      "execution_count": 168,
      "metadata": {},
      "outputs": [],
      "source": [
        "# Por una cuestion de RAM se utilizará los embeddings de Glove de dimension 50\n",
        "model_embeddings = GloveEmbeddings()"
      ]
    },
    {
      "cell_type": "code",
      "execution_count": 169,
      "metadata": {},
      "outputs": [
        {
          "name": "stdout",
          "output_type": "stream",
          "text": [
            "Número de embeddings nulos: 30\n"
          ]
        }
      ],
      "source": [
        "# Crear la Embedding matrix de las secuencias\n",
        "# en ingles\n",
        "\n",
        "\n",
        "def preparar_embedding_matrix(model_embeddings, word2idx_inputs, MAX_VOCAB_SIZE):\n",
        "    embed_dim = model_embeddings.N_FEATURES\n",
        "    words_not_found = []\n",
        "\n",
        "    # word_index provieen del tokenizer\n",
        "\n",
        "    nb_words = min(MAX_VOCAB_SIZE, len(word2idx_inputs) + 1) # vocab_size\n",
        "    embedding_matrix = np.zeros((nb_words, embed_dim))\n",
        "    for word, i in word2idx_inputs.items():\n",
        "        if i >= nb_words:\n",
        "            continue\n",
        "        embedding_vector = model_embeddings.get_words_embeddings(word)[0]\n",
        "        if (embedding_vector is not None) and len(embedding_vector) > 0:\n",
        "            \n",
        "            embedding_matrix[i] = embedding_vector\n",
        "        else:\n",
        "            # words not found in embedding index will be all-zeros.\n",
        "            words_not_found.append(word)\n",
        "\n",
        "    print('Número de embeddings nulos:', np.sum(np.sum(embedding_matrix, axis=1) == 0))\n",
        "    return embedding_matrix, words_not_found, nb_words\n",
        "\n",
        "embedding_matrix, words_not_found, nb_words = preparar_embedding_matrix(model_embeddings, word2idx_inputs, MAX_VOCAB_SIZE)"
      ]
    },
    {
      "cell_type": "code",
      "execution_count": 170,
      "metadata": {},
      "outputs": [
        {
          "data": {
            "text/plain": [
              "3852"
            ]
          },
          "execution_count": 170,
          "metadata": {},
          "output_type": "execute_result"
        }
      ],
      "source": [
        "nb_words"
      ]
    },
    {
      "cell_type": "code",
      "execution_count": 171,
      "metadata": {},
      "outputs": [
        {
          "data": {
            "text/plain": [
              "(3852, 50)"
            ]
          },
          "execution_count": 171,
          "metadata": {},
          "output_type": "execute_result"
        }
      ],
      "source": [
        "# Dimensión de los embeddings de la secuencia en ingles\n",
        "embedding_matrix.shape"
      ]
    },
    {
      "cell_type": "markdown",
      "metadata": {},
      "source": [
        "### 2.4. Entrenar modelo"
      ]
    },
    {
      "cell_type": "code",
      "execution_count": 172,
      "metadata": {},
      "outputs": [],
      "source": [
        "from tqdm import tqdm\n",
        "\n",
        "class Encoder(nn.Module):\n",
        "    def __init__(self, vocab_size, embedding_matrix):\n",
        "        super().__init__()\n",
        "        # num_embeddings = vocab_size, definido por le Tokenizador\n",
        "        # embedding_dim = 50 --> dimensión de los embeddings utilizados\n",
        "        self.lstm_size = 128\n",
        "        self.num_layers = 1\n",
        "        self.embedding_dim = embedding_matrix.shape[1]\n",
        "        self.embedding = nn.Embedding(num_embeddings=vocab_size, embedding_dim=self.embedding_dim, padding_idx=0)\n",
        "        self.embedding.weight.data.copy_(torch.from_numpy(embedding_matrix))\n",
        "        self.embedding.weight.requires_grad = False  # marcar como layer no entrenable (freeze)\n",
        "        self.lstm = nn.LSTM(input_size=self.embedding_dim, hidden_size=self.lstm_size, batch_first=True,\n",
        "                            num_layers=self.num_layers) # LSTM layer\n",
        "\n",
        "    def forward(self, x):\n",
        "        out = self.embedding(x)\n",
        "        lstm_output, (ht, ct) = self.lstm(out)\n",
        "        return (ht, ct)\n",
        "\n",
        "class Decoder(nn.Module):\n",
        "    def __init__(self, vocab_size, output_dim, embedding_matrix=None):\n",
        "        super().__init__()\n",
        "        # num_embeddings = vocab_size, definido por le Tokenizador\n",
        "        # embedding_dim = 50 --> dimensión de los embeddings utilizados\n",
        "        self.lstm_size = 128\n",
        "        self.num_layers = 1\n",
        "        self.embedding_dim = embedding_matrix.shape[1] if embedding_matrix is not None else 50\n",
        "        self.output_dim = output_dim\n",
        "\n",
        "        self.embedding = nn.Embedding(num_embeddings=vocab_size, embedding_dim=self.embedding_dim, padding_idx=0)\n",
        "\n",
        "        # Para utilizar versión con embedding preentrenados\n",
        "        if embedding_matrix is not None:\n",
        "            self.embedding.weight.data.copy_(torch.from_numpy(embedding_matrix))\n",
        "            self.embedding.weight.requires_grad = False  # \n",
        "\n",
        "        self.lstm = nn.LSTM(input_size=self.embedding_dim, hidden_size=self.lstm_size, batch_first=True,\n",
        "                            num_layers=self.num_layers) # LSTM layer\n",
        "        self.fc1 = nn.Linear(in_features=self.lstm_size, out_features=self.output_dim) # Fully connected layer\n",
        "\n",
        "        self.softmax = nn.Softmax(dim=1) # normalize in dim 1\n",
        "\n",
        "    def forward(self, x, prev_state):\n",
        "        out = self.embedding(x)\n",
        "        lstm_output, (ht, ct) = self.lstm(out, prev_state)\n",
        "        out = self.softmax(self.fc1(lstm_output[:,-1,:])) # take last output (last seq)\n",
        "        return out, (ht, ct)\n",
        "\n",
        "class Seq2Seq(nn.Module):\n",
        "    def __init__(self, encoder, decoder):\n",
        "        super().__init__()\n",
        "        \n",
        "        self.encoder = encoder\n",
        "        self.decoder = decoder\n",
        "        \n",
        "        assert encoder.lstm_size == decoder.lstm_size, \\\n",
        "            \"Hidden dimensions of encoder and decoder must be equal!\"\n",
        "        assert encoder.num_layers == decoder.num_layers, \\\n",
        "            \"Encoder and decoder must have equal number of layers!\"\n",
        "        \n",
        "    def forward(self, encoder_input, decoder_input):\n",
        "        batch_size = decoder_input.shape[0]\n",
        "        decoder_input_len = decoder_input.shape[1]\n",
        "        vocab_size = self.decoder.output_dim\n",
        "        \n",
        "        # tensor para almacenar la salida\n",
        "        # (batch_size, sentence_len, one_hot_size)\n",
        "        outputs = torch.zeros(batch_size, decoder_input_len, vocab_size)\n",
        "        \n",
        "        # ultimo hidden state del encoder, primer estado oculto del decoder\n",
        "        prev_state = self.encoder(encoder_input)\n",
        "      \n",
        "        # En la primera iteracion se toma el primer token de target (<sos>)\n",
        "        input = decoder_input[:, 0:1]\n",
        "\n",
        "        for t in range(decoder_input_len):\n",
        "            # t --> token index\n",
        "\n",
        "            # utilizamos método \"teacher forcing\", es decir que durante\n",
        "            # el entrenamiento no realimentamos la salida del decoder\n",
        "            # sino el token correcto que sigue en target\n",
        "            input = decoder_input[:, t:t+1]\n",
        "\n",
        "            # ingresar cada token embedding, uno por uno junto al hidden state\n",
        "            # recibir el output del decoder (softmax)\n",
        "            output, prev_state = self.decoder(input, prev_state)\n",
        "            top1 = output.argmax(1).view(-1, 1)\n",
        "\n",
        "            # Sino se usará \"teacher forcing\" habría que descomentar\n",
        "            # esta linea.\n",
        "            # Hay ejemplos dandos vuelta en donde se utilza un random \n",
        "            # para ver en cada vuelta que técnica se aplica\n",
        "            #input = top1            \n",
        "\n",
        "            # guardar cada salida (softmax)\n",
        "            outputs[:, t, :] = output\n",
        "\n",
        "        return outputs\n",
        "\n",
        "encoder = Encoder(vocab_size=nb_words, embedding_matrix=embedding_matrix)\n",
        "if cuda: encoder.to(device)\n",
        "# decoder --> vocab_size == output_dim --> porque recibe y devuelve palabras en el mismo vocabulario\n",
        "# asegurar consistencia: output_dim igual a num_words_output usado por dataset/one-hot\n",
        "decoder = Decoder(vocab_size=num_words_output, output_dim=num_words_output)\n",
        "if cuda: decoder.to(device)\n",
        "\n",
        "model = Seq2Seq(encoder, decoder)\n",
        "if cuda: model.to(device)\n",
        "\n",
        "# Crear el optimizador la una función de error\n",
        "optimizer = torch.optim.Adam(model.parameters(), lr=0.1)\n",
        "criterion = torch.nn.CrossEntropyLoss()  # Para clasificación multi categórica\n",
        "\n",
        "\n",
        "### CORREGIR ERROR\n",
        "#summary(model, input_data=(data_set[0:1][0], data_set[0:1][1]))"
      ]
    },
    {
      "cell_type": "code",
      "execution_count": 173,
      "metadata": {},
      "outputs": [],
      "source": [
        "from tqdm import tqdm\n",
        "\n",
        "def sequence_acc(y_pred, y_test):\n",
        "    \"\"\"\n",
        "    Calcula la accuracy promedio por secuencia.\n",
        "    y_pred: logits (batch, seq_len, vocab_size)\n",
        "    y_test: índices (batch, seq_len)\n",
        "    \"\"\"\n",
        "    y_pred_tag = y_pred.argmax(dim=-1)  # (batch, seq_len)\n",
        "    y_test_tag = y_test if y_test.ndim == 2 else y_test.argmax(dim=-1)\n",
        "    acc = (y_pred_tag == y_test_tag).float().mean().item()\n",
        "    return acc\n",
        "\n",
        "\n",
        "def train(model, train_loader, valid_loader, optimizer, criterion, epochs=100):\n",
        "    train_loss, train_accuracy = [], []\n",
        "    valid_loss, valid_accuracy = [], []\n",
        "\n",
        "    for epoch in range(epochs):\n",
        "        model.train()\n",
        "        epoch_train_loss = 0.0\n",
        "        epoch_train_accuracy = 0.0\n",
        "\n",
        "        loop = tqdm(train_loader, desc=f\"Epoch {epoch+1}/{epochs}\", leave=False)\n",
        "        for train_encoder_input, train_decoder_input, train_target in loop:\n",
        "            optimizer.zero_grad()\n",
        "\n",
        "            # Forward\n",
        "            output = model(train_encoder_input.to(device), train_decoder_input.to(device))\n",
        "\n",
        "\n",
        "            # Calcular loss en toda la secuencia (más eficiente)\n",
        "            loss = criterion(\n",
        "                output.reshape(-1, output.shape[-1]),\n",
        "                train_target.to(\"cpu\").reshape(-1)\n",
        "            )\n",
        "\n",
        "            loss.backward()\n",
        "            optimizer.step()\n",
        "\n",
        "            epoch_train_loss += loss.item()\n",
        "            epoch_train_accuracy += sequence_acc(output, train_target)\n",
        "\n",
        "        epoch_train_loss /= len(train_loader)\n",
        "        epoch_train_accuracy /= len(train_loader)\n",
        "        train_loss.append(epoch_train_loss)\n",
        "        train_accuracy.append(epoch_train_accuracy)\n",
        "\n",
        "\n",
        "        # --- VALIDACIÓN COMPLETA ---\n",
        "        model.eval()\n",
        "        epoch_valid_loss = 0.0\n",
        "        epoch_valid_accuracy = 0.0\n",
        "\n",
        "        with torch.no_grad():\n",
        "            for valid_encoder_input, valid_decoder_input, valid_target in valid_loader:\n",
        "                output = model(valid_encoder_input.to(device), valid_decoder_input.to(device))\n",
        "                loss = criterion(\n",
        "                    output.reshape(-1, output.shape[-1]),\n",
        "                    valid_target.to(\"cpu\").reshape(-1)\n",
        "                )\n",
        "\n",
        "                epoch_valid_loss += loss.item()\n",
        "                epoch_valid_accuracy += sequence_acc(output, valid_target)\n",
        "\n",
        "        epoch_valid_loss /= len(valid_loader)\n",
        "        epoch_valid_accuracy /= len(valid_loader)\n",
        "        valid_loss.append(epoch_valid_loss)\n",
        "        valid_accuracy.append(epoch_valid_accuracy)\n",
        "\n",
        "        print(f\"Epoch {epoch+1:02}/{epochs} | \"\n",
        "              f\"Train loss: {epoch_train_loss:.3f} | \"\n",
        "              f\"Train acc: {epoch_train_accuracy:.3f} | \"\n",
        "              f\"Val loss: {epoch_valid_loss:.3f} | \"\n",
        "              f\"Val acc: {epoch_valid_accuracy:.3f}\")\n",
        "\n",
        "    return {\n",
        "        \"loss\": train_loss,\n",
        "        \"accuracy\": train_accuracy,\n",
        "        \"val_loss\": valid_loss,\n",
        "        \"val_accuracy\": valid_accuracy,\n",
        "    }"
      ]
    },
    {
      "cell_type": "code",
      "execution_count": 174,
      "metadata": {},
      "outputs": [
        {
          "name": "stdout",
          "output_type": "stream",
          "text": [
            "Faltan archivos en el checkpoint: ['seq2seq_model.pth', 'optimizer_state.pth', 'config.pth', 'embedding_matrix.npy', 'input_tokenizer.pkl', 'output_tokenizer.pkl', 'word2idx_inputs.pkl', 'word2idx_outputs.pkl', 'history.json']\n"
          ]
        },
        {
          "name": "stderr",
          "output_type": "stream",
          "text": [
            "                                                             \r"
          ]
        },
        {
          "name": "stdout",
          "output_type": "stream",
          "text": [
            "Epoch 01/10 | Train loss: 2.612 | Train acc: 0.657 | Val loss: 2.345 | Val acc: 0.680\n"
          ]
        },
        {
          "name": "stderr",
          "output_type": "stream",
          "text": [
            "                                                             \r"
          ]
        },
        {
          "name": "stdout",
          "output_type": "stream",
          "text": [
            "Epoch 02/10 | Train loss: 2.123 | Train acc: 0.679 | Val loss: 2.364 | Val acc: 0.683\n"
          ]
        },
        {
          "name": "stderr",
          "output_type": "stream",
          "text": [
            "                                                             \r"
          ]
        },
        {
          "name": "stdout",
          "output_type": "stream",
          "text": [
            "Epoch 03/10 | Train loss: 2.008 | Train acc: 0.680 | Val loss: 2.437 | Val acc: 0.682\n"
          ]
        },
        {
          "name": "stderr",
          "output_type": "stream",
          "text": [
            "                                                             \r"
          ]
        },
        {
          "name": "stdout",
          "output_type": "stream",
          "text": [
            "Epoch 04/10 | Train loss: 1.978 | Train acc: 0.681 | Val loss: 2.504 | Val acc: 0.681\n"
          ]
        },
        {
          "name": "stderr",
          "output_type": "stream",
          "text": [
            "                                                             \r"
          ]
        },
        {
          "name": "stdout",
          "output_type": "stream",
          "text": [
            "Epoch 05/10 | Train loss: 1.955 | Train acc: 0.682 | Val loss: 2.562 | Val acc: 0.681\n"
          ]
        },
        {
          "name": "stderr",
          "output_type": "stream",
          "text": [
            "                                                             \r"
          ]
        },
        {
          "name": "stdout",
          "output_type": "stream",
          "text": [
            "Epoch 06/10 | Train loss: 1.950 | Train acc: 0.680 | Val loss: 2.579 | Val acc: 0.681\n"
          ]
        },
        {
          "name": "stderr",
          "output_type": "stream",
          "text": [
            "                                                             \r"
          ]
        },
        {
          "name": "stdout",
          "output_type": "stream",
          "text": [
            "Epoch 07/10 | Train loss: 1.950 | Train acc: 0.678 | Val loss: 2.628 | Val acc: 0.676\n"
          ]
        },
        {
          "name": "stderr",
          "output_type": "stream",
          "text": [
            "                                                             \r"
          ]
        },
        {
          "name": "stdout",
          "output_type": "stream",
          "text": [
            "Epoch 08/10 | Train loss: 1.953 | Train acc: 0.678 | Val loss: 2.658 | Val acc: 0.679\n"
          ]
        },
        {
          "name": "stderr",
          "output_type": "stream",
          "text": [
            "                                                             \r"
          ]
        },
        {
          "name": "stdout",
          "output_type": "stream",
          "text": [
            "Epoch 09/10 | Train loss: 1.954 | Train acc: 0.678 | Val loss: 2.694 | Val acc: 0.678\n"
          ]
        },
        {
          "name": "stderr",
          "output_type": "stream",
          "text": [
            "                                                              \r"
          ]
        },
        {
          "name": "stdout",
          "output_type": "stream",
          "text": [
            "Epoch 10/10 | Train loss: 1.940 | Train acc: 0.678 | Val loss: 2.722 | Val acc: 0.678\n",
            "Checkpoint guardado en: Modelos_entrenados/Baseline\n"
          ]
        }
      ],
      "source": [
        "carpeta = \"Modelos_entrenados/Baseline\"\n",
        "\n",
        "modelo_entrenado = check_checkpoint_exists(carpeta)\n",
        "\n",
        "if not modelo_entrenado:\n",
        "    history1 = train(model,\n",
        "                    train_loader,\n",
        "                    valid_loader,\n",
        "                    optimizer,\n",
        "                    criterion,\n",
        "                    epochs=10\n",
        "                    )\n",
        "    config = {\n",
        "        # Información general\n",
        "        \"max_input_len\": max_input_len,\n",
        "        \"max_out_len\": max_out_len,\n",
        "        \"max_vocab_size\": MAX_VOCAB_SIZE,\n",
        "        \"cuda\": cuda,\n",
        "\n",
        "        # Hiperparámetros de embedding y red\n",
        "        \"embedding_dim\": embedding_matrix.shape[1],\n",
        "        \"hidden_size\": 128,        \n",
        "        \"num_layers\": 1,           \n",
        "        \"lr\": 0.1,\n",
        "        \"batch_size\": 32,\n",
        "        \"epochs\": 10,\n",
        "\n",
        "        # Vocabularios (usar tamaños reales)\n",
        "        \"num_words_input\": int(embedding_matrix.shape[0]),\n",
        "        \"num_words_output\": int(num_words_output),\n",
        "\n",
        "        # Checkpoint info (opcional)\n",
        "        \"embedding_source\": getattr(model_embeddings, \"name\", \"custom\"),\n",
        "    }\n",
        "    save_checkpoint(carpeta, model, optimizer, history1, config,\n",
        "                    input_tokenizer, output_tokenizer,\n",
        "                    word2idx_inputs, word2idx_outputs, embedding_matrix)\n",
        "else:\n",
        "    data = load_checkpoint(carpeta, Encoder, Decoder, Seq2Seq, device=\"cuda\" if cuda else \"cpu\")\n",
        "    model = data[\"model\"]\n",
        "    optimizer = data[\"optimizer\"]\n",
        "    history1 = data[\"history\"]"
      ]
    },
    {
      "cell_type": "code",
      "execution_count": 175,
      "metadata": {},
      "outputs": [
        {
          "data": {
            "image/png": "[encoded data removed]",
            "text/plain": [
              "<Figure size 640x480 with 1 Axes>"
            ]
          },
          "metadata": {},
          "output_type": "display_data"
        }
      ],
      "source": [
        "def graficar_accuracy(history):\n",
        "    epoch_count = range(1, len(history['accuracy']) + 1)\n",
        "    sns.lineplot(x=epoch_count,  y=history['accuracy'], label='train')\n",
        "    sns.lineplot(x=epoch_count,  y=history['val_accuracy'], label='valid')\n",
        "    plt.show()\n",
        "\n",
        "graficar_accuracy(history1)"
      ]
    },
    {
      "cell_type": "markdown",
      "metadata": {},
      "source": [
        "### 2.5. Inferencia"
      ]
    },
    {
      "cell_type": "code",
      "execution_count": 176,
      "metadata": {},
      "outputs": [],
      "source": [
        "# Armar lo conversores de indice a palabra:\n",
        "idx2word_input = {v:k for k, v in word2idx_inputs.items()}\n",
        "idx2word_target = {v:k for k, v in word2idx_outputs.items()}"
      ]
    },
    {
      "cell_type": "code",
      "execution_count": 177,
      "metadata": {},
      "outputs": [
        {
          "name": "stdout",
          "output_type": "stream",
          "text": [
            "Input: My mother say hi.\n",
            "Representacion en vector de tokens de ids [15, 225, 134]\n",
            "Padding del vector: [[  0   0   0   0   0   0   0   0   0   0   0   0   0  15 225 134]]\n",
            "Index/token de salida: 6\n",
            "Palabra de salida: tom\n"
          ]
        }
      ],
      "source": [
        "input_test = \"My mother say hi.\"\n",
        "print('Input:', input_test)\n",
        "integer_seq_test = input_tokenizer.texts_to_sequences([input_test])[0]\n",
        "print(\"Representacion en vector de tokens de ids\", integer_seq_test)\n",
        "encoder_sequence_test = pad_sequences([integer_seq_test], maxlen=max_input_len)\n",
        "print(\"Padding del vector:\", encoder_sequence_test)\n",
        "encoder_sequence_test_tensor = torch.from_numpy(encoder_sequence_test.astype(np.int32))\n",
        "\n",
        "# Se obtiene la salida del encoder (el estado oculto para el decoder)\n",
        "prev_state = model.encoder(encoder_sequence_test_tensor.to(device))\n",
        "\n",
        "# Se inicializa la secuencia de entrada al decoder como \"<sos>\"\n",
        "target_seq = np.zeros((1, 1))\n",
        "target_seq[0, 0] = word2idx_outputs['<sos>']\n",
        "target_seq_tensor = torch.from_numpy(target_seq.astype(np.int32))\n",
        "\n",
        "# Se obtiene la primera palabra de la secuencia de salida del decoder\n",
        "output, prev_state = model.decoder(target_seq_tensor.to(device), prev_state)\n",
        "\n",
        "top1 = output.argmax(1).view(-1, 1)\n",
        "idx = int(top1.cpu())\n",
        "print(\"Index/token de salida:\", idx)\n",
        "\n",
        "word = idx2word_target[idx]\n",
        "print(\"Palabra de salida:\", word)"
      ]
    },
    {
      "cell_type": "code",
      "execution_count": 178,
      "metadata": {},
      "outputs": [],
      "source": [
        "def translate_sentence(input_seq):\n",
        "    # Se transforma la sequencia de entrada a los stados \"h\" y \"c\" de la LSTM\n",
        "    # para enviar la primera vez al decoder\"\n",
        "    prev_state = model.encoder(encoder_sequence_test_tensor.to(device))\n",
        "\n",
        "    # Se inicializa la secuencia de entrada al decoder como \"<sos>\"\n",
        "    target_seq = np.zeros((1, 1))\n",
        "    target_seq[0, 0] = word2idx_outputs['<sos>']\n",
        "    target_seq_tensor = torch.from_numpy(target_seq.astype(np.int32))\n",
        "\n",
        "    # Se obtiene el indice que finaliza la inferencia\n",
        "    eos = word2idx_outputs['<eos>']\n",
        "    \n",
        "    output_sentence = []\n",
        "    for _ in range(max_out_len):\n",
        "        # Predicción del próximo elemento\n",
        "        output, new_prev_state = model.decoder(target_seq_tensor.to(device), prev_state)\n",
        "        top1 = output.argmax(1).view(-1, 1)\n",
        "        idx = int(top1.cpu())\n",
        "\n",
        "        # Si es \"end of sentece <eos>\" se acaba\n",
        "        if eos == idx:\n",
        "            break\n",
        "\n",
        "        # Transformar ídx a palabra\n",
        "        word = ''        \n",
        "        if idx > 0:\n",
        "            word = idx2word_target[idx]\n",
        "            output_sentence.append(word)\n",
        "\n",
        "        # Actualizar los estados dado la ultimo prediccion\n",
        "        prev_state = new_prev_state\n",
        "\n",
        "        # Actualizar secuencia de entrada con la salida (re-alimentacion)\n",
        "        target_seq_tensor = top1\n",
        "\n",
        "    return ' '.join(output_sentence)"
      ]
    },
    {
      "cell_type": "code",
      "execution_count": 179,
      "metadata": {},
      "outputs": [
        {
          "name": "stdout",
          "output_type": "stream",
          "text": [
            "Input: My mother say hi.\n",
            "Representacion en vector de tokens de ids [15, 225, 134]\n",
            "Padding del vector: [[  0   0   0   0   0   0   0   0   0   0   0   0   0  15 225 134]]\n",
            "Response: tom\n"
          ]
        }
      ],
      "source": [
        "input_test = \"My mother say hi.\"\n",
        "print('Input:', input_test)\n",
        "integer_seq_test = input_tokenizer.texts_to_sequences([input_test])[0]\n",
        "print(\"Representacion en vector de tokens de ids\", integer_seq_test)\n",
        "encoder_sequence_test = pad_sequences([integer_seq_test], maxlen=max_input_len)\n",
        "print(\"Padding del vector:\", encoder_sequence_test)\n",
        "encoder_sequence_test_tensor = torch.from_numpy(encoder_sequence_test.astype(np.int32))\n",
        "\n",
        "translation = translate_sentence(encoder_sequence_test)\n",
        "print('Response:', translation)"
      ]
    },
    {
      "cell_type": "code",
      "execution_count": 180,
      "metadata": {},
      "outputs": [
        {
          "name": "stdout",
          "output_type": "stream",
          "text": [
            "-\n",
            "Input: Mary wants to buy a dress.\n",
            "Response: tom no quiero que\n"
          ]
        }
      ],
      "source": [
        "i = np.random.choice(len(input_sentences))\n",
        "input_seq = encoder_input_sequences[i:i+1]\n",
        "encoder_sequence_test_tensor = torch.from_numpy(input_seq.astype(np.int32))\n",
        "translation = translate_sentence(encoder_sequence_test_tensor)\n",
        "print('-')\n",
        "print('Input:', input_sentences[i])\n",
        "print('Response:', translation)"
      ]
    },
    {
      "cell_type": "markdown",
      "metadata": {},
      "source": [
        "## 3. Aumentar tamaño dataset entrenamiento\n",
        "Duplicamos el tamaño del dataset de entrenamiento a 12 líneas"
      ]
    },
    {
      "cell_type": "code",
      "execution_count": 181,
      "metadata": {},
      "outputs": [
        {
          "name": "stdout",
          "output_type": "stream",
          "text": [
            "Palabras en el vocabulario: 5409\n",
            "Sentencia de entrada más larga: 32\n",
            "Palabras en el vocabulario: 8584\n",
            "Sentencia de salida más larga: 36\n"
          ]
        }
      ],
      "source": [
        "MAX_NUM_SENTENCES = 12000\n",
        "input_sentences, output_sentences, output_sentences_inputs = generar_secuencias(lines, MAX_NUM_SENTENCES)\n",
        "\n",
        "\n",
        "salida_tokenizador = tokenizar_texto(input_sentences, output_sentences, output_sentences_inputs, MAX_VOCAB_SIZE)\n",
        "\n",
        "input_tokenizer = salida_tokenizador[\"input_tokenizer\"]\n",
        "output_tokenizer = salida_tokenizador[\"output_tokenizer\"]\n",
        "input_integer_seq = salida_tokenizador[\"input_integer_seq\"]\n",
        "output_integer_seq = salida_tokenizador[\"output_integer_seq\"]\n",
        "output_input_integer_seq = salida_tokenizador[\"output_input_integer_seq\"]\n",
        "num_words_output = salida_tokenizador[\"num_words_output\"]\n",
        "word2idx_inputs = salida_tokenizador[\"word2idx_inputs\"]\n",
        "word2idx_outputs = salida_tokenizador[\"word2idx_outputs\"]\n",
        "\n",
        "\n",
        "encoder_input_sequences = pad_sequences(input_integer_seq, maxlen=max_input_len)\n",
        "decoder_input_sequences = pad_sequences(output_input_integer_seq, maxlen=max_out_len, padding='post')\n",
        "decoder_output_sequences = pad_sequences(output_integer_seq, maxlen=max_out_len, padding='post')\n",
        "data_set = Data(encoder_input_sequences, decoder_input_sequences, decoder_output_sequences)\n",
        "\n",
        "valid_set_size = int(data_set.len * 0.2)\n",
        "train_set_size = data_set.len - valid_set_size\n",
        "\n",
        "train_set = torch.utils.data.Subset(data_set, range(train_set_size))\n",
        "valid_set = torch.utils.data.Subset(data_set, range(train_set_size, data_set.len))\n",
        "\n",
        "train_loader = torch.utils.data.DataLoader(train_set, batch_size=32, shuffle=True, drop_last=True)\n",
        "valid_loader = torch.utils.data.DataLoader(valid_set, batch_size=32, shuffle=False, drop_last=True)\n",
        "\n",
        "# --- CONTROL DE ÍNDICES VÁLIDOS ---\n",
        "num_words_input = len(word2idx_inputs) + 1  # +1 por padding\n",
        "num_words_output = len(word2idx_outputs) + 1\n",
        "\n",
        "encoder_input_sequences[encoder_input_sequences >= num_words_input] = 0\n",
        "decoder_input_sequences[decoder_input_sequences >= num_words_output] = 0\n",
        "decoder_output_sequences[decoder_output_sequences >= num_words_output] = 0\n",
        "\n",
        "\n",
        "\n"
      ]
    },
    {
      "cell_type": "code",
      "execution_count": 182,
      "metadata": {},
      "outputs": [
        {
          "name": "stdout",
          "output_type": "stream",
          "text": [
            "Número de embeddings nulos: 53\n",
            "Faltan archivos en el checkpoint: ['seq2seq_model.pth', 'optimizer_state.pth', 'config.pth', 'embedding_matrix.npy', 'input_tokenizer.pkl', 'output_tokenizer.pkl', 'word2idx_inputs.pkl', 'word2idx_outputs.pkl', 'history.json']\n"
          ]
        },
        {
          "name": "stderr",
          "output_type": "stream",
          "text": [
            "                                                             \r"
          ]
        },
        {
          "name": "stdout",
          "output_type": "stream",
          "text": [
            "Epoch 01/10 | Train loss: 2.527 | Train acc: 0.664 | Val loss: 2.189 | Val acc: 0.687\n"
          ]
        },
        {
          "name": "stderr",
          "output_type": "stream",
          "text": [
            "                                                             \r"
          ]
        },
        {
          "name": "stdout",
          "output_type": "stream",
          "text": [
            "Epoch 02/10 | Train loss: 2.196 | Train acc: 0.675 | Val loss: 2.196 | Val acc: 0.689\n"
          ]
        },
        {
          "name": "stderr",
          "output_type": "stream",
          "text": [
            "                                                             \r"
          ]
        },
        {
          "name": "stdout",
          "output_type": "stream",
          "text": [
            "Epoch 03/10 | Train loss: 2.152 | Train acc: 0.675 | Val loss: 2.257 | Val acc: 0.683\n"
          ]
        },
        {
          "name": "stderr",
          "output_type": "stream",
          "text": [
            "                                                             \r"
          ]
        },
        {
          "name": "stdout",
          "output_type": "stream",
          "text": [
            "Epoch 04/10 | Train loss: 2.146 | Train acc: 0.674 | Val loss: 2.249 | Val acc: 0.688\n"
          ]
        },
        {
          "name": "stderr",
          "output_type": "stream",
          "text": [
            "                                                             \r"
          ]
        },
        {
          "name": "stdout",
          "output_type": "stream",
          "text": [
            "Epoch 05/10 | Train loss: 2.149 | Train acc: 0.673 | Val loss: 2.300 | Val acc: 0.686\n"
          ]
        },
        {
          "name": "stderr",
          "output_type": "stream",
          "text": [
            "                                                             \r"
          ]
        },
        {
          "name": "stdout",
          "output_type": "stream",
          "text": [
            "Epoch 06/10 | Train loss: 2.164 | Train acc: 0.671 | Val loss: 2.329 | Val acc: 0.685\n"
          ]
        },
        {
          "name": "stderr",
          "output_type": "stream",
          "text": [
            "                                                             \r"
          ]
        },
        {
          "name": "stdout",
          "output_type": "stream",
          "text": [
            "Epoch 07/10 | Train loss: 2.176 | Train acc: 0.671 | Val loss: 2.337 | Val acc: 0.684\n"
          ]
        },
        {
          "name": "stderr",
          "output_type": "stream",
          "text": [
            "                                                             \r"
          ]
        },
        {
          "name": "stdout",
          "output_type": "stream",
          "text": [
            "Epoch 08/10 | Train loss: 2.156 | Train acc: 0.671 | Val loss: 2.358 | Val acc: 0.684\n"
          ]
        },
        {
          "name": "stderr",
          "output_type": "stream",
          "text": [
            "                                                             \r"
          ]
        },
        {
          "name": "stdout",
          "output_type": "stream",
          "text": [
            "Epoch 09/10 | Train loss: 2.155 | Train acc: 0.670 | Val loss: 2.393 | Val acc: 0.685\n"
          ]
        },
        {
          "name": "stderr",
          "output_type": "stream",
          "text": [
            "                                                              \r"
          ]
        },
        {
          "name": "stdout",
          "output_type": "stream",
          "text": [
            "Epoch 10/10 | Train loss: 2.180 | Train acc: 0.670 | Val loss: 2.424 | Val acc: 0.684\n",
            "Checkpoint guardado en: Modelos_entrenados/Aumentar_datos\n"
          ]
        }
      ],
      "source": [
        "embedding_matrix, words_not_found, nb_words = preparar_embedding_matrix(\n",
        "    model_embeddings, word2idx_inputs, MAX_VOCAB_SIZE\n",
        ")\n",
        "\n",
        "\n",
        "\n",
        "encoder = Encoder(vocab_size=nb_words, embedding_matrix=embedding_matrix)\n",
        "if cuda: encoder.cuda()\n",
        "# decoder --> vocab_size == output_dim --> porque recibe y devuelve palabras en el mismo vocabulario\n",
        "decoder = Decoder(vocab_size=num_words_output, output_dim=num_words_output)\n",
        "if cuda: decoder.cuda()\n",
        "\n",
        "model = Seq2Seq(encoder, decoder)\n",
        "if cuda: model.cuda()\n",
        "\n",
        "# Crear el optimizador la una función de error\n",
        "optimizer = torch.optim.Adam(model.parameters(), lr=0.1)\n",
        "criterion = torch.nn.CrossEntropyLoss()  # Para clasificación multi categórica\n",
        "\n",
        "# Verificar que si el modelo ya existe para cargarlo. Sino entrenar\n",
        "carpeta = \"Modelos_entrenados/Aumentar_datos\"\n",
        "\n",
        "modelo_entrenado = check_checkpoint_exists(carpeta)\n",
        "\n",
        "if not modelo_entrenado:\n",
        "    history2 = train(model,\n",
        "                    train_loader,\n",
        "                    valid_loader,\n",
        "                    optimizer,\n",
        "                    criterion,\n",
        "                    epochs=10\n",
        "                    )\n",
        "    config = {\n",
        "        # Información general\n",
        "        \"max_input_len\": max_input_len,\n",
        "        \"max_out_len\": max_out_len,\n",
        "        \"max_vocab_size\": MAX_VOCAB_SIZE,\n",
        "        \"cuda\": cuda,\n",
        "\n",
        "        # Hiperparámetros de embedding y red\n",
        "        \"embedding_dim\": embedding_matrix.shape[1],\n",
        "        \"hidden_size\": 128,        \n",
        "        \"num_layers\": 1,            \n",
        "        \"lr\": 0.1,\n",
        "        \"batch_size\": 32,\n",
        "        \"epochs\": 10,\n",
        "\n",
        "        # Vocabularios (usar tamaños reales)\n",
        "        \"num_words_input\": int(embedding_matrix.shape[0]),\n",
        "        \"num_words_output\": int(num_words_output),\n",
        "\n",
        "        # Checkpoint info (opcional)\n",
        "        \"embedding_source\": getattr(model_embeddings, \"name\", \"custom\"),\n",
        "    }\n",
        "    save_checkpoint(carpeta, model, optimizer, history2, config,\n",
        "                    input_tokenizer, output_tokenizer,\n",
        "                    word2idx_inputs, word2idx_outputs, embedding_matrix)\n",
        "else:\n",
        "    data = load_checkpoint(carpeta, Encoder, Decoder, Seq2Seq, device=\"cuda\" if cuda else \"cpu\")\n",
        "    model = data[\"model\"]\n",
        "    optimizer = data[\"optimizer\"]\n",
        "    history2 = data[\"history\"]\n"
      ]
    },
    {
      "cell_type": "code",
      "execution_count": 183,
      "metadata": {},
      "outputs": [
        {
          "data": {
            "image/png": "[encoded data removed]",
            "text/plain": [
              "<Figure size 640x480 with 1 Axes>"
            ]
          },
          "metadata": {},
          "output_type": "display_data"
        }
      ],
      "source": [
        "graficar_accuracy(history2)"
      ]
    },
    {
      "cell_type": "markdown",
      "metadata": {},
      "source": [
        "## 4. Aumentar tamaño de las secuencias\n",
        "Aumentamos el tamaño de input maximo a 25 (la más larga en el dataset es 32) y del output a 30 (la más larga en el dataset es 36)"
      ]
    },
    {
      "cell_type": "code",
      "execution_count": 184,
      "metadata": {},
      "outputs": [
        {
          "name": "stdout",
          "output_type": "stream",
          "text": [
            "Palabras en el vocabulario: 3851\n",
            "Sentencia de entrada más larga: 32\n",
            "Palabras en el vocabulario: 5721\n",
            "Sentencia de salida más larga: 36\n"
          ]
        }
      ],
      "source": [
        "MAX_NUM_SENTENCES = 6000\n",
        "max_input_len = 25\n",
        "max_out_len = 30\n",
        "\n",
        "input_sentences, output_sentences, output_sentences_inputs = generar_secuencias(lines, MAX_NUM_SENTENCES)\n",
        "\n",
        "\n",
        "salida_tokenizador = tokenizar_texto(input_sentences, output_sentences, output_sentences_inputs, MAX_VOCAB_SIZE)\n",
        "\n",
        "input_tokenizer = salida_tokenizador[\"input_tokenizer\"]\n",
        "output_tokenizer = salida_tokenizador[\"output_tokenizer\"]\n",
        "input_integer_seq = salida_tokenizador[\"input_integer_seq\"]\n",
        "output_integer_seq = salida_tokenizador[\"output_integer_seq\"]\n",
        "output_input_integer_seq = salida_tokenizador[\"output_input_integer_seq\"]\n",
        "num_words_output = salida_tokenizador[\"num_words_output\"]\n",
        "word2idx_inputs = salida_tokenizador[\"word2idx_inputs\"]\n",
        "word2idx_outputs = salida_tokenizador[\"word2idx_outputs\"]\n",
        "\n",
        "\n",
        "encoder_input_sequences = pad_sequences(input_integer_seq, maxlen=max_input_len)\n",
        "decoder_input_sequences = pad_sequences(output_input_integer_seq, maxlen=max_out_len, padding='post')\n",
        "decoder_output_sequences = pad_sequences(output_integer_seq, maxlen=max_out_len, padding='post')\n",
        "data_set = Data(encoder_input_sequences, decoder_input_sequences, decoder_output_sequences)\n",
        "\n",
        "valid_set_size = int(data_set.len * 0.2)\n",
        "train_set_size = data_set.len - valid_set_size\n",
        "\n",
        "train_set = torch.utils.data.Subset(data_set, range(train_set_size))\n",
        "valid_set = torch.utils.data.Subset(data_set, range(train_set_size, data_set.len))\n",
        "\n",
        "train_loader = torch.utils.data.DataLoader(train_set, batch_size=32, shuffle=True, drop_last=True)\n",
        "valid_loader = torch.utils.data.DataLoader(valid_set, batch_size=32, shuffle=False, drop_last=True)"
      ]
    },
    {
      "cell_type": "code",
      "execution_count": 185,
      "metadata": {},
      "outputs": [
        {
          "name": "stdout",
          "output_type": "stream",
          "text": [
            "Número de embeddings nulos: 30\n",
            "Faltan archivos en el checkpoint: ['seq2seq_model.pth', 'optimizer_state.pth', 'config.pth', 'embedding_matrix.npy', 'input_tokenizer.pkl', 'output_tokenizer.pkl', 'word2idx_inputs.pkl', 'word2idx_outputs.pkl', 'history.json']\n"
          ]
        },
        {
          "name": "stderr",
          "output_type": "stream",
          "text": [
            "                                                             \r"
          ]
        },
        {
          "name": "stdout",
          "output_type": "stream",
          "text": [
            "Epoch 01/10 | Train loss: 1.861 | Train acc: 0.772 | Val loss: 1.561 | Val acc: 0.799\n"
          ]
        },
        {
          "name": "stderr",
          "output_type": "stream",
          "text": [
            "                                                             \r"
          ]
        },
        {
          "name": "stdout",
          "output_type": "stream",
          "text": [
            "Epoch 02/10 | Train loss: 1.335 | Train acc: 0.801 | Val loss: 1.559 | Val acc: 0.803\n"
          ]
        },
        {
          "name": "stderr",
          "output_type": "stream",
          "text": [
            "                                                             \r"
          ]
        },
        {
          "name": "stdout",
          "output_type": "stream",
          "text": [
            "Epoch 03/10 | Train loss: 1.191 | Train acc: 0.805 | Val loss: 1.585 | Val acc: 0.804\n"
          ]
        },
        {
          "name": "stderr",
          "output_type": "stream",
          "text": [
            "                                                             \r"
          ]
        },
        {
          "name": "stdout",
          "output_type": "stream",
          "text": [
            "Epoch 04/10 | Train loss: 1.113 | Train acc: 0.809 | Val loss: 1.626 | Val acc: 0.801\n"
          ]
        },
        {
          "name": "stderr",
          "output_type": "stream",
          "text": [
            "                                                             \r"
          ]
        },
        {
          "name": "stdout",
          "output_type": "stream",
          "text": [
            "Epoch 05/10 | Train loss: 1.057 | Train acc: 0.813 | Val loss: 1.672 | Val acc: 0.801\n"
          ]
        },
        {
          "name": "stderr",
          "output_type": "stream",
          "text": [
            "                                                             \r"
          ]
        },
        {
          "name": "stdout",
          "output_type": "stream",
          "text": [
            "Epoch 06/10 | Train loss: 1.023 | Train acc: 0.815 | Val loss: 1.703 | Val acc: 0.800\n"
          ]
        },
        {
          "name": "stderr",
          "output_type": "stream",
          "text": [
            "                                                             \r"
          ]
        },
        {
          "name": "stdout",
          "output_type": "stream",
          "text": [
            "Epoch 07/10 | Train loss: 1.007 | Train acc: 0.817 | Val loss: 1.740 | Val acc: 0.800\n"
          ]
        },
        {
          "name": "stderr",
          "output_type": "stream",
          "text": [
            "                                                             \r"
          ]
        },
        {
          "name": "stdout",
          "output_type": "stream",
          "text": [
            "Epoch 08/10 | Train loss: 0.996 | Train acc: 0.819 | Val loss: 1.776 | Val acc: 0.803\n"
          ]
        },
        {
          "name": "stderr",
          "output_type": "stream",
          "text": [
            "                                                             \r"
          ]
        },
        {
          "name": "stdout",
          "output_type": "stream",
          "text": [
            "Epoch 09/10 | Train loss: 0.996 | Train acc: 0.818 | Val loss: 1.784 | Val acc: 0.799\n"
          ]
        },
        {
          "name": "stderr",
          "output_type": "stream",
          "text": [
            "                                                              \r"
          ]
        },
        {
          "name": "stdout",
          "output_type": "stream",
          "text": [
            "Epoch 10/10 | Train loss: 0.981 | Train acc: 0.819 | Val loss: 1.792 | Val acc: 0.801\n",
            "Checkpoint guardado en: Modelos_entrenados/Aumentar_secuencias\n"
          ]
        }
      ],
      "source": [
        "nb_words = min(MAX_VOCAB_SIZE, len(word2idx_inputs) + 1)\n",
        "embedding_matrix, words_not_found, nb_words = preparar_embedding_matrix(model_embeddings, word2idx_inputs, MAX_VOCAB_SIZE)\n",
        "\n",
        "encoder = Encoder(vocab_size=nb_words, embedding_matrix=embedding_matrix)\n",
        "if cuda: encoder.cuda()\n",
        "# decoder --> vocab_size == output_dim --> porque recibe y devuelve palabras en el mismo vocabulario\n",
        "decoder = Decoder(vocab_size=num_words_output, output_dim=num_words_output)\n",
        "if cuda: decoder.cuda()\n",
        "\n",
        "model = Seq2Seq(encoder, decoder)\n",
        "if cuda: model.cuda()\n",
        "\n",
        "# Crear el optimizador la una función de error\n",
        "optimizer = torch.optim.Adam(model.parameters(), lr=0.1)\n",
        "criterion = torch.nn.CrossEntropyLoss()  # Para clasificación multi categórica\n",
        "\n",
        "\n",
        "# Verificar que si el modelo ya existe para cargarlo. Sino entrenar\n",
        "carpeta = \"Modelos_entrenados/Aumentar_secuencias\"\n",
        "\n",
        "modelo_entrenado = check_checkpoint_exists(carpeta)\n",
        "\n",
        "if not modelo_entrenado:\n",
        "    history3 = train(model,\n",
        "                    train_loader,\n",
        "                    valid_loader,\n",
        "                    optimizer,\n",
        "                    criterion,\n",
        "                    epochs=10\n",
        "                    )\n",
        "    config = {\n",
        "        # Información general\n",
        "        \"max_input_len\": max_input_len,\n",
        "        \"max_out_len\": max_out_len,\n",
        "        \"max_vocab_size\": MAX_VOCAB_SIZE,\n",
        "        \"cuda\": cuda,\n",
        "\n",
        "        # Hiperparámetros de embedding y red\n",
        "        \"embedding_dim\": embedding_matrix.shape[1],\n",
        "        \"hidden_size\": 128,        \n",
        "        \"num_layers\": 1,           \n",
        "        \"lr\": 0.1,\n",
        "        \"batch_size\": 32,\n",
        "        \"epochs\": 10,\n",
        "\n",
        "        # Vocabularios (usar tamaños reales)\n",
        "        \"num_words_input\": int(embedding_matrix.shape[0]),\n",
        "        \"num_words_output\": int(num_words_output),\n",
        "\n",
        "        # Checkpoint info (opcional)\n",
        "        \"embedding_source\": getattr(model_embeddings, \"name\", \"custom\"),\n",
        "    }\n",
        "    save_checkpoint(carpeta, model, optimizer, history3, config,\n",
        "                    input_tokenizer, output_tokenizer,\n",
        "                    word2idx_inputs, word2idx_outputs, embedding_matrix)\n",
        "else:\n",
        "    data = load_checkpoint(carpeta, Encoder, Decoder, Seq2Seq, device=\"cuda\" if cuda else \"cpu\")\n",
        "    model = data[\"model\"]\n",
        "    optimizer = data[\"optimizer\"]\n",
        "    history3 = data[\"history\"]\n",
        "\n",
        "\n"
      ]
    },
    {
      "cell_type": "code",
      "execution_count": 186,
      "metadata": {},
      "outputs": [
        {
          "data": {
            "image/png": "[encoded data removed]",
            "text/plain": [
              "<Figure size 640x480 with 1 Axes>"
            ]
          },
          "metadata": {},
          "output_type": "display_data"
        }
      ],
      "source": [
        "graficar_accuracy(history3)"
      ]
    },
    {
      "cell_type": "markdown",
      "metadata": {},
      "source": [
        "Se observa una mejora significativa del accuracy respecto a las variantes anteriores, por lo que se mantiene la modificación para las siguientes variantes a entrenar:"
      ]
    },
    {
      "cell_type": "markdown",
      "metadata": {},
      "source": [
        "## 5. Aumentar cantidad de hidden units de LSTM"
      ]
    },
    {
      "cell_type": "code",
      "execution_count": 187,
      "metadata": {},
      "outputs": [],
      "source": [
        "class Encoder_2(nn.Module):\n",
        "    def __init__(self, vocab_size, embedding_matrix):\n",
        "        super().__init__()\n",
        "        # num_embeddings = vocab_size, definido por le Tokenizador\n",
        "        # embedding_dim = 50 --> dimensión de los embeddings utilizados\n",
        "        self.lstm_size = 256\n",
        "        self.num_layers = 1\n",
        "        self.embedding_dim = embedding_matrix.shape[1]\n",
        "        self.embedding = nn.Embedding(num_embeddings=vocab_size, embedding_dim=self.embedding_dim, padding_idx=0)\n",
        "        self.embedding.weight.data.copy_(torch.from_numpy(embedding_matrix))\n",
        "        self.embedding.weight.requires_grad = False  # marcar como layer no entrenable (freeze)\n",
        "        self.lstm = nn.LSTM(input_size=self.embedding_dim, hidden_size=self.lstm_size, batch_first=True,\n",
        "                            num_layers=self.num_layers) # LSTM layer\n",
        "\n",
        "    def forward(self, x):\n",
        "        out = self.embedding(x)\n",
        "        lstm_output, (ht, ct) = self.lstm(out)\n",
        "        return (ht, ct)\n",
        "\n",
        "class Decoder_2(nn.Module):\n",
        "    def __init__(self, vocab_size, output_dim, embedding_matrix=None):\n",
        "        super().__init__()\n",
        "        # num_embeddings = vocab_size, definido por le Tokenizador\n",
        "        # embedding_dim = 50 --> dimensión de los embeddings utilizados\n",
        "        self.lstm_size = 256\n",
        "        self.num_layers = 1\n",
        "        self.embedding_dim = embedding_matrix.shape[1] if embedding_matrix is not None else 50\n",
        "        self.output_dim = output_dim\n",
        "\n",
        "        self.embedding = nn.Embedding(num_embeddings=vocab_size, embedding_dim=self.embedding_dim, padding_idx=0)\n",
        "\n",
        "        # Para utilizar versión con embedding preentrenados\n",
        "        if embedding_matrix is not None:\n",
        "            self.embedding.weight.data.copy_(torch.from_numpy(embedding_matrix))\n",
        "            self.embedding.weight.requires_grad = False  # \n",
        "\n",
        "        self.lstm = nn.LSTM(input_size=self.embedding_dim, hidden_size=self.lstm_size, batch_first=True,\n",
        "                            num_layers=self.num_layers) # LSTM layer\n",
        "        self.fc1 = nn.Linear(in_features=self.lstm_size, out_features=self.output_dim) # Fully connected layer\n",
        "\n",
        "\n",
        "    def forward(self, x, prev_state):\n",
        "        out = self.embedding(x)\n",
        "        lstm_output, (ht, ct) = self.lstm(out, prev_state)\n",
        "        out = self.fc1(lstm_output[:,-1,:])\n",
        "        return out, (ht, ct)"
      ]
    },
    {
      "cell_type": "code",
      "execution_count": 188,
      "metadata": {},
      "outputs": [
        {
          "name": "stdout",
          "output_type": "stream",
          "text": [
            "Checkpoint completo encontrado en: Modelos_entrenados/Aumentar_hidden_size\n",
            "No se encontró embedding_matrix_decoder.npy — se entrenará embedding en el Decoder.\n",
            "Checkpoint cargado desde: Modelos_entrenados/Aumentar_hidden_size\n"
          ]
        }
      ],
      "source": [
        "encoder = Encoder_2(vocab_size=nb_words, embedding_matrix=embedding_matrix)\n",
        "if cuda: encoder.cuda()\n",
        "# decoder --> vocab_size == output_dim --> porque recibe y devuelve palabras en el mismo vocabulario\n",
        "decoder = Decoder_2(vocab_size=num_words_output, output_dim=num_words_output)\n",
        "if cuda: decoder.cuda()\n",
        "\n",
        "model = Seq2Seq(encoder, decoder)\n",
        "if cuda: model.cuda()\n",
        "\n",
        "# Crear el optimizador la una función de error\n",
        "optimizer = torch.optim.Adam(model.parameters(), lr=0.1)\n",
        "criterion = torch.nn.CrossEntropyLoss()  # Para clasificación multi categórica\n",
        "\n",
        "# Verificar que si el modelo ya existe para cargarlo. Sino entrenar\n",
        "carpeta = \"Modelos_entrenados/Aumentar_hidden_size\"\n",
        "\n",
        "modelo_entrenado = check_checkpoint_exists(carpeta)\n",
        "\n",
        "n_epochs = 10\n",
        "\n",
        "if not modelo_entrenado:\n",
        "    history4 = train(model,\n",
        "                    train_loader,\n",
        "                    valid_loader,\n",
        "                    optimizer,\n",
        "                    criterion,\n",
        "                    epochs=n_epochs\n",
        "                    )\n",
        "    config = {\n",
        "        # Información general\n",
        "        \"max_input_len\": max_input_len,\n",
        "        \"max_out_len\": max_out_len,\n",
        "        \"max_vocab_size\": MAX_VOCAB_SIZE,\n",
        "        \"cuda\": cuda,\n",
        "\n",
        "        # Hiperparámetros de embedding y red\n",
        "        \"embedding_dim\": embedding_matrix.shape[1],\n",
        "        \"hidden_size\": 256,      \n",
        "        \"num_layers\": 1,           \n",
        "        \"lr\": 0.1,\n",
        "        \"batch_size\": 32,\n",
        "        \"epochs\": n_epochs,\n",
        "\n",
        "        # Vocabularios (usar tamaños reales)\n",
        "        \"num_words_input\": int(embedding_matrix.shape[0]),\n",
        "        \"num_words_output\": int(num_words_output),\n",
        "\n",
        "        # Checkpoint info (opcional)\n",
        "        \"embedding_source\": getattr(model_embeddings, \"name\", \"custom\"),\n",
        "    }\n",
        "    save_checkpoint(carpeta, model, optimizer, history4, config,\n",
        "                    input_tokenizer, output_tokenizer,\n",
        "                    word2idx_inputs, word2idx_outputs, embedding_matrix)\n",
        "else:\n",
        "    data = load_checkpoint(carpeta, Encoder_2, Decoder_2, Seq2Seq, device=\"cuda\" if cuda else \"cpu\")\n",
        "    model = data[\"model\"]\n",
        "    optimizer = data[\"optimizer\"]\n",
        "    history4 = data[\"history\"]"
      ]
    },
    {
      "cell_type": "code",
      "execution_count": 189,
      "metadata": {},
      "outputs": [
        {
          "data": {
            "image/png": "[encoded data removed]",
            "text/plain": [
              "<Figure size 640x480 with 1 Axes>"
            ]
          },
          "metadata": {},
          "output_type": "display_data"
        }
      ],
      "source": [
        "graficar_accuracy(history4)"
      ]
    },
    {
      "cell_type": "markdown",
      "metadata": {},
      "source": [
        "## 6. Aumentar cantidad de celdas LSTM"
      ]
    },
    {
      "cell_type": "code",
      "execution_count": 190,
      "metadata": {},
      "outputs": [],
      "source": [
        "class Encoder_3(nn.Module):\n",
        "    def __init__(self, vocab_size, embedding_matrix):\n",
        "        super().__init__()\n",
        "        # num_embeddings = vocab_size, definido por le Tokenizador\n",
        "        # embedding_dim = 50 --> dimensión de los embeddings utilizados\n",
        "        self.lstm_size1 = 128\n",
        "        self.lstm_size2 = 64\n",
        "        self.num_layers = 1\n",
        "        self.embedding_dim = embedding_matrix.shape[1]\n",
        "        self.embedding = nn.Embedding(num_embeddings=vocab_size, embedding_dim=self.embedding_dim, padding_idx=0)\n",
        "        self.embedding.weight.data.copy_(torch.from_numpy(embedding_matrix))\n",
        "        self.embedding.weight.requires_grad = False  # marcar como layer no entrenable (freeze)\n",
        "        # Primer LSTM\n",
        "        self.lstm1 = nn.LSTM(input_size=self.embedding_dim,\n",
        "                             hidden_size=self.lstm_size1,\n",
        "                             batch_first=True,\n",
        "                             num_layers=self.num_layers)\n",
        "\n",
        "        # Segundo LSTM, recibe como input la salida del primero\n",
        "        self.lstm2 = nn.LSTM(input_size=self.lstm_size1,\n",
        "                             hidden_size=self.lstm_size2,\n",
        "                             batch_first=True,\n",
        "                             num_layers=self.num_layers)\n",
        "\n",
        "    def forward(self, x):\n",
        "        out = self.embedding(x)\n",
        "        lstm_out1, (h1, c1) = self.lstm1(out)  # [batch_size, seq_len, lstm_size1]\n",
        "        lstm_out2, (h2, c2) = self.lstm2(lstm_out1)  # [batch_size, seq_len, lstm_size2]\n",
        "\n",
        "        # Retornar hidden y cell del último LSTM\n",
        "        return h2, c2\n",
        "\n",
        "class Decoder_3(nn.Module):\n",
        "    def __init__(self, vocab_size, output_dim, embedding_matrix=None):\n",
        "        super().__init__()\n",
        "        # num_embeddings = vocab_size, definido por le Tokenizador\n",
        "        # embedding_dim = 50 --> dimensión de los embeddings utilizados\n",
        "        self.lstm_size1 = 128\n",
        "        self.lstm_size2 = 64\n",
        "        self.num_layers = 1 \n",
        "        self.embedding_dim = embedding_matrix.shape[1] if embedding_matrix is not None else 50\n",
        "        self.output_dim = output_dim\n",
        "\n",
        "        self.embedding = nn.Embedding(num_embeddings=vocab_size, embedding_dim=self.embedding_dim, padding_idx=0)\n",
        "\n",
        "        # Para utilizar versión con embedding preentrenados\n",
        "        if embedding_matrix is not None:\n",
        "            self.embedding.weight.data.copy_(torch.from_numpy(embedding_matrix))\n",
        "            self.embedding.weight.requires_grad = False  # \n",
        "\n",
        "        # Primer LSTM\n",
        "        self.lstm1 = nn.LSTM(input_size=self.embedding_dim,\n",
        "                             hidden_size=self.lstm_size1,\n",
        "                             batch_first=True,\n",
        "                             num_layers=self.num_layers)\n",
        "\n",
        "        # Segundo LSTM, recibe como input la salida del primero\n",
        "        self.lstm2 = nn.LSTM(input_size=self.lstm_size1,\n",
        "                             hidden_size=self.lstm_size2,\n",
        "                             batch_first=True,\n",
        "                             num_layers=self.num_layers)\n",
        "\n",
        "        self.fc1 = nn.Linear(in_features=self.lstm_size2, out_features=self.output_dim) # Fully connected layer\n",
        "\n",
        "\n",
        "    def forward(self, x, prev_state):\n",
        "        out = self.embedding(x)\n",
        "        # Primera LSTM SIN estado inicial (128)\n",
        "        lstm_out1, _ = self.lstm1(out)\n",
        "        # Segunda LSTM CON el estado del encoder (64)\n",
        "        lstm_out2, (ht2, ct2) = self.lstm2(lstm_out1, prev_state)\n",
        "        out = self.fc1(lstm_out2[:,-1,:])\n",
        "        return out, (ht2, ct2)\n",
        "\n",
        "class Seq2Seq_3(nn.Module):\n",
        "    def __init__(self, encoder, decoder):\n",
        "        super().__init__()\n",
        "        \n",
        "        self.encoder = encoder\n",
        "        self.decoder = decoder\n",
        "        \n",
        "        assert encoder.lstm_size2 == decoder.lstm_size2, \\\n",
        "            \"Hidden dimensions of encoder and decoder must be equal!\"\n",
        "        assert encoder.num_layers == decoder.num_layers, \\\n",
        "            \"Encoder and decoder must have equal number of layers!\"\n",
        "        \n",
        "    def forward(self, encoder_input, decoder_input):\n",
        "        batch_size = decoder_input.shape[0]\n",
        "        decoder_input_len = decoder_input.shape[1]\n",
        "        vocab_size = self.decoder.output_dim\n",
        "        \n",
        "        # tensor para almacenar la salida\n",
        "        # (batch_size, sentence_len, one_hot_size)\n",
        "        outputs = torch.zeros(batch_size, decoder_input_len, vocab_size)\n",
        "        \n",
        "        # ultimo hidden state del encoder, primer estado oculto del decoder\n",
        "        prev_state = self.encoder(encoder_input)\n",
        "      \n",
        "        # En la primera iteracion se toma el primer token de target (<sos>)\n",
        "        input = decoder_input[:, 0:1]\n",
        "\n",
        "        for t in range(decoder_input_len):\n",
        "            # t --> token index\n",
        "\n",
        "            # utilizamos método \"teacher forcing\", es decir que durante\n",
        "            # el entrenamiento no realimentamos la salida del decoder\n",
        "            # sino el token correcto que sigue en target\n",
        "            input = decoder_input[:, t:t+1]\n",
        "\n",
        "            # ingresar cada token embedding, uno por uno junto al hidden state\n",
        "            # recibir el output del decoder (softmax)\n",
        "            output, prev_state = self.decoder(input, prev_state)\n",
        "            top1 = output.argmax(1).view(-1, 1)\n",
        "\n",
        "            # Sino se usará \"teacher forcing\" habría que descomentar\n",
        "            # esta linea.\n",
        "            # Hay ejemplos dandos vuelta en donde se utilza un random \n",
        "            # para ver en cada vuelta que técnica se aplica\n",
        "            #input = top1            \n",
        "\n",
        "            # guardar cada salida (softmax)\n",
        "            outputs[:, t, :] = output\n",
        "\n",
        "        return outputs\n"
      ]
    },
    {
      "cell_type": "code",
      "execution_count": 191,
      "metadata": {},
      "outputs": [
        {
          "name": "stdout",
          "output_type": "stream",
          "text": [
            "Faltan archivos en el checkpoint: ['seq2seq_model.pth', 'optimizer_state.pth', 'config.pth', 'embedding_matrix.npy', 'input_tokenizer.pkl', 'output_tokenizer.pkl', 'word2idx_inputs.pkl', 'word2idx_outputs.pkl', 'history.json']\n"
          ]
        },
        {
          "name": "stderr",
          "output_type": "stream",
          "text": [
            "                                                             \r"
          ]
        },
        {
          "name": "stdout",
          "output_type": "stream",
          "text": [
            "Epoch 01/10 | Train loss: 1.557 | Train acc: 0.793 | Val loss: 1.379 | Val acc: 0.809\n"
          ]
        },
        {
          "name": "stderr",
          "output_type": "stream",
          "text": [
            "                                                             \r"
          ]
        },
        {
          "name": "stdout",
          "output_type": "stream",
          "text": [
            "Epoch 02/10 | Train loss: 1.324 | Train acc: 0.805 | Val loss: 1.402 | Val acc: 0.807\n"
          ]
        },
        {
          "name": "stderr",
          "output_type": "stream",
          "text": [
            "                                                             \r"
          ]
        },
        {
          "name": "stdout",
          "output_type": "stream",
          "text": [
            "Epoch 03/10 | Train loss: 1.275 | Train acc: 0.806 | Val loss: 1.392 | Val acc: 0.810\n"
          ]
        },
        {
          "name": "stderr",
          "output_type": "stream",
          "text": [
            "                                                             \r"
          ]
        },
        {
          "name": "stdout",
          "output_type": "stream",
          "text": [
            "Epoch 04/10 | Train loss: 1.251 | Train acc: 0.806 | Val loss: 1.403 | Val acc: 0.809\n"
          ]
        },
        {
          "name": "stderr",
          "output_type": "stream",
          "text": [
            "                                                             \r"
          ]
        },
        {
          "name": "stdout",
          "output_type": "stream",
          "text": [
            "Epoch 05/10 | Train loss: 1.226 | Train acc: 0.806 | Val loss: 1.418 | Val acc: 0.809\n"
          ]
        },
        {
          "name": "stderr",
          "output_type": "stream",
          "text": [
            "                                                             \r"
          ]
        },
        {
          "name": "stdout",
          "output_type": "stream",
          "text": [
            "Epoch 06/10 | Train loss: 1.211 | Train acc: 0.807 | Val loss: 1.418 | Val acc: 0.810\n"
          ]
        },
        {
          "name": "stderr",
          "output_type": "stream",
          "text": [
            "                                                             \r"
          ]
        },
        {
          "name": "stdout",
          "output_type": "stream",
          "text": [
            "Epoch 07/10 | Train loss: 1.198 | Train acc: 0.807 | Val loss: 1.427 | Val acc: 0.811\n"
          ]
        },
        {
          "name": "stderr",
          "output_type": "stream",
          "text": [
            "                                                             \r"
          ]
        },
        {
          "name": "stdout",
          "output_type": "stream",
          "text": [
            "Epoch 08/10 | Train loss: 1.193 | Train acc: 0.807 | Val loss: 1.441 | Val acc: 0.810\n"
          ]
        },
        {
          "name": "stderr",
          "output_type": "stream",
          "text": [
            "                                                             \r"
          ]
        },
        {
          "name": "stdout",
          "output_type": "stream",
          "text": [
            "Epoch 09/10 | Train loss: 1.204 | Train acc: 0.807 | Val loss: 1.455 | Val acc: 0.811\n"
          ]
        },
        {
          "name": "stderr",
          "output_type": "stream",
          "text": [
            "                                                              \r"
          ]
        },
        {
          "name": "stdout",
          "output_type": "stream",
          "text": [
            "Epoch 10/10 | Train loss: 1.196 | Train acc: 0.807 | Val loss: 1.468 | Val acc: 0.807\n",
            "Checkpoint guardado en: Modelos_entrenados/Aumentar_capas_LSTM\n"
          ]
        }
      ],
      "source": [
        "encoder = Encoder_3(vocab_size=nb_words, embedding_matrix=embedding_matrix)\n",
        "if cuda: encoder.cuda()\n",
        "# decoder --> vocab_size == output_dim --> porque recibe y devuelve palabras en el mismo vocabulario\n",
        "decoder = Decoder_3(vocab_size=num_words_output, output_dim=num_words_output)\n",
        "if cuda: decoder.cuda()\n",
        "\n",
        "model = Seq2Seq_3(encoder, decoder)\n",
        "if cuda: model.cuda()\n",
        "\n",
        "# Crear el optimizador la una función de error\n",
        "optimizer = torch.optim.Adam(model.parameters(), lr=0.1)\n",
        "criterion = torch.nn.CrossEntropyLoss()  # Para clasificación multi categórica\n",
        "\n",
        "# Verificar que si el modelo ya existe para cargarlo. Sino entrenar\n",
        "carpeta = \"Modelos_entrenados/Aumentar_capas_LSTM\"\n",
        "\n",
        "modelo_entrenado = check_checkpoint_exists(carpeta)\n",
        "\n",
        "n_epochs = 10\n",
        "\n",
        "if not modelo_entrenado:\n",
        "    history5 = train(model,\n",
        "                    train_loader,\n",
        "                    valid_loader,\n",
        "                    optimizer,\n",
        "                    criterion,\n",
        "                    epochs=n_epochs\n",
        "                    )\n",
        "    config = {\n",
        "        # Información general\n",
        "        \"max_input_len\": max_input_len,\n",
        "        \"max_out_len\": max_out_len,\n",
        "        \"max_vocab_size\": MAX_VOCAB_SIZE,\n",
        "        \"cuda\": cuda,\n",
        "\n",
        "        # Hiperparámetros de embedding y red\n",
        "        \"embedding_dim\": embedding_matrix.shape[1],\n",
        "        \"hidden_size\": 128,        \n",
        "        \"hidden_size_lstm2\": 64,\n",
        "        \"num_layers\": 1,          \n",
        "        \"lr\": 0.1,\n",
        "        \"batch_size\": 32,\n",
        "        \"epochs\": n_epochs,\n",
        "\n",
        "        # Vocabularios (usar tamaños reales)\n",
        "        \"num_words_input\": int(embedding_matrix.shape[0]),\n",
        "        \"num_words_output\": int(num_words_output),\n",
        "\n",
        "        # Checkpoint info (opcional)\n",
        "        \"embedding_source\": getattr(model_embeddings, \"name\", \"custom\"),\n",
        "    }\n",
        "    save_checkpoint(carpeta, model, optimizer, history5, config,\n",
        "                    input_tokenizer, output_tokenizer,\n",
        "                    word2idx_inputs, word2idx_outputs, embedding_matrix)\n",
        "else:\n",
        "    data = load_checkpoint(carpeta, Encoder_3, Decoder_3, Seq2Seq_3, device=\"cuda\" if cuda else \"cpu\")\n",
        "    model = data[\"model\"]\n",
        "    optimizer = data[\"optimizer\"]\n",
        "    history5 = data[\"history\"]"
      ]
    },
    {
      "cell_type": "code",
      "execution_count": 192,
      "metadata": {},
      "outputs": [
        {
          "data": {
            "image/png": "[encoded data removed]",
            "text/plain": [
              "<Figure size 640x480 with 1 Axes>"
            ]
          },
          "metadata": {},
          "output_type": "display_data"
        }
      ],
      "source": [
        "graficar_accuracy(history5)"
      ]
    },
    {
      "cell_type": "markdown",
      "metadata": {},
      "source": [
        "## 7. LSTM bidireccional Encoder\n",
        "Ahora se modifica la LSTM por una bidireccional. Esto se hace solamente en el Encoder, ya que el Decoder no puede utilizar información futura"
      ]
    },
    {
      "cell_type": "code",
      "execution_count": 193,
      "metadata": {},
      "outputs": [],
      "source": [
        "class Encoder_bidireccional(nn.Module):\n",
        "    def __init__(self, vocab_size, embedding_matrix, dropout_rate=0.2):\n",
        "        super().__init__()\n",
        "        # num_embeddings = vocab_size, definido por le Tokenizador\n",
        "        # embedding_dim = 50 --> dimensión de los embeddings utilizados\n",
        "        self.lstm_size = 128\n",
        "        self.num_layers = 1\n",
        "        self.embedding_dim = embedding_matrix.shape[1]\n",
        "        self.dropout_rate = dropout_rate\n",
        "        \n",
        "        self.embedding = nn.Embedding(num_embeddings=vocab_size, embedding_dim=self.embedding_dim, padding_idx=0)\n",
        "        self.embedding.weight.data.copy_(torch.from_numpy(embedding_matrix))\n",
        "        self.embedding.weight.requires_grad = False  # marcar como layer no entrenable (freeze)\n",
        "        \n",
        "        # Dropout después del embedding\n",
        "        self.dropout_embedding = nn.Dropout(self.dropout_rate)\n",
        "        \n",
        "        self.lstm = nn.LSTM(\n",
        "            input_size=self.embedding_dim,\n",
        "            hidden_size=self.lstm_size,\n",
        "            batch_first=True,\n",
        "            num_layers=self.num_layers,\n",
        "            bidirectional=True,\n",
        "            dropout=self.dropout_rate if self.num_layers > 1 else 0  # Solo si hay múltiples capas\n",
        "        )\n",
        "\n",
        "    def forward(self, x):\n",
        "        out = self.embedding(x)\n",
        "        out = self.dropout_embedding(out)  # Dropout después del embedding\n",
        "        lstm_output, (ht, ct) = self.lstm(out)\n",
        "        \n",
        "        # CAMBIO CLAVE: Usar solo el estado forward para evitar problemas de dimensiones\n",
        "        # Esto mantiene la ventaja bidireccional del encoder pero evita incompatibilidades\n",
        "        ht_forward = ht[0].unsqueeze(0)  # Solo forward, shape (1, batch, 128)\n",
        "        ct_forward = ct[0].unsqueeze(0)  # Solo forward, shape (1, batch, 128)\n",
        "        \n",
        "        return (ht_forward, ct_forward)\n",
        "\n",
        "class Decoder_bidreccional(nn.Module):\n",
        "    def __init__(self, vocab_size, output_dim, embedding_matrix=None, dropout_rate=0.2):\n",
        "        super().__init__()\n",
        "        # num_embeddings = vocab_size, definido por le Tokenizador\n",
        "        # embedding_dim = 50 --> dimensión de los embeddings utilizados\n",
        "        self.lstm_size = 128  # Mismo tamaño que el encoder (no bidireccional)\n",
        "        self.num_layers = 1\n",
        "        self.embedding_dim = embedding_matrix.shape[1] if embedding_matrix is not None else 50\n",
        "        self.output_dim = output_dim\n",
        "        self.dropout_rate = dropout_rate\n",
        "\n",
        "        self.embedding = nn.Embedding(num_embeddings=vocab_size, embedding_dim=self.embedding_dim, padding_idx=0)\n",
        "\n",
        "        # Para utilizar versión con embedding preentrenados\n",
        "        if embedding_matrix is not None:\n",
        "            self.embedding.weight.data.copy_(torch.from_numpy(embedding_matrix))\n",
        "            self.embedding.weight.requires_grad = False  # \n",
        "\n",
        "        # Dropout después del embedding\n",
        "        self.dropout_embedding = nn.Dropout(self.dropout_rate)\n",
        "\n",
        "        self.lstm = nn.LSTM(\n",
        "            input_size=self.embedding_dim,\n",
        "            hidden_size=self.lstm_size,  # 128 - compatible con encoder\n",
        "            batch_first=True,\n",
        "            num_layers=self.num_layers,\n",
        "            dropout=self.dropout_rate if self.num_layers > 1 else 0  # Solo si hay múltiples capas\n",
        "        )\n",
        "        \n",
        "        # Dropout antes de la capa final\n",
        "        self.dropout_output = nn.Dropout(self.dropout_rate)\n",
        "        self.fc1 = nn.Linear(self.lstm_size, self.output_dim)\n",
        "        # SIN SOFTMAX - usar solo logits para evitar problemas de gradientes\n",
        "\n",
        "    def forward(self, x, prev_state):\n",
        "        out = self.embedding(x)\n",
        "        out = self.dropout_embedding(out)  # Dropout después del embedding\n",
        "        lstm_output, (ht, ct) = self.lstm(out, prev_state)\n",
        "        out = self.dropout_output(lstm_output[:,-1,:])  # Dropout antes de la capa final\n",
        "        out = self.fc1(out)  # Solo logits, sin softmax\n",
        "        return out, (ht, ct)\n"
      ]
    },
    {
      "cell_type": "code",
      "execution_count": 194,
      "metadata": {},
      "outputs": [
        {
          "name": "stdout",
          "output_type": "stream",
          "text": [
            "✓ Modelo bidireccional creado con dropout_rate = 0.2\n",
            "✓ Learning rate = 0.01\n",
            "✓ Dispositivo: CPU\n",
            "Checkpoint completo encontrado en: Modelos_entrenados/LSTM_bidireccional\n",
            "\n",
            "Cargando modelo existente desde Modelos_entrenados/LSTM_bidireccional\n",
            "No se encontró embedding_matrix_decoder.npy — se entrenará embedding en el Decoder.\n",
            "Checkpoint cargado desde: Modelos_entrenados/LSTM_bidireccional\n",
            "Modelo cargado exitosamente\n"
          ]
        }
      ],
      "source": [
        "# Crear el modelo bidireccional con dropout\n",
        "dropout_rate = 0.2  # 20% de dropout por defecto\n",
        "\n",
        "encoder_bidireccional = Encoder_bidireccional(vocab_size=nb_words, \n",
        "                                            embedding_matrix=embedding_matrix, \n",
        "                                            dropout_rate=dropout_rate)\n",
        "if cuda: encoder_bidireccional.to(device)\n",
        "\n",
        "# decoder --> vocab_size == output_dim --> porque recibe y devuelve palabras en el mismo vocabulario\n",
        "decoder_bidreccional = Decoder_bidreccional(vocab_size=num_words_output, \n",
        "                                          output_dim=num_words_output,\n",
        "                                          dropout_rate=dropout_rate)\n",
        "if cuda: decoder_bidreccional.to(device)\n",
        "\n",
        "model = Seq2Seq(encoder_bidireccional, decoder_bidreccional)\n",
        "if cuda: model.to(device)\n",
        "\n",
        "# Crear el optimizador la una función de error\n",
        "optimizer = torch.optim.Adam(model.parameters(), lr=0.01)  # Learning rate más conservador\n",
        "criterion = torch.nn.CrossEntropyLoss()  # Para clasificación multi categórica\n",
        "\n",
        "print(f\"✓ Modelo bidireccional creado con dropout_rate = {dropout_rate}\")\n",
        "print(f\"✓ Learning rate = 0.01\")\n",
        "print(f\"✓ Dispositivo: {'CUDA' if cuda else 'CPU'}\")\n",
        "\n",
        "# Verificar que si el modelo ya existe para cargarlo. Sino entrenar\n",
        "carpeta = \"Modelos_entrenados/LSTM_bidireccional\"\n",
        "\n",
        "modelo_entrenado = check_checkpoint_exists(carpeta)\n",
        "\n",
        "n_epochs = 20\n",
        "\n",
        "if not modelo_entrenado:\n",
        "    print(f\"\\nIniciando entrenamiento por {n_epochs} épocas...\")\n",
        "    history6 = train(model,\n",
        "                    train_loader,\n",
        "                    valid_loader,\n",
        "                    optimizer,\n",
        "                    criterion,\n",
        "                    epochs=n_epochs\n",
        "                    )\n",
        "    config = {\n",
        "        # Información general\n",
        "        \"max_input_len\": max_input_len,\n",
        "        \"max_out_len\": max_out_len,\n",
        "        \"max_vocab_size\": MAX_VOCAB_SIZE,\n",
        "        \"cuda\": cuda,\n",
        "\n",
        "        # Hiperparámetros de embedding y red\n",
        "        \"embedding_dim\": embedding_matrix.shape[1],\n",
        "        \"hidden_size\": 128,      \n",
        "        \"num_layers\": 1,           \n",
        "        \"lr\": 0.01,  # Learning rate más conservador\n",
        "        \"dropout_rate\": dropout_rate,  # Nuevo parámetro\n",
        "        \"batch_size\": 32,\n",
        "        \"epochs\": n_epochs,\n",
        "\n",
        "        # Vocabularios (usar tamaños reales)\n",
        "        \"num_words_input\": int(embedding_matrix.shape[0]),\n",
        "        \"num_words_output\": int(num_words_output),\n",
        "\n",
        "        # Checkpoint info (opcional)\n",
        "        \"embedding_source\": getattr(model_embeddings, \"name\", \"custom\"),\n",
        "    }\n",
        "    save_checkpoint(carpeta, model, optimizer, history6, config,\n",
        "                    input_tokenizer, output_tokenizer,\n",
        "                    word2idx_inputs, word2idx_outputs, embedding_matrix)\n",
        "    print(\"Modelo entrenado y guardado exitosamente\")\n",
        "else:\n",
        "    print(f\"\\nCargando modelo existente desde {carpeta}\")\n",
        "    data = load_checkpoint(carpeta, Encoder_bidireccional, Decoder_bidreccional, Seq2Seq, device=\"cuda\" if cuda else \"cpu\")\n",
        "    model = data[\"model\"]\n",
        "    optimizer = data[\"optimizer\"]\n",
        "    history6 = data[\"history\"]\n",
        "    print(\"Modelo cargado exitosamente\")\n"
      ]
    },
    {
      "cell_type": "code",
      "execution_count": 195,
      "metadata": {},
      "outputs": [
        {
          "data": {
            "image/png": "[encoded data removed]",
            "text/plain": [
              "<Figure size 640x480 with 1 Axes>"
            ]
          },
          "metadata": {},
          "output_type": "display_data"
        }
      ],
      "source": [
        "graficar_accuracy(history6)\n"
      ]
    }
  ],
  "metadata": {
    "accelerator": "GPU",
    "colab": {
      "gpuType": "T4",
      "provenance": []
    },
    "kernelspec": {
      "display_name": "CEIA-ProcLenNaturalI",
      "language": "python",
      "name": "proc-len-naturali"
    },
    "language_info": {
      "codemirror_mode": {
        "name": "ipython",
        "version": 3
      },
      "file_extension": ".py",
      "mimetype": "text/x-python",
      "name": "python",
      "nbconvert_exporter": "python",
      "pygments_lexer": "ipython3",
      "version": "3.12.3"
    }
  },
  "nbformat": 4,
  "nbformat_minor": 0
}
