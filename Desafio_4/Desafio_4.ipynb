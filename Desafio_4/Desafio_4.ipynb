{
  "cells": [
    {
      "cell_type": "markdown",
      "metadata": {
        "id": "g3yeJGnCYxuF"
      },
      "source": [
        "<img src=\"https://github.com/hernancontigiani/ceia_memorias_especializacion/raw/master/Figures/logoFIUBA.jpg\" width=\"500\" align=\"center\">\n",
        "\n",
        "\n",
        "# Procesamiento de lenguaje natural\n",
        "## Modelo sequence to sequence - Traductor"
      ]
    },
    {
      "cell_type": "markdown",
      "metadata": {
        "id": "Iv5PEwGzZA9-"
      },
      "source": [
        "### Consigna\n",
        "\n",
        "Replicar y extender el traductor:\n",
        "- Replicar el modelo en PyTorch.\n",
        "- Extender el entrenamiento a más datos y tamaños de secuencias mayores.\n",
        "- Explorar el impacto de la cantidad de neuronas en las capas recurrentes.\n",
        "- Mostrar 5 ejemplos de traducciones generadas.\n",
        "\n",
        "Extras que se pueden probar: \n",
        "- Embeddingspre-entrenados para los dos idiomas\n",
        "- Cambiar la estrategia de generación (por ejemplo muestreo aleatorio)"
      ]
    },
    {
      "cell_type": "markdown",
      "metadata": {},
      "source": [
        "## 1. Datos"
      ]
    },
    {
      "cell_type": "code",
      "execution_count": 93,
      "metadata": {},
      "outputs": [
        {
          "data": {
            "text/plain": [
              "device(type='cuda')"
            ]
          },
          "execution_count": 93,
          "metadata": {},
          "output_type": "execute_result"
        }
      ],
      "source": [
        "import re\n",
        "\n",
        "import numpy as np\n",
        "import pandas as pd\n",
        "import matplotlib.pyplot as plt\n",
        "import seaborn as sns\n",
        "\n",
        "import torch\n",
        "import torch.nn.functional as F\n",
        "import torch.nn as nn\n",
        "from torch.utils.data import Dataset, DataLoader\n",
        "\n",
        "cuda = torch.cuda.is_available()\n",
        "device = torch.device('cuda' if torch.cuda.is_available() else 'cpu')\n",
        "device"
      ]
    },
    {
      "cell_type": "code",
      "execution_count": 94,
      "metadata": {},
      "outputs": [],
      "source": [
        "# torchsummar actualmente tiene un problema con las LSTM, por eso\n",
        "# se utiliza torchinfo, un fork del proyecto original con el bug solucionado\n",
        "from torchinfo import summary\n",
        "\n",
        "import os\n",
        "import platform\n",
        "\n",
        "if os.access('torch_helpers.py', os.F_OK) is False:\n",
        "    if platform.system() == 'Windows':\n",
        "        !curl !wget https://raw.githubusercontent.com/FIUBA-Posgrado-Inteligencia-Artificial/procesamiento_lenguaje_natural/main/scripts/torch_helpers.py > torch_helpers.py\n",
        "    else:\n",
        "        !wget torch_helpers.py https://raw.githubusercontent.com/FIUBA-Posgrado-Inteligencia-Artificial/procesamiento_lenguaje_natural/main/scripts/torch_helpers.py"
      ]
    },
    {
      "cell_type": "code",
      "execution_count": 95,
      "metadata": {},
      "outputs": [
        {
          "name": "stderr",
          "output_type": "stream",
          "text": [
            "Downloading...\n",
            "From: http://storage.googleapis.com/download.tensorflow.org/data/spa-eng.zip\n",
            "To: /home/agustin/Desktop/CEIA UBA/Procesamiento Lenguaje Natural I/CEIA-ProcesamientoLenguajeNaturalI/Desafio_4/Dataset/spa-eng.zip\n",
            "100%|██████████| 2.64M/2.64M [00:01<00:00, 2.05MB/s]\n"
          ]
        }
      ],
      "source": [
        "# Descargar la carpeta de dataset\n",
        "import gdown\n",
        "import zipfile\n",
        "if os.access('spa-eng', os.F_OK) is False:\n",
        "    if os.access('simpsons_dataset.zip', os.F_OK) is False:\n",
        "        url = 'http://storage.googleapis.com/download.tensorflow.org/data/spa-eng.zip'\n",
        "        output = os.path.join(\"./Dataset\", \"spa-eng.zip\")\n",
        "        gdown.download(url, output, quiet=False)\n",
        "    with zipfile.ZipFile(output, 'r') as zip_ref:\n",
        "        zip_ref.extractall(\"./Dataset\")\n",
        "else:\n",
        "    print(\"El dataset ya se encuentra descargado\")\n",
        "\n",
        "# dataset_file\n",
        "\n",
        "text_file = os.path.join(\"./Dataset\", \"spa-eng/spa.txt\")\n",
        "with open(text_file) as f:\n",
        "    lines = f.read().split(\"\\n\")[:-1]\n"
      ]
    },
    {
      "cell_type": "markdown",
      "metadata": {},
      "source": [
        "### Funciones de guardado del modelo"
      ]
    },
    {
      "cell_type": "code",
      "execution_count": 96,
      "metadata": {},
      "outputs": [],
      "source": [
        "import json\n",
        "\n",
        "def save_checkpoint(folder, model, optimizer, history, config,\n",
        "                    input_tokenizer, output_tokenizer,\n",
        "                    word2idx_inputs, word2idx_outputs, embedding_matrix, embedding_matrix_decoder=None):\n",
        "    \"\"\"\n",
        "    Guarda todos los elementos necesarios para reconstruir el entrenamiento.\n",
        "    \"\"\"\n",
        "    os.makedirs(folder, exist_ok=True)\n",
        "\n",
        "    torch.save(model.state_dict(), os.path.join(folder, \"seq2seq_model.pth\"))\n",
        "    torch.save(optimizer.state_dict(), os.path.join(folder, \"optimizer_state.pth\"))\n",
        "    torch.save(config, os.path.join(folder, \"config.pth\"))\n",
        "\n",
        "    np.save(os.path.join(folder, \"embedding_matrix.npy\"), embedding_matrix)\n",
        "    if embedding_matrix_decoder is not None:\n",
        "        np.save(os.path.join(folder, \"embedding_matrix_decoder.npy\"), embedding_matrix_decoder)\n",
        "\n",
        "    with open(os.path.join(folder, \"input_tokenizer.pkl\"), \"wb\") as f:\n",
        "        pickle.dump(input_tokenizer, f)\n",
        "    with open(os.path.join(folder, \"output_tokenizer.pkl\"), \"wb\") as f:\n",
        "        pickle.dump(output_tokenizer, f)\n",
        "    with open(os.path.join(folder, \"word2idx_inputs.pkl\"), \"wb\") as f:\n",
        "        pickle.dump(word2idx_inputs, f)\n",
        "    with open(os.path.join(folder, \"word2idx_outputs.pkl\"), \"wb\") as f:\n",
        "        pickle.dump(word2idx_outputs, f)\n",
        "\n",
        "    with open(os.path.join(folder, \"history.json\"), \"w\") as f:\n",
        "        json.dump(history, f)\n",
        "\n",
        "    print(f\"Checkpoint guardado en: {folder}\")\n",
        "\n",
        "\n",
        "def load_checkpoint(folder, Encoder, Decoder, Seq2Seq, device=\"cpu\"):\n",
        "    \"\"\"\n",
        "    Carga todo desde una carpeta y reconstruye el modelo listo para usar.\n",
        "    Retorna: model, optimizer, history, config, tokenizers, vocabularios, embedding_matrix\n",
        "    \"\"\"\n",
        "    # 1. Configuración\n",
        "    config = torch.load(os.path.join(folder, \"config.pth\"), map_location=device)\n",
        "\n",
        "    # 2. Tokenizers y vocabularios\n",
        "    with open(os.path.join(folder, \"input_tokenizer.pkl\"), \"rb\") as f:\n",
        "        input_tokenizer = pickle.load(f)\n",
        "    with open(os.path.join(folder, \"output_tokenizer.pkl\"), \"rb\") as f:\n",
        "        output_tokenizer = pickle.load(f)\n",
        "    with open(os.path.join(folder, \"word2idx_inputs.pkl\"), \"rb\") as f:\n",
        "        word2idx_inputs = pickle.load(f)\n",
        "    with open(os.path.join(folder, \"word2idx_outputs.pkl\"), \"rb\") as f:\n",
        "        word2idx_outputs = pickle.load(f)\n",
        "\n",
        "    # 3. Embedding matrices (encoder obligatoria, decoder opcional)\n",
        "    embedding_matrix_encoder = np.load(os.path.join(folder, \"embedding_matrix.npy\"))\n",
        "\n",
        "    path_decoder = os.path.join(folder, \"embedding_matrix_decoder.npy\")\n",
        "    embedding_matrix_decoder = np.load(path_decoder) if os.path.exists(path_decoder) else None\n",
        "\n",
        "    vocab_size_encoder = int(embedding_matrix_encoder.shape[0])\n",
        "    # 4. Modelo\n",
        "    encoder = Encoder(\n",
        "        vocab_size=vocab_size_encoder,\n",
        "        embedding_matrix=embedding_matrix_encoder\n",
        "    )\n",
        "\n",
        "    if embedding_matrix_decoder is not None:\n",
        "        decoder = Decoder(\n",
        "            vocab_size=config[\"num_words_output\"],\n",
        "            output_dim=config[\"num_words_output\"],\n",
        "            embedding_matrix=embedding_matrix_decoder\n",
        "        )\n",
        "    else:\n",
        "        print(\"No se encontró embedding_matrix_decoder.npy — se entrenará embedding en el Decoder.\")\n",
        "        decoder = Decoder(\n",
        "            vocab_size=config[\"num_words_output\"],\n",
        "            output_dim=config[\"num_words_output\"]\n",
        "        )\n",
        "\n",
        "    model = Seq2Seq(encoder, decoder)\n",
        "    model.load_state_dict(torch.load(os.path.join(folder, \"seq2seq_model.pth\"), map_location=device))\n",
        "    model.to(device)\n",
        "    model.eval()\n",
        "\n",
        "    # 5. Optimizador\n",
        "    optimizer = torch.optim.Adam(model.parameters(), lr=config[\"lr\"])\n",
        "    optimizer.load_state_dict(torch.load(os.path.join(folder, \"optimizer_state.pth\"), map_location=device))\n",
        "\n",
        "    # 6. Historia\n",
        "    with open(os.path.join(folder, \"history.json\"), \"r\") as f:\n",
        "        history = json.load(f)\n",
        "\n",
        "    print(f\"Checkpoint cargado desde: {folder}\")\n",
        "\n",
        "    return {\n",
        "        \"model\": model,\n",
        "        \"optimizer\": optimizer,\n",
        "        \"history\": history,\n",
        "        \"config\": config,\n",
        "        \"input_tokenizer\": input_tokenizer,\n",
        "        \"output_tokenizer\": output_tokenizer,\n",
        "        \"word2idx_inputs\": word2idx_inputs,\n",
        "        \"word2idx_outputs\": word2idx_outputs,\n",
        "        \"embedding_matrix\": embedding_matrix\n",
        "    }\n",
        "\n",
        "\n",
        "def check_checkpoint_exists(folder):\n",
        "    \"\"\"\n",
        "    Verifica si existen todos los archivos necesarios en la carpeta.\n",
        "    Retorna True si el checkpoint está completo.\n",
        "    \"\"\"\n",
        "    required_files = [\n",
        "        \"seq2seq_model.pth\",\n",
        "        \"optimizer_state.pth\",\n",
        "        \"config.pth\",\n",
        "        \"embedding_matrix.npy\",\n",
        "        \"input_tokenizer.pkl\",\n",
        "        \"output_tokenizer.pkl\",\n",
        "        \"word2idx_inputs.pkl\",\n",
        "        \"word2idx_outputs.pkl\",\n",
        "        \"history.json\"\n",
        "    ]\n",
        "\n",
        "    missing = [f for f in required_files if not os.path.exists(os.path.join(folder, f))]\n",
        "    if missing:\n",
        "        print(f\"Faltan archivos en el checkpoint: {missing}\")\n",
        "        return False\n",
        "    print(f\"Checkpoint completo encontrado en: {folder}\")\n",
        "    return True"
      ]
    },
    {
      "cell_type": "markdown",
      "metadata": {},
      "source": [
        "## 2. Entrenamiento Baseline\n",
        "Se tomará el modelo entrenado en clase como Baseline para comparación al aplicar cambios:"
      ]
    },
    {
      "cell_type": "markdown",
      "metadata": {},
      "source": [
        "### 2.1. Limitación dataset"
      ]
    },
    {
      "cell_type": "code",
      "execution_count": 97,
      "metadata": {},
      "outputs": [
        {
          "name": "stdout",
          "output_type": "stream",
          "text": [
            "Cantidad de rows disponibles: 118964\n",
            "Cantidad de rows utilizadas: 6000\n"
          ]
        }
      ],
      "source": [
        "# Mezclar el dataset, forzar semilla siempre igual\n",
        "np.random.seed([40])\n",
        "np.random.shuffle(lines)\n",
        "\n",
        "def generar_secuencias(lines, MAX_NUM_SENTENCES=6000):\n",
        "    input_sentences = []\n",
        "    output_sentences = []\n",
        "    output_sentences_inputs = []\n",
        "    count = 0\n",
        "\n",
        "    for line in lines:\n",
        "        count += 1\n",
        "        if count > MAX_NUM_SENTENCES:\n",
        "            break\n",
        "\n",
        "        if '\\t' not in line:\n",
        "            continue\n",
        "\n",
        "        # Input sentence --> eng\n",
        "        # output --> spa\n",
        "        input_sentence, output = line.rstrip().split('\\t')\n",
        "\n",
        "        # output sentence (decoder_output) tiene <eos>\n",
        "        output_sentence = output + ' <eos>'\n",
        "        # output sentence input (decoder_input) tiene <sos>\n",
        "        output_sentence_input = '<sos> ' + output\n",
        "\n",
        "        input_sentences.append(input_sentence)\n",
        "        output_sentences.append(output_sentence)\n",
        "        output_sentences_inputs.append(output_sentence_input)\n",
        "    return input_sentences, output_sentences, output_sentences_inputs\n",
        "\n",
        "\n",
        "# Por limitaciones de RAM no se leen todas las filas\n",
        "MAX_NUM_SENTENCES = 6000\n",
        "input_sentences, output_sentences, output_sentences_inputs = generar_secuencias(lines, MAX_NUM_SENTENCES)\n",
        "\n",
        "print(\"Cantidad de rows disponibles:\", len(lines))\n",
        "print(\"Cantidad de rows utilizadas:\", len(input_sentences))"
      ]
    },
    {
      "cell_type": "code",
      "execution_count": 98,
      "metadata": {},
      "outputs": [
        {
          "data": {
            "text/plain": [
              "('A deal is a deal.',\n",
              " 'Un trato es un trato. <eos>',\n",
              " '<sos> Un trato es un trato.')"
            ]
          },
          "execution_count": 98,
          "metadata": {},
          "output_type": "execute_result"
        }
      ],
      "source": [
        "input_sentences[0], output_sentences[0], output_sentences_inputs[0]"
      ]
    },
    {
      "cell_type": "markdown",
      "metadata": {},
      "source": [
        "### 2.2. Preprocesamiento"
      ]
    },
    {
      "cell_type": "code",
      "execution_count": 99,
      "metadata": {},
      "outputs": [
        {
          "name": "stdout",
          "output_type": "stream",
          "text": [
            "Palabras en el vocabulario: 3851\n",
            "Sentencia de entrada más larga: 32\n",
            "Palabras en el vocabulario: 5721\n",
            "Sentencia de salida más larga: 36\n"
          ]
        }
      ],
      "source": [
        "# Tokenizar las palabras con el Tokenizer de Keras\n",
        "# Definir una máxima cantidad de palabras a utilizar:\n",
        "# - num_words --> the maximum number of words to keep, based on word frequency.\n",
        "# - Only the most common num_words-1 words will be kept.\n",
        "from torch_helpers import Tokenizer\n",
        "\n",
        "def tokenizar_texto(input_sentences, output_sentences, output_sentences_inputs, MAX_VOCAB_SIZE=8000):\n",
        "    input_tokenizer = Tokenizer(num_words=MAX_VOCAB_SIZE)\n",
        "    input_tokenizer.fit_on_texts(input_sentences)\n",
        "    input_integer_seq = input_tokenizer.texts_to_sequences(input_sentences)\n",
        "\n",
        "    word2idx_inputs = input_tokenizer.word_index\n",
        "    print(\"Palabras en el vocabulario:\", len(word2idx_inputs))\n",
        "\n",
        "    max_input_len = max(len(sen) for sen in input_integer_seq)\n",
        "    print(\"Sentencia de entrada más larga:\", max_input_len)\n",
        "\n",
        "\n",
        "    # A los filtros de símbolos del Tokenizer agregamos el \"¿\",\n",
        "    # sacamos los \"<>\" para que no afectar nuestros tokens\n",
        "    output_tokenizer = Tokenizer(num_words=MAX_VOCAB_SIZE, filters='!\"#$%&()*+,-./:;=¿?@[\\\\]^_`{|}~\\t\\n')\n",
        "    output_tokenizer.fit_on_texts([\"<sos>\", \"<eos>\"] + output_sentences)\n",
        "    output_integer_seq = output_tokenizer.texts_to_sequences(output_sentences)\n",
        "    output_input_integer_seq = output_tokenizer.texts_to_sequences(output_sentences_inputs)\n",
        "\n",
        "    word2idx_outputs = output_tokenizer.word_index\n",
        "    print(\"Palabras en el vocabulario:\", len(word2idx_outputs))\n",
        "\n",
        "    num_words_output = min(len(word2idx_outputs) + 1, MAX_VOCAB_SIZE) # Se suma 1 por el primer <sos>\n",
        "    max_out_len = max(len(sen) for sen in output_integer_seq)\n",
        "    print(\"Sentencia de salida más larga:\", max_out_len)\n",
        "\n",
        "    return {\n",
        "        'input_tokenizer': input_tokenizer,\n",
        "        'output_tokenizer': output_tokenizer,\n",
        "        'input_integer_seq': input_integer_seq,\n",
        "        'output_integer_seq': output_integer_seq,\n",
        "        'output_input_integer_seq': output_input_integer_seq,\n",
        "        'word2idx_inputs': word2idx_inputs,\n",
        "        'word2idx_outputs': word2idx_outputs,\n",
        "        'max_input_len': max_input_len,\n",
        "        'max_out_len': max_out_len,\n",
        "        'num_words_output': num_words_output\n",
        "    }\n",
        "\n",
        "# Definir el tamaño máximo del vocabulario\n",
        "MAX_VOCAB_SIZE = 8000\n",
        "\n",
        "salida_tokenizador = tokenizar_texto(input_sentences, output_sentences, output_sentences_inputs, MAX_VOCAB_SIZE)\n",
        "\n",
        "input_tokenizer = salida_tokenizador[\"input_tokenizer\"]\n",
        "output_tokenizer = salida_tokenizador[\"output_tokenizer\"]\n",
        "input_integer_seq = salida_tokenizador[\"input_integer_seq\"]\n",
        "output_integer_seq = salida_tokenizador[\"output_integer_seq\"]\n",
        "output_input_integer_seq = salida_tokenizador[\"output_input_integer_seq\"]\n",
        "num_words_output = salida_tokenizador[\"num_words_output\"]\n",
        "word2idx_inputs = salida_tokenizador[\"word2idx_inputs\"]\n",
        "word2idx_outputs = salida_tokenizador[\"word2idx_outputs\"]\n"
      ]
    },
    {
      "cell_type": "code",
      "execution_count": 100,
      "metadata": {},
      "outputs": [],
      "source": [
        "# Por una cuestion de que no explote la RAM se limitará el tamaño de las sentencias de entrada\n",
        "# a la mitad:\n",
        "max_input_len = 16\n",
        "max_out_len = 18"
      ]
    },
    {
      "cell_type": "code",
      "execution_count": 101,
      "metadata": {},
      "outputs": [
        {
          "name": "stdout",
          "output_type": "stream",
          "text": [
            "Cantidad de rows del dataset: 6000\n",
            "encoder_input_sequences shape: (6000, 16)\n",
            "decoder_input_sequences shape: (6000, 18)\n",
            "decoder_output_sequences shape: (6000, 18)\n"
          ]
        }
      ],
      "source": [
        "from torch_helpers import pad_sequences\n",
        "print(\"Cantidad de rows del dataset:\", len(input_integer_seq))\n",
        "\n",
        "encoder_input_sequences = pad_sequences(input_integer_seq, maxlen=max_input_len)\n",
        "print(\"encoder_input_sequences shape:\", encoder_input_sequences.shape)\n",
        "\n",
        "decoder_input_sequences = pad_sequences(output_input_integer_seq, maxlen=max_out_len, padding='post')\n",
        "print(\"decoder_input_sequences shape:\", decoder_input_sequences.shape)\n",
        "\n",
        "decoder_output_sequences = pad_sequences(output_integer_seq, maxlen=max_out_len, padding='post')\n",
        "print(\"decoder_output_sequences shape:\", decoder_output_sequences.shape)"
      ]
    },
    {
      "cell_type": "code",
      "execution_count": 102,
      "metadata": {},
      "outputs": [
        {
          "name": "stdout",
          "output_type": "stream",
          "text": [
            "encoder_input_size: 16\n",
            "decoder_input_size: 18\n",
            "Output dim 5722\n"
          ]
        }
      ],
      "source": [
        "class Data(Dataset):\n",
        "    def __init__(self, encoder_input, decoder_input, decoder_output):\n",
        "        # Convertir los arrays de numpy a tensores. \n",
        "        # pytorch espera en general entradas 32bits\n",
        "        self.encoder_inputs = torch.from_numpy(encoder_input.astype(np.int32))\n",
        "        self.decoder_inputs = torch.from_numpy(decoder_input.astype(np.int32))\n",
        "        # Transformar los datos a oneHotEncoding\n",
        "        # la loss function esperan la salida float\n",
        "        # Para CrossEntropyLoss: guardar los targets como índices de clase (LongTensor),\n",
        "        # shape = (N, seq_len), dtype = torch.int64\n",
        "        self.decoder_outputs = torch.from_numpy(decoder_output).to(torch.int64)\n",
        "\n",
        "        self.len = self.decoder_outputs.shape[0]\n",
        "\n",
        "    def __getitem__(self,index):\n",
        "        return self.encoder_inputs[index], self.decoder_inputs[index], self.decoder_outputs[index]\n",
        "\n",
        "    def __len__(self):\n",
        "        return self.len\n",
        "\n",
        "data_set = Data(encoder_input_sequences, decoder_input_sequences, decoder_output_sequences)\n",
        "\n",
        "encoder_input_size = data_set.encoder_inputs.shape[1]\n",
        "print(\"encoder_input_size:\", encoder_input_size)\n",
        "\n",
        "decoder_input_size = data_set.decoder_inputs.shape[1]\n",
        "print(\"decoder_input_size:\", decoder_input_size)\n",
        "\n",
        "output_dim = num_words_output\n",
        "print(\"Output dim\", output_dim)"
      ]
    },
    {
      "cell_type": "code",
      "execution_count": 103,
      "metadata": {},
      "outputs": [
        {
          "name": "stdout",
          "output_type": "stream",
          "text": [
            "Tamaño del conjunto de entrenamiento: 4800\n",
            "Tamaño del conjunto de validacion: 1200\n"
          ]
        }
      ],
      "source": [
        "torch.manual_seed(42)\n",
        "valid_set_size = int(data_set.len * 0.2)\n",
        "train_set_size = data_set.len - valid_set_size\n",
        "\n",
        "train_set = torch.utils.data.Subset(data_set, range(train_set_size))\n",
        "valid_set = torch.utils.data.Subset(data_set, range(train_set_size, data_set.len))\n",
        "\n",
        "print(\"Tamaño del conjunto de entrenamiento:\", len(train_set))\n",
        "print(\"Tamaño del conjunto de validacion:\", len(valid_set))\n",
        "\n",
        "train_loader = torch.utils.data.DataLoader(train_set, batch_size=32, shuffle=True, drop_last=True)\n",
        "valid_loader = torch.utils.data.DataLoader(valid_set, batch_size=32, shuffle=False, drop_last=True)"
      ]
    },
    {
      "cell_type": "markdown",
      "metadata": {},
      "source": [
        "### 2.3. Preparar los embeddings"
      ]
    },
    {
      "cell_type": "code",
      "execution_count": 104,
      "metadata": {},
      "outputs": [
        {
          "name": "stdout",
          "output_type": "stream",
          "text": [
            "Los embeddings gloveembedding.pkl ya están descargados\n"
          ]
        }
      ],
      "source": [
        "# Descargar los embeddings desde un gogle drive (es la forma más rápida)\n",
        "# NOTA: No hay garantía de que estos links perduren, en caso de que no estén\n",
        "# disponibles descargar de la página oficial como se explica en el siguiente bloque\n",
        "import os\n",
        "import gdown\n",
        "if os.access('gloveembedding.pkl', os.F_OK) is False:\n",
        "    url = 'https://drive.google.com/uc?id=1wlDBOrxPq2-3htQ6ryVo7K1XnzLcfh4r&export=download'\n",
        "    output = 'gloveembedding.pkl'\n",
        "    gdown.download(url, output, quiet=False)\n",
        "else:\n",
        "    print(\"Los embeddings gloveembedding.pkl ya están descargados\")"
      ]
    },
    {
      "cell_type": "code",
      "execution_count": 105,
      "metadata": {},
      "outputs": [],
      "source": [
        "import logging\n",
        "from pathlib import Path\n",
        "from io import StringIO\n",
        "import pickle\n",
        "\n",
        "class WordsEmbeddings(object):\n",
        "    logger = logging.getLogger(__name__)\n",
        "\n",
        "    def __init__(self):\n",
        "        # load the embeddings\n",
        "        words_embedding_pkl = Path(self.PKL_PATH)\n",
        "        if not words_embedding_pkl.is_file():\n",
        "            words_embedding_txt = Path(self.WORD_TO_VEC_MODEL_TXT_PATH)\n",
        "            assert words_embedding_txt.is_file(), 'Words embedding not available'\n",
        "            embeddings = self.convert_model_to_pickle()\n",
        "        else:\n",
        "            embeddings = self.load_model_from_pickle()\n",
        "        self.embeddings = embeddings\n",
        "        # build the vocabulary hashmap\n",
        "        index = np.arange(self.embeddings.shape[0])\n",
        "        # Dicctionarios para traducir de embedding a IDX de la palabra\n",
        "        self.word2idx = dict(zip(self.embeddings['word'], index))\n",
        "        self.idx2word = dict(zip(index, self.embeddings['word']))\n",
        "\n",
        "    def get_words_embeddings(self, words):\n",
        "        words_idxs = self.words2idxs(words)\n",
        "        return self.embeddings[words_idxs]['embedding']\n",
        "\n",
        "    def words2idxs(self, words):\n",
        "        return np.array([self.word2idx.get(word, -1) for word in words])\n",
        "\n",
        "    def idxs2words(self, idxs):\n",
        "        return np.array([self.idx2word.get(idx, '-1') for idx in idxs])\n",
        "\n",
        "    def load_model_from_pickle(self):\n",
        "        self.logger.debug(\n",
        "            'loading words embeddings from pickle {}'.format(\n",
        "                self.PKL_PATH\n",
        "            )\n",
        "        )\n",
        "        max_bytes = 2**28 - 1 # 256MB\n",
        "        bytes_in = bytearray(0)\n",
        "        input_size = os.path.getsize(self.PKL_PATH)\n",
        "        with open(self.PKL_PATH, 'rb') as f_in:\n",
        "            for _ in range(0, input_size, max_bytes):\n",
        "                bytes_in += f_in.read(max_bytes)\n",
        "        embeddings = pickle.loads(bytes_in)\n",
        "        self.logger.debug('words embeddings loaded')\n",
        "        return embeddings\n",
        "\n",
        "    def convert_model_to_pickle(self):\n",
        "        # create a numpy strctured array:\n",
        "        # word     embedding\n",
        "        # U50      np.float32[]\n",
        "        # word_1   a, b, c\n",
        "        # word_2   d, e, f\n",
        "        # ...\n",
        "        # word_n   g, h, i\n",
        "        self.logger.debug(\n",
        "            'converting and loading words embeddings from text file {}'.format(\n",
        "                self.WORD_TO_VEC_MODEL_TXT_PATH\n",
        "            )\n",
        "        )\n",
        "        structure = [('word', np.dtype('U' + str(self.WORD_MAX_SIZE))),\n",
        "                     ('embedding', np.float32, (self.N_FEATURES,))]\n",
        "        structure = np.dtype(structure)\n",
        "        # load numpy array from disk using a generator\n",
        "        with open(self.WORD_TO_VEC_MODEL_TXT_PATH, encoding=\"utf8\") as words_embeddings_txt:\n",
        "            embeddings_gen = (\n",
        "                (line.split()[0], line.split()[1:]) for line in words_embeddings_txt\n",
        "                if len(line.split()[1:]) == self.N_FEATURES\n",
        "            )\n",
        "            embeddings = np.fromiter(embeddings_gen, structure)\n",
        "        # add a null embedding\n",
        "        null_embedding = np.array(\n",
        "            [('null_embedding', np.zeros((self.N_FEATURES,), dtype=np.float32))],\n",
        "            dtype=structure\n",
        "        )\n",
        "        embeddings = np.concatenate([embeddings, null_embedding])\n",
        "        # dump numpy array to disk using pickle\n",
        "        max_bytes = 2**28 - 1 # # 256MB\n",
        "        bytes_out = pickle.dumps(embeddings, protocol=pickle.HIGHEST_PROTOCOL)\n",
        "        with open(self.PKL_PATH, 'wb') as f_out:\n",
        "            for idx in range(0, len(bytes_out), max_bytes):\n",
        "                f_out.write(bytes_out[idx:idx+max_bytes])\n",
        "        self.logger.debug('words embeddings loaded')\n",
        "        return embeddings\n",
        "\n",
        "\n",
        "class GloveEmbeddings(WordsEmbeddings):\n",
        "    WORD_TO_VEC_MODEL_TXT_PATH = 'glove.twitter.27B.50d.txt'\n",
        "    PKL_PATH = 'gloveembedding.pkl'\n",
        "    N_FEATURES = 50\n",
        "    WORD_MAX_SIZE = 60\n",
        "\n",
        "class FasttextEmbeddings(WordsEmbeddings):\n",
        "    WORD_TO_VEC_MODEL_TXT_PATH = 'cc.en.300.vec'\n",
        "    PKL_PATH = 'fasttext.pkl'\n",
        "    N_FEATURES = 300\n",
        "    WORD_MAX_SIZE = 60"
      ]
    },
    {
      "cell_type": "code",
      "execution_count": 106,
      "metadata": {},
      "outputs": [],
      "source": [
        "# Por una cuestion de RAM se utilizará los embeddings de Glove de dimension 50\n",
        "model_embeddings = GloveEmbeddings()"
      ]
    },
    {
      "cell_type": "code",
      "execution_count": 107,
      "metadata": {},
      "outputs": [
        {
          "name": "stdout",
          "output_type": "stream",
          "text": [
            "Número de embeddings nulos: 30\n"
          ]
        }
      ],
      "source": [
        "# Crear la Embedding matrix de las secuencias\n",
        "# en ingles\n",
        "\n",
        "\n",
        "def preparar_embedding_matrix(model_embeddings, word2idx_inputs, MAX_VOCAB_SIZE):\n",
        "    embed_dim = model_embeddings.N_FEATURES\n",
        "    words_not_found = []\n",
        "\n",
        "    # word_index provieen del tokenizer\n",
        "\n",
        "    nb_words = min(MAX_VOCAB_SIZE, len(word2idx_inputs) + 1) # vocab_size\n",
        "    embedding_matrix = np.zeros((nb_words, embed_dim))\n",
        "    for word, i in word2idx_inputs.items():\n",
        "        if i >= nb_words:\n",
        "            continue\n",
        "        embedding_vector = model_embeddings.get_words_embeddings(word)[0]\n",
        "        if (embedding_vector is not None) and len(embedding_vector) > 0:\n",
        "            \n",
        "            embedding_matrix[i] = embedding_vector\n",
        "        else:\n",
        "            # words not found in embedding index will be all-zeros.\n",
        "            words_not_found.append(word)\n",
        "\n",
        "    print('Número de embeddings nulos:', np.sum(np.sum(embedding_matrix, axis=1) == 0))\n",
        "    return embedding_matrix, words_not_found, nb_words\n",
        "\n",
        "embedding_matrix, words_not_found, nb_words = preparar_embedding_matrix(model_embeddings, word2idx_inputs, MAX_VOCAB_SIZE)"
      ]
    },
    {
      "cell_type": "code",
      "execution_count": 108,
      "metadata": {},
      "outputs": [
        {
          "data": {
            "text/plain": [
              "3852"
            ]
          },
          "execution_count": 108,
          "metadata": {},
          "output_type": "execute_result"
        }
      ],
      "source": [
        "nb_words"
      ]
    },
    {
      "cell_type": "code",
      "execution_count": 109,
      "metadata": {},
      "outputs": [
        {
          "data": {
            "text/plain": [
              "(3852, 50)"
            ]
          },
          "execution_count": 109,
          "metadata": {},
          "output_type": "execute_result"
        }
      ],
      "source": [
        "# Dimensión de los embeddings de la secuencia en ingles\n",
        "embedding_matrix.shape"
      ]
    },
    {
      "cell_type": "markdown",
      "metadata": {},
      "source": [
        "### 2.4. Entrenar modelo"
      ]
    },
    {
      "cell_type": "code",
      "execution_count": 110,
      "metadata": {},
      "outputs": [],
      "source": [
        "from tqdm import tqdm\n",
        "\n",
        "class Encoder(nn.Module):\n",
        "    def __init__(self, vocab_size, embedding_matrix):\n",
        "        super().__init__()\n",
        "        # num_embeddings = vocab_size, definido por le Tokenizador\n",
        "        # embedding_dim = 50 --> dimensión de los embeddings utilizados\n",
        "        self.lstm_size = 128\n",
        "        self.num_layers = 1\n",
        "        self.embedding_dim = embedding_matrix.shape[1]\n",
        "        self.embedding = nn.Embedding(num_embeddings=vocab_size, embedding_dim=self.embedding_dim, padding_idx=0)\n",
        "        self.embedding.weight.data.copy_(torch.from_numpy(embedding_matrix))\n",
        "        self.embedding.weight.requires_grad = False  # marcar como layer no entrenable (freeze)\n",
        "        self.lstm = nn.LSTM(input_size=self.embedding_dim, hidden_size=self.lstm_size, batch_first=True,\n",
        "                            num_layers=self.num_layers) # LSTM layer\n",
        "\n",
        "    def forward(self, x):\n",
        "        out = self.embedding(x)\n",
        "        lstm_output, (ht, ct) = self.lstm(out)\n",
        "        return (ht, ct)\n",
        "\n",
        "class Decoder(nn.Module):\n",
        "    def __init__(self, vocab_size, output_dim, embedding_matrix=None):\n",
        "        super().__init__()\n",
        "        # num_embeddings = vocab_size, definido por le Tokenizador\n",
        "        # embedding_dim = 50 --> dimensión de los embeddings utilizados\n",
        "        self.lstm_size = 128\n",
        "        self.num_layers = 1\n",
        "        self.embedding_dim = embedding_matrix.shape[1] if embedding_matrix is not None else 50\n",
        "        self.output_dim = output_dim\n",
        "\n",
        "        self.embedding = nn.Embedding(num_embeddings=vocab_size, embedding_dim=self.embedding_dim, padding_idx=0)\n",
        "\n",
        "        # Para utilizar versión con embedding preentrenados\n",
        "        if embedding_matrix is not None:\n",
        "            self.embedding.weight.data.copy_(torch.from_numpy(embedding_matrix))\n",
        "            self.embedding.weight.requires_grad = False  # \n",
        "\n",
        "        self.lstm = nn.LSTM(input_size=self.embedding_dim, hidden_size=self.lstm_size, batch_first=True,\n",
        "                            num_layers=self.num_layers) # LSTM layer\n",
        "        self.fc1 = nn.Linear(in_features=self.lstm_size, out_features=self.output_dim) # Fully connected layer\n",
        "\n",
        "        self.softmax = nn.Softmax(dim=1) # normalize in dim 1\n",
        "\n",
        "    def forward(self, x, prev_state):\n",
        "        out = self.embedding(x)\n",
        "        lstm_output, (ht, ct) = self.lstm(out, prev_state)\n",
        "        out = self.softmax(self.fc1(lstm_output[:,-1,:])) # take last output (last seq)\n",
        "        return out, (ht, ct)\n",
        "\n",
        "class Seq2Seq(nn.Module):\n",
        "    def __init__(self, encoder, decoder):\n",
        "        super().__init__()\n",
        "        \n",
        "        self.encoder = encoder\n",
        "        self.decoder = decoder\n",
        "        \n",
        "        assert encoder.lstm_size == decoder.lstm_size, \\\n",
        "            \"Hidden dimensions of encoder and decoder must be equal!\"\n",
        "        assert encoder.num_layers == decoder.num_layers, \\\n",
        "            \"Encoder and decoder must have equal number of layers!\"\n",
        "        \n",
        "    def forward(self, encoder_input, decoder_input):\n",
        "        batch_size = decoder_input.shape[0]\n",
        "        decoder_input_len = decoder_input.shape[1]\n",
        "        vocab_size = self.decoder.output_dim\n",
        "        \n",
        "        # tensor para almacenar la salida\n",
        "        # (batch_size, sentence_len, one_hot_size)\n",
        "        outputs = torch.zeros(batch_size, decoder_input_len, vocab_size)\n",
        "        \n",
        "        # ultimo hidden state del encoder, primer estado oculto del decoder\n",
        "        prev_state = self.encoder(encoder_input)\n",
        "      \n",
        "        # En la primera iteracion se toma el primer token de target (<sos>)\n",
        "        input = decoder_input[:, 0:1]\n",
        "\n",
        "        for t in range(decoder_input_len):\n",
        "            # t --> token index\n",
        "\n",
        "            # utilizamos método \"teacher forcing\", es decir que durante\n",
        "            # el entrenamiento no realimentamos la salida del decoder\n",
        "            # sino el token correcto que sigue en target\n",
        "            input = decoder_input[:, t:t+1]\n",
        "\n",
        "            # ingresar cada token embedding, uno por uno junto al hidden state\n",
        "            # recibir el output del decoder (softmax)\n",
        "            output, prev_state = self.decoder(input, prev_state)\n",
        "            top1 = output.argmax(1).view(-1, 1)\n",
        "\n",
        "            # Sino se usará \"teacher forcing\" habría que descomentar\n",
        "            # esta linea.\n",
        "            # Hay ejemplos dandos vuelta en donde se utilza un random \n",
        "            # para ver en cada vuelta que técnica se aplica\n",
        "            #input = top1            \n",
        "\n",
        "            # guardar cada salida (softmax)\n",
        "            outputs[:, t, :] = output\n",
        "\n",
        "        return outputs\n",
        "\n",
        "encoder = Encoder(vocab_size=nb_words, embedding_matrix=embedding_matrix)\n",
        "if cuda: encoder.to(device)\n",
        "# decoder --> vocab_size == output_dim --> porque recibe y devuelve palabras en el mismo vocabulario\n",
        "# asegurar consistencia: output_dim igual a num_words_output usado por dataset/one-hot\n",
        "decoder = Decoder(vocab_size=num_words_output, output_dim=num_words_output)\n",
        "if cuda: decoder.to(device)\n",
        "\n",
        "model = Seq2Seq(encoder, decoder)\n",
        "if cuda: model.to(device)\n",
        "\n",
        "# Crear el optimizador la una función de error\n",
        "optimizer = torch.optim.Adam(model.parameters(), lr=0.1)\n",
        "criterion = torch.nn.CrossEntropyLoss()  # Para clasificación multi categórica\n",
        "\n",
        "\n",
        "### CORREGIR ERROR\n",
        "#summary(model, input_data=(data_set[0:1][0], data_set[0:1][1]))"
      ]
    },
    {
      "cell_type": "code",
      "execution_count": 111,
      "metadata": {},
      "outputs": [],
      "source": [
        "from tqdm import tqdm\n",
        "\n",
        "def sequence_acc(y_pred, y_test):\n",
        "    \"\"\"\n",
        "    Calcula la accuracy promedio por secuencia.\n",
        "    y_pred: logits (batch, seq_len, vocab_size)\n",
        "    y_test: índices (batch, seq_len)\n",
        "    \"\"\"\n",
        "    y_pred_tag = y_pred.argmax(dim=-1)  # (batch, seq_len)\n",
        "    y_test_tag = y_test if y_test.ndim == 2 else y_test.argmax(dim=-1)\n",
        "    acc = (y_pred_tag == y_test_tag).float().mean().item()\n",
        "    return acc\n",
        "\n",
        "\n",
        "def train(model, train_loader, valid_loader, optimizer, criterion, epochs=100):\n",
        "    train_loss, train_accuracy = [], []\n",
        "    valid_loss, valid_accuracy = [], []\n",
        "\n",
        "    for epoch in range(epochs):\n",
        "        model.train()\n",
        "        epoch_train_loss = 0.0\n",
        "        epoch_train_accuracy = 0.0\n",
        "\n",
        "        loop = tqdm(train_loader, desc=f\"Epoch {epoch+1}/{epochs}\", leave=False)\n",
        "        for train_encoder_input, train_decoder_input, train_target in loop:\n",
        "            optimizer.zero_grad()\n",
        "\n",
        "            # Forward\n",
        "            output = model(train_encoder_input.to(device), train_decoder_input.to(device))\n",
        "\n",
        "\n",
        "            # Calcular loss en toda la secuencia (más eficiente)\n",
        "            loss = criterion(\n",
        "                output.reshape(-1, output.shape[-1]),\n",
        "                train_target.to(device).reshape(-1)\n",
        "            )\n",
        "\n",
        "            loss.backward()\n",
        "            optimizer.step()\n",
        "\n",
        "            epoch_train_loss += loss.item()\n",
        "            epoch_train_accuracy += sequence_acc(output.to(device), train_target.to(device))\n",
        "\n",
        "        epoch_train_loss /= len(train_loader)\n",
        "        epoch_train_accuracy /= len(train_loader)\n",
        "        train_loss.append(epoch_train_loss)\n",
        "        train_accuracy.append(epoch_train_accuracy)\n",
        "\n",
        "\n",
        "        # --- VALIDACIÓN COMPLETA ---\n",
        "        model.eval()\n",
        "        epoch_valid_loss = 0.0\n",
        "        epoch_valid_accuracy = 0.0\n",
        "\n",
        "        with torch.no_grad():\n",
        "            for valid_encoder_input, valid_decoder_input, valid_target in valid_loader:\n",
        "                output = model(valid_encoder_input.to(device), valid_decoder_input.to(device))\n",
        "                loss = criterion(\n",
        "                    output.reshape(-1, output.shape[-1]),\n",
        "                    valid_target.to(device).reshape(-1)\n",
        "                )\n",
        "\n",
        "                epoch_valid_loss += loss.item()\n",
        "                epoch_valid_accuracy += sequence_acc(output.to(device), valid_target.to(device))\n",
        "\n",
        "        epoch_valid_loss /= len(valid_loader)\n",
        "        epoch_valid_accuracy /= len(valid_loader)\n",
        "        valid_loss.append(epoch_valid_loss)\n",
        "        valid_accuracy.append(epoch_valid_accuracy)\n",
        "\n",
        "        print(f\"Epoch {epoch+1:02}/{epochs} | \"\n",
        "              f\"Train loss: {epoch_train_loss:.3f} | \"\n",
        "              f\"Train acc: {epoch_train_accuracy:.3f} | \"\n",
        "              f\"Val loss: {epoch_valid_loss:.3f} | \"\n",
        "              f\"Val acc: {epoch_valid_accuracy:.3f}\")\n",
        "\n",
        "    return {\n",
        "        \"loss\": train_loss,\n",
        "        \"accuracy\": train_accuracy,\n",
        "        \"val_loss\": valid_loss,\n",
        "        \"val_accuracy\": valid_accuracy,\n",
        "    }"
      ]
    },
    {
      "cell_type": "code",
      "execution_count": 112,
      "metadata": {},
      "outputs": [
        {
          "name": "stdout",
          "output_type": "stream",
          "text": [
            "Checkpoint completo encontrado en: Modelos_entrenados/Baseline\n",
            "No se encontró embedding_matrix_decoder.npy — se entrenará embedding en el Decoder.\n",
            "Checkpoint cargado desde: Modelos_entrenados/Baseline\n"
          ]
        }
      ],
      "source": [
        "carpeta = \"Modelos_entrenados/Baseline\"\n",
        "\n",
        "modelo_entrenado = check_checkpoint_exists(carpeta)\n",
        "\n",
        "if not modelo_entrenado:\n",
        "    history1 = train(model,\n",
        "                    train_loader,\n",
        "                    valid_loader,\n",
        "                    optimizer,\n",
        "                    criterion,\n",
        "                    epochs=10\n",
        "                    )\n",
        "    config = {\n",
        "        # Información general\n",
        "        \"max_input_len\": max_input_len,\n",
        "        \"max_out_len\": max_out_len,\n",
        "        \"max_vocab_size\": MAX_VOCAB_SIZE,\n",
        "        \"cuda\": cuda,\n",
        "\n",
        "        # Hiperparámetros de embedding y red\n",
        "        \"embedding_dim\": embedding_matrix.shape[1],\n",
        "        \"hidden_size\": 128,        \n",
        "        \"num_layers\": 1,           \n",
        "        \"lr\": 0.1,\n",
        "        \"batch_size\": 32,\n",
        "        \"epochs\": 10,\n",
        "\n",
        "        # Vocabularios (usar tamaños reales)\n",
        "        \"num_words_input\": int(embedding_matrix.shape[0]),\n",
        "        \"num_words_output\": int(num_words_output),\n",
        "\n",
        "        # Checkpoint info (opcional)\n",
        "        \"embedding_source\": getattr(model_embeddings, \"name\", \"custom\"),\n",
        "    }\n",
        "    save_checkpoint(carpeta, model, optimizer, history1, config,\n",
        "                    input_tokenizer, output_tokenizer,\n",
        "                    word2idx_inputs, word2idx_outputs, embedding_matrix)\n",
        "else:\n",
        "    data = load_checkpoint(carpeta, Encoder, Decoder, Seq2Seq, device=\"cuda\" if cuda else \"cpu\")\n",
        "    model = data[\"model\"]\n",
        "    optimizer = data[\"optimizer\"]\n",
        "    history1 = data[\"history\"]"
      ]
    },
    {
      "cell_type": "code",
      "execution_count": 113,
      "metadata": {},
      "outputs": [
        {
          "data": {
            "image/png": "[encoded data removed]",
            "text/plain": [
              "<Figure size 640x480 with 1 Axes>"
            ]
          },
          "metadata": {},
          "output_type": "display_data"
        }
      ],
      "source": [
        "def graficar_accuracy(history):\n",
        "    epoch_count = range(1, len(history['accuracy']) + 1)\n",
        "    sns.lineplot(x=epoch_count,  y=history['accuracy'], label='train')\n",
        "    sns.lineplot(x=epoch_count,  y=history['val_accuracy'], label='valid')\n",
        "    plt.show()\n",
        "\n",
        "graficar_accuracy(history1)"
      ]
    },
    {
      "cell_type": "markdown",
      "metadata": {},
      "source": [
        "### 2.5. Inferencia"
      ]
    },
    {
      "cell_type": "code",
      "execution_count": 114,
      "metadata": {},
      "outputs": [],
      "source": [
        "# Armar lo conversores de indice a palabra:\n",
        "idx2word_input = {v:k for k, v in word2idx_inputs.items()}\n",
        "idx2word_target = {v:k for k, v in word2idx_outputs.items()}"
      ]
    },
    {
      "cell_type": "code",
      "execution_count": 115,
      "metadata": {},
      "outputs": [
        {
          "name": "stdout",
          "output_type": "stream",
          "text": [
            "Input: My mother say hi.\n",
            "Representacion en vector de tokens de ids [15, 225, 134]\n",
            "Padding del vector: [[  0   0   0   0   0   0   0   0   0   0   0   0   0  15 225 134]]\n",
            "Index/token de salida: 6\n",
            "Palabra de salida: tom\n"
          ]
        }
      ],
      "source": [
        "input_test = \"My mother say hi.\"\n",
        "print('Input:', input_test)\n",
        "integer_seq_test = input_tokenizer.texts_to_sequences([input_test])[0]\n",
        "print(\"Representacion en vector de tokens de ids\", integer_seq_test)\n",
        "encoder_sequence_test = pad_sequences([integer_seq_test], maxlen=max_input_len)\n",
        "print(\"Padding del vector:\", encoder_sequence_test)\n",
        "encoder_sequence_test_tensor = torch.from_numpy(encoder_sequence_test.astype(np.int32))\n",
        "\n",
        "# Se obtiene la salida del encoder (el estado oculto para el decoder)\n",
        "prev_state = model.encoder(encoder_sequence_test_tensor.to(device))\n",
        "\n",
        "# Se inicializa la secuencia de entrada al decoder como \"<sos>\"\n",
        "target_seq = np.zeros((1, 1))\n",
        "target_seq[0, 0] = word2idx_outputs['<sos>']\n",
        "target_seq_tensor = torch.from_numpy(target_seq.astype(np.int32))\n",
        "\n",
        "# Se obtiene la primera palabra de la secuencia de salida del decoder\n",
        "output, prev_state = model.decoder(target_seq_tensor.to(device), prev_state)\n",
        "\n",
        "top1 = output.argmax(1).view(-1, 1)\n",
        "idx = int(top1.cpu())\n",
        "print(\"Index/token de salida:\", idx)\n",
        "\n",
        "word = idx2word_target[idx]\n",
        "print(\"Palabra de salida:\", word)"
      ]
    },
    {
      "cell_type": "code",
      "execution_count": 116,
      "metadata": {},
      "outputs": [],
      "source": [
        "def translate_sentence(input_seq):\n",
        "    # Se transforma la sequencia de entrada a los stados \"h\" y \"c\" de la LSTM\n",
        "    # para enviar la primera vez al decoder\"\n",
        "    prev_state = model.encoder(encoder_sequence_test_tensor.to(device))\n",
        "\n",
        "    # Se inicializa la secuencia de entrada al decoder como \"<sos>\"\n",
        "    target_seq = np.zeros((1, 1))\n",
        "    target_seq[0, 0] = word2idx_outputs['<sos>']\n",
        "    target_seq_tensor = torch.from_numpy(target_seq.astype(np.int32))\n",
        "\n",
        "    # Se obtiene el indice que finaliza la inferencia\n",
        "    eos = word2idx_outputs['<eos>']\n",
        "    \n",
        "    output_sentence = []\n",
        "    for _ in range(max_out_len):\n",
        "        # Predicción del próximo elemento\n",
        "        output, new_prev_state = model.decoder(target_seq_tensor.to(device), prev_state)\n",
        "        top1 = output.argmax(1).view(-1, 1)\n",
        "        idx = int(top1.cpu())\n",
        "\n",
        "        # Si es \"end of sentece <eos>\" se acaba\n",
        "        if eos == idx:\n",
        "            break\n",
        "\n",
        "        # Transformar ídx a palabra\n",
        "        word = ''        \n",
        "        if idx > 0:\n",
        "            word = idx2word_target[idx]\n",
        "            output_sentence.append(word)\n",
        "\n",
        "        # Actualizar los estados dado la ultimo prediccion\n",
        "        prev_state = new_prev_state\n",
        "\n",
        "        # Actualizar secuencia de entrada con la salida (re-alimentacion)\n",
        "        target_seq_tensor = top1\n",
        "\n",
        "    return ' '.join(output_sentence)"
      ]
    },
    {
      "cell_type": "code",
      "execution_count": 117,
      "metadata": {},
      "outputs": [
        {
          "name": "stdout",
          "output_type": "stream",
          "text": [
            "Input: My mother say hi.\n",
            "Representacion en vector de tokens de ids [15, 225, 134]\n",
            "Padding del vector: [[  0   0   0   0   0   0   0   0   0   0   0   0   0  15 225 134]]\n",
            "Response: tom\n"
          ]
        }
      ],
      "source": [
        "input_test = \"My mother say hi.\"\n",
        "print('Input:', input_test)\n",
        "integer_seq_test = input_tokenizer.texts_to_sequences([input_test])[0]\n",
        "print(\"Representacion en vector de tokens de ids\", integer_seq_test)\n",
        "encoder_sequence_test = pad_sequences([integer_seq_test], maxlen=max_input_len)\n",
        "print(\"Padding del vector:\", encoder_sequence_test)\n",
        "encoder_sequence_test_tensor = torch.from_numpy(encoder_sequence_test.astype(np.int32))\n",
        "\n",
        "translation = translate_sentence(encoder_sequence_test)\n",
        "print('Response:', translation)"
      ]
    },
    {
      "cell_type": "code",
      "execution_count": 118,
      "metadata": {},
      "outputs": [
        {
          "name": "stdout",
          "output_type": "stream",
          "text": [
            "-\n",
            "Input: Mary wants to buy a dress.\n",
            "Response: tom no quiero que\n"
          ]
        }
      ],
      "source": [
        "i = np.random.choice(len(input_sentences))\n",
        "input_seq = encoder_input_sequences[i:i+1]\n",
        "encoder_sequence_test_tensor = torch.from_numpy(input_seq.astype(np.int32))\n",
        "translation = translate_sentence(encoder_sequence_test_tensor)\n",
        "print('-')\n",
        "print('Input:', input_sentences[i])\n",
        "print('Response:', translation)"
      ]
    },
    {
      "cell_type": "markdown",
      "metadata": {},
      "source": [
        "## 3. Aumentar tamaño dataset entrenamiento\n",
        "Duplicamos el tamaño del dataset de entrenamiento a 12 líneas"
      ]
    },
    {
      "cell_type": "code",
      "execution_count": 119,
      "metadata": {},
      "outputs": [
        {
          "name": "stdout",
          "output_type": "stream",
          "text": [
            "Palabras en el vocabulario: 5409\n",
            "Sentencia de entrada más larga: 32\n",
            "Palabras en el vocabulario: 8584\n",
            "Sentencia de salida más larga: 36\n"
          ]
        }
      ],
      "source": [
        "MAX_NUM_SENTENCES = 12000\n",
        "input_sentences, output_sentences, output_sentences_inputs = generar_secuencias(lines, MAX_NUM_SENTENCES)\n",
        "\n",
        "\n",
        "salida_tokenizador = tokenizar_texto(input_sentences, output_sentences, output_sentences_inputs, MAX_VOCAB_SIZE)\n",
        "\n",
        "input_tokenizer = salida_tokenizador[\"input_tokenizer\"]\n",
        "output_tokenizer = salida_tokenizador[\"output_tokenizer\"]\n",
        "input_integer_seq = salida_tokenizador[\"input_integer_seq\"]\n",
        "output_integer_seq = salida_tokenizador[\"output_integer_seq\"]\n",
        "output_input_integer_seq = salida_tokenizador[\"output_input_integer_seq\"]\n",
        "num_words_output = salida_tokenizador[\"num_words_output\"]\n",
        "word2idx_inputs = salida_tokenizador[\"word2idx_inputs\"]\n",
        "word2idx_outputs = salida_tokenizador[\"word2idx_outputs\"]\n",
        "\n",
        "\n",
        "encoder_input_sequences = pad_sequences(input_integer_seq, maxlen=max_input_len)\n",
        "decoder_input_sequences = pad_sequences(output_input_integer_seq, maxlen=max_out_len, padding='post')\n",
        "decoder_output_sequences = pad_sequences(output_integer_seq, maxlen=max_out_len, padding='post')\n",
        "data_set = Data(encoder_input_sequences, decoder_input_sequences, decoder_output_sequences)\n",
        "\n",
        "valid_set_size = int(data_set.len * 0.2)\n",
        "train_set_size = data_set.len - valid_set_size\n",
        "\n",
        "train_set = torch.utils.data.Subset(data_set, range(train_set_size))\n",
        "valid_set = torch.utils.data.Subset(data_set, range(train_set_size, data_set.len))\n",
        "\n",
        "train_loader = torch.utils.data.DataLoader(train_set, batch_size=32, shuffle=True, drop_last=True)\n",
        "valid_loader = torch.utils.data.DataLoader(valid_set, batch_size=32, shuffle=False, drop_last=True)\n",
        "\n",
        "# --- CONTROL DE ÍNDICES VÁLIDOS ---\n",
        "num_words_input = len(word2idx_inputs) + 1  # +1 por padding\n",
        "num_words_output = len(word2idx_outputs) + 1\n",
        "\n",
        "encoder_input_sequences[encoder_input_sequences >= num_words_input] = 0\n",
        "decoder_input_sequences[decoder_input_sequences >= num_words_output] = 0\n",
        "decoder_output_sequences[decoder_output_sequences >= num_words_output] = 0\n",
        "\n",
        "\n",
        "\n"
      ]
    },
    {
      "cell_type": "code",
      "execution_count": 120,
      "metadata": {},
      "outputs": [
        {
          "name": "stdout",
          "output_type": "stream",
          "text": [
            "Número de embeddings nulos: 53\n",
            "Checkpoint completo encontrado en: Modelos_entrenados/Aumentar_datos\n",
            "No se encontró embedding_matrix_decoder.npy — se entrenará embedding en el Decoder.\n",
            "Checkpoint cargado desde: Modelos_entrenados/Aumentar_datos\n"
          ]
        }
      ],
      "source": [
        "embedding_matrix, words_not_found, nb_words = preparar_embedding_matrix(\n",
        "    model_embeddings, word2idx_inputs, MAX_VOCAB_SIZE\n",
        ")\n",
        "\n",
        "\n",
        "\n",
        "encoder = Encoder(vocab_size=nb_words, embedding_matrix=embedding_matrix)\n",
        "if cuda: encoder.cuda()\n",
        "# decoder --> vocab_size == output_dim --> porque recibe y devuelve palabras en el mismo vocabulario\n",
        "decoder = Decoder(vocab_size=num_words_output, output_dim=num_words_output)\n",
        "if cuda: decoder.cuda()\n",
        "\n",
        "model = Seq2Seq(encoder, decoder)\n",
        "if cuda: model.cuda()\n",
        "\n",
        "# Crear el optimizador la una función de error\n",
        "optimizer = torch.optim.Adam(model.parameters(), lr=0.1)\n",
        "criterion = torch.nn.CrossEntropyLoss()  # Para clasificación multi categórica\n",
        "\n",
        "# Verificar que si el modelo ya existe para cargarlo. Sino entrenar\n",
        "carpeta = \"Modelos_entrenados/Aumentar_datos\"\n",
        "\n",
        "modelo_entrenado = check_checkpoint_exists(carpeta)\n",
        "\n",
        "if not modelo_entrenado:\n",
        "    history2 = train(model,\n",
        "                    train_loader,\n",
        "                    valid_loader,\n",
        "                    optimizer,\n",
        "                    criterion,\n",
        "                    epochs=10\n",
        "                    )\n",
        "    config = {\n",
        "        # Información general\n",
        "        \"max_input_len\": max_input_len,\n",
        "        \"max_out_len\": max_out_len,\n",
        "        \"max_vocab_size\": MAX_VOCAB_SIZE,\n",
        "        \"cuda\": cuda,\n",
        "\n",
        "        # Hiperparámetros de embedding y red\n",
        "        \"embedding_dim\": embedding_matrix.shape[1],\n",
        "        \"hidden_size\": 128,        \n",
        "        \"num_layers\": 1,            \n",
        "        \"lr\": 0.1,\n",
        "        \"batch_size\": 32,\n",
        "        \"epochs\": 10,\n",
        "\n",
        "        # Vocabularios (usar tamaños reales)\n",
        "        \"num_words_input\": int(embedding_matrix.shape[0]),\n",
        "        \"num_words_output\": int(num_words_output),\n",
        "\n",
        "        # Checkpoint info (opcional)\n",
        "        \"embedding_source\": getattr(model_embeddings, \"name\", \"custom\"),\n",
        "    }\n",
        "    save_checkpoint(carpeta, model, optimizer, history2, config,\n",
        "                    input_tokenizer, output_tokenizer,\n",
        "                    word2idx_inputs, word2idx_outputs, embedding_matrix)\n",
        "else:\n",
        "    data = load_checkpoint(carpeta, Encoder, Decoder, Seq2Seq, device=\"cuda\" if cuda else \"cpu\")\n",
        "    model = data[\"model\"]\n",
        "    optimizer = data[\"optimizer\"]\n",
        "    history2 = data[\"history\"]\n"
      ]
    },
    {
      "cell_type": "code",
      "execution_count": 121,
      "metadata": {},
      "outputs": [
        {
          "data": {
            "image/png": "[encoded data removed]",
            "text/plain": [
              "<Figure size 640x480 with 1 Axes>"
            ]
          },
          "metadata": {},
          "output_type": "display_data"
        }
      ],
      "source": [
        "graficar_accuracy(history2)"
      ]
    },
    {
      "cell_type": "markdown",
      "metadata": {},
      "source": [
        "## 4. Aumentar tamaño de las secuencias\n",
        "Aumentamos el tamaño de input maximo a 25 (la más larga en el dataset es 32) y del output a 30 (la más larga en el dataset es 36)"
      ]
    },
    {
      "cell_type": "code",
      "execution_count": 122,
      "metadata": {},
      "outputs": [
        {
          "name": "stdout",
          "output_type": "stream",
          "text": [
            "Palabras en el vocabulario: 3851\n",
            "Sentencia de entrada más larga: 32\n",
            "Palabras en el vocabulario: 5721\n",
            "Sentencia de salida más larga: 36\n"
          ]
        }
      ],
      "source": [
        "MAX_NUM_SENTENCES = 6000\n",
        "max_input_len = 25\n",
        "max_out_len = 30\n",
        "\n",
        "input_sentences, output_sentences, output_sentences_inputs = generar_secuencias(lines, MAX_NUM_SENTENCES)\n",
        "\n",
        "\n",
        "salida_tokenizador = tokenizar_texto(input_sentences, output_sentences, output_sentences_inputs, MAX_VOCAB_SIZE)\n",
        "\n",
        "input_tokenizer = salida_tokenizador[\"input_tokenizer\"]\n",
        "output_tokenizer = salida_tokenizador[\"output_tokenizer\"]\n",
        "input_integer_seq = salida_tokenizador[\"input_integer_seq\"]\n",
        "output_integer_seq = salida_tokenizador[\"output_integer_seq\"]\n",
        "output_input_integer_seq = salida_tokenizador[\"output_input_integer_seq\"]\n",
        "num_words_output = salida_tokenizador[\"num_words_output\"]\n",
        "word2idx_inputs = salida_tokenizador[\"word2idx_inputs\"]\n",
        "word2idx_outputs = salida_tokenizador[\"word2idx_outputs\"]\n",
        "\n",
        "\n",
        "encoder_input_sequences = pad_sequences(input_integer_seq, maxlen=max_input_len)\n",
        "decoder_input_sequences = pad_sequences(output_input_integer_seq, maxlen=max_out_len, padding='post')\n",
        "decoder_output_sequences = pad_sequences(output_integer_seq, maxlen=max_out_len, padding='post')\n",
        "data_set = Data(encoder_input_sequences, decoder_input_sequences, decoder_output_sequences)\n",
        "\n",
        "valid_set_size = int(data_set.len * 0.2)\n",
        "train_set_size = data_set.len - valid_set_size\n",
        "\n",
        "train_set = torch.utils.data.Subset(data_set, range(train_set_size))\n",
        "valid_set = torch.utils.data.Subset(data_set, range(train_set_size, data_set.len))\n",
        "\n",
        "train_loader = torch.utils.data.DataLoader(train_set, batch_size=32, shuffle=True, drop_last=True)\n",
        "valid_loader = torch.utils.data.DataLoader(valid_set, batch_size=32, shuffle=False, drop_last=True)"
      ]
    },
    {
      "cell_type": "code",
      "execution_count": 123,
      "metadata": {},
      "outputs": [
        {
          "name": "stdout",
          "output_type": "stream",
          "text": [
            "Número de embeddings nulos: 30\n",
            "Checkpoint completo encontrado en: Modelos_entrenados/Aumentar_secuencias\n",
            "No se encontró embedding_matrix_decoder.npy — se entrenará embedding en el Decoder.\n",
            "Checkpoint cargado desde: Modelos_entrenados/Aumentar_secuencias\n"
          ]
        }
      ],
      "source": [
        "nb_words = min(MAX_VOCAB_SIZE, len(word2idx_inputs) + 1)\n",
        "embedding_matrix, words_not_found, nb_words = preparar_embedding_matrix(model_embeddings, word2idx_inputs, MAX_VOCAB_SIZE)\n",
        "\n",
        "encoder = Encoder(vocab_size=nb_words, embedding_matrix=embedding_matrix)\n",
        "if cuda: encoder.cuda()\n",
        "# decoder --> vocab_size == output_dim --> porque recibe y devuelve palabras en el mismo vocabulario\n",
        "decoder = Decoder(vocab_size=num_words_output, output_dim=num_words_output)\n",
        "if cuda: decoder.cuda()\n",
        "\n",
        "model = Seq2Seq(encoder, decoder)\n",
        "if cuda: model.cuda()\n",
        "\n",
        "# Crear el optimizador la una función de error\n",
        "optimizer = torch.optim.Adam(model.parameters(), lr=0.1)\n",
        "criterion = torch.nn.CrossEntropyLoss()  # Para clasificación multi categórica\n",
        "\n",
        "\n",
        "# Verificar que si el modelo ya existe para cargarlo. Sino entrenar\n",
        "carpeta = \"Modelos_entrenados/Aumentar_secuencias\"\n",
        "\n",
        "modelo_entrenado = check_checkpoint_exists(carpeta)\n",
        "\n",
        "if not modelo_entrenado:\n",
        "    history3 = train(model,\n",
        "                    train_loader,\n",
        "                    valid_loader,\n",
        "                    optimizer,\n",
        "                    criterion,\n",
        "                    epochs=10\n",
        "                    )\n",
        "    config = {\n",
        "        # Información general\n",
        "        \"max_input_len\": max_input_len,\n",
        "        \"max_out_len\": max_out_len,\n",
        "        \"max_vocab_size\": MAX_VOCAB_SIZE,\n",
        "        \"cuda\": cuda,\n",
        "\n",
        "        # Hiperparámetros de embedding y red\n",
        "        \"embedding_dim\": embedding_matrix.shape[1],\n",
        "        \"hidden_size\": 128,        \n",
        "        \"num_layers\": 1,           \n",
        "        \"lr\": 0.1,\n",
        "        \"batch_size\": 32,\n",
        "        \"epochs\": 10,\n",
        "\n",
        "        # Vocabularios (usar tamaños reales)\n",
        "        \"num_words_input\": int(embedding_matrix.shape[0]),\n",
        "        \"num_words_output\": int(num_words_output),\n",
        "\n",
        "        # Checkpoint info (opcional)\n",
        "        \"embedding_source\": getattr(model_embeddings, \"name\", \"custom\"),\n",
        "    }\n",
        "    save_checkpoint(carpeta, model, optimizer, history3, config,\n",
        "                    input_tokenizer, output_tokenizer,\n",
        "                    word2idx_inputs, word2idx_outputs, embedding_matrix)\n",
        "else:\n",
        "    data = load_checkpoint(carpeta, Encoder, Decoder, Seq2Seq, device=\"cuda\" if cuda else \"cpu\")\n",
        "    model = data[\"model\"]\n",
        "    optimizer = data[\"optimizer\"]\n",
        "    history3 = data[\"history\"]\n",
        "\n",
        "\n"
      ]
    },
    {
      "cell_type": "code",
      "execution_count": 124,
      "metadata": {},
      "outputs": [
        {
          "data": {
            "image/png": "[encoded data removed]",
            "text/plain": [
              "<Figure size 640x480 with 1 Axes>"
            ]
          },
          "metadata": {},
          "output_type": "display_data"
        }
      ],
      "source": [
        "graficar_accuracy(history3)"
      ]
    },
    {
      "cell_type": "markdown",
      "metadata": {},
      "source": [
        "Se observa una mejora significativa del accuracy respecto a las variantes anteriores, por lo que se mantiene la modificación para las siguientes variantes a entrenar:"
      ]
    },
    {
      "cell_type": "markdown",
      "metadata": {},
      "source": [
        "## 5. Aumentar cantidad de hidden units de LSTM"
      ]
    },
    {
      "cell_type": "code",
      "execution_count": 125,
      "metadata": {},
      "outputs": [],
      "source": [
        "class Encoder_2(nn.Module):\n",
        "    def __init__(self, vocab_size, embedding_matrix):\n",
        "        super().__init__()\n",
        "        # num_embeddings = vocab_size, definido por le Tokenizador\n",
        "        # embedding_dim = 50 --> dimensión de los embeddings utilizados\n",
        "        self.lstm_size = 256\n",
        "        self.num_layers = 1\n",
        "        self.embedding_dim = embedding_matrix.shape[1]\n",
        "        self.embedding = nn.Embedding(num_embeddings=vocab_size, embedding_dim=self.embedding_dim, padding_idx=0)\n",
        "        self.embedding.weight.data.copy_(torch.from_numpy(embedding_matrix))\n",
        "        self.embedding.weight.requires_grad = False  # marcar como layer no entrenable (freeze)\n",
        "        self.lstm = nn.LSTM(input_size=self.embedding_dim, hidden_size=self.lstm_size, batch_first=True,\n",
        "                            num_layers=self.num_layers) # LSTM layer\n",
        "\n",
        "    def forward(self, x):\n",
        "        out = self.embedding(x)\n",
        "        lstm_output, (ht, ct) = self.lstm(out)\n",
        "        return (ht, ct)\n",
        "\n",
        "class Decoder_2(nn.Module):\n",
        "    def __init__(self, vocab_size, output_dim, embedding_matrix=None):\n",
        "        super().__init__()\n",
        "        # num_embeddings = vocab_size, definido por le Tokenizador\n",
        "        # embedding_dim = 50 --> dimensión de los embeddings utilizados\n",
        "        self.lstm_size = 256\n",
        "        self.num_layers = 1\n",
        "        self.embedding_dim = embedding_matrix.shape[1] if embedding_matrix is not None else 50\n",
        "        self.output_dim = output_dim\n",
        "\n",
        "        self.embedding = nn.Embedding(num_embeddings=vocab_size, embedding_dim=self.embedding_dim, padding_idx=0)\n",
        "\n",
        "        # Para utilizar versión con embedding preentrenados\n",
        "        if embedding_matrix is not None:\n",
        "            self.embedding.weight.data.copy_(torch.from_numpy(embedding_matrix))\n",
        "            self.embedding.weight.requires_grad = False  # \n",
        "\n",
        "        self.lstm = nn.LSTM(input_size=self.embedding_dim, hidden_size=self.lstm_size, batch_first=True,\n",
        "                            num_layers=self.num_layers) # LSTM layer\n",
        "        self.fc1 = nn.Linear(in_features=self.lstm_size, out_features=self.output_dim) # Fully connected layer\n",
        "\n",
        "\n",
        "    def forward(self, x, prev_state):\n",
        "        out = self.embedding(x)\n",
        "        lstm_output, (ht, ct) = self.lstm(out, prev_state)\n",
        "        out = self.fc1(lstm_output[:,-1,:])\n",
        "        return out, (ht, ct)"
      ]
    },
    {
      "cell_type": "code",
      "execution_count": 126,
      "metadata": {},
      "outputs": [
        {
          "name": "stdout",
          "output_type": "stream",
          "text": [
            "Checkpoint completo encontrado en: Modelos_entrenados/Aumentar_hidden_size\n",
            "No se encontró embedding_matrix_decoder.npy — se entrenará embedding en el Decoder.\n",
            "Checkpoint cargado desde: Modelos_entrenados/Aumentar_hidden_size\n"
          ]
        }
      ],
      "source": [
        "encoder = Encoder_2(vocab_size=nb_words, embedding_matrix=embedding_matrix)\n",
        "if cuda: encoder.cuda()\n",
        "# decoder --> vocab_size == output_dim --> porque recibe y devuelve palabras en el mismo vocabulario\n",
        "decoder = Decoder_2(vocab_size=num_words_output, output_dim=num_words_output)\n",
        "if cuda: decoder.cuda()\n",
        "\n",
        "model = Seq2Seq(encoder, decoder)\n",
        "if cuda: model.cuda()\n",
        "\n",
        "# Crear el optimizador la una función de error\n",
        "optimizer = torch.optim.Adam(model.parameters(), lr=0.1)\n",
        "criterion = torch.nn.CrossEntropyLoss()  # Para clasificación multi categórica\n",
        "\n",
        "# Verificar que si el modelo ya existe para cargarlo. Sino entrenar\n",
        "carpeta = \"Modelos_entrenados/Aumentar_hidden_size\"\n",
        "\n",
        "modelo_entrenado = check_checkpoint_exists(carpeta)\n",
        "\n",
        "n_epochs = 10\n",
        "\n",
        "if not modelo_entrenado:\n",
        "    history4 = train(model,\n",
        "                    train_loader,\n",
        "                    valid_loader,\n",
        "                    optimizer,\n",
        "                    criterion,\n",
        "                    epochs=n_epochs\n",
        "                    )\n",
        "    config = {\n",
        "        # Información general\n",
        "        \"max_input_len\": max_input_len,\n",
        "        \"max_out_len\": max_out_len,\n",
        "        \"max_vocab_size\": MAX_VOCAB_SIZE,\n",
        "        \"cuda\": cuda,\n",
        "\n",
        "        # Hiperparámetros de embedding y red\n",
        "        \"embedding_dim\": embedding_matrix.shape[1],\n",
        "        \"hidden_size\": 256,      \n",
        "        \"num_layers\": 1,           \n",
        "        \"lr\": 0.1,\n",
        "        \"batch_size\": 32,\n",
        "        \"epochs\": n_epochs,\n",
        "\n",
        "        # Vocabularios (usar tamaños reales)\n",
        "        \"num_words_input\": int(embedding_matrix.shape[0]),\n",
        "        \"num_words_output\": int(num_words_output),\n",
        "\n",
        "        # Checkpoint info (opcional)\n",
        "        \"embedding_source\": getattr(model_embeddings, \"name\", \"custom\"),\n",
        "    }\n",
        "    save_checkpoint(carpeta, model, optimizer, history4, config,\n",
        "                    input_tokenizer, output_tokenizer,\n",
        "                    word2idx_inputs, word2idx_outputs, embedding_matrix)\n",
        "else:\n",
        "    data = load_checkpoint(carpeta, Encoder_2, Decoder_2, Seq2Seq, device=\"cuda\" if cuda else \"cpu\")\n",
        "    model = data[\"model\"]\n",
        "    optimizer = data[\"optimizer\"]\n",
        "    history4 = data[\"history\"]"
      ]
    },
    {
      "cell_type": "code",
      "execution_count": 127,
      "metadata": {},
      "outputs": [
        {
          "data": {
            "image/png": "[encoded data removed]",
            "text/plain": [
              "<Figure size 640x480 with 1 Axes>"
            ]
          },
          "metadata": {},
          "output_type": "display_data"
        }
      ],
      "source": [
        "graficar_accuracy(history4)"
      ]
    },
    {
      "cell_type": "markdown",
      "metadata": {},
      "source": [
        "## 6. Aumentar cantidad de celdas LSTM"
      ]
    },
    {
      "cell_type": "code",
      "execution_count": 128,
      "metadata": {},
      "outputs": [],
      "source": [
        "class Encoder_3(nn.Module):\n",
        "    def __init__(self, vocab_size, embedding_matrix):\n",
        "        super().__init__()\n",
        "        # num_embeddings = vocab_size, definido por le Tokenizador\n",
        "        # embedding_dim = 50 --> dimensión de los embeddings utilizados\n",
        "        self.lstm_size1 = 128\n",
        "        self.lstm_size2 = 64\n",
        "        self.num_layers = 1\n",
        "        self.embedding_dim = embedding_matrix.shape[1]\n",
        "        self.embedding = nn.Embedding(num_embeddings=vocab_size, embedding_dim=self.embedding_dim, padding_idx=0)\n",
        "        self.embedding.weight.data.copy_(torch.from_numpy(embedding_matrix))\n",
        "        self.embedding.weight.requires_grad = False  # marcar como layer no entrenable (freeze)\n",
        "        # Primer LSTM\n",
        "        self.lstm1 = nn.LSTM(input_size=self.embedding_dim,\n",
        "                             hidden_size=self.lstm_size1,\n",
        "                             batch_first=True,\n",
        "                             num_layers=self.num_layers)\n",
        "\n",
        "        # Segundo LSTM, recibe como input la salida del primero\n",
        "        self.lstm2 = nn.LSTM(input_size=self.lstm_size1,\n",
        "                             hidden_size=self.lstm_size2,\n",
        "                             batch_first=True,\n",
        "                             num_layers=self.num_layers)\n",
        "\n",
        "    def forward(self, x):\n",
        "        out = self.embedding(x)\n",
        "        lstm_out1, (h1, c1) = self.lstm1(out)  # [batch_size, seq_len, lstm_size1]\n",
        "        lstm_out2, (h2, c2) = self.lstm2(lstm_out1)  # [batch_size, seq_len, lstm_size2]\n",
        "\n",
        "        # Retornar hidden y cell del último LSTM\n",
        "        return h2, c2\n",
        "\n",
        "class Decoder_3(nn.Module):\n",
        "    def __init__(self, vocab_size, output_dim, embedding_matrix=None):\n",
        "        super().__init__()\n",
        "        # num_embeddings = vocab_size, definido por le Tokenizador\n",
        "        # embedding_dim = 50 --> dimensión de los embeddings utilizados\n",
        "        self.lstm_size1 = 128\n",
        "        self.lstm_size2 = 64\n",
        "        self.num_layers = 1 \n",
        "        self.embedding_dim = embedding_matrix.shape[1] if embedding_matrix is not None else 50\n",
        "        self.output_dim = output_dim\n",
        "\n",
        "        self.embedding = nn.Embedding(num_embeddings=vocab_size, embedding_dim=self.embedding_dim, padding_idx=0)\n",
        "\n",
        "        # Para utilizar versión con embedding preentrenados\n",
        "        if embedding_matrix is not None:\n",
        "            self.embedding.weight.data.copy_(torch.from_numpy(embedding_matrix))\n",
        "            self.embedding.weight.requires_grad = False  # \n",
        "\n",
        "        # Primer LSTM\n",
        "        self.lstm1 = nn.LSTM(input_size=self.embedding_dim,\n",
        "                             hidden_size=self.lstm_size1,\n",
        "                             batch_first=True,\n",
        "                             num_layers=self.num_layers)\n",
        "\n",
        "        # Segundo LSTM, recibe como input la salida del primero\n",
        "        self.lstm2 = nn.LSTM(input_size=self.lstm_size1,\n",
        "                             hidden_size=self.lstm_size2,\n",
        "                             batch_first=True,\n",
        "                             num_layers=self.num_layers)\n",
        "\n",
        "        self.fc1 = nn.Linear(in_features=self.lstm_size2, out_features=self.output_dim) # Fully connected layer\n",
        "\n",
        "\n",
        "    def forward(self, x, prev_state):\n",
        "        out = self.embedding(x)\n",
        "        # Primera LSTM SIN estado inicial (128)\n",
        "        lstm_out1, _ = self.lstm1(out)\n",
        "        # Segunda LSTM CON el estado del encoder (64)\n",
        "        lstm_out2, (ht2, ct2) = self.lstm2(lstm_out1, prev_state)\n",
        "        out = self.fc1(lstm_out2[:,-1,:])\n",
        "        return out, (ht2, ct2)\n",
        "\n",
        "class Seq2Seq_3(nn.Module):\n",
        "    def __init__(self, encoder, decoder):\n",
        "        super().__init__()\n",
        "        \n",
        "        self.encoder = encoder\n",
        "        self.decoder = decoder\n",
        "        \n",
        "        assert encoder.lstm_size2 == decoder.lstm_size2, \\\n",
        "            \"Hidden dimensions of encoder and decoder must be equal!\"\n",
        "        assert encoder.num_layers == decoder.num_layers, \\\n",
        "            \"Encoder and decoder must have equal number of layers!\"\n",
        "        \n",
        "    def forward(self, encoder_input, decoder_input):\n",
        "        batch_size = decoder_input.shape[0]\n",
        "        decoder_input_len = decoder_input.shape[1]\n",
        "        vocab_size = self.decoder.output_dim\n",
        "        \n",
        "        # tensor para almacenar la salida\n",
        "        # (batch_size, sentence_len, one_hot_size)\n",
        "        outputs = torch.zeros(batch_size, decoder_input_len, vocab_size)\n",
        "        \n",
        "        # ultimo hidden state del encoder, primer estado oculto del decoder\n",
        "        prev_state = self.encoder(encoder_input)\n",
        "      \n",
        "        # En la primera iteracion se toma el primer token de target (<sos>)\n",
        "        input = decoder_input[:, 0:1]\n",
        "\n",
        "        for t in range(decoder_input_len):\n",
        "            # t --> token index\n",
        "\n",
        "            # utilizamos método \"teacher forcing\", es decir que durante\n",
        "            # el entrenamiento no realimentamos la salida del decoder\n",
        "            # sino el token correcto que sigue en target\n",
        "            input = decoder_input[:, t:t+1]\n",
        "\n",
        "            # ingresar cada token embedding, uno por uno junto al hidden state\n",
        "            # recibir el output del decoder (softmax)\n",
        "            output, prev_state = self.decoder(input, prev_state)\n",
        "            top1 = output.argmax(1).view(-1, 1)\n",
        "\n",
        "            # Sino se usará \"teacher forcing\" habría que descomentar\n",
        "            # esta linea.\n",
        "            # Hay ejemplos dandos vuelta en donde se utilza un random \n",
        "            # para ver en cada vuelta que técnica se aplica\n",
        "            #input = top1            \n",
        "\n",
        "            # guardar cada salida (softmax)\n",
        "            outputs[:, t, :] = output\n",
        "\n",
        "        return outputs\n"
      ]
    },
    {
      "cell_type": "code",
      "execution_count": 129,
      "metadata": {},
      "outputs": [
        {
          "name": "stdout",
          "output_type": "stream",
          "text": [
            "Checkpoint completo encontrado en: Modelos_entrenados/Aumentar_capas_LSTM\n",
            "No se encontró embedding_matrix_decoder.npy — se entrenará embedding en el Decoder.\n",
            "Checkpoint cargado desde: Modelos_entrenados/Aumentar_capas_LSTM\n"
          ]
        }
      ],
      "source": [
        "encoder = Encoder_3(vocab_size=nb_words, embedding_matrix=embedding_matrix)\n",
        "if cuda: encoder.cuda()\n",
        "# decoder --> vocab_size == output_dim --> porque recibe y devuelve palabras en el mismo vocabulario\n",
        "decoder = Decoder_3(vocab_size=num_words_output, output_dim=num_words_output)\n",
        "if cuda: decoder.cuda()\n",
        "\n",
        "model = Seq2Seq_3(encoder, decoder)\n",
        "if cuda: model.cuda()\n",
        "\n",
        "# Crear el optimizador la una función de error\n",
        "optimizer = torch.optim.Adam(model.parameters(), lr=0.1)\n",
        "criterion = torch.nn.CrossEntropyLoss()  # Para clasificación multi categórica\n",
        "\n",
        "# Verificar que si el modelo ya existe para cargarlo. Sino entrenar\n",
        "carpeta = \"Modelos_entrenados/Aumentar_capas_LSTM\"\n",
        "\n",
        "modelo_entrenado = check_checkpoint_exists(carpeta)\n",
        "\n",
        "n_epochs = 10\n",
        "\n",
        "if not modelo_entrenado:\n",
        "    history5 = train(model,\n",
        "                    train_loader,\n",
        "                    valid_loader,\n",
        "                    optimizer,\n",
        "                    criterion,\n",
        "                    epochs=n_epochs\n",
        "                    )\n",
        "    config = {\n",
        "        # Información general\n",
        "        \"max_input_len\": max_input_len,\n",
        "        \"max_out_len\": max_out_len,\n",
        "        \"max_vocab_size\": MAX_VOCAB_SIZE,\n",
        "        \"cuda\": cuda,\n",
        "\n",
        "        # Hiperparámetros de embedding y red\n",
        "        \"embedding_dim\": embedding_matrix.shape[1],\n",
        "        \"hidden_size\": 128,        \n",
        "        \"hidden_size_lstm2\": 64,\n",
        "        \"num_layers\": 1,          \n",
        "        \"lr\": 0.1,\n",
        "        \"batch_size\": 32,\n",
        "        \"epochs\": n_epochs,\n",
        "\n",
        "        # Vocabularios (usar tamaños reales)\n",
        "        \"num_words_input\": int(embedding_matrix.shape[0]),\n",
        "        \"num_words_output\": int(num_words_output),\n",
        "\n",
        "        # Checkpoint info (opcional)\n",
        "        \"embedding_source\": getattr(model_embeddings, \"name\", \"custom\"),\n",
        "    }\n",
        "    save_checkpoint(carpeta, model, optimizer, history5, config,\n",
        "                    input_tokenizer, output_tokenizer,\n",
        "                    word2idx_inputs, word2idx_outputs, embedding_matrix)\n",
        "else:\n",
        "    data = load_checkpoint(carpeta, Encoder_3, Decoder_3, Seq2Seq_3, device=\"cuda\" if cuda else \"cpu\")\n",
        "    model = data[\"model\"]\n",
        "    optimizer = data[\"optimizer\"]\n",
        "    history5 = data[\"history\"]"
      ]
    },
    {
      "cell_type": "code",
      "execution_count": 130,
      "metadata": {},
      "outputs": [
        {
          "data": {
            "image/png": "[encoded data removed]",
            "text/plain": [
              "<Figure size 640x480 with 1 Axes>"
            ]
          },
          "metadata": {},
          "output_type": "display_data"
        }
      ],
      "source": [
        "graficar_accuracy(history5)"
      ]
    },
    {
      "cell_type": "markdown",
      "metadata": {},
      "source": [
        "## 7. LSTM bidireccional Encoder\n",
        "Ahora se modifica la LSTM por una bidireccional. Esto se hace solamente en el Encoder, ya que el Decoder no puede utilizar información futura"
      ]
    },
    {
      "cell_type": "code",
      "execution_count": 131,
      "metadata": {},
      "outputs": [],
      "source": [
        "class Encoder_bidireccional(nn.Module):\n",
        "    def __init__(self, vocab_size, embedding_matrix, dropout_rate=0.2):\n",
        "        super().__init__()\n",
        "        # num_embeddings = vocab_size, definido por le Tokenizador\n",
        "        # embedding_dim = 50 --> dimensión de los embeddings utilizados\n",
        "        self.lstm_size = 128\n",
        "        self.num_layers = 1\n",
        "        self.embedding_dim = embedding_matrix.shape[1]\n",
        "        self.dropout_rate = dropout_rate\n",
        "        \n",
        "        self.embedding = nn.Embedding(num_embeddings=vocab_size, embedding_dim=self.embedding_dim, padding_idx=0)\n",
        "        self.embedding.weight.data.copy_(torch.from_numpy(embedding_matrix))\n",
        "        self.embedding.weight.requires_grad = False  # marcar como layer no entrenable (freeze)\n",
        "        \n",
        "        # Dropout después del embedding\n",
        "        self.dropout_embedding = nn.Dropout(self.dropout_rate)\n",
        "        \n",
        "        self.lstm = nn.LSTM(\n",
        "            input_size=self.embedding_dim,\n",
        "            hidden_size=self.lstm_size,\n",
        "            batch_first=True,\n",
        "            num_layers=self.num_layers,\n",
        "            bidirectional=True,\n",
        "            dropout=self.dropout_rate \n",
        "        )\n",
        "\n",
        "    def forward(self, x):\n",
        "        out = self.embedding(x)\n",
        "        out = self.dropout_embedding(out)  # Dropout después del embedding\n",
        "        lstm_output, (ht, ct) = self.lstm(out)\n",
        "        \n",
        "        # CAMBIO CLAVE: Usar solo el estado forward para evitar problemas de dimensiones\n",
        "        # Esto mantiene la ventaja bidireccional del encoder pero evita incompatibilidades\n",
        "        ht_forward = ht[0].unsqueeze(0)  # Solo forward, shape (1, batch, 128)\n",
        "        ct_forward = ct[0].unsqueeze(0)  # Solo forward, shape (1, batch, 128)\n",
        "        \n",
        "        return (ht_forward, ct_forward)\n",
        "\n",
        "class Decoder_bidreccional(nn.Module):\n",
        "    def __init__(self, vocab_size, output_dim, embedding_matrix=None, dropout_rate=0.2):\n",
        "        super().__init__()\n",
        "        # num_embeddings = vocab_size, definido por le Tokenizador\n",
        "        # embedding_dim = 50 --> dimensión de los embeddings utilizados\n",
        "        self.lstm_size = 128  # Mismo tamaño que el encoder (no bidireccional)\n",
        "        self.num_layers = 1\n",
        "        self.embedding_dim = embedding_matrix.shape[1] if embedding_matrix is not None else 50\n",
        "        self.output_dim = output_dim\n",
        "        self.dropout_rate = dropout_rate\n",
        "\n",
        "        self.embedding = nn.Embedding(num_embeddings=vocab_size, embedding_dim=self.embedding_dim, padding_idx=0)\n",
        "\n",
        "        # Para utilizar versión con embedding preentrenados\n",
        "        if embedding_matrix is not None:\n",
        "            self.embedding.weight.data.copy_(torch.from_numpy(embedding_matrix))\n",
        "            self.embedding.weight.requires_grad = False  # \n",
        "\n",
        "        # Dropout después del embedding\n",
        "        self.dropout_embedding = nn.Dropout(self.dropout_rate)\n",
        "\n",
        "        self.lstm = nn.LSTM(\n",
        "            input_size=self.embedding_dim,\n",
        "            hidden_size=self.lstm_size,  # 128 - compatible con encoder\n",
        "            batch_first=True,\n",
        "            num_layers=self.num_layers,\n",
        "            dropout=self.dropout_rate \n",
        "        )\n",
        "        \n",
        "        # Dropout antes de la capa final\n",
        "        self.dropout_output = nn.Dropout(self.dropout_rate)\n",
        "        self.fc1 = nn.Linear(self.lstm_size, self.output_dim)\n",
        "        # SIN SOFTMAX - usar solo logits para evitar problemas de gradientes\n",
        "\n",
        "    def forward(self, x, prev_state):\n",
        "        out = self.embedding(x)\n",
        "        out = self.dropout_embedding(out)  # Dropout después del embedding\n",
        "        lstm_output, (ht, ct) = self.lstm(out, prev_state)\n",
        "        out = self.dropout_output(lstm_output[:,-1,:])  # Dropout antes de la capa final\n",
        "        out = self.fc1(out)  # Solo logits, sin softmax\n",
        "        return out, (ht, ct)\n"
      ]
    },
    {
      "cell_type": "code",
      "execution_count": 132,
      "metadata": {},
      "outputs": [
        {
          "name": "stdout",
          "output_type": "stream",
          "text": [
            "✓ Modelo bidireccional creado con dropout_rate = 0.2\n",
            "✓ Learning rate = 0.01\n",
            "✓ Dispositivo: CUDA\n",
            "Checkpoint completo encontrado en: Modelos_entrenados/LSTM_bidireccional\n",
            "\n",
            "Cargando modelo existente desde Modelos_entrenados/LSTM_bidireccional\n",
            "No se encontró embedding_matrix_decoder.npy — se entrenará embedding en el Decoder.\n",
            "Checkpoint cargado desde: Modelos_entrenados/LSTM_bidireccional\n",
            "Modelo cargado exitosamente\n"
          ]
        },
        {
          "name": "stderr",
          "output_type": "stream",
          "text": [
            "/home/agustin/Desktop/CEIA UBA/Procesamiento Lenguaje Natural I/CEIA-ProcesamientoLenguajeNaturalI/.venv/lib/python3.12/site-packages/torch/nn/modules/rnn.py:123: UserWarning: dropout option adds dropout after all but last recurrent layer, so non-zero dropout expects num_layers greater than 1, but got dropout=0.2 and num_layers=1\n",
            "  warnings.warn(\n"
          ]
        }
      ],
      "source": [
        "# Crear el modelo bidireccional con dropout\n",
        "dropout_rate = 0.2  # 20% de dropout por defecto\n",
        "\n",
        "encoder_bidireccional = Encoder_bidireccional(vocab_size=nb_words, \n",
        "                                            embedding_matrix=embedding_matrix, \n",
        "                                            dropout_rate=dropout_rate)\n",
        "if cuda: encoder_bidireccional.to(device)\n",
        "\n",
        "# decoder --> vocab_size == output_dim --> porque recibe y devuelve palabras en el mismo vocabulario\n",
        "decoder_bidreccional = Decoder_bidreccional(vocab_size=num_words_output, \n",
        "                                          output_dim=num_words_output,\n",
        "                                          dropout_rate=dropout_rate)\n",
        "if cuda: decoder_bidreccional.to(device)\n",
        "\n",
        "model = Seq2Seq(encoder_bidireccional, decoder_bidreccional)\n",
        "if cuda: model.to(device)\n",
        "\n",
        "# Crear el optimizador la una función de error\n",
        "optimizer = torch.optim.Adam(model.parameters(), lr=0.01)  # Learning rate más conservador\n",
        "criterion = torch.nn.CrossEntropyLoss()  # Para clasificación multi categórica\n",
        "\n",
        "print(f\"✓ Modelo bidireccional creado con dropout_rate = {dropout_rate}\")\n",
        "print(f\"✓ Learning rate = 0.01\")\n",
        "print(f\"✓ Dispositivo: {'CUDA' if cuda else 'CPU'}\")\n",
        "\n",
        "# Verificar que si el modelo ya existe para cargarlo. Sino entrenar\n",
        "carpeta = \"Modelos_entrenados/LSTM_bidireccional\"\n",
        "\n",
        "modelo_entrenado = check_checkpoint_exists(carpeta)\n",
        "\n",
        "n_epochs = 20\n",
        "\n",
        "if not modelo_entrenado:\n",
        "    print(f\"\\nIniciando entrenamiento por {n_epochs} épocas...\")\n",
        "    history6 = train(model,\n",
        "                    train_loader,\n",
        "                    valid_loader,\n",
        "                    optimizer,\n",
        "                    criterion,\n",
        "                    epochs=n_epochs\n",
        "                    )\n",
        "    config = {\n",
        "        # Información general\n",
        "        \"max_input_len\": max_input_len,\n",
        "        \"max_out_len\": max_out_len,\n",
        "        \"max_vocab_size\": MAX_VOCAB_SIZE,\n",
        "        \"cuda\": cuda,\n",
        "\n",
        "        # Hiperparámetros de embedding y red\n",
        "        \"embedding_dim\": embedding_matrix.shape[1],\n",
        "        \"hidden_size\": 128,      \n",
        "        \"num_layers\": 1,           \n",
        "        \"lr\": 0.01,  # Learning rate más conservador\n",
        "        \"dropout_rate\": dropout_rate,  # Nuevo parámetro\n",
        "        \"batch_size\": 32,\n",
        "        \"epochs\": n_epochs,\n",
        "\n",
        "        # Vocabularios (usar tamaños reales)\n",
        "        \"num_words_input\": int(embedding_matrix.shape[0]),\n",
        "        \"num_words_output\": int(num_words_output),\n",
        "\n",
        "        # Checkpoint info (opcional)\n",
        "        \"embedding_source\": getattr(model_embeddings, \"name\", \"custom\"),\n",
        "    }\n",
        "    save_checkpoint(carpeta, model, optimizer, history6, config,\n",
        "                    input_tokenizer, output_tokenizer,\n",
        "                    word2idx_inputs, word2idx_outputs, embedding_matrix)\n",
        "    print(\"Modelo entrenado y guardado exitosamente\")\n",
        "else:\n",
        "    print(f\"\\nCargando modelo existente desde {carpeta}\")\n",
        "    data = load_checkpoint(carpeta, Encoder_bidireccional, Decoder_bidreccional, Seq2Seq, device=\"cuda\" if cuda else \"cpu\")\n",
        "    model = data[\"model\"]\n",
        "    optimizer = data[\"optimizer\"]\n",
        "    history6 = data[\"history\"]\n",
        "    print(\"Modelo cargado exitosamente\")\n"
      ]
    },
    {
      "cell_type": "code",
      "execution_count": 133,
      "metadata": {},
      "outputs": [
        {
          "data": {
            "image/png": "[encoded data removed]",
            "text/plain": [
              "<Figure size 640x480 with 1 Axes>"
            ]
          },
          "metadata": {},
          "output_type": "display_data"
        }
      ],
      "source": [
        "graficar_accuracy(history6)\n"
      ]
    },
    {
      "cell_type": "markdown",
      "metadata": {},
      "source": [
        "## 8. Embedding de encoder entrenable"
      ]
    },
    {
      "cell_type": "code",
      "execution_count": 134,
      "metadata": {},
      "outputs": [],
      "source": [
        "class Encoder_bidireccional_2(nn.Module):\n",
        "    def __init__(self, vocab_size, embedding_matrix, dropout_rate=0.2):\n",
        "        super().__init__()\n",
        "        # num_embeddings = vocab_size, definido por le Tokenizador\n",
        "        # embedding_dim = 50 --> dimensión de los embeddings utilizados\n",
        "        self.lstm_size = 128\n",
        "        self.num_layers = 1\n",
        "        self.embedding_dim = embedding_matrix.shape[1]\n",
        "        self.dropout_rate = dropout_rate\n",
        "        \n",
        "        self.embedding = nn.Embedding(num_embeddings=vocab_size, embedding_dim=self.embedding_dim, padding_idx=0)\n",
        "        self.embedding.weight.data.copy_(torch.from_numpy(embedding_matrix))\n",
        "        \n",
        "        # Dropout después del embedding\n",
        "        self.dropout_embedding = nn.Dropout(self.dropout_rate)\n",
        "        \n",
        "        self.lstm = nn.LSTM(\n",
        "            input_size=self.embedding_dim,\n",
        "            hidden_size=self.lstm_size,\n",
        "            batch_first=True,\n",
        "            num_layers=self.num_layers,\n",
        "            bidirectional=True,\n",
        "            dropout=self.dropout_rate \n",
        "        )\n",
        "\n",
        "    def forward(self, x):\n",
        "        out = self.embedding(x)\n",
        "        out = self.dropout_embedding(out)  # Dropout después del embedding\n",
        "        lstm_output, (ht, ct) = self.lstm(out)\n",
        "        \n",
        "        # CAMBIO CLAVE: Usar solo el estado forward para evitar problemas de dimensiones\n",
        "        # Esto mantiene la ventaja bidireccional del encoder pero evita incompatibilidades\n",
        "        ht_forward = ht[0].unsqueeze(0)  # Solo forward, shape (1, batch, 128)\n",
        "        ct_forward = ct[0].unsqueeze(0)  # Solo forward, shape (1, batch, 128)\n",
        "        \n",
        "        return (ht_forward, ct_forward)\n",
        "\n",
        "class Decoder_bidreccional_2(nn.Module):\n",
        "    def __init__(self, vocab_size, output_dim, embedding_matrix=None, dropout_rate=0.2):\n",
        "        super().__init__()\n",
        "        # num_embeddings = vocab_size, definido por le Tokenizador\n",
        "        # embedding_dim = 50 --> dimensión de los embeddings utilizados\n",
        "        self.lstm_size = 128  # Mismo tamaño que el encoder (no bidireccional)\n",
        "        self.num_layers = 1\n",
        "        self.embedding_dim = embedding_matrix.shape[1] if embedding_matrix is not None else 50\n",
        "        self.output_dim = output_dim\n",
        "        self.dropout_rate = dropout_rate\n",
        "\n",
        "        self.embedding = nn.Embedding(num_embeddings=vocab_size, embedding_dim=self.embedding_dim, padding_idx=0)\n",
        "\n",
        "        # Para utilizar versión con embedding preentrenados\n",
        "        if embedding_matrix is not None:\n",
        "            self.embedding.weight.data.copy_(torch.from_numpy(embedding_matrix))\n",
        "            self.embedding.weight.requires_grad = False  # \n",
        "\n",
        "        # Dropout después del embedding\n",
        "        self.dropout_embedding = nn.Dropout(self.dropout_rate)\n",
        "\n",
        "        self.lstm = nn.LSTM(\n",
        "            input_size=self.embedding_dim,\n",
        "            hidden_size=self.lstm_size,  # 128 - compatible con encoder\n",
        "            batch_first=True,\n",
        "            num_layers=self.num_layers,\n",
        "            dropout=self.dropout_rate \n",
        "        )\n",
        "        \n",
        "        # Dropout antes de la capa final\n",
        "        self.dropout_output = nn.Dropout(self.dropout_rate)\n",
        "        self.fc1 = nn.Linear(self.lstm_size, self.output_dim)\n",
        "        # SIN SOFTMAX - usar solo logits para evitar problemas de gradientes\n",
        "\n",
        "    def forward(self, x, prev_state):\n",
        "        out = self.embedding(x)\n",
        "        out = self.dropout_embedding(out)  # Dropout después del embedding\n",
        "        lstm_output, (ht, ct) = self.lstm(out, prev_state)\n",
        "        out = self.dropout_output(lstm_output[:,-1,:])  # Dropout antes de la capa final\n",
        "        out = self.fc1(out)  # Solo logits, sin softmax\n",
        "        return out, (ht, ct)"
      ]
    },
    {
      "cell_type": "code",
      "execution_count": 135,
      "metadata": {},
      "outputs": [
        {
          "name": "stderr",
          "output_type": "stream",
          "text": [
            "/home/agustin/Desktop/CEIA UBA/Procesamiento Lenguaje Natural I/CEIA-ProcesamientoLenguajeNaturalI/.venv/lib/python3.12/site-packages/torch/nn/modules/rnn.py:123: UserWarning: dropout option adds dropout after all but last recurrent layer, so non-zero dropout expects num_layers greater than 1, but got dropout=0.2 and num_layers=1\n",
            "  warnings.warn(\n"
          ]
        },
        {
          "name": "stdout",
          "output_type": "stream",
          "text": [
            "✓ Modelo bidireccional creado con dropout_rate = 0.2\n",
            "✓ Learning rate = 0.01\n",
            "✓ Dispositivo: CUDA\n",
            "Checkpoint completo encontrado en: Modelos_entrenados/Embedding_encoder_entrenable\n",
            "\n",
            "Cargando modelo existente desde Modelos_entrenados/Embedding_encoder_entrenable\n",
            "No se encontró embedding_matrix_decoder.npy — se entrenará embedding en el Decoder.\n",
            "Checkpoint cargado desde: Modelos_entrenados/Embedding_encoder_entrenable\n",
            "Modelo cargado exitosamente\n"
          ]
        }
      ],
      "source": [
        "# Crear el modelo bidireccional con dropout\n",
        "dropout_rate = 0.2  # 20% de dropout por defecto\n",
        "\n",
        "encoder_bidireccional = Encoder_bidireccional_2(vocab_size=nb_words, \n",
        "                                            embedding_matrix=embedding_matrix, \n",
        "                                            dropout_rate=dropout_rate)\n",
        "if cuda: encoder_bidireccional.to(device)\n",
        "\n",
        "# decoder --> vocab_size == output_dim --> porque recibe y devuelve palabras en el mismo vocabulario\n",
        "decoder_bidreccional = Decoder_bidreccional_2(vocab_size=num_words_output, \n",
        "                                          output_dim=num_words_output,\n",
        "                                          dropout_rate=dropout_rate)\n",
        "if cuda: decoder_bidreccional.to(device)\n",
        "\n",
        "model = Seq2Seq(encoder_bidireccional, decoder_bidreccional)\n",
        "if cuda: model.to(device)\n",
        "\n",
        "# Crear el optimizador la una función de error\n",
        "optimizer = torch.optim.Adam(model.parameters(), lr=0.01)  # Learning rate más conservador\n",
        "criterion = torch.nn.CrossEntropyLoss()  # Para clasificación multi categórica\n",
        "\n",
        "print(f\"✓ Modelo bidireccional creado con dropout_rate = {dropout_rate}\")\n",
        "print(f\"✓ Learning rate = 0.01\")\n",
        "print(f\"✓ Dispositivo: {'CUDA' if cuda else 'CPU'}\")\n",
        "\n",
        "# Verificar que si el modelo ya existe para cargarlo. Sino entrenar\n",
        "carpeta = \"Modelos_entrenados/Embedding_encoder_entrenable\"\n",
        "\n",
        "modelo_entrenado = check_checkpoint_exists(carpeta)\n",
        "\n",
        "n_epochs = 20\n",
        "\n",
        "if not modelo_entrenado:\n",
        "    print(f\"\\nIniciando entrenamiento por {n_epochs} épocas...\")\n",
        "    history7 = train(model,\n",
        "                    train_loader,\n",
        "                    valid_loader,\n",
        "                    optimizer,\n",
        "                    criterion,\n",
        "                    epochs=n_epochs\n",
        "                    )\n",
        "    config = {\n",
        "        # Información general\n",
        "        \"max_input_len\": max_input_len,\n",
        "        \"max_out_len\": max_out_len,\n",
        "        \"max_vocab_size\": MAX_VOCAB_SIZE,\n",
        "        \"cuda\": cuda,\n",
        "\n",
        "        # Hiperparámetros de embedding y red\n",
        "        \"embedding_dim\": embedding_matrix.shape[1],\n",
        "        \"hidden_size\": 128,      \n",
        "        \"num_layers\": 1,           \n",
        "        \"lr\": 0.01,  # Learning rate más conservador\n",
        "        \"dropout_rate\": dropout_rate,  # Nuevo parámetro\n",
        "        \"batch_size\": 32,\n",
        "        \"epochs\": n_epochs,\n",
        "\n",
        "        # Vocabularios (usar tamaños reales)\n",
        "        \"num_words_input\": int(embedding_matrix.shape[0]),\n",
        "        \"num_words_output\": int(num_words_output),\n",
        "\n",
        "        # Checkpoint info (opcional)\n",
        "        \"embedding_source\": getattr(model_embeddings, \"name\", \"custom\"),\n",
        "    }\n",
        "    save_checkpoint(carpeta, model, optimizer, history7, config,\n",
        "                    input_tokenizer, output_tokenizer,\n",
        "                    word2idx_inputs, word2idx_outputs, embedding_matrix)\n",
        "    print(\"Modelo entrenado y guardado exitosamente\")\n",
        "else:\n",
        "    print(f\"\\nCargando modelo existente desde {carpeta}\")\n",
        "    data = load_checkpoint(carpeta, Encoder_bidireccional, Decoder_bidreccional, Seq2Seq, device=\"cuda\" if cuda else \"cpu\")\n",
        "    model = data[\"model\"]\n",
        "    optimizer = data[\"optimizer\"]\n",
        "    history7 = data[\"history\"]\n",
        "    print(\"Modelo cargado exitosamente\")\n"
      ]
    },
    {
      "cell_type": "markdown",
      "metadata": {},
      "source": [
        "## 9. Attention"
      ]
    },
    {
      "cell_type": "code",
      "execution_count": 136,
      "metadata": {},
      "outputs": [],
      "source": [
        "# ============================\n",
        "# Encoder BiLSTM con ATTENTION\n",
        "# ============================\n",
        "import torch\n",
        "import torch.nn as nn\n",
        "import torch.nn.functional as F\n",
        "\n",
        "class Encoder_bidireccional_attn(nn.Module):\n",
        "    def __init__(self, vocab_size, embedding_matrix, hidden_size=128, num_layers=1, dropout_rate=0.2):\n",
        "        super().__init__()\n",
        "        self.hidden_size = hidden_size\n",
        "        self.num_layers = num_layers\n",
        "        self.emb_dim = embedding_matrix.shape[1]\n",
        "\n",
        "        self.embedding = nn.Embedding(vocab_size, self.emb_dim, padding_idx=0)\n",
        "        self.embedding.weight.data.copy_(torch.from_numpy(embedding_matrix))\n",
        "        # si querés congelar el embedding del encoder:\n",
        "        # self.embedding.weight.requires_grad = False\n",
        "\n",
        "        self.dropout_emb = nn.Dropout(dropout_rate)\n",
        "        self.lstm = nn.LSTM(\n",
        "            input_size=self.emb_dim,\n",
        "            hidden_size=hidden_size,\n",
        "            batch_first=True,\n",
        "            num_layers=num_layers,\n",
        "            bidirectional=True,\n",
        "            dropout=dropout_rate if num_layers > 1 else 0.0\n",
        "        )\n",
        "\n",
        "    def forward(self, x):\n",
        "        \"\"\"\n",
        "        x: [B, L_src]\n",
        "        return:\n",
        "          enc_out: [B, L_src, 2H]\n",
        "          init_state: (h0, c0) con sólo la dir. forward para casar H\n",
        "        \"\"\"\n",
        "        e = self.dropout_emb(self.embedding(x))\n",
        "        enc_out, (ht, ct) = self.lstm(e)          # enc_out: [B,L,2H]\n",
        "        # usar sólo forward (índice 0) para H=hidden_size\n",
        "        h0 = ht[0].unsqueeze(0)                   # [1,B,H]\n",
        "        c0 = ct[0].unsqueeze(0)                   # [1,B,H]\n",
        "        return enc_out, (h0, c0)\n",
        "\n",
        "\n",
        "# ====================================\n",
        "# Decoder con ATTENTION (Luong \"dot\")\n",
        "# - Proyecta enc_out (2H) -> H\n",
        "# - scores_{t,i} = dec_t · (W_enc * enc_out_i)\n",
        "# - Mask de padding en fuente\n",
        "# ====================================\n",
        "class Decoder_bidreccional_attn(nn.Module):\n",
        "    def __init__(self, vocab_size, output_dim, embedding_matrix=None,\n",
        "                 hidden_size=128, num_layers=1, dropout_rate=0.2, enc_out_dim=256):\n",
        "        super().__init__()\n",
        "        self.hidden_size = hidden_size\n",
        "        self.num_layers = num_layers\n",
        "        self.emb_dim = embedding_matrix.shape[1] if embedding_matrix is not None else 50\n",
        "        self.output_dim = output_dim\n",
        "\n",
        "        self.embedding = nn.Embedding(vocab_size, self.emb_dim, padding_idx=0)\n",
        "        if embedding_matrix is not None:\n",
        "            self.embedding.weight.data.copy_(torch.from_numpy(embedding_matrix))\n",
        "            # si querés congelar el embedding del decoder:\n",
        "            # self.embedding.weight.requires_grad = False\n",
        "\n",
        "        self.dropout_emb = nn.Dropout(dropout_rate)\n",
        "        self.lstm = nn.LSTM(\n",
        "            input_size=self.emb_dim,\n",
        "            hidden_size=hidden_size,\n",
        "            batch_first=True,\n",
        "            num_layers=num_layers,\n",
        "            dropout=dropout_rate if num_layers > 1 else 0.0\n",
        "        )\n",
        "\n",
        "        # Proyección de estados del encoder (2H -> H) para \"dot\"\n",
        "        self.enc_proj = nn.Linear(enc_out_dim, hidden_size, bias=False)\n",
        "        self.dropout_out = nn.Dropout(dropout_rate)\n",
        "        # Combinar [dec_t, context_t] -> vocab\n",
        "        self.fc1 = nn.Linear(hidden_size * 2, output_dim)\n",
        "\n",
        "    def forward(self, x, prev_state, enc_out, src_pad_mask=None):\n",
        "        \"\"\"\n",
        "        x: [B, T_dec]\n",
        "        prev_state: (h0,c0) [1,B,H]\n",
        "        enc_out: [B, L_src, 2H]\n",
        "        src_pad_mask: [B, L_src], True en PAD\n",
        "        \"\"\"\n",
        "        B, L_src, _ = enc_out.size()\n",
        "\n",
        "        # 1) Decoder \"puro\"\n",
        "        emb = self.dropout_emb(self.embedding(x))               # [B,T,E]\n",
        "        dec_seq, (ht, ct) = self.lstm(emb, prev_state)          # [B,T,H]\n",
        "\n",
        "        # 2) Proyección encoder para dot\n",
        "        enc_proj = self.enc_proj(enc_out)                       # [B,L_src,H]\n",
        "\n",
        "        # 3) Scores y máscara de padding fuente\n",
        "        # scores_{t,i} = dec_t · enc_proj_i\n",
        "        scores = torch.bmm(dec_seq, enc_proj.transpose(1, 2))   # [B,T,L_src]\n",
        "        if src_pad_mask is not None:\n",
        "            # src_pad_mask True en PAD -> -inf para que no atienda ahí\n",
        "            scores = scores.masked_fill(src_pad_mask.unsqueeze(1), float('-inf'))\n",
        "\n",
        "        attn = torch.softmax(scores, dim=-1)                    # [B,T,L_src]\n",
        "\n",
        "        # 4) Contexto\n",
        "        context = torch.bmm(attn, enc_proj)                     # [B,T,H]\n",
        "\n",
        "        # 5) Fusionar y proyectar a vocab\n",
        "        fused = torch.cat([dec_seq, context], dim=-1)           # [B,T,2H]\n",
        "        logits = self.fc1(self.dropout_out(fused))              # [B,T,V]\n",
        "        return logits, (ht, ct), attn\n",
        "\n",
        "\n",
        "# ======================\n",
        "# Wrapper Seq2Seq + Attn\n",
        "# ======================\n",
        "class Seq2SeqAttention(nn.Module):\n",
        "    def __init__(self, encoder, decoder_attn, pad_idx=0):\n",
        "        super().__init__()\n",
        "        self.encoder = encoder\n",
        "        self.decoder = decoder_attn\n",
        "        self.pad_idx = pad_idx\n",
        "\n",
        "    def forward(self, enc_in, dec_in):\n",
        "        \"\"\"\n",
        "        enc_in: [B,L_src] (con PAD=0)\n",
        "        dec_in: [B,T_dec] (teacher forcing)\n",
        "        \"\"\"\n",
        "        # 1) Encode\n",
        "        enc_out, init_state = self.encoder(enc_in)              # enc_out: [B,L,2H]\n",
        "\n",
        "        # 2) Máscara de PAD en fuente\n",
        "        src_pad_mask = (enc_in == self.pad_idx)                 # [B,L]\n",
        "\n",
        "        # 3) Decode con atención (logits en TODOS los pasos)\n",
        "        logits, _, _ = self.decoder(dec_in, init_state, enc_out, src_pad_mask)\n",
        "        return logits\n"
      ]
    },
    {
      "cell_type": "code",
      "execution_count": 137,
      "metadata": {},
      "outputs": [
        {
          "name": "stdout",
          "output_type": "stream",
          "text": [
            "Faltan archivos en el checkpoint: ['seq2seq_model.pth', 'optimizer_state.pth', 'config.pth', 'embedding_matrix.npy', 'input_tokenizer.pkl', 'output_tokenizer.pkl', 'word2idx_inputs.pkl', 'word2idx_outputs.pkl', 'history.json']\n",
            "\n",
            "Iniciando entrenamiento por 200 épocas...\n"
          ]
        },
        {
          "name": "stderr",
          "output_type": "stream",
          "text": [
            "                                                               \r"
          ]
        },
        {
          "name": "stdout",
          "output_type": "stream",
          "text": [
            "Epoch 01/200 | Train loss: 6.273 | Train acc: 0.038 | Val loss: 5.785 | Val acc: 0.043\n"
          ]
        },
        {
          "name": "stderr",
          "output_type": "stream",
          "text": [
            "                                                               \r"
          ]
        },
        {
          "name": "stdout",
          "output_type": "stream",
          "text": [
            "Epoch 02/200 | Train loss: 5.547 | Train acc: 0.045 | Val loss: 5.612 | Val acc: 0.049\n"
          ]
        },
        {
          "name": "stderr",
          "output_type": "stream",
          "text": [
            "                                                               \r"
          ]
        },
        {
          "name": "stdout",
          "output_type": "stream",
          "text": [
            "Epoch 03/200 | Train loss: 5.174 | Train acc: 0.051 | Val loss: 5.363 | Val acc: 0.054\n"
          ]
        },
        {
          "name": "stderr",
          "output_type": "stream",
          "text": [
            "                                                               \r"
          ]
        },
        {
          "name": "stdout",
          "output_type": "stream",
          "text": [
            "Epoch 04/200 | Train loss: 4.819 | Train acc: 0.055 | Val loss: 5.223 | Val acc: 0.057\n"
          ]
        },
        {
          "name": "stderr",
          "output_type": "stream",
          "text": [
            "                                                               \r"
          ]
        },
        {
          "name": "stdout",
          "output_type": "stream",
          "text": [
            "Epoch 05/200 | Train loss: 4.485 | Train acc: 0.059 | Val loss: 5.114 | Val acc: 0.061\n"
          ]
        },
        {
          "name": "stderr",
          "output_type": "stream",
          "text": [
            "                                                               \r"
          ]
        },
        {
          "name": "stdout",
          "output_type": "stream",
          "text": [
            "Epoch 06/200 | Train loss: 4.180 | Train acc: 0.063 | Val loss: 5.029 | Val acc: 0.065\n"
          ]
        },
        {
          "name": "stderr",
          "output_type": "stream",
          "text": [
            "                                                               \r"
          ]
        },
        {
          "name": "stdout",
          "output_type": "stream",
          "text": [
            "Epoch 07/200 | Train loss: 3.883 | Train acc: 0.069 | Val loss: 5.015 | Val acc: 0.068\n"
          ]
        },
        {
          "name": "stderr",
          "output_type": "stream",
          "text": [
            "                                                               \r"
          ]
        },
        {
          "name": "stdout",
          "output_type": "stream",
          "text": [
            "Epoch 08/200 | Train loss: 3.622 | Train acc: 0.073 | Val loss: 4.983 | Val acc: 0.071\n"
          ]
        },
        {
          "name": "stderr",
          "output_type": "stream",
          "text": [
            "                                                               \r"
          ]
        },
        {
          "name": "stdout",
          "output_type": "stream",
          "text": [
            "Epoch 09/200 | Train loss: 3.360 | Train acc: 0.078 | Val loss: 5.008 | Val acc: 0.071\n"
          ]
        },
        {
          "name": "stderr",
          "output_type": "stream",
          "text": [
            "                                                                \r"
          ]
        },
        {
          "name": "stdout",
          "output_type": "stream",
          "text": [
            "Epoch 10/200 | Train loss: 3.116 | Train acc: 0.085 | Val loss: 5.016 | Val acc: 0.074\n"
          ]
        },
        {
          "name": "stderr",
          "output_type": "stream",
          "text": [
            "                                                                \r"
          ]
        },
        {
          "name": "stdout",
          "output_type": "stream",
          "text": [
            "Epoch 11/200 | Train loss: 2.902 | Train acc: 0.093 | Val loss: 5.050 | Val acc: 0.075\n"
          ]
        },
        {
          "name": "stderr",
          "output_type": "stream",
          "text": [
            "                                                                \r"
          ]
        },
        {
          "name": "stdout",
          "output_type": "stream",
          "text": [
            "Epoch 12/200 | Train loss: 2.709 | Train acc: 0.100 | Val loss: 5.079 | Val acc: 0.076\n"
          ]
        },
        {
          "name": "stderr",
          "output_type": "stream",
          "text": [
            "                                                                \r"
          ]
        },
        {
          "name": "stdout",
          "output_type": "stream",
          "text": [
            "Epoch 13/200 | Train loss: 2.522 | Train acc: 0.108 | Val loss: 5.083 | Val acc: 0.078\n"
          ]
        },
        {
          "name": "stderr",
          "output_type": "stream",
          "text": [
            "                                                                \r"
          ]
        },
        {
          "name": "stdout",
          "output_type": "stream",
          "text": [
            "Epoch 14/200 | Train loss: 2.372 | Train acc: 0.113 | Val loss: 5.147 | Val acc: 0.078\n"
          ]
        },
        {
          "name": "stderr",
          "output_type": "stream",
          "text": [
            "                                                                \r"
          ]
        },
        {
          "name": "stdout",
          "output_type": "stream",
          "text": [
            "Epoch 15/200 | Train loss: 2.235 | Train acc: 0.119 | Val loss: 5.125 | Val acc: 0.081\n"
          ]
        },
        {
          "name": "stderr",
          "output_type": "stream",
          "text": [
            "                                                                \r"
          ]
        },
        {
          "name": "stdout",
          "output_type": "stream",
          "text": [
            "Epoch 16/200 | Train loss: 2.116 | Train acc: 0.124 | Val loss: 5.143 | Val acc: 0.081\n"
          ]
        },
        {
          "name": "stderr",
          "output_type": "stream",
          "text": [
            "                                                                \r"
          ]
        },
        {
          "name": "stdout",
          "output_type": "stream",
          "text": [
            "Epoch 17/200 | Train loss: 2.007 | Train acc: 0.129 | Val loss: 5.157 | Val acc: 0.082\n"
          ]
        },
        {
          "name": "stderr",
          "output_type": "stream",
          "text": [
            "                                                                \r"
          ]
        },
        {
          "name": "stdout",
          "output_type": "stream",
          "text": [
            "Epoch 18/200 | Train loss: 1.905 | Train acc: 0.133 | Val loss: 5.211 | Val acc: 0.082\n"
          ]
        },
        {
          "name": "stderr",
          "output_type": "stream",
          "text": [
            "                                                                \r"
          ]
        },
        {
          "name": "stdout",
          "output_type": "stream",
          "text": [
            "Epoch 19/200 | Train loss: 1.821 | Train acc: 0.136 | Val loss: 5.214 | Val acc: 0.085\n"
          ]
        },
        {
          "name": "stderr",
          "output_type": "stream",
          "text": [
            "                                                                \r"
          ]
        },
        {
          "name": "stdout",
          "output_type": "stream",
          "text": [
            "Epoch 20/200 | Train loss: 1.732 | Train acc: 0.140 | Val loss: 5.223 | Val acc: 0.085\n"
          ]
        },
        {
          "name": "stderr",
          "output_type": "stream",
          "text": [
            "                                                                \r"
          ]
        },
        {
          "name": "stdout",
          "output_type": "stream",
          "text": [
            "Epoch 21/200 | Train loss: 1.663 | Train acc: 0.144 | Val loss: 5.240 | Val acc: 0.085\n"
          ]
        },
        {
          "name": "stderr",
          "output_type": "stream",
          "text": [
            "                                                                \r"
          ]
        },
        {
          "name": "stdout",
          "output_type": "stream",
          "text": [
            "Epoch 22/200 | Train loss: 1.587 | Train acc: 0.147 | Val loss: 5.233 | Val acc: 0.085\n"
          ]
        },
        {
          "name": "stderr",
          "output_type": "stream",
          "text": [
            "                                                                \r"
          ]
        },
        {
          "name": "stdout",
          "output_type": "stream",
          "text": [
            "Epoch 23/200 | Train loss: 1.529 | Train acc: 0.150 | Val loss: 5.306 | Val acc: 0.087\n"
          ]
        },
        {
          "name": "stderr",
          "output_type": "stream",
          "text": [
            "                                                                \r"
          ]
        },
        {
          "name": "stdout",
          "output_type": "stream",
          "text": [
            "Epoch 24/200 | Train loss: 1.480 | Train acc: 0.152 | Val loss: 5.288 | Val acc: 0.086\n"
          ]
        },
        {
          "name": "stderr",
          "output_type": "stream",
          "text": [
            "                                                                \r"
          ]
        },
        {
          "name": "stdout",
          "output_type": "stream",
          "text": [
            "Epoch 25/200 | Train loss: 1.409 | Train acc: 0.155 | Val loss: 5.328 | Val acc: 0.088\n"
          ]
        },
        {
          "name": "stderr",
          "output_type": "stream",
          "text": [
            "                                                                \r"
          ]
        },
        {
          "name": "stdout",
          "output_type": "stream",
          "text": [
            "Epoch 26/200 | Train loss: 1.358 | Train acc: 0.158 | Val loss: 5.310 | Val acc: 0.088\n"
          ]
        },
        {
          "name": "stderr",
          "output_type": "stream",
          "text": [
            "                                                                \r"
          ]
        },
        {
          "name": "stdout",
          "output_type": "stream",
          "text": [
            "Epoch 27/200 | Train loss: 1.296 | Train acc: 0.161 | Val loss: 5.313 | Val acc: 0.089\n"
          ]
        },
        {
          "name": "stderr",
          "output_type": "stream",
          "text": [
            "                                                                \r"
          ]
        },
        {
          "name": "stdout",
          "output_type": "stream",
          "text": [
            "Epoch 28/200 | Train loss: 1.261 | Train acc: 0.163 | Val loss: 5.359 | Val acc: 0.089\n"
          ]
        },
        {
          "name": "stderr",
          "output_type": "stream",
          "text": [
            "                                                                \r"
          ]
        },
        {
          "name": "stdout",
          "output_type": "stream",
          "text": [
            "Epoch 29/200 | Train loss: 1.212 | Train acc: 0.165 | Val loss: 5.340 | Val acc: 0.089\n"
          ]
        },
        {
          "name": "stderr",
          "output_type": "stream",
          "text": [
            "                                                                \r"
          ]
        },
        {
          "name": "stdout",
          "output_type": "stream",
          "text": [
            "Epoch 30/200 | Train loss: 1.177 | Train acc: 0.167 | Val loss: 5.355 | Val acc: 0.089\n"
          ]
        },
        {
          "name": "stderr",
          "output_type": "stream",
          "text": [
            "                                                                \r"
          ]
        },
        {
          "name": "stdout",
          "output_type": "stream",
          "text": [
            "Epoch 31/200 | Train loss: 1.141 | Train acc: 0.168 | Val loss: 5.396 | Val acc: 0.090\n"
          ]
        },
        {
          "name": "stderr",
          "output_type": "stream",
          "text": [
            "                                                                \r"
          ]
        },
        {
          "name": "stdout",
          "output_type": "stream",
          "text": [
            "Epoch 32/200 | Train loss: 1.104 | Train acc: 0.170 | Val loss: 5.396 | Val acc: 0.090\n"
          ]
        },
        {
          "name": "stderr",
          "output_type": "stream",
          "text": [
            "                                                                \r"
          ]
        },
        {
          "name": "stdout",
          "output_type": "stream",
          "text": [
            "Epoch 33/200 | Train loss: 1.060 | Train acc: 0.173 | Val loss: 5.418 | Val acc: 0.090\n"
          ]
        },
        {
          "name": "stderr",
          "output_type": "stream",
          "text": [
            "                                                                \r"
          ]
        },
        {
          "name": "stdout",
          "output_type": "stream",
          "text": [
            "Epoch 34/200 | Train loss: 1.026 | Train acc: 0.174 | Val loss: 5.437 | Val acc: 0.090\n"
          ]
        },
        {
          "name": "stderr",
          "output_type": "stream",
          "text": [
            "                                                                \r"
          ]
        },
        {
          "name": "stdout",
          "output_type": "stream",
          "text": [
            "Epoch 35/200 | Train loss: 1.004 | Train acc: 0.176 | Val loss: 5.478 | Val acc: 0.091\n"
          ]
        },
        {
          "name": "stderr",
          "output_type": "stream",
          "text": [
            "                                                                \r"
          ]
        },
        {
          "name": "stdout",
          "output_type": "stream",
          "text": [
            "Epoch 36/200 | Train loss: 0.984 | Train acc: 0.177 | Val loss: 5.439 | Val acc: 0.090\n"
          ]
        },
        {
          "name": "stderr",
          "output_type": "stream",
          "text": [
            "                                                                \r"
          ]
        },
        {
          "name": "stdout",
          "output_type": "stream",
          "text": [
            "Epoch 37/200 | Train loss: 0.951 | Train acc: 0.179 | Val loss: 5.484 | Val acc: 0.092\n"
          ]
        },
        {
          "name": "stderr",
          "output_type": "stream",
          "text": [
            "                                                                \r"
          ]
        },
        {
          "name": "stdout",
          "output_type": "stream",
          "text": [
            "Epoch 38/200 | Train loss: 0.919 | Train acc: 0.180 | Val loss: 5.502 | Val acc: 0.092\n"
          ]
        },
        {
          "name": "stderr",
          "output_type": "stream",
          "text": [
            "                                                                \r"
          ]
        },
        {
          "name": "stdout",
          "output_type": "stream",
          "text": [
            "Epoch 39/200 | Train loss: 0.889 | Train acc: 0.182 | Val loss: 5.479 | Val acc: 0.092\n"
          ]
        },
        {
          "name": "stderr",
          "output_type": "stream",
          "text": [
            "                                                                \r"
          ]
        },
        {
          "name": "stdout",
          "output_type": "stream",
          "text": [
            "Epoch 40/200 | Train loss: 0.874 | Train acc: 0.182 | Val loss: 5.517 | Val acc: 0.092\n"
          ]
        },
        {
          "name": "stderr",
          "output_type": "stream",
          "text": [
            "                                                                \r"
          ]
        },
        {
          "name": "stdout",
          "output_type": "stream",
          "text": [
            "Epoch 41/200 | Train loss: 0.842 | Train acc: 0.185 | Val loss: 5.559 | Val acc: 0.093\n"
          ]
        },
        {
          "name": "stderr",
          "output_type": "stream",
          "text": [
            "                                                                \r"
          ]
        },
        {
          "name": "stdout",
          "output_type": "stream",
          "text": [
            "Epoch 42/200 | Train loss: 0.824 | Train acc: 0.186 | Val loss: 5.581 | Val acc: 0.093\n"
          ]
        },
        {
          "name": "stderr",
          "output_type": "stream",
          "text": [
            "                                                                \r"
          ]
        },
        {
          "name": "stdout",
          "output_type": "stream",
          "text": [
            "Epoch 43/200 | Train loss: 0.792 | Train acc: 0.188 | Val loss: 5.613 | Val acc: 0.092\n"
          ]
        },
        {
          "name": "stderr",
          "output_type": "stream",
          "text": [
            "                                                                \r"
          ]
        },
        {
          "name": "stdout",
          "output_type": "stream",
          "text": [
            "Epoch 44/200 | Train loss: 0.771 | Train acc: 0.189 | Val loss: 5.656 | Val acc: 0.092\n"
          ]
        },
        {
          "name": "stderr",
          "output_type": "stream",
          "text": [
            "                                                                \r"
          ]
        },
        {
          "name": "stdout",
          "output_type": "stream",
          "text": [
            "Epoch 45/200 | Train loss: 0.769 | Train acc: 0.188 | Val loss: 5.597 | Val acc: 0.093\n"
          ]
        },
        {
          "name": "stderr",
          "output_type": "stream",
          "text": [
            "                                                                \r"
          ]
        },
        {
          "name": "stdout",
          "output_type": "stream",
          "text": [
            "Epoch 46/200 | Train loss: 0.741 | Train acc: 0.191 | Val loss: 5.601 | Val acc: 0.093\n"
          ]
        },
        {
          "name": "stderr",
          "output_type": "stream",
          "text": [
            "                                                                \r"
          ]
        },
        {
          "name": "stdout",
          "output_type": "stream",
          "text": [
            "Epoch 47/200 | Train loss: 0.728 | Train acc: 0.190 | Val loss: 5.617 | Val acc: 0.093\n"
          ]
        },
        {
          "name": "stderr",
          "output_type": "stream",
          "text": [
            "                                                                \r"
          ]
        },
        {
          "name": "stdout",
          "output_type": "stream",
          "text": [
            "Epoch 48/200 | Train loss: 0.707 | Train acc: 0.192 | Val loss: 5.605 | Val acc: 0.094\n"
          ]
        },
        {
          "name": "stderr",
          "output_type": "stream",
          "text": [
            "                                                                \r"
          ]
        },
        {
          "name": "stdout",
          "output_type": "stream",
          "text": [
            "Epoch 49/200 | Train loss: 0.683 | Train acc: 0.194 | Val loss: 5.719 | Val acc: 0.093\n"
          ]
        },
        {
          "name": "stderr",
          "output_type": "stream",
          "text": [
            "                                                                \r"
          ]
        },
        {
          "name": "stdout",
          "output_type": "stream",
          "text": [
            "Epoch 50/200 | Train loss: 0.665 | Train acc: 0.194 | Val loss: 5.665 | Val acc: 0.094\n"
          ]
        },
        {
          "name": "stderr",
          "output_type": "stream",
          "text": [
            "                                                                \r"
          ]
        },
        {
          "name": "stdout",
          "output_type": "stream",
          "text": [
            "Epoch 51/200 | Train loss: 0.650 | Train acc: 0.196 | Val loss: 5.695 | Val acc: 0.093\n"
          ]
        },
        {
          "name": "stderr",
          "output_type": "stream",
          "text": [
            "                                                                \r"
          ]
        },
        {
          "name": "stdout",
          "output_type": "stream",
          "text": [
            "Epoch 52/200 | Train loss: 0.633 | Train acc: 0.197 | Val loss: 5.768 | Val acc: 0.094\n"
          ]
        },
        {
          "name": "stderr",
          "output_type": "stream",
          "text": [
            "                                                                \r"
          ]
        },
        {
          "name": "stdout",
          "output_type": "stream",
          "text": [
            "Epoch 53/200 | Train loss: 0.611 | Train acc: 0.198 | Val loss: 5.737 | Val acc: 0.094\n"
          ]
        },
        {
          "name": "stderr",
          "output_type": "stream",
          "text": [
            "                                                                \r"
          ]
        },
        {
          "name": "stdout",
          "output_type": "stream",
          "text": [
            "Epoch 54/200 | Train loss: 0.599 | Train acc: 0.198 | Val loss: 5.795 | Val acc: 0.095\n"
          ]
        },
        {
          "name": "stderr",
          "output_type": "stream",
          "text": [
            "                                                                \r"
          ]
        },
        {
          "name": "stdout",
          "output_type": "stream",
          "text": [
            "Epoch 55/200 | Train loss: 0.587 | Train acc: 0.199 | Val loss: 5.820 | Val acc: 0.094\n"
          ]
        },
        {
          "name": "stderr",
          "output_type": "stream",
          "text": [
            "                                                                \r"
          ]
        },
        {
          "name": "stdout",
          "output_type": "stream",
          "text": [
            "Epoch 56/200 | Train loss: 0.573 | Train acc: 0.200 | Val loss: 5.733 | Val acc: 0.094\n"
          ]
        },
        {
          "name": "stderr",
          "output_type": "stream",
          "text": [
            "                                                                \r"
          ]
        },
        {
          "name": "stdout",
          "output_type": "stream",
          "text": [
            "Epoch 57/200 | Train loss: 0.561 | Train acc: 0.201 | Val loss: 5.797 | Val acc: 0.094\n"
          ]
        },
        {
          "name": "stderr",
          "output_type": "stream",
          "text": [
            "                                                                \r"
          ]
        },
        {
          "name": "stdout",
          "output_type": "stream",
          "text": [
            "Epoch 58/200 | Train loss: 0.562 | Train acc: 0.200 | Val loss: 5.819 | Val acc: 0.094\n"
          ]
        },
        {
          "name": "stderr",
          "output_type": "stream",
          "text": [
            "                                                                \r"
          ]
        },
        {
          "name": "stdout",
          "output_type": "stream",
          "text": [
            "Epoch 59/200 | Train loss: 0.542 | Train acc: 0.202 | Val loss: 5.855 | Val acc: 0.094\n"
          ]
        },
        {
          "name": "stderr",
          "output_type": "stream",
          "text": [
            "                                                                \r"
          ]
        },
        {
          "name": "stdout",
          "output_type": "stream",
          "text": [
            "Epoch 60/200 | Train loss: 0.529 | Train acc: 0.203 | Val loss: 5.850 | Val acc: 0.094\n"
          ]
        },
        {
          "name": "stderr",
          "output_type": "stream",
          "text": [
            "                                                                \r"
          ]
        },
        {
          "name": "stdout",
          "output_type": "stream",
          "text": [
            "Epoch 61/200 | Train loss: 0.523 | Train acc: 0.203 | Val loss: 5.894 | Val acc: 0.094\n"
          ]
        },
        {
          "name": "stderr",
          "output_type": "stream",
          "text": [
            "                                                                \r"
          ]
        },
        {
          "name": "stdout",
          "output_type": "stream",
          "text": [
            "Epoch 62/200 | Train loss: 0.509 | Train acc: 0.204 | Val loss: 5.863 | Val acc: 0.094\n"
          ]
        },
        {
          "name": "stderr",
          "output_type": "stream",
          "text": [
            "                                                                \r"
          ]
        },
        {
          "name": "stdout",
          "output_type": "stream",
          "text": [
            "Epoch 63/200 | Train loss: 0.490 | Train acc: 0.205 | Val loss: 5.922 | Val acc: 0.095\n"
          ]
        },
        {
          "name": "stderr",
          "output_type": "stream",
          "text": [
            "                                                                \r"
          ]
        },
        {
          "name": "stdout",
          "output_type": "stream",
          "text": [
            "Epoch 64/200 | Train loss: 0.487 | Train acc: 0.205 | Val loss: 5.925 | Val acc: 0.095\n"
          ]
        },
        {
          "name": "stderr",
          "output_type": "stream",
          "text": [
            "                                                                \r"
          ]
        },
        {
          "name": "stdout",
          "output_type": "stream",
          "text": [
            "Epoch 65/200 | Train loss: 0.471 | Train acc: 0.207 | Val loss: 5.951 | Val acc: 0.095\n"
          ]
        },
        {
          "name": "stderr",
          "output_type": "stream",
          "text": [
            "                                                                \r"
          ]
        },
        {
          "name": "stdout",
          "output_type": "stream",
          "text": [
            "Epoch 66/200 | Train loss: 0.473 | Train acc: 0.206 | Val loss: 5.913 | Val acc: 0.096\n"
          ]
        },
        {
          "name": "stderr",
          "output_type": "stream",
          "text": [
            "                                                                \r"
          ]
        },
        {
          "name": "stdout",
          "output_type": "stream",
          "text": [
            "Epoch 67/200 | Train loss: 0.453 | Train acc: 0.207 | Val loss: 5.928 | Val acc: 0.096\n"
          ]
        },
        {
          "name": "stderr",
          "output_type": "stream",
          "text": [
            "                                                                \r"
          ]
        },
        {
          "name": "stdout",
          "output_type": "stream",
          "text": [
            "Epoch 68/200 | Train loss: 0.457 | Train acc: 0.207 | Val loss: 5.916 | Val acc: 0.096\n"
          ]
        },
        {
          "name": "stderr",
          "output_type": "stream",
          "text": [
            "                                                                \r"
          ]
        },
        {
          "name": "stdout",
          "output_type": "stream",
          "text": [
            "Epoch 69/200 | Train loss: 0.441 | Train acc: 0.209 | Val loss: 5.951 | Val acc: 0.095\n"
          ]
        },
        {
          "name": "stderr",
          "output_type": "stream",
          "text": [
            "                                                                \r"
          ]
        },
        {
          "name": "stdout",
          "output_type": "stream",
          "text": [
            "Epoch 70/200 | Train loss: 0.431 | Train acc: 0.209 | Val loss: 5.953 | Val acc: 0.096\n"
          ]
        },
        {
          "name": "stderr",
          "output_type": "stream",
          "text": [
            "                                                                \r"
          ]
        },
        {
          "name": "stdout",
          "output_type": "stream",
          "text": [
            "Epoch 71/200 | Train loss: 0.428 | Train acc: 0.209 | Val loss: 5.972 | Val acc: 0.095\n"
          ]
        },
        {
          "name": "stderr",
          "output_type": "stream",
          "text": [
            "                                                                \r"
          ]
        },
        {
          "name": "stdout",
          "output_type": "stream",
          "text": [
            "Epoch 72/200 | Train loss: 0.415 | Train acc: 0.210 | Val loss: 5.967 | Val acc: 0.095\n"
          ]
        },
        {
          "name": "stderr",
          "output_type": "stream",
          "text": [
            "                                                                \r"
          ]
        },
        {
          "name": "stdout",
          "output_type": "stream",
          "text": [
            "Epoch 73/200 | Train loss: 0.419 | Train acc: 0.209 | Val loss: 6.059 | Val acc: 0.095\n"
          ]
        },
        {
          "name": "stderr",
          "output_type": "stream",
          "text": [
            "                                                                \r"
          ]
        },
        {
          "name": "stdout",
          "output_type": "stream",
          "text": [
            "Epoch 74/200 | Train loss: 0.398 | Train acc: 0.211 | Val loss: 6.043 | Val acc: 0.097\n"
          ]
        },
        {
          "name": "stderr",
          "output_type": "stream",
          "text": [
            "                                                                \r"
          ]
        },
        {
          "name": "stdout",
          "output_type": "stream",
          "text": [
            "Epoch 75/200 | Train loss: 0.394 | Train acc: 0.211 | Val loss: 6.049 | Val acc: 0.097\n"
          ]
        },
        {
          "name": "stderr",
          "output_type": "stream",
          "text": [
            "                                                                \r"
          ]
        },
        {
          "name": "stdout",
          "output_type": "stream",
          "text": [
            "Epoch 76/200 | Train loss: 0.386 | Train acc: 0.212 | Val loss: 6.051 | Val acc: 0.096\n"
          ]
        },
        {
          "name": "stderr",
          "output_type": "stream",
          "text": [
            "                                                                \r"
          ]
        },
        {
          "name": "stdout",
          "output_type": "stream",
          "text": [
            "Epoch 77/200 | Train loss: 0.380 | Train acc: 0.212 | Val loss: 6.048 | Val acc: 0.097\n"
          ]
        },
        {
          "name": "stderr",
          "output_type": "stream",
          "text": [
            "                                                                \r"
          ]
        },
        {
          "name": "stdout",
          "output_type": "stream",
          "text": [
            "Epoch 78/200 | Train loss: 0.369 | Train acc: 0.213 | Val loss: 6.053 | Val acc: 0.096\n"
          ]
        },
        {
          "name": "stderr",
          "output_type": "stream",
          "text": [
            "                                                                \r"
          ]
        },
        {
          "name": "stdout",
          "output_type": "stream",
          "text": [
            "Epoch 79/200 | Train loss: 0.369 | Train acc: 0.213 | Val loss: 6.100 | Val acc: 0.097\n"
          ]
        },
        {
          "name": "stderr",
          "output_type": "stream",
          "text": [
            "                                                                \r"
          ]
        },
        {
          "name": "stdout",
          "output_type": "stream",
          "text": [
            "Epoch 80/200 | Train loss: 0.358 | Train acc: 0.213 | Val loss: 6.134 | Val acc: 0.097\n"
          ]
        },
        {
          "name": "stderr",
          "output_type": "stream",
          "text": [
            "                                                                \r"
          ]
        },
        {
          "name": "stdout",
          "output_type": "stream",
          "text": [
            "Epoch 81/200 | Train loss: 0.354 | Train acc: 0.214 | Val loss: 6.104 | Val acc: 0.097\n"
          ]
        },
        {
          "name": "stderr",
          "output_type": "stream",
          "text": [
            "                                                                \r"
          ]
        },
        {
          "name": "stdout",
          "output_type": "stream",
          "text": [
            "Epoch 82/200 | Train loss: 0.344 | Train acc: 0.214 | Val loss: 6.190 | Val acc: 0.097\n"
          ]
        },
        {
          "name": "stderr",
          "output_type": "stream",
          "text": [
            "                                                                \r"
          ]
        },
        {
          "name": "stdout",
          "output_type": "stream",
          "text": [
            "Epoch 83/200 | Train loss: 0.335 | Train acc: 0.215 | Val loss: 6.129 | Val acc: 0.097\n"
          ]
        },
        {
          "name": "stderr",
          "output_type": "stream",
          "text": [
            "                                                                \r"
          ]
        },
        {
          "name": "stdout",
          "output_type": "stream",
          "text": [
            "Epoch 84/200 | Train loss: 0.327 | Train acc: 0.215 | Val loss: 6.188 | Val acc: 0.097\n"
          ]
        },
        {
          "name": "stderr",
          "output_type": "stream",
          "text": [
            "                                                                \r"
          ]
        },
        {
          "name": "stdout",
          "output_type": "stream",
          "text": [
            "Epoch 85/200 | Train loss: 0.327 | Train acc: 0.215 | Val loss: 6.205 | Val acc: 0.097\n"
          ]
        },
        {
          "name": "stderr",
          "output_type": "stream",
          "text": [
            "                                                                \r"
          ]
        },
        {
          "name": "stdout",
          "output_type": "stream",
          "text": [
            "Epoch 86/200 | Train loss: 0.324 | Train acc: 0.215 | Val loss: 6.217 | Val acc: 0.096\n"
          ]
        },
        {
          "name": "stderr",
          "output_type": "stream",
          "text": [
            "                                                                \r"
          ]
        },
        {
          "name": "stdout",
          "output_type": "stream",
          "text": [
            "Epoch 87/200 | Train loss: 0.328 | Train acc: 0.216 | Val loss: 6.172 | Val acc: 0.096\n"
          ]
        },
        {
          "name": "stderr",
          "output_type": "stream",
          "text": [
            "                                                                \r"
          ]
        },
        {
          "name": "stdout",
          "output_type": "stream",
          "text": [
            "Epoch 88/200 | Train loss: 0.317 | Train acc: 0.217 | Val loss: 6.192 | Val acc: 0.097\n"
          ]
        },
        {
          "name": "stderr",
          "output_type": "stream",
          "text": [
            "                                                                \r"
          ]
        },
        {
          "name": "stdout",
          "output_type": "stream",
          "text": [
            "Epoch 89/200 | Train loss: 0.307 | Train acc: 0.217 | Val loss: 6.290 | Val acc: 0.096\n"
          ]
        },
        {
          "name": "stderr",
          "output_type": "stream",
          "text": [
            "                                                                \r"
          ]
        },
        {
          "name": "stdout",
          "output_type": "stream",
          "text": [
            "Epoch 90/200 | Train loss: 0.307 | Train acc: 0.217 | Val loss: 6.278 | Val acc: 0.096\n"
          ]
        },
        {
          "name": "stderr",
          "output_type": "stream",
          "text": [
            "                                                                \r"
          ]
        },
        {
          "name": "stdout",
          "output_type": "stream",
          "text": [
            "Epoch 91/200 | Train loss: 0.302 | Train acc: 0.217 | Val loss: 6.218 | Val acc: 0.097\n"
          ]
        },
        {
          "name": "stderr",
          "output_type": "stream",
          "text": [
            "                                                                \r"
          ]
        },
        {
          "name": "stdout",
          "output_type": "stream",
          "text": [
            "Epoch 92/200 | Train loss: 0.288 | Train acc: 0.219 | Val loss: 6.320 | Val acc: 0.097\n"
          ]
        },
        {
          "name": "stderr",
          "output_type": "stream",
          "text": [
            "                                                                \r"
          ]
        },
        {
          "name": "stdout",
          "output_type": "stream",
          "text": [
            "Epoch 93/200 | Train loss: 0.292 | Train acc: 0.218 | Val loss: 6.336 | Val acc: 0.096\n"
          ]
        },
        {
          "name": "stderr",
          "output_type": "stream",
          "text": [
            "                                                                \r"
          ]
        },
        {
          "name": "stdout",
          "output_type": "stream",
          "text": [
            "Epoch 94/200 | Train loss: 0.291 | Train acc: 0.218 | Val loss: 6.304 | Val acc: 0.096\n"
          ]
        },
        {
          "name": "stderr",
          "output_type": "stream",
          "text": [
            "                                                                \r"
          ]
        },
        {
          "name": "stdout",
          "output_type": "stream",
          "text": [
            "Epoch 95/200 | Train loss: 0.289 | Train acc: 0.218 | Val loss: 6.322 | Val acc: 0.097\n"
          ]
        },
        {
          "name": "stderr",
          "output_type": "stream",
          "text": [
            "                                                                \r"
          ]
        },
        {
          "name": "stdout",
          "output_type": "stream",
          "text": [
            "Epoch 96/200 | Train loss: 0.286 | Train acc: 0.218 | Val loss: 6.351 | Val acc: 0.097\n"
          ]
        },
        {
          "name": "stderr",
          "output_type": "stream",
          "text": [
            "                                                                \r"
          ]
        },
        {
          "name": "stdout",
          "output_type": "stream",
          "text": [
            "Epoch 97/200 | Train loss: 0.281 | Train acc: 0.218 | Val loss: 6.356 | Val acc: 0.097\n"
          ]
        },
        {
          "name": "stderr",
          "output_type": "stream",
          "text": [
            "                                                                \r"
          ]
        },
        {
          "name": "stdout",
          "output_type": "stream",
          "text": [
            "Epoch 98/200 | Train loss: 0.279 | Train acc: 0.219 | Val loss: 6.362 | Val acc: 0.098\n"
          ]
        },
        {
          "name": "stderr",
          "output_type": "stream",
          "text": [
            "                                                                \r"
          ]
        },
        {
          "name": "stdout",
          "output_type": "stream",
          "text": [
            "Epoch 99/200 | Train loss: 0.268 | Train acc: 0.219 | Val loss: 6.330 | Val acc: 0.097\n"
          ]
        },
        {
          "name": "stderr",
          "output_type": "stream",
          "text": [
            "                                                                 \r"
          ]
        },
        {
          "name": "stdout",
          "output_type": "stream",
          "text": [
            "Epoch 100/200 | Train loss: 0.266 | Train acc: 0.220 | Val loss: 6.352 | Val acc: 0.097\n"
          ]
        },
        {
          "name": "stderr",
          "output_type": "stream",
          "text": [
            "                                                                 \r"
          ]
        },
        {
          "name": "stdout",
          "output_type": "stream",
          "text": [
            "Epoch 101/200 | Train loss: 0.258 | Train acc: 0.220 | Val loss: 6.434 | Val acc: 0.097\n"
          ]
        },
        {
          "name": "stderr",
          "output_type": "stream",
          "text": [
            "                                                                 \r"
          ]
        },
        {
          "name": "stdout",
          "output_type": "stream",
          "text": [
            "Epoch 102/200 | Train loss: 0.256 | Train acc: 0.220 | Val loss: 6.399 | Val acc: 0.097\n"
          ]
        },
        {
          "name": "stderr",
          "output_type": "stream",
          "text": [
            "                                                                 \r"
          ]
        },
        {
          "name": "stdout",
          "output_type": "stream",
          "text": [
            "Epoch 103/200 | Train loss: 0.247 | Train acc: 0.221 | Val loss: 6.443 | Val acc: 0.097\n"
          ]
        },
        {
          "name": "stderr",
          "output_type": "stream",
          "text": [
            "                                                                 \r"
          ]
        },
        {
          "name": "stdout",
          "output_type": "stream",
          "text": [
            "Epoch 104/200 | Train loss: 0.246 | Train acc: 0.221 | Val loss: 6.444 | Val acc: 0.096\n"
          ]
        },
        {
          "name": "stderr",
          "output_type": "stream",
          "text": [
            "                                                                 \r"
          ]
        },
        {
          "name": "stdout",
          "output_type": "stream",
          "text": [
            "Epoch 105/200 | Train loss: 0.242 | Train acc: 0.221 | Val loss: 6.519 | Val acc: 0.097\n"
          ]
        },
        {
          "name": "stderr",
          "output_type": "stream",
          "text": [
            "                                                                 \r"
          ]
        },
        {
          "name": "stdout",
          "output_type": "stream",
          "text": [
            "Epoch 106/200 | Train loss: 0.237 | Train acc: 0.222 | Val loss: 6.522 | Val acc: 0.096\n"
          ]
        },
        {
          "name": "stderr",
          "output_type": "stream",
          "text": [
            "                                                                 \r"
          ]
        },
        {
          "name": "stdout",
          "output_type": "stream",
          "text": [
            "Epoch 107/200 | Train loss: 0.245 | Train acc: 0.221 | Val loss: 6.476 | Val acc: 0.097\n"
          ]
        },
        {
          "name": "stderr",
          "output_type": "stream",
          "text": [
            "                                                                 \r"
          ]
        },
        {
          "name": "stdout",
          "output_type": "stream",
          "text": [
            "Epoch 108/200 | Train loss: 0.246 | Train acc: 0.221 | Val loss: 6.464 | Val acc: 0.097\n"
          ]
        },
        {
          "name": "stderr",
          "output_type": "stream",
          "text": [
            "                                                                 \r"
          ]
        },
        {
          "name": "stdout",
          "output_type": "stream",
          "text": [
            "Epoch 109/200 | Train loss: 0.242 | Train acc: 0.221 | Val loss: 6.475 | Val acc: 0.097\n"
          ]
        },
        {
          "name": "stderr",
          "output_type": "stream",
          "text": [
            "                                                                 \r"
          ]
        },
        {
          "name": "stdout",
          "output_type": "stream",
          "text": [
            "Epoch 110/200 | Train loss: 0.236 | Train acc: 0.221 | Val loss: 6.470 | Val acc: 0.098\n"
          ]
        },
        {
          "name": "stderr",
          "output_type": "stream",
          "text": [
            "                                                                 \r"
          ]
        },
        {
          "name": "stdout",
          "output_type": "stream",
          "text": [
            "Epoch 111/200 | Train loss: 0.233 | Train acc: 0.222 | Val loss: 6.482 | Val acc: 0.097\n"
          ]
        },
        {
          "name": "stderr",
          "output_type": "stream",
          "text": [
            "                                                                 \r"
          ]
        },
        {
          "name": "stdout",
          "output_type": "stream",
          "text": [
            "Epoch 112/200 | Train loss: 0.229 | Train acc: 0.223 | Val loss: 6.510 | Val acc: 0.097\n"
          ]
        },
        {
          "name": "stderr",
          "output_type": "stream",
          "text": [
            "                                                                 \r"
          ]
        },
        {
          "name": "stdout",
          "output_type": "stream",
          "text": [
            "Epoch 113/200 | Train loss: 0.222 | Train acc: 0.223 | Val loss: 6.530 | Val acc: 0.098\n"
          ]
        },
        {
          "name": "stderr",
          "output_type": "stream",
          "text": [
            "                                                                 \r"
          ]
        },
        {
          "name": "stdout",
          "output_type": "stream",
          "text": [
            "Epoch 114/200 | Train loss: 0.236 | Train acc: 0.222 | Val loss: 6.479 | Val acc: 0.096\n"
          ]
        },
        {
          "name": "stderr",
          "output_type": "stream",
          "text": [
            "                                                                 \r"
          ]
        },
        {
          "name": "stdout",
          "output_type": "stream",
          "text": [
            "Epoch 115/200 | Train loss: 0.228 | Train acc: 0.222 | Val loss: 6.538 | Val acc: 0.097\n"
          ]
        },
        {
          "name": "stderr",
          "output_type": "stream",
          "text": [
            "                                                                 \r"
          ]
        },
        {
          "name": "stdout",
          "output_type": "stream",
          "text": [
            "Epoch 116/200 | Train loss: 0.217 | Train acc: 0.223 | Val loss: 6.518 | Val acc: 0.098\n"
          ]
        },
        {
          "name": "stderr",
          "output_type": "stream",
          "text": [
            "                                                                 \r"
          ]
        },
        {
          "name": "stdout",
          "output_type": "stream",
          "text": [
            "Epoch 117/200 | Train loss: 0.224 | Train acc: 0.223 | Val loss: 6.595 | Val acc: 0.098\n"
          ]
        },
        {
          "name": "stderr",
          "output_type": "stream",
          "text": [
            "                                                                 \r"
          ]
        },
        {
          "name": "stdout",
          "output_type": "stream",
          "text": [
            "Epoch 118/200 | Train loss: 0.212 | Train acc: 0.223 | Val loss: 6.526 | Val acc: 0.097\n"
          ]
        },
        {
          "name": "stderr",
          "output_type": "stream",
          "text": [
            "                                                                 \r"
          ]
        },
        {
          "name": "stdout",
          "output_type": "stream",
          "text": [
            "Epoch 119/200 | Train loss: 0.213 | Train acc: 0.223 | Val loss: 6.568 | Val acc: 0.098\n"
          ]
        },
        {
          "name": "stderr",
          "output_type": "stream",
          "text": [
            "                                                                 \r"
          ]
        },
        {
          "name": "stdout",
          "output_type": "stream",
          "text": [
            "Epoch 120/200 | Train loss: 0.205 | Train acc: 0.224 | Val loss: 6.557 | Val acc: 0.097\n"
          ]
        },
        {
          "name": "stderr",
          "output_type": "stream",
          "text": [
            "                                                                 \r"
          ]
        },
        {
          "name": "stdout",
          "output_type": "stream",
          "text": [
            "Epoch 121/200 | Train loss: 0.204 | Train acc: 0.223 | Val loss: 6.560 | Val acc: 0.097\n"
          ]
        },
        {
          "name": "stderr",
          "output_type": "stream",
          "text": [
            "                                                                 \r"
          ]
        },
        {
          "name": "stdout",
          "output_type": "stream",
          "text": [
            "Epoch 122/200 | Train loss: 0.209 | Train acc: 0.224 | Val loss: 6.501 | Val acc: 0.098\n"
          ]
        },
        {
          "name": "stderr",
          "output_type": "stream",
          "text": [
            "                                                                 \r"
          ]
        },
        {
          "name": "stdout",
          "output_type": "stream",
          "text": [
            "Epoch 123/200 | Train loss: 0.206 | Train acc: 0.224 | Val loss: 6.571 | Val acc: 0.098\n"
          ]
        },
        {
          "name": "stderr",
          "output_type": "stream",
          "text": [
            "                                                                 \r"
          ]
        },
        {
          "name": "stdout",
          "output_type": "stream",
          "text": [
            "Epoch 124/200 | Train loss: 0.206 | Train acc: 0.224 | Val loss: 6.619 | Val acc: 0.098\n"
          ]
        },
        {
          "name": "stderr",
          "output_type": "stream",
          "text": [
            "                                                                 \r"
          ]
        },
        {
          "name": "stdout",
          "output_type": "stream",
          "text": [
            "Epoch 125/200 | Train loss: 0.199 | Train acc: 0.224 | Val loss: 6.601 | Val acc: 0.098\n"
          ]
        },
        {
          "name": "stderr",
          "output_type": "stream",
          "text": [
            "                                                                 \r"
          ]
        },
        {
          "name": "stdout",
          "output_type": "stream",
          "text": [
            "Epoch 126/200 | Train loss: 0.193 | Train acc: 0.225 | Val loss: 6.581 | Val acc: 0.098\n"
          ]
        },
        {
          "name": "stderr",
          "output_type": "stream",
          "text": [
            "                                                                 \r"
          ]
        },
        {
          "name": "stdout",
          "output_type": "stream",
          "text": [
            "Epoch 127/200 | Train loss: 0.203 | Train acc: 0.224 | Val loss: 6.586 | Val acc: 0.098\n"
          ]
        },
        {
          "name": "stderr",
          "output_type": "stream",
          "text": [
            "                                                                 \r"
          ]
        },
        {
          "name": "stdout",
          "output_type": "stream",
          "text": [
            "Epoch 128/200 | Train loss: 0.195 | Train acc: 0.224 | Val loss: 6.635 | Val acc: 0.097\n"
          ]
        },
        {
          "name": "stderr",
          "output_type": "stream",
          "text": [
            "                                                                 \r"
          ]
        },
        {
          "name": "stdout",
          "output_type": "stream",
          "text": [
            "Epoch 129/200 | Train loss: 0.193 | Train acc: 0.225 | Val loss: 6.623 | Val acc: 0.098\n"
          ]
        },
        {
          "name": "stderr",
          "output_type": "stream",
          "text": [
            "                                                                 \r"
          ]
        },
        {
          "name": "stdout",
          "output_type": "stream",
          "text": [
            "Epoch 130/200 | Train loss: 0.195 | Train acc: 0.224 | Val loss: 6.650 | Val acc: 0.098\n"
          ]
        },
        {
          "name": "stderr",
          "output_type": "stream",
          "text": [
            "                                                                 \r"
          ]
        },
        {
          "name": "stdout",
          "output_type": "stream",
          "text": [
            "Epoch 131/200 | Train loss: 0.191 | Train acc: 0.225 | Val loss: 6.652 | Val acc: 0.099\n"
          ]
        },
        {
          "name": "stderr",
          "output_type": "stream",
          "text": [
            "                                                                 \r"
          ]
        },
        {
          "name": "stdout",
          "output_type": "stream",
          "text": [
            "Epoch 132/200 | Train loss: 0.185 | Train acc: 0.225 | Val loss: 6.699 | Val acc: 0.098\n"
          ]
        },
        {
          "name": "stderr",
          "output_type": "stream",
          "text": [
            "                                                                 \r"
          ]
        },
        {
          "name": "stdout",
          "output_type": "stream",
          "text": [
            "Epoch 133/200 | Train loss: 0.190 | Train acc: 0.225 | Val loss: 6.665 | Val acc: 0.099\n"
          ]
        },
        {
          "name": "stderr",
          "output_type": "stream",
          "text": [
            "                                                                 \r"
          ]
        },
        {
          "name": "stdout",
          "output_type": "stream",
          "text": [
            "Epoch 134/200 | Train loss: 0.189 | Train acc: 0.225 | Val loss: 6.694 | Val acc: 0.098\n"
          ]
        },
        {
          "name": "stderr",
          "output_type": "stream",
          "text": [
            "                                                                 \r"
          ]
        },
        {
          "name": "stdout",
          "output_type": "stream",
          "text": [
            "Epoch 135/200 | Train loss: 0.184 | Train acc: 0.225 | Val loss: 6.685 | Val acc: 0.098\n"
          ]
        },
        {
          "name": "stderr",
          "output_type": "stream",
          "text": [
            "                                                                 \r"
          ]
        },
        {
          "name": "stdout",
          "output_type": "stream",
          "text": [
            "Epoch 136/200 | Train loss: 0.196 | Train acc: 0.224 | Val loss: 6.657 | Val acc: 0.099\n"
          ]
        },
        {
          "name": "stderr",
          "output_type": "stream",
          "text": [
            "                                                                 \r"
          ]
        },
        {
          "name": "stdout",
          "output_type": "stream",
          "text": [
            "Epoch 137/200 | Train loss: 0.186 | Train acc: 0.225 | Val loss: 6.705 | Val acc: 0.097\n"
          ]
        },
        {
          "name": "stderr",
          "output_type": "stream",
          "text": [
            "                                                                 \r"
          ]
        },
        {
          "name": "stdout",
          "output_type": "stream",
          "text": [
            "Epoch 138/200 | Train loss: 0.177 | Train acc: 0.226 | Val loss: 6.694 | Val acc: 0.098\n"
          ]
        },
        {
          "name": "stderr",
          "output_type": "stream",
          "text": [
            "                                                                 \r"
          ]
        },
        {
          "name": "stdout",
          "output_type": "stream",
          "text": [
            "Epoch 139/200 | Train loss: 0.178 | Train acc: 0.226 | Val loss: 6.732 | Val acc: 0.097\n"
          ]
        },
        {
          "name": "stderr",
          "output_type": "stream",
          "text": [
            "                                                                 \r"
          ]
        },
        {
          "name": "stdout",
          "output_type": "stream",
          "text": [
            "Epoch 140/200 | Train loss: 0.173 | Train acc: 0.226 | Val loss: 6.763 | Val acc: 0.098\n"
          ]
        },
        {
          "name": "stderr",
          "output_type": "stream",
          "text": [
            "                                                                 \r"
          ]
        },
        {
          "name": "stdout",
          "output_type": "stream",
          "text": [
            "Epoch 141/200 | Train loss: 0.176 | Train acc: 0.226 | Val loss: 6.825 | Val acc: 0.098\n"
          ]
        },
        {
          "name": "stderr",
          "output_type": "stream",
          "text": [
            "                                                                 \r"
          ]
        },
        {
          "name": "stdout",
          "output_type": "stream",
          "text": [
            "Epoch 142/200 | Train loss: 0.179 | Train acc: 0.226 | Val loss: 6.709 | Val acc: 0.098\n"
          ]
        },
        {
          "name": "stderr",
          "output_type": "stream",
          "text": [
            "                                                                 \r"
          ]
        },
        {
          "name": "stdout",
          "output_type": "stream",
          "text": [
            "Epoch 143/200 | Train loss: 0.179 | Train acc: 0.226 | Val loss: 6.754 | Val acc: 0.098\n"
          ]
        },
        {
          "name": "stderr",
          "output_type": "stream",
          "text": [
            "                                                                 \r"
          ]
        },
        {
          "name": "stdout",
          "output_type": "stream",
          "text": [
            "Epoch 144/200 | Train loss: 0.170 | Train acc: 0.226 | Val loss: 6.773 | Val acc: 0.098\n"
          ]
        },
        {
          "name": "stderr",
          "output_type": "stream",
          "text": [
            "                                                                 \r"
          ]
        },
        {
          "name": "stdout",
          "output_type": "stream",
          "text": [
            "Epoch 145/200 | Train loss: 0.172 | Train acc: 0.226 | Val loss: 6.747 | Val acc: 0.099\n"
          ]
        },
        {
          "name": "stderr",
          "output_type": "stream",
          "text": [
            "                                                                 \r"
          ]
        },
        {
          "name": "stdout",
          "output_type": "stream",
          "text": [
            "Epoch 146/200 | Train loss: 0.167 | Train acc: 0.226 | Val loss: 6.767 | Val acc: 0.098\n"
          ]
        },
        {
          "name": "stderr",
          "output_type": "stream",
          "text": [
            "                                                                 \r"
          ]
        },
        {
          "name": "stdout",
          "output_type": "stream",
          "text": [
            "Epoch 147/200 | Train loss: 0.162 | Train acc: 0.227 | Val loss: 6.767 | Val acc: 0.098\n"
          ]
        },
        {
          "name": "stderr",
          "output_type": "stream",
          "text": [
            "                                                                 \r"
          ]
        },
        {
          "name": "stdout",
          "output_type": "stream",
          "text": [
            "Epoch 148/200 | Train loss: 0.153 | Train acc: 0.227 | Val loss: 6.828 | Val acc: 0.099\n"
          ]
        },
        {
          "name": "stderr",
          "output_type": "stream",
          "text": [
            "                                                                 \r"
          ]
        },
        {
          "name": "stdout",
          "output_type": "stream",
          "text": [
            "Epoch 149/200 | Train loss: 0.158 | Train acc: 0.227 | Val loss: 6.750 | Val acc: 0.098\n"
          ]
        },
        {
          "name": "stderr",
          "output_type": "stream",
          "text": [
            "                                                                 \r"
          ]
        },
        {
          "name": "stdout",
          "output_type": "stream",
          "text": [
            "Epoch 150/200 | Train loss: 0.161 | Train acc: 0.227 | Val loss: 6.875 | Val acc: 0.098\n"
          ]
        },
        {
          "name": "stderr",
          "output_type": "stream",
          "text": [
            "                                                                 \r"
          ]
        },
        {
          "name": "stdout",
          "output_type": "stream",
          "text": [
            "Epoch 151/200 | Train loss: 0.159 | Train acc: 0.227 | Val loss: 6.818 | Val acc: 0.098\n"
          ]
        },
        {
          "name": "stderr",
          "output_type": "stream",
          "text": [
            "                                                                 \r"
          ]
        },
        {
          "name": "stdout",
          "output_type": "stream",
          "text": [
            "Epoch 152/200 | Train loss: 0.161 | Train acc: 0.227 | Val loss: 6.823 | Val acc: 0.098\n"
          ]
        },
        {
          "name": "stderr",
          "output_type": "stream",
          "text": [
            "                                                                 \r"
          ]
        },
        {
          "name": "stdout",
          "output_type": "stream",
          "text": [
            "Epoch 153/200 | Train loss: 0.160 | Train acc: 0.227 | Val loss: 6.835 | Val acc: 0.098\n"
          ]
        },
        {
          "name": "stderr",
          "output_type": "stream",
          "text": [
            "                                                                 \r"
          ]
        },
        {
          "name": "stdout",
          "output_type": "stream",
          "text": [
            "Epoch 154/200 | Train loss: 0.158 | Train acc: 0.227 | Val loss: 6.843 | Val acc: 0.098\n"
          ]
        },
        {
          "name": "stderr",
          "output_type": "stream",
          "text": [
            "                                                                 \r"
          ]
        },
        {
          "name": "stdout",
          "output_type": "stream",
          "text": [
            "Epoch 155/200 | Train loss: 0.148 | Train acc: 0.227 | Val loss: 6.867 | Val acc: 0.098\n"
          ]
        },
        {
          "name": "stderr",
          "output_type": "stream",
          "text": [
            "                                                                 \r"
          ]
        },
        {
          "name": "stdout",
          "output_type": "stream",
          "text": [
            "Epoch 156/200 | Train loss: 0.152 | Train acc: 0.227 | Val loss: 6.808 | Val acc: 0.098\n"
          ]
        },
        {
          "name": "stderr",
          "output_type": "stream",
          "text": [
            "                                                                 \r"
          ]
        },
        {
          "name": "stdout",
          "output_type": "stream",
          "text": [
            "Epoch 157/200 | Train loss: 0.150 | Train acc: 0.227 | Val loss: 6.865 | Val acc: 0.099\n"
          ]
        },
        {
          "name": "stderr",
          "output_type": "stream",
          "text": [
            "                                                                 \r"
          ]
        },
        {
          "name": "stdout",
          "output_type": "stream",
          "text": [
            "Epoch 158/200 | Train loss: 0.150 | Train acc: 0.227 | Val loss: 6.821 | Val acc: 0.099\n"
          ]
        },
        {
          "name": "stderr",
          "output_type": "stream",
          "text": [
            "                                                                 \r"
          ]
        },
        {
          "name": "stdout",
          "output_type": "stream",
          "text": [
            "Epoch 159/200 | Train loss: 0.160 | Train acc: 0.227 | Val loss: 6.887 | Val acc: 0.099\n"
          ]
        },
        {
          "name": "stderr",
          "output_type": "stream",
          "text": [
            "                                                                 \r"
          ]
        },
        {
          "name": "stdout",
          "output_type": "stream",
          "text": [
            "Epoch 160/200 | Train loss: 0.153 | Train acc: 0.227 | Val loss: 6.841 | Val acc: 0.099\n"
          ]
        },
        {
          "name": "stderr",
          "output_type": "stream",
          "text": [
            "                                                                 \r"
          ]
        },
        {
          "name": "stdout",
          "output_type": "stream",
          "text": [
            "Epoch 161/200 | Train loss: 0.154 | Train acc: 0.227 | Val loss: 6.872 | Val acc: 0.098\n"
          ]
        },
        {
          "name": "stderr",
          "output_type": "stream",
          "text": [
            "                                                                 \r"
          ]
        },
        {
          "name": "stdout",
          "output_type": "stream",
          "text": [
            "Epoch 162/200 | Train loss: 0.148 | Train acc: 0.228 | Val loss: 6.909 | Val acc: 0.098\n"
          ]
        },
        {
          "name": "stderr",
          "output_type": "stream",
          "text": [
            "                                                                 \r"
          ]
        },
        {
          "name": "stdout",
          "output_type": "stream",
          "text": [
            "Epoch 163/200 | Train loss: 0.149 | Train acc: 0.228 | Val loss: 6.904 | Val acc: 0.098\n"
          ]
        },
        {
          "name": "stderr",
          "output_type": "stream",
          "text": [
            "                                                                 \r"
          ]
        },
        {
          "name": "stdout",
          "output_type": "stream",
          "text": [
            "Epoch 164/200 | Train loss: 0.147 | Train acc: 0.228 | Val loss: 6.975 | Val acc: 0.099\n"
          ]
        },
        {
          "name": "stderr",
          "output_type": "stream",
          "text": [
            "                                                                 \r"
          ]
        },
        {
          "name": "stdout",
          "output_type": "stream",
          "text": [
            "Epoch 165/200 | Train loss: 0.142 | Train acc: 0.228 | Val loss: 6.978 | Val acc: 0.099\n"
          ]
        },
        {
          "name": "stderr",
          "output_type": "stream",
          "text": [
            "                                                                 \r"
          ]
        },
        {
          "name": "stdout",
          "output_type": "stream",
          "text": [
            "Epoch 166/200 | Train loss: 0.141 | Train acc: 0.228 | Val loss: 6.987 | Val acc: 0.098\n"
          ]
        },
        {
          "name": "stderr",
          "output_type": "stream",
          "text": [
            "                                                                 \r"
          ]
        },
        {
          "name": "stdout",
          "output_type": "stream",
          "text": [
            "Epoch 167/200 | Train loss: 0.151 | Train acc: 0.227 | Val loss: 6.934 | Val acc: 0.099\n"
          ]
        },
        {
          "name": "stderr",
          "output_type": "stream",
          "text": [
            "                                                                 \r"
          ]
        },
        {
          "name": "stdout",
          "output_type": "stream",
          "text": [
            "Epoch 168/200 | Train loss: 0.150 | Train acc: 0.227 | Val loss: 6.914 | Val acc: 0.099\n"
          ]
        },
        {
          "name": "stderr",
          "output_type": "stream",
          "text": [
            "                                                                 \r"
          ]
        },
        {
          "name": "stdout",
          "output_type": "stream",
          "text": [
            "Epoch 169/200 | Train loss: 0.145 | Train acc: 0.228 | Val loss: 6.976 | Val acc: 0.099\n"
          ]
        },
        {
          "name": "stderr",
          "output_type": "stream",
          "text": [
            "                                                                 \r"
          ]
        },
        {
          "name": "stdout",
          "output_type": "stream",
          "text": [
            "Epoch 170/200 | Train loss: 0.142 | Train acc: 0.228 | Val loss: 6.921 | Val acc: 0.098\n"
          ]
        },
        {
          "name": "stderr",
          "output_type": "stream",
          "text": [
            "                                                                 \r"
          ]
        },
        {
          "name": "stdout",
          "output_type": "stream",
          "text": [
            "Epoch 171/200 | Train loss: 0.139 | Train acc: 0.228 | Val loss: 6.958 | Val acc: 0.100\n"
          ]
        },
        {
          "name": "stderr",
          "output_type": "stream",
          "text": [
            "                                                                 \r"
          ]
        },
        {
          "name": "stdout",
          "output_type": "stream",
          "text": [
            "Epoch 172/200 | Train loss: 0.141 | Train acc: 0.228 | Val loss: 6.966 | Val acc: 0.099\n"
          ]
        },
        {
          "name": "stderr",
          "output_type": "stream",
          "text": [
            "                                                                 \r"
          ]
        },
        {
          "name": "stdout",
          "output_type": "stream",
          "text": [
            "Epoch 173/200 | Train loss: 0.132 | Train acc: 0.229 | Val loss: 6.982 | Val acc: 0.099\n"
          ]
        },
        {
          "name": "stderr",
          "output_type": "stream",
          "text": [
            "                                                                 \r"
          ]
        },
        {
          "name": "stdout",
          "output_type": "stream",
          "text": [
            "Epoch 174/200 | Train loss: 0.140 | Train acc: 0.228 | Val loss: 6.977 | Val acc: 0.099\n"
          ]
        },
        {
          "name": "stderr",
          "output_type": "stream",
          "text": [
            "                                                                 \r"
          ]
        },
        {
          "name": "stdout",
          "output_type": "stream",
          "text": [
            "Epoch 175/200 | Train loss: 0.144 | Train acc: 0.228 | Val loss: 6.917 | Val acc: 0.098\n"
          ]
        },
        {
          "name": "stderr",
          "output_type": "stream",
          "text": [
            "                                                                 \r"
          ]
        },
        {
          "name": "stdout",
          "output_type": "stream",
          "text": [
            "Epoch 176/200 | Train loss: 0.138 | Train acc: 0.228 | Val loss: 6.930 | Val acc: 0.099\n"
          ]
        },
        {
          "name": "stderr",
          "output_type": "stream",
          "text": [
            "                                                                 \r"
          ]
        },
        {
          "name": "stdout",
          "output_type": "stream",
          "text": [
            "Epoch 177/200 | Train loss: 0.135 | Train acc: 0.229 | Val loss: 6.954 | Val acc: 0.099\n"
          ]
        },
        {
          "name": "stderr",
          "output_type": "stream",
          "text": [
            "                                                                 \r"
          ]
        },
        {
          "name": "stdout",
          "output_type": "stream",
          "text": [
            "Epoch 178/200 | Train loss: 0.134 | Train acc: 0.229 | Val loss: 6.990 | Val acc: 0.098\n"
          ]
        },
        {
          "name": "stderr",
          "output_type": "stream",
          "text": [
            "                                                                 \r"
          ]
        },
        {
          "name": "stdout",
          "output_type": "stream",
          "text": [
            "Epoch 179/200 | Train loss: 0.134 | Train acc: 0.229 | Val loss: 7.027 | Val acc: 0.098\n"
          ]
        },
        {
          "name": "stderr",
          "output_type": "stream",
          "text": [
            "                                                                 \r"
          ]
        },
        {
          "name": "stdout",
          "output_type": "stream",
          "text": [
            "Epoch 180/200 | Train loss: 0.137 | Train acc: 0.229 | Val loss: 7.037 | Val acc: 0.098\n"
          ]
        },
        {
          "name": "stderr",
          "output_type": "stream",
          "text": [
            "                                                                 \r"
          ]
        },
        {
          "name": "stdout",
          "output_type": "stream",
          "text": [
            "Epoch 181/200 | Train loss: 0.131 | Train acc: 0.229 | Val loss: 7.010 | Val acc: 0.099\n"
          ]
        },
        {
          "name": "stderr",
          "output_type": "stream",
          "text": [
            "                                                                 \r"
          ]
        },
        {
          "name": "stdout",
          "output_type": "stream",
          "text": [
            "Epoch 182/200 | Train loss: 0.130 | Train acc: 0.229 | Val loss: 6.987 | Val acc: 0.099\n"
          ]
        },
        {
          "name": "stderr",
          "output_type": "stream",
          "text": [
            "                                                                 \r"
          ]
        },
        {
          "name": "stdout",
          "output_type": "stream",
          "text": [
            "Epoch 183/200 | Train loss: 0.137 | Train acc: 0.228 | Val loss: 6.962 | Val acc: 0.100\n"
          ]
        },
        {
          "name": "stderr",
          "output_type": "stream",
          "text": [
            "                                                                 \r"
          ]
        },
        {
          "name": "stdout",
          "output_type": "stream",
          "text": [
            "Epoch 184/200 | Train loss: 0.133 | Train acc: 0.229 | Val loss: 7.007 | Val acc: 0.100\n"
          ]
        },
        {
          "name": "stderr",
          "output_type": "stream",
          "text": [
            "                                                                 \r"
          ]
        },
        {
          "name": "stdout",
          "output_type": "stream",
          "text": [
            "Epoch 185/200 | Train loss: 0.137 | Train acc: 0.228 | Val loss: 6.966 | Val acc: 0.100\n"
          ]
        },
        {
          "name": "stderr",
          "output_type": "stream",
          "text": [
            "                                                                 \r"
          ]
        },
        {
          "name": "stdout",
          "output_type": "stream",
          "text": [
            "Epoch 186/200 | Train loss: 0.135 | Train acc: 0.229 | Val loss: 7.068 | Val acc: 0.099\n"
          ]
        },
        {
          "name": "stderr",
          "output_type": "stream",
          "text": [
            "                                                                 \r"
          ]
        },
        {
          "name": "stdout",
          "output_type": "stream",
          "text": [
            "Epoch 187/200 | Train loss: 0.135 | Train acc: 0.229 | Val loss: 7.063 | Val acc: 0.101\n"
          ]
        },
        {
          "name": "stderr",
          "output_type": "stream",
          "text": [
            "                                                                 \r"
          ]
        },
        {
          "name": "stdout",
          "output_type": "stream",
          "text": [
            "Epoch 188/200 | Train loss: 0.129 | Train acc: 0.229 | Val loss: 7.062 | Val acc: 0.100\n"
          ]
        },
        {
          "name": "stderr",
          "output_type": "stream",
          "text": [
            "                                                                 \r"
          ]
        },
        {
          "name": "stdout",
          "output_type": "stream",
          "text": [
            "Epoch 189/200 | Train loss: 0.127 | Train acc: 0.229 | Val loss: 7.049 | Val acc: 0.099\n"
          ]
        },
        {
          "name": "stderr",
          "output_type": "stream",
          "text": [
            "                                                                 \r"
          ]
        },
        {
          "name": "stdout",
          "output_type": "stream",
          "text": [
            "Epoch 190/200 | Train loss: 0.136 | Train acc: 0.229 | Val loss: 7.044 | Val acc: 0.099\n"
          ]
        },
        {
          "name": "stderr",
          "output_type": "stream",
          "text": [
            "                                                                 \r"
          ]
        },
        {
          "name": "stdout",
          "output_type": "stream",
          "text": [
            "Epoch 191/200 | Train loss: 0.130 | Train acc: 0.229 | Val loss: 7.076 | Val acc: 0.099\n"
          ]
        },
        {
          "name": "stderr",
          "output_type": "stream",
          "text": [
            "                                                                 \r"
          ]
        },
        {
          "name": "stdout",
          "output_type": "stream",
          "text": [
            "Epoch 192/200 | Train loss: 0.126 | Train acc: 0.229 | Val loss: 7.051 | Val acc: 0.099\n"
          ]
        },
        {
          "name": "stderr",
          "output_type": "stream",
          "text": [
            "                                                                 \r"
          ]
        },
        {
          "name": "stdout",
          "output_type": "stream",
          "text": [
            "Epoch 193/200 | Train loss: 0.135 | Train acc: 0.229 | Val loss: 7.072 | Val acc: 0.099\n"
          ]
        },
        {
          "name": "stderr",
          "output_type": "stream",
          "text": [
            "                                                                 \r"
          ]
        },
        {
          "name": "stdout",
          "output_type": "stream",
          "text": [
            "Epoch 194/200 | Train loss: 0.124 | Train acc: 0.229 | Val loss: 7.071 | Val acc: 0.100\n"
          ]
        },
        {
          "name": "stderr",
          "output_type": "stream",
          "text": [
            "                                                                 \r"
          ]
        },
        {
          "name": "stdout",
          "output_type": "stream",
          "text": [
            "Epoch 195/200 | Train loss: 0.131 | Train acc: 0.229 | Val loss: 7.052 | Val acc: 0.098\n"
          ]
        },
        {
          "name": "stderr",
          "output_type": "stream",
          "text": [
            "                                                                 \r"
          ]
        },
        {
          "name": "stdout",
          "output_type": "stream",
          "text": [
            "Epoch 196/200 | Train loss: 0.126 | Train acc: 0.229 | Val loss: 7.100 | Val acc: 0.100\n"
          ]
        },
        {
          "name": "stderr",
          "output_type": "stream",
          "text": [
            "                                                                 \r"
          ]
        },
        {
          "name": "stdout",
          "output_type": "stream",
          "text": [
            "Epoch 197/200 | Train loss: 0.123 | Train acc: 0.230 | Val loss: 7.104 | Val acc: 0.099\n"
          ]
        },
        {
          "name": "stderr",
          "output_type": "stream",
          "text": [
            "                                                                 \r"
          ]
        },
        {
          "name": "stdout",
          "output_type": "stream",
          "text": [
            "Epoch 198/200 | Train loss: 0.124 | Train acc: 0.229 | Val loss: 7.057 | Val acc: 0.099\n"
          ]
        },
        {
          "name": "stderr",
          "output_type": "stream",
          "text": [
            "                                                                 \r"
          ]
        },
        {
          "name": "stdout",
          "output_type": "stream",
          "text": [
            "Epoch 199/200 | Train loss: 0.126 | Train acc: 0.229 | Val loss: 7.068 | Val acc: 0.099\n"
          ]
        },
        {
          "name": "stderr",
          "output_type": "stream",
          "text": [
            "                                                                 \r"
          ]
        },
        {
          "name": "stdout",
          "output_type": "stream",
          "text": [
            "Epoch 200/200 | Train loss: 0.118 | Train acc: 0.230 | Val loss: 7.150 | Val acc: 0.099\n",
            "Checkpoint guardado en: Modelos_entrenados/Embedding_encoder_con_attention\n",
            "Modelo entrenado y guardado exitosamente\n"
          ]
        }
      ],
      "source": [
        "# =============== Crear modelo con ATTENTION (drop-in) ===============\n",
        "dropout_rate = 0.2\n",
        "hidden_size = 128\n",
        "num_layers = 1\n",
        "pad_idx = 0\n",
        "\n",
        "encoder_attn = Encoder_bidireccional_attn(\n",
        "    vocab_size=nb_words,\n",
        "    embedding_matrix=embedding_matrix,\n",
        "    hidden_size=hidden_size,\n",
        "    num_layers=num_layers,\n",
        "    dropout_rate=dropout_rate\n",
        ")\n",
        "decoder_attn =  Decoder_bidreccional_attn(\n",
        "    vocab_size=num_words_output,\n",
        "    output_dim=num_words_output,\n",
        "    hidden_size=hidden_size,\n",
        "    num_layers=num_layers,\n",
        "    dropout_rate=dropout_rate,\n",
        "    enc_out_dim=hidden_size*2   # 2H (BiLSTM)\n",
        "    # si tenés embedding del decoder en español:\n",
        "    # , embedding_matrix=embedding_matrix_decoder\n",
        ")\n",
        "\n",
        "model = Seq2SeqAttention(encoder_attn, decoder_attn, pad_idx=pad_idx)\n",
        "model = model.to(device)\n",
        "\n",
        "# Optimizador y loss\n",
        "optimizer = torch.optim.Adam(model.parameters(), lr=0.001)  # 1e-3 suele ir mejor que 1e-2\n",
        "criterion = torch.nn.CrossEntropyLoss(ignore_index=pad_idx)\n",
        "\n",
        "#  =============== Train o Load (mismo estilo) ===============\n",
        "carpeta = \"Modelos_entrenados/Embedding_encoder_con_attention\"\n",
        "\n",
        "modelo_entrenado = check_checkpoint_exists(carpeta)\n",
        "n_epochs = 200\n",
        "\n",
        "if not modelo_entrenado:\n",
        "    print(f\"\\nIniciando entrenamiento por {n_epochs} épocas...\")\n",
        "    history_attn = train(\n",
        "        model,\n",
        "        train_loader,\n",
        "        valid_loader,\n",
        "        optimizer,\n",
        "        criterion,\n",
        "        epochs=n_epochs\n",
        "    )\n",
        "\n",
        "    config = {\n",
        "        \"max_input_len\": max_input_len,\n",
        "        \"max_out_len\": max_out_len,\n",
        "        \"max_vocab_size\": MAX_VOCAB_SIZE,\n",
        "        \"cuda\": cuda,\n",
        "\n",
        "        \"embedding_dim_enc\": int(embedding_matrix.shape[1]),\n",
        "        \"embedding_dim_dec\": int(embedding_matrix.shape[1]),  # cambia si usás embedding_matrix_decoder\n",
        "        \"hidden_size\": hidden_size,\n",
        "        \"num_layers\": num_layers,\n",
        "        \"lr\": 0.001,\n",
        "        \"dropout_rate\": dropout_rate,\n",
        "        \"batch_size\": 32,\n",
        "        \"epochs\": n_epochs,\n",
        "\n",
        "        \"num_words_input\": int(embedding_matrix.shape[0]),\n",
        "        \"num_words_output\": int(num_words_output),\n",
        "\n",
        "        \"embedding_source_enc\": getattr(model_embeddings, \"name\", \"custom\"),\n",
        "        \"embedding_source_dec\": \"same_as_enc\",  # o \"spanish_pretrained\" si usaste embedding_matrix_decoder\n",
        "        \"variant\": \"seq2seq_attention_luong_dot\"\n",
        "    }\n",
        "\n",
        "    # Si usaste embedding_matrix_decoder, pásalo como param opcional\n",
        "    save_checkpoint(\n",
        "        carpeta, model, optimizer, history_attn, config,\n",
        "        input_tokenizer, output_tokenizer,\n",
        "        word2idx_inputs, word2idx_outputs, embedding_matrix\n",
        "        # , embedding_matrix_decoder=embedding_matrix_decoder\n",
        "    )\n",
        "    print(\"Modelo entrenado y guardado exitosamente\")\n",
        "else:\n",
        "    print(f\"\\nCargando modelo existente desde {carpeta}\")\n",
        "    data = load_checkpoint(\n",
        "        carpeta,\n",
        "        Encoder_bidireccional_attn, Decoder_bidreccional_attn, Seq2SeqAttention,\n",
        "        device=\"cuda\" if cuda else \"cpu\"\n",
        "    )\n",
        "    model = data[\"model\"]\n",
        "    optimizer = data[\"optimizer\"]\n",
        "    history_attn = data[\"history\"]\n",
        "    print(\"Modelo cargado exitosamente\")\n"
      ]
    },
    {
      "cell_type": "markdown",
      "metadata": {},
      "source": [
        "## Generar inferencias"
      ]
    },
    {
      "cell_type": "code",
      "execution_count": 138,
      "metadata": {},
      "outputs": [],
      "source": [
        "# ===============================================================\n",
        "# Reconstruir idx2word_outputs si no existe\n",
        "# ===============================================================\n",
        "if 'idx2word_outputs' not in globals():\n",
        "    if 'output_tokenizer' in globals() and hasattr(output_tokenizer, 'index_word'):\n",
        "        idx2word_outputs = output_tokenizer.index_word\n",
        "    elif 'word2idx_outputs' in globals():\n",
        "        idx2word_outputs = {v: k for k, v in word2idx_outputs.items()}\n",
        "    else:\n",
        "        raise ValueError(\"No se encontró ni 'output_tokenizer' ni 'word2idx_outputs'.\")\n",
        "\n",
        "\n",
        "@torch.no_grad()\n",
        "def greedy_decode(model, encoder_input, sos_idx, eos_idx, max_len, device, pad_idx=0):\n",
        "    \"\"\"\n",
        "    Decodificación Greedy para un modelo Seq2Seq:\n",
        "    - model(encoder_input, decoder_input) -> logits [B, T, V]\n",
        "    \"\"\"\n",
        "    model.eval()\n",
        "    if encoder_input.dim() == 1:\n",
        "        encoder_input = encoder_input.unsqueeze(0)\n",
        "    encoder_input = encoder_input.to(device)\n",
        "\n",
        "    dec = torch.full((1, 1), sos_idx, dtype=torch.long, device=device)\n",
        "\n",
        "    for _ in range(max_len):\n",
        "        logits = model(encoder_input, dec)\n",
        "        next_token = logits[:, -1, :].argmax(dim=-1)\n",
        "        #  Forzamos el token al mismo device que dec\n",
        "        next_token = next_token.to(device)\n",
        "        dec = torch.cat([dec, next_token.unsqueeze(1)], dim=1)\n",
        "        if next_token.item() == eos_idx:\n",
        "            break\n",
        "\n",
        "    return dec.squeeze(0).tolist()[1:]  # sin <sos>\n",
        "\n",
        "\n",
        "@torch.no_grad()\n",
        "def beam_search_decode(model, encoder_input, sos_idx, eos_idx, max_len, device,\n",
        "                       beam_size=5, length_penalty=1.0, pad_idx=0,\n",
        "                       temperature=1.0, top_k=None):\n",
        "    \"\"\"\n",
        "    Beam Search estándar para Seq2Seq.\n",
        "    \"\"\"\n",
        "    model.eval()\n",
        "    if encoder_input.dim() == 1:\n",
        "        encoder_input = encoder_input.unsqueeze(0)\n",
        "    encoder_input = encoder_input.to(device)\n",
        "\n",
        "    beams = [(0.0, torch.full((1, 1), sos_idx, dtype=torch.long, device=device))]\n",
        "    finished = []\n",
        "\n",
        "    for _ in range(max_len):\n",
        "        new_beams = []\n",
        "        for logp, seq in beams:\n",
        "            if seq[0, -1].item() == eos_idx:\n",
        "                finished.append((logp, seq.clone()))\n",
        "                continue\n",
        "\n",
        "            logits = model(encoder_input, seq)[:, -1, :]\n",
        "            if temperature != 1.0:\n",
        "                logits /= temperature\n",
        "\n",
        "            if top_k is not None and 0 < top_k < logits.size(-1):\n",
        "                topk_vals, topk_idx = torch.topk(logits, k=top_k, dim=-1)\n",
        "                log_probs = F.log_softmax(topk_vals, dim=-1)\n",
        "                cand_ids = topk_idx.squeeze(0)\n",
        "            else:\n",
        "                log_probs = F.log_softmax(logits, dim=-1)\n",
        "                cand_ids = torch.arange(log_probs.size(-1), device=device)\n",
        "\n",
        "            log_probs = log_probs.squeeze(0)\n",
        "            topk_logp, topk_id = torch.topk(log_probs, k=min(beam_size, log_probs.numel()))\n",
        "            for add_logp, token_rank in zip(topk_logp.tolist(), topk_id.tolist()):\n",
        "                token_id = cand_ids[token_rank].item()\n",
        "                new_seq = torch.cat([seq, torch.tensor([[token_id]], device=device)], dim=1)\n",
        "                new_beams.append((logp + add_logp, new_seq))\n",
        "\n",
        "        if not new_beams and not finished:\n",
        "            break\n",
        "\n",
        "        def norm_score(tup):\n",
        "            lp, s = tup\n",
        "            # s: [1, t_con_sos]\n",
        "            seq_len_wo_sos = max(1, s.size(1) - 1)\n",
        "            denom = (seq_len_wo_sos ** length_penalty) if length_penalty != 1.0 else seq_len_wo_sos\n",
        "            return lp / denom\n",
        "\n",
        "\n",
        "        new_beams.sort(key=norm_score, reverse=True)\n",
        "        beams = new_beams[:beam_size]\n",
        "\n",
        "        if all(seq[0, -1].item() == eos_idx for _, seq in beams):\n",
        "            finished.extend(beams)\n",
        "            break\n",
        "\n",
        "    pool = finished if finished else beams\n",
        "    pool.sort(key=lambda x: x[0] / (max(1, x[1].size(1) - 1) ** length_penalty), reverse=True)\n",
        "    best = pool[0][1].squeeze(0).tolist()\n",
        "    return best[1:]  # sin <sos>\n",
        "\n",
        "def ids_to_sentence(ids, idx2word, eos_idx, skip_special=True):\n",
        "    out = []\n",
        "    for i in ids:\n",
        "        if i == eos_idx:\n",
        "            break\n",
        "        tok = idx2word.get(i, f\"<unk:{i}>\")\n",
        "        if skip_special and tok in (\"<sos>\", \"<eos>\", \"<pad>\"):\n",
        "            continue\n",
        "        out.append(tok)\n",
        "    return \" \".join(out).strip()\n"
      ]
    },
    {
      "cell_type": "code",
      "execution_count": 139,
      "metadata": {},
      "outputs": [
        {
          "name": "stdout",
          "output_type": "stream",
          "text": [
            "====================================================================================================\n",
            "[5238] Original inglés         : good always wins over evil\n",
            "[5238] Traducción de referencia: el bien gana siempre al mal\n",
            "[5238] GREEDY                  : bueno no lo puede ser diferente\n",
            "[5238] BEAM                    : bueno no lo puede ser diferente\n",
            "====================================================================================================\n",
            "====================================================================================================\n",
            "[912] Original inglés         : you'll miss the train\n",
            "[912] Traducción de referencia: perderás el tren\n",
            "[912] GREEDY                  : perderás el tren\n",
            "[912] BEAM                    : perderás el tren\n",
            "====================================================================================================\n",
            "====================================================================================================\n",
            "[204] Original inglés         : christmas is december 25th\n",
            "[204] Traducción de referencia: la navidad es el 25 de diciembre\n",
            "[204] GREEDY                  : la navidad es el 25 de diciembre\n",
            "[204] BEAM                    : la navidad es el 25 de diciembre\n",
            "====================================================================================================\n",
            "====================================================================================================\n",
            "[2253] Original inglés         : do you know me\n",
            "[2253] Traducción de referencia: me conoce usted\n",
            "[2253] GREEDY                  : me conoce usted\n",
            "[2253] BEAM                    : me conoce usted\n",
            "====================================================================================================\n",
            "====================================================================================================\n",
            "[2006] Original inglés         : tom has a 13 year old daughter\n",
            "[2006] Traducción de referencia: tom tiene una hija de 13 años\n",
            "[2006] GREEDY                  : tom tiene una hija de 13 años\n",
            "[2006] BEAM                    : tom tiene una hija de 13 años\n",
            "====================================================================================================\n"
          ]
        }
      ],
      "source": [
        "# ===============================================================\n",
        "# Ejemplo de inferencia Greedy y Beam Search en 5 muestras\n",
        "# ===============================================================\n",
        "import random\n",
        "\n",
        "SEED = 42  # <- cambiálo si querés otra corrida reproducible\n",
        "\n",
        "os.environ[\"PYTHONHASHSEED\"] = str(SEED)\n",
        "random.seed(SEED)\n",
        "np.random.seed(SEED)\n",
        "torch.manual_seed(SEED)\n",
        "torch.cuda.manual_seed_all(SEED)\n",
        "\n",
        "# Para que cuDNN no meta heurísticas no determinísticas\n",
        "torch.backends.cudnn.deterministic = True\n",
        "torch.backends.cudnn.benchmark = False\n",
        "\n",
        "# --- Parámetros necesarios ---\n",
        "device = torch.device(\"cuda\" if torch.cuda.is_available() else \"cpu\")\n",
        "model.eval().to(device)\n",
        "\n",
        "# Vocab inverso de entrada\n",
        "if 'idx2word_inputs' not in globals():\n",
        "    if 'input_tokenizer' in globals() and hasattr(input_tokenizer, 'index_word'):\n",
        "        idx2word_inputs = input_tokenizer.index_word\n",
        "    elif 'word2idx_inputs' in globals():\n",
        "        idx2word_inputs = {v: k for k, v in word2idx_inputs.items()}\n",
        "    else:\n",
        "        raise ValueError(\"No se encontró idx2word_inputs (ni input_tokenizer ni word2idx_inputs).\")\n",
        "\n",
        "sos_idx = word2idx_outputs[\"<sos>\"]\n",
        "eos_idx = word2idx_outputs[\"<eos>\"]\n",
        "pad_idx = 0\n",
        "\n",
        "def get_item(i):\n",
        "    if 'data_set' in globals() and data_set is not None:\n",
        "        enc, _, dec_out = data_set[i]\n",
        "        if dec_out.dim() == 3:\n",
        "            dec_out = dec_out.argmax(dim=-1)\n",
        "        return enc.long(), dec_out.long()\n",
        "    else:\n",
        "        enc = torch.from_numpy(encoder_input_sequences[i]).long()\n",
        "        tgt = torch.from_numpy(decoder_output_sequences[i]).long()\n",
        "        return enc, tgt\n",
        "\n",
        "def ids_to_sentence_input(ids, idx2word, skip_special=True):\n",
        "    out = []\n",
        "    for i in ids:\n",
        "        tok = idx2word.get(int(i), f\"<unk:{i}>\")\n",
        "        if skip_special and tok in (\"<sos>\", \"<eos>\", \"<pad>\"):\n",
        "            continue\n",
        "        out.append(tok)\n",
        "    return \" \".join(out).strip()\n",
        "\n",
        "# --- Selecciono 5 ejemplos aleatorios ---\n",
        "N = 5\n",
        "pool_size = len(data_set) if 'data_set' in globals() and data_set is not None else len(encoder_input_sequences)\n",
        "indices = random.sample(range(pool_size), k=min(N, pool_size))\n",
        "\n",
        "for idx in indices:\n",
        "    enc, tgt = get_item(idx)\n",
        "    enc = enc.unsqueeze(0) if enc.dim() == 1 else enc\n",
        "\n",
        "    greedy_ids = greedy_decode(model, enc, sos_idx, eos_idx, max_out_len, device, pad_idx)\n",
        "    beam_ids   = beam_search_decode(model, enc, sos_idx, eos_idx, max_out_len, device,\n",
        "                                    beam_size=10, length_penalty=0.1, pad_idx=pad_idx)\n",
        "\n",
        "    ref_text    = ids_to_sentence(tgt.tolist(), idx2word_outputs, eos_idx)\n",
        "    greedy_text = ids_to_sentence(greedy_ids, idx2word_outputs, eos_idx)\n",
        "    beam_text   = ids_to_sentence(beam_ids, idx2word_outputs, eos_idx)\n",
        "    # ids para imprimir (sin padding=0)\n",
        "    src_ids_for_print = [int(t) for t in enc.squeeze(0).tolist() if t != 0]\n",
        "    src_text = ids_to_sentence_input(src_ids_for_print, idx2word_inputs)\n",
        "\n",
        "    print(\"=\"*100)\n",
        "    print(f\"[{idx}] Original inglés         : {src_text}\")\n",
        "    print(f\"[{idx}] Traducción de referencia: {ref_text}\")\n",
        "    print(f\"[{idx}] GREEDY                  : {greedy_text}\")\n",
        "    print(f\"[{idx}] BEAM                    : {beam_text}\")\n",
        "    print(\"=\"*100)"
      ]
    },
    {
      "cell_type": "code",
      "execution_count": 143,
      "metadata": {},
      "outputs": [
        {
          "name": "stdout",
          "output_type": "stream",
          "text": [
            "\n",
            "===== Traducciones (GREEDY y BEAM) =====\n",
            "\n",
            "EN: I will miss you\n",
            "GREEDY: te echaré de menos\n",
            "BEAM  : te echaré de menos\n",
            "--------------------------------------------------------------------------------\n",
            "EN: happy birthday\n",
            "GREEDY: felices de su cumpleaños\n",
            "BEAM  : felices de su cumpleaños\n",
            "--------------------------------------------------------------------------------\n",
            "EN: my friend Paul lives in this city\n",
            "GREEDY: mi amigo se llama en esta ciudad\n",
            "BEAM  : mi amigo es esta ciudad\n",
            "--------------------------------------------------------------------------------\n",
            "EN: how long have you been living here\n",
            "GREEDY: cuánto tiempo has estado nadando\n",
            "BEAM  : cuánto tiempo has estado nadando\n",
            "--------------------------------------------------------------------------------\n",
            "EN: welcome to my home\n",
            "GREEDY: dónde está mi casa\n",
            "BEAM  : dónde está mi casa\n",
            "--------------------------------------------------------------------------------\n"
          ]
        }
      ],
      "source": [
        "# Asegurar mapeo idx->palabra de salida\n",
        "if 'idx2word_outputs' not in globals():\n",
        "    if 'output_tokenizer' in globals() and hasattr(output_tokenizer, 'index_word'):\n",
        "        idx2word_outputs = output_tokenizer.index_word\n",
        "    elif 'word2idx_outputs' in globals():\n",
        "        idx2word_outputs = {v: k for k, v in word2idx_outputs.items()}\n",
        "    else:\n",
        "        raise ValueError(\"No se encontró ni 'output_tokenizer' ni 'word2idx_outputs'.\")\n",
        "\n",
        "phrases = [\n",
        "    \"I will miss you\",\n",
        "    \"happy birthday\",\n",
        "    \"my friend Paul lives in this city\",\n",
        "    \"how long have you been living here\",\n",
        "    \"welcome to my home\",\n",
        "]\n",
        "\n",
        "# Tokenizar y padear entradas\n",
        "int_seqs = input_tokenizer.texts_to_sequences(phrases)\n",
        "enc_batch = pad_sequences(int_seqs, maxlen=max_input_len)\n",
        "enc_batch_t = torch.from_numpy(enc_batch).long()\n",
        "\n",
        "sos_idx = word2idx_outputs[\"<sos>\"]\n",
        "eos_idx = word2idx_outputs[\"<eos>\"]\n",
        "pad_idx = 0\n",
        "\n",
        "model.eval().to(device)\n",
        "\n",
        "print(\"\\n===== Traducciones (GREEDY y BEAM) =====\\n\")\n",
        "for i, sent in enumerate(phrases):\n",
        "    enc = enc_batch_t[i:i+1].to(device)\n",
        "\n",
        "    greedy_ids = greedy_decode(model, enc, sos_idx, eos_idx, max_out_len, device, pad_idx)\n",
        "    beam_ids   = beam_search_decode(model, enc, sos_idx, eos_idx, max_out_len, device,\n",
        "                                    beam_size=10, length_penalty=0.1, pad_idx=pad_idx)\n",
        "\n",
        "    greedy_text = ids_to_sentence(greedy_ids, idx2word_outputs, eos_idx)\n",
        "    beam_text   = ids_to_sentence(beam_ids, idx2word_outputs, eos_idx)\n",
        "\n",
        "    print(f\"EN: {sent}\")\n",
        "    print(f\"GREEDY: {greedy_text}\")\n",
        "    print(f\"BEAM  : {beam_text}\")\n",
        "    print(\"-\"*80)"
      ]
    }
  ],
  "metadata": {
    "accelerator": "GPU",
    "colab": {
      "gpuType": "T4",
      "provenance": []
    },
    "kernelspec": {
      "display_name": "CEIA-ProcLenNaturalI",
      "language": "python",
      "name": "proc-len-naturali"
    },
    "language_info": {
      "codemirror_mode": {
        "name": "ipython",
        "version": 3
      },
      "file_extension": ".py",
      "mimetype": "text/x-python",
      "name": "python",
      "nbconvert_exporter": "python",
      "pygments_lexer": "ipython3",
      "version": "3.12.3"
    }
  },
  "nbformat": 4,
  "nbformat_minor": 0
}
