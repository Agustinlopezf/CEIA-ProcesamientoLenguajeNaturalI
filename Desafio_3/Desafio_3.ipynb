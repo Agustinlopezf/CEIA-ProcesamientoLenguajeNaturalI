{
  "cells": [
    {
      "cell_type": "markdown",
      "metadata": {
        "id": "g3yeJGnCYxuF"
      },
      "source": [
        "<img src=\"https://github.com/hernancontigiani/ceia_memorias_especializacion/raw/master/Figures/logoFIUBA.jpg\" width=\"500\" align=\"center\">\n",
        "\n",
        "\n",
        "# Procesamiento de lenguaje natural\n",
        "## Modelo de lenguaje con tokenización por caracteres"
      ]
    },
    {
      "cell_type": "markdown",
      "metadata": {
        "id": "Iv5PEwGzZA9-"
      },
      "source": [
        "### Consigna\n",
        "- Seleccionar un corpus de texto sobre el cual entrenar el modelo de lenguaje.\n",
        "- Realizar el pre-procesamiento adecuado para tokenizar el corpus, estructurar el dataset y separar entre datos de entrenamiento y validación.\n",
        "- Proponer arquitecturas de redes neuronales basadas en unidades recurrentes para implementar un modelo de lenguaje.\n",
        "- Con el o los modelos que consideren adecuados, generar nuevas secuencias a partir de secuencias de contexto con las estrategias de greedy search y beam search determístico y estocástico. En este último caso observar el efecto de la temperatura en la generación de secuencias.\n",
        "\n",
        "\n",
        "### Sugerencias\n",
        "- Durante el entrenamiento, guiarse por el descenso de la perplejidad en los datos de validación para finalizar el entrenamiento. Para ello se provee un callback.\n",
        "- Explorar utilizar SimpleRNN (celda de Elman), LSTM y GRU.\n",
        "- rmsprop es el optimizador recomendado para la buena convergencia. No obstante se pueden explorar otros.\n"
      ]
    },
    {
      "cell_type": "code",
      "execution_count": 1,
      "metadata": {
        "id": "Y-QdFbHZYj7C"
      },
      "outputs": [
        {
          "name": "stderr",
          "output_type": "stream",
          "text": [
            "2025-09-29 18:57:13.455862: I external/local_xla/xla/tsl/cuda/cudart_stub.cc:31] Could not find cuda drivers on your machine, GPU will not be used.\n",
            "2025-09-29 18:57:13.461759: I tensorflow/core/util/port.cc:153] oneDNN custom operations are on. You may see slightly different numerical results due to floating-point round-off errors from different computation orders. To turn them off, set the environment variable `TF_ENABLE_ONEDNN_OPTS=0`.\n",
            "2025-09-29 18:57:13.660010: I tensorflow/core/platform/cpu_feature_guard.cc:210] This TensorFlow binary is optimized to use available CPU instructions in performance-critical operations.\n",
            "To enable the following instructions: AVX2 AVX512F AVX512_VNNI FMA, in other operations, rebuild TensorFlow with the appropriate compiler flags.\n",
            "2025-09-29 18:57:14.740490: I tensorflow/core/util/port.cc:153] oneDNN custom operations are on. You may see slightly different numerical results due to floating-point round-off errors from different computation orders. To turn them off, set the environment variable `TF_ENABLE_ONEDNN_OPTS=0`.\n",
            "2025-09-29 18:57:14.741750: I external/local_xla/xla/tsl/cuda/cudart_stub.cc:31] Could not find cuda drivers on your machine, GPU will not be used.\n"
          ]
        }
      ],
      "source": [
        "import random\n",
        "import io\n",
        "import pickle\n",
        "\n",
        "import numpy as np\n",
        "import pandas as pd\n",
        "import matplotlib.pyplot as plt\n",
        "from sklearn.model_selection import train_test_split\n",
        "\n",
        "from tensorflow import keras\n",
        "from tensorflow.keras import layers\n",
        "from keras.utils import to_categorical\n",
        "from keras.models import Sequential\n",
        "from keras.layers import Dense, LSTM, Embedding, Dropout\n",
        "from tensorflow.keras.losses import SparseCategoricalCrossentropy"
      ]
    },
    {
      "cell_type": "markdown",
      "metadata": {
        "id": "xTvXlEKQZdqx"
      },
      "source": [
        "### Datos\n",
        "Como fuente de datos de utilizarán las novelas de \"A Song of Ice and Fire\" de George Martin, utilizadas durante el Desafío 2. Las mismas fueron obtenidas de Kaggle:\n",
        "https://www.kaggle.com/datasets/saurabhbadole/game-of-thrones-book-dataset/data\n",
        "\n",
        "El dataset cotiene cinco archivos de texto, cada uno con un libro de la saga. En base a las pruebas realizadas se decide utilizar únicamente la primera novela, para evitar que el tiempo de entrenamiento se vuelva demasiado largo:"
      ]
    },
    {
      "cell_type": "code",
      "execution_count": 2,
      "metadata": {
        "id": "7amy6uUaBLVD"
      },
      "outputs": [],
      "source": [
        "import os\n",
        "\n",
        "lista_libros = [\n",
        "    \"1 - A Game of Thrones.txt\"]\n",
        "\n",
        "# Crear un corpus en memoria\n",
        "corpus = \"\"\n",
        "\n",
        "for nombre in lista_libros:\n",
        "    ruta_libro = os.path.join(\"./Dataset\", nombre)\n",
        "    with open(ruta_libro, \"r\", encoding=\"latin-1\") as f:\n",
        "        contenido = f.read()\n",
        "        corpus += contenido + \"\\n\"  # agrega un salto de línea entre libros"
      ]
    },
    {
      "cell_type": "markdown",
      "metadata": {},
      "source": [
        "Removemos los encabezados que no forman parte de las novelas:"
      ]
    },
    {
      "cell_type": "code",
      "execution_count": 3,
      "metadata": {},
      "outputs": [],
      "source": [
        "import re \n",
        "\n",
        "#Eliminar encabezados no deseados\n",
        "import re\n",
        "\n",
        "patterns_to_remove = [\n",
        "    r\"a game of thrones\",\n",
        "    r\"a clash of kings\",\n",
        "    r\"a storm of swords\",\n",
        "    r\"a feast for crows\",\n",
        "    r\"a dance with dragons\",\n",
        "    r\"book [^\\n]+\",          # líneas tipo \"Book One of...\"\n",
        "    r\"by george r\\. r\\. martin\",\n",
        "    r\"prologue\",\n",
        "    r\"dedication\",\n",
        "    r\"contents\",\n",
        "    r\"a note on chronology\",\n",
        "    r\"a cavil on chronology\",\n",
        "    r\"version history.*\",\n",
        "    r\"page \\d+\",             # \"Page XX\"\n",
        "    r\"[\\n\\r\\t]+\",            # saltos de línea, retorno de carro, tabulaciones\n",
        "    r\"[^\\x20-\\x7E]+\"         # caracteres no ASCII imprimibles\n",
        "]\n",
        "\n",
        "for pat in patterns_to_remove:\n",
        "    corpus = re.sub(pat, \" \", corpus, flags=re.IGNORECASE)\n",
        "\n",
        "# Reemplazar múltiples espacios por uno solo y recortar inicio/final\n",
        "corpus = re.sub(r\"\\s+\", \" \", corpus).strip()"
      ]
    },
    {
      "cell_type": "code",
      "execution_count": 4,
      "metadata": {
        "id": "WBE0sSYuB-E6"
      },
      "outputs": [
        {
          "data": {
            "text/plain": [
              "'\"We should start back,\" Gared urged as the woods began to grow dark around them. \"The wildlings are dead.\" \"Do the dead frighten you?\" Ser Waymar Royce asked with just the hint of a smile. Gared did not rise to the bait. He was an old man, past fifty, and he had seen the lordlings come and go. \"Dead is dead,\" he said. \"We have no business with the dead.\" \"Are they dead?\" Royce asked softly. \"What proof have we?\" \"Will saw them,\" Gared said. \"If he says they are dead, that\\'s proof enough for me.\" Will had known they would drag him into the quarrel sooner or later. He wished it had been later rather than sooner. \"My mother told me that dead men sing no songs,\" he put in. \"My wet nurse said the same thing, Will,\" Royce replied. \"Never believe anything you hear at a woman\\'s tit. There are things to be learned even from the dead.\" His voice echoed, too loud in the twilit forest. \"We have a long ride before us,\" Gared pointed out. \"Eight days, maybe nine. And night is falling.\" Ser Waymar Ro'"
            ]
          },
          "execution_count": 4,
          "metadata": {},
          "output_type": "execute_result"
        }
      ],
      "source": [
        "# En corpus se encuentra el texto\n",
        "corpus[:1000]"
      ]
    },
    {
      "cell_type": "markdown",
      "metadata": {},
      "source": [
        "Debido a que el tamaño del libro completo vuelve el entrenamiento excesivamente lento, tomamos el primer tercio del libro:"
      ]
    },
    {
      "cell_type": "code",
      "execution_count": 5,
      "metadata": {},
      "outputs": [],
      "source": [
        "long_texto = len(corpus)\n",
        "long_texto_considerar = long_texto//3\n",
        "\n",
        "corpus = corpus[:long_texto_considerar]"
      ]
    },
    {
      "cell_type": "markdown",
      "metadata": {
        "id": "cP1JdiOIKQWi"
      },
      "source": [
        "### Elegir el tamaño del contexto\n",
        "\n",
        "En este caso, como el modelo de lenguaje es por caracteres, todo un gran corpus\n",
        "de texto puede ser considerado un documento en sí mismo y el tamaño de contexto\n",
        "puede ser elegido con más libertad en comparación a un modelo de lenguaje tokenizado por palabras y dividido en documentos más acotados."
      ]
    },
    {
      "cell_type": "code",
      "execution_count": 6,
      "metadata": {
        "id": "wumBNwdjJM3j"
      },
      "outputs": [],
      "source": [
        "# seleccionamos el tamaño de contexto\n",
        "max_context_size = 100"
      ]
    },
    {
      "cell_type": "code",
      "execution_count": 7,
      "metadata": {
        "id": "m5FeTaGvbDbw"
      },
      "outputs": [],
      "source": [
        "# Usaremos las utilidades de procesamiento de textos y secuencias de Keras\n",
        "from tensorflow.keras.utils import pad_sequences # se utilizará para padding"
      ]
    },
    {
      "cell_type": "code",
      "execution_count": 8,
      "metadata": {
        "id": "573Cg5n7VhWw"
      },
      "outputs": [],
      "source": [
        "# en este caso el vocabulario es el conjunto único de caracteres que existe en todo el texto\n",
        "chars_vocab = set(corpus)"
      ]
    },
    {
      "cell_type": "code",
      "execution_count": 9,
      "metadata": {
        "id": "VwTK6xgLJd8q"
      },
      "outputs": [
        {
          "data": {
            "text/plain": [
              "72"
            ]
          },
          "execution_count": 9,
          "metadata": {},
          "output_type": "execute_result"
        }
      ],
      "source": [
        "# la longitud de vocabulario de caracteres es:\n",
        "len(chars_vocab)"
      ]
    },
    {
      "cell_type": "code",
      "execution_count": 10,
      "metadata": {
        "id": "2W0AeQjXV1Ou"
      },
      "outputs": [],
      "source": [
        "# Construimos los dicionarios que asignan índices a caracteres y viceversa.\n",
        "# El diccionario `char2idx` servirá como tokenizador.\n",
        "char2idx = {k: v for v,k in enumerate(chars_vocab)}\n",
        "idx2char = {v: k for k,v in char2idx.items()}"
      ]
    },
    {
      "cell_type": "markdown",
      "metadata": {
        "id": "2oIUjVU0LB0r"
      },
      "source": [
        "###  Tokenizar"
      ]
    },
    {
      "cell_type": "code",
      "execution_count": 11,
      "metadata": {
        "id": "h07G3srdJppo"
      },
      "outputs": [],
      "source": [
        "# tokenizamos el texto completo\n",
        "tokenized_text = [char2idx[ch] for ch in corpus]"
      ]
    },
    {
      "cell_type": "code",
      "execution_count": 12,
      "metadata": {
        "id": "PwGVSKOiJ5bj"
      },
      "outputs": [
        {
          "data": {
            "text/plain": [
              "[30,\n",
              " 5,\n",
              " 1,\n",
              " 24,\n",
              " 31,\n",
              " 48,\n",
              " 3,\n",
              " 2,\n",
              " 70,\n",
              " 38,\n",
              " 24,\n",
              " 31,\n",
              " 40,\n",
              " 61,\n",
              " 0,\n",
              " 40,\n",
              " 24,\n",
              " 29,\n",
              " 61,\n",
              " 39,\n",
              " 71,\n",
              " 43,\n",
              " 30,\n",
              " 24,\n",
              " 11,\n",
              " 61,\n",
              " 0,\n",
              " 1,\n",
              " 38,\n",
              " 24,\n",
              " 2,\n",
              " 0,\n",
              " 17,\n",
              " 1,\n",
              " 38,\n",
              " 24,\n",
              " 61,\n",
              " 31,\n",
              " 24,\n",
              " 40,\n",
              " 48,\n",
              " 1,\n",
              " 24,\n",
              " 22,\n",
              " 3,\n",
              " 3,\n",
              " 38,\n",
              " 31,\n",
              " 24,\n",
              " 29,\n",
              " 1,\n",
              " 17,\n",
              " 61,\n",
              " 9,\n",
              " 24,\n",
              " 40,\n",
              " 3,\n",
              " 24,\n",
              " 17,\n",
              " 0,\n",
              " 3,\n",
              " 22,\n",
              " 24,\n",
              " 38,\n",
              " 61,\n",
              " 0,\n",
              " 71,\n",
              " 24,\n",
              " 61,\n",
              " 0,\n",
              " 3,\n",
              " 2,\n",
              " 9,\n",
              " 38,\n",
              " 24,\n",
              " 40,\n",
              " 48,\n",
              " 1,\n",
              " 50,\n",
              " 6,\n",
              " 24,\n",
              " 30,\n",
              " 49,\n",
              " 48,\n",
              " 1,\n",
              " 24,\n",
              " 22,\n",
              " 60,\n",
              " 70,\n",
              " 38,\n",
              " 70,\n",
              " 60,\n",
              " 9,\n",
              " 17,\n",
              " 31,\n",
              " 24,\n",
              " 61,\n",
              " 0,\n",
              " 1,\n",
              " 24,\n",
              " 38,\n",
              " 1,\n",
              " 61,\n",
              " 38,\n",
              " 6,\n",
              " 30,\n",
              " 24,\n",
              " 30,\n",
              " 58,\n",
              " 3,\n",
              " 24,\n",
              " 40,\n",
              " 48,\n",
              " 1,\n",
              " 24,\n",
              " 38,\n",
              " 1,\n",
              " 61,\n",
              " 38,\n",
              " 24,\n",
              " 42,\n",
              " 0,\n",
              " 60,\n",
              " 17,\n",
              " 48,\n",
              " 40,\n",
              " 1,\n",
              " 9,\n",
              " 24,\n",
              " 7,\n",
              " 3,\n",
              " 2,\n",
              " 28,\n",
              " 30,\n",
              " 24,\n",
              " 62,\n",
              " 1,\n",
              " 0,\n",
              " 24,\n",
              " 5,\n",
              " 61,\n",
              " 7,\n",
              " 50,\n",
              " 61,\n",
              " 0,\n",
              " 24,\n",
              " 67,\n",
              " 3,\n",
              " 7,\n",
              " 39,\n",
              " 1,\n",
              " 24,\n",
              " 61,\n",
              " 31,\n",
              " 71,\n",
              " 1,\n",
              " 38,\n",
              " 24,\n",
              " 22,\n",
              " 60,\n",
              " 40,\n",
              " 48,\n",
              " 24,\n",
              " 14,\n",
              " 2,\n",
              " 31,\n",
              " 40,\n",
              " 24,\n",
              " 40,\n",
              " 48,\n",
              " 1,\n",
              " 24,\n",
              " 48,\n",
              " 60,\n",
              " 9,\n",
              " 40,\n",
              " 24,\n",
              " 3,\n",
              " 42,\n",
              " 24,\n",
              " 61,\n",
              " 24,\n",
              " 31,\n",
              " 50,\n",
              " 60,\n",
              " 70,\n",
              " 1,\n",
              " 6,\n",
              " 24,\n",
              " 11,\n",
              " 61,\n",
              " 0,\n",
              " 1,\n",
              " 38,\n",
              " 24,\n",
              " 38,\n",
              " 60,\n",
              " 38,\n",
              " 24,\n",
              " 9,\n",
              " 3,\n",
              " 40,\n",
              " 24,\n",
              " 0,\n",
              " 60,\n",
              " 31,\n",
              " 1,\n",
              " 24,\n",
              " 40,\n",
              " 3,\n",
              " 24,\n",
              " 40,\n",
              " 48,\n",
              " 1,\n",
              " 24,\n",
              " 29,\n",
              " 61,\n",
              " 60,\n",
              " 40,\n",
              " 6,\n",
              " 24,\n",
              " 51,\n",
              " 1,\n",
              " 24,\n",
              " 22,\n",
              " 61,\n",
              " 31,\n",
              " 24,\n",
              " 61,\n",
              " 9,\n",
              " 24,\n",
              " 3,\n",
              " 70,\n",
              " 38,\n",
              " 24,\n",
              " 50,\n",
              " 61,\n",
              " 9,\n",
              " 43,\n",
              " 24,\n",
              " 59,\n",
              " 61,\n",
              " 31,\n",
              " 40,\n",
              " 24,\n",
              " 42,\n",
              " 60,\n",
              " 42,\n",
              " 40,\n",
              " 7,\n",
              " 43,\n",
              " 24,\n",
              " 61,\n",
              " 9,\n",
              " 38,\n",
              " 24,\n",
              " 48,\n",
              " 1,\n",
              " 24,\n",
              " 48,\n",
              " 61,\n",
              " 38,\n",
              " 24,\n",
              " 31,\n",
              " 1,\n",
              " 1,\n",
              " 9,\n",
              " 24,\n",
              " 40,\n",
              " 48,\n",
              " 1,\n",
              " 24,\n",
              " 70,\n",
              " 3,\n",
              " 0,\n",
              " 38,\n",
              " 70,\n",
              " 60,\n",
              " 9,\n",
              " 17,\n",
              " 31,\n",
              " 24,\n",
              " 39,\n",
              " 3,\n",
              " 50,\n",
              " 1,\n",
              " 24,\n",
              " 61,\n",
              " 9,\n",
              " 38,\n",
              " 24,\n",
              " 17,\n",
              " 3,\n",
              " 6,\n",
              " 24,\n",
              " 30,\n",
              " 58,\n",
              " 1,\n",
              " 61,\n",
              " 38,\n",
              " 24,\n",
              " 60,\n",
              " 31,\n",
              " 24,\n",
              " 38,\n",
              " 1,\n",
              " 61,\n",
              " 38,\n",
              " 43,\n",
              " 30,\n",
              " 24,\n",
              " 48,\n",
              " 1,\n",
              " 24,\n",
              " 31,\n",
              " 61,\n",
              " 60,\n",
              " 38,\n",
              " 6,\n",
              " 24,\n",
              " 30,\n",
              " 5,\n",
              " 1,\n",
              " 24,\n",
              " 48,\n",
              " 61,\n",
              " 69,\n",
              " 1,\n",
              " 24,\n",
              " 9,\n",
              " 3,\n",
              " 24,\n",
              " 29,\n",
              " 2,\n",
              " 31,\n",
              " 60,\n",
              " 9,\n",
              " 1,\n",
              " 31,\n",
              " 31,\n",
              " 24,\n",
              " 22,\n",
              " 60,\n",
              " 40,\n",
              " 48,\n",
              " 24,\n",
              " 40,\n",
              " 48,\n",
              " 1,\n",
              " 24,\n",
              " 38,\n",
              " 1,\n",
              " 61,\n",
              " 38,\n",
              " 6,\n",
              " 30,\n",
              " 24,\n",
              " 30,\n",
              " 32,\n",
              " 0,\n",
              " 1,\n",
              " 24,\n",
              " 40,\n",
              " 48,\n",
              " 1,\n",
              " 7,\n",
              " 24,\n",
              " 38,\n",
              " 1,\n",
              " 61,\n",
              " 38,\n",
              " 28,\n",
              " 30,\n",
              " 24,\n",
              " 67,\n",
              " 3,\n",
              " 7,\n",
              " 39,\n",
              " 1,\n",
              " 24,\n",
              " 61,\n",
              " 31,\n",
              " 71,\n",
              " 1,\n",
              " 38,\n",
              " 24,\n",
              " 31,\n",
              " 3,\n",
              " 42,\n",
              " 40,\n",
              " 70,\n",
              " 7,\n",
              " 6,\n",
              " 24,\n",
              " 30,\n",
              " 5,\n",
              " 48,\n",
              " 61,\n",
              " 40,\n",
              " 24,\n",
              " 59,\n",
              " 0,\n",
              " 3,\n",
              " 3,\n",
              " 42,\n",
              " 24,\n",
              " 48,\n",
              " 61,\n",
              " 69,\n",
              " 1,\n",
              " 24,\n",
              " 22,\n",
              " 1,\n",
              " 28,\n",
              " 30,\n",
              " 24,\n",
              " 30,\n",
              " 5,\n",
              " 60,\n",
              " 70,\n",
              " 70,\n",
              " 24,\n",
              " 31,\n",
              " 61,\n",
              " 22,\n",
              " 24,\n",
              " 40,\n",
              " 48,\n",
              " 1,\n",
              " 50,\n",
              " 43,\n",
              " 30,\n",
              " 24,\n",
              " 11,\n",
              " 61,\n",
              " 0,\n",
              " 1,\n",
              " 38,\n",
              " 24,\n",
              " 31,\n",
              " 61,\n",
              " 60,\n",
              " 38,\n",
              " 6,\n",
              " 24,\n",
              " 30,\n",
              " 56,\n",
              " 42,\n",
              " 24,\n",
              " 48,\n",
              " 1,\n",
              " 24,\n",
              " 31,\n",
              " 61,\n",
              " 7,\n",
              " 31,\n",
              " 24,\n",
              " 40,\n",
              " 48,\n",
              " 1,\n",
              " 7,\n",
              " 24,\n",
              " 61,\n",
              " 0,\n",
              " 1,\n",
              " 24,\n",
              " 38,\n",
              " 1,\n",
              " 61,\n",
              " 38,\n",
              " 43,\n",
              " 24,\n",
              " 40,\n",
              " 48,\n",
              " 61,\n",
              " 40,\n",
              " 10,\n",
              " 31,\n",
              " 24,\n",
              " 59,\n",
              " 0,\n",
              " 3,\n",
              " 3,\n",
              " 42,\n",
              " 24,\n",
              " 1,\n",
              " 9,\n",
              " 3,\n",
              " 2,\n",
              " 17,\n",
              " 48,\n",
              " 24,\n",
              " 42,\n",
              " 3,\n",
              " 0,\n",
              " 24,\n",
              " 50,\n",
              " 1,\n",
              " 6,\n",
              " 30,\n",
              " 24,\n",
              " 5,\n",
              " 60,\n",
              " 70,\n",
              " 70,\n",
              " 24,\n",
              " 48,\n",
              " 61,\n",
              " 38,\n",
              " 24,\n",
              " 71,\n",
              " 9,\n",
              " 3,\n",
              " 22,\n",
              " 9,\n",
              " 24,\n",
              " 40,\n",
              " 48,\n",
              " 1,\n",
              " 7,\n",
              " 24,\n",
              " 22,\n",
              " 3,\n",
              " 2,\n",
              " 70,\n",
              " 38,\n",
              " 24,\n",
              " 38,\n",
              " 0,\n",
              " 61,\n",
              " 17,\n",
              " 24,\n",
              " 48,\n",
              " 60,\n",
              " 50,\n",
              " 24,\n",
              " 60,\n",
              " 9,\n",
              " 40,\n",
              " 3,\n",
              " 24,\n",
              " 40,\n",
              " 48,\n",
              " 1,\n",
              " 24,\n",
              " 53,\n",
              " 2,\n",
              " 61,\n",
              " 0,\n",
              " 0,\n",
              " 1,\n",
              " 70,\n",
              " 24,\n",
              " 31,\n",
              " 3,\n",
              " 3,\n",
              " 9,\n",
              " 1,\n",
              " 0,\n",
              " 24,\n",
              " 3,\n",
              " 0,\n",
              " 24,\n",
              " 70,\n",
              " 61,\n",
              " 40,\n",
              " 1,\n",
              " 0,\n",
              " 6,\n",
              " 24,\n",
              " 51,\n",
              " 1,\n",
              " 24,\n",
              " 22,\n",
              " 60,\n",
              " 31,\n",
              " 48,\n",
              " 1,\n",
              " 38,\n",
              " 24,\n",
              " 60,\n",
              " 40,\n",
              " 24,\n",
              " 48,\n",
              " 61,\n",
              " 38,\n",
              " 24,\n",
              " 29,\n",
              " 1,\n",
              " 1,\n",
              " 9,\n",
              " 24,\n",
              " 70,\n",
              " 61,\n",
              " 40,\n",
              " 1,\n",
              " 0,\n",
              " 24,\n",
              " 0,\n",
              " 61,\n",
              " 40,\n",
              " 48,\n",
              " 1,\n",
              " 0,\n",
              " 24,\n",
              " 40,\n",
              " 48,\n",
              " 61,\n",
              " 9,\n",
              " 24,\n",
              " 31,\n",
              " 3,\n",
              " 3,\n",
              " 9,\n",
              " 1,\n",
              " 0,\n",
              " 6,\n",
              " 24,\n",
              " 30,\n",
              " 25,\n",
              " 7,\n",
              " 24,\n",
              " 50,\n",
              " 3,\n",
              " 40,\n",
              " 48,\n",
              " 1,\n",
              " 0,\n",
              " 24,\n",
              " 40,\n",
              " 3,\n",
              " 70,\n",
              " 38,\n",
              " 24,\n",
              " 50,\n",
              " 1,\n",
              " 24,\n",
              " 40,\n",
              " 48,\n",
              " 61,\n",
              " 40,\n",
              " 24,\n",
              " 38,\n",
              " 1,\n",
              " 61,\n",
              " 38,\n",
              " 24,\n",
              " 50,\n",
              " 1,\n",
              " 9,\n",
              " 24,\n",
              " 31,\n",
              " 60,\n",
              " 9,\n",
              " 17,\n",
              " 24,\n",
              " 9,\n",
              " 3,\n",
              " 24,\n",
              " 31,\n",
              " 3,\n",
              " 9,\n",
              " 17,\n",
              " 31,\n",
              " 43,\n",
              " 30,\n",
              " 24,\n",
              " 48,\n",
              " 1,\n",
              " 24,\n",
              " 59,\n",
              " 2,\n",
              " 40,\n",
              " 24,\n",
              " 60,\n",
              " 9,\n",
              " 6,\n",
              " 24,\n",
              " 30,\n",
              " 25,\n",
              " 7,\n",
              " 24,\n",
              " 22,\n",
              " 1,\n",
              " 40,\n",
              " 24,\n",
              " 9,\n",
              " 2,\n",
              " 0,\n",
              " 31,\n",
              " 1,\n",
              " 24,\n",
              " 31,\n",
              " 61,\n",
              " 60,\n",
              " 38,\n",
              " 24,\n",
              " 40,\n",
              " 48,\n",
              " 1,\n",
              " 24,\n",
              " 31,\n",
              " 61,\n",
              " 50,\n",
              " 1,\n",
              " 24,\n",
              " 40,\n",
              " 48,\n",
              " 60,\n",
              " 9,\n",
              " 17,\n",
              " 43,\n",
              " 24,\n",
              " 5,\n",
              " 60,\n",
              " 70,\n",
              " 70,\n",
              " 43,\n",
              " 30,\n",
              " 24,\n",
              " 67,\n",
              " 3,\n",
              " 7,\n",
              " 39,\n",
              " 1,\n",
              " 24,\n",
              " 0,\n",
              " 1,\n",
              " 59,\n",
              " 70,\n",
              " 60,\n",
              " 1,\n",
              " 38,\n",
              " 6,\n",
              " 24,\n",
              " 30,\n",
              " 37,\n",
              " 1,\n",
              " 69,\n",
              " 1,\n",
              " 0,\n",
              " 24,\n",
              " 29,\n",
              " 1,\n",
              " 70,\n",
              " 60,\n",
              " 1,\n",
              " 69,\n",
              " 1,\n",
              " 24,\n",
              " 61,\n",
              " 9,\n",
              " 7,\n",
              " 40,\n",
              " 48,\n",
              " 60,\n",
              " 9,\n",
              " 17,\n",
              " 24,\n",
              " 7,\n",
              " 3,\n",
              " 2,\n",
              " 24,\n",
              " 48,\n",
              " 1,\n",
              " 61,\n",
              " 0,\n",
              " 24,\n",
              " 61,\n",
              " 40,\n",
              " 24,\n",
              " 61,\n",
              " 24,\n",
              " 22,\n",
              " 3,\n",
              " 50,\n",
              " 61,\n",
              " 9,\n",
              " 10,\n",
              " 31,\n",
              " 24,\n",
              " 40,\n",
              " 60,\n",
              " 40,\n",
              " 6,\n",
              " 24,\n",
              " 49,\n",
              " 48,\n",
              " 1,\n",
              " 0,\n",
              " 1,\n",
              " 24,\n",
              " 61,\n",
              " 0,\n",
              " 1,\n",
              " 24,\n",
              " 40,\n",
              " 48,\n",
              " 60,\n",
              " 9,\n",
              " 17,\n",
              " 31,\n",
              " 24,\n",
              " 40,\n",
              " 3,\n",
              " 24,\n",
              " 29,\n",
              " 1,\n",
              " 24,\n",
              " 70,\n",
              " 1,\n",
              " 61,\n",
              " 0,\n",
              " 9,\n",
              " 1,\n",
              " 38,\n",
              " 24,\n",
              " 1,\n",
              " 69,\n",
              " 1,\n",
              " 9,\n",
              " 24,\n",
              " 42,\n",
              " 0,\n",
              " 3,\n",
              " 50,\n",
              " 24,\n",
              " 40,\n",
              " 48,\n",
              " 1,\n",
              " 24,\n",
              " 38,\n",
              " 1,\n",
              " 61,\n",
              " 38,\n",
              " 6,\n",
              " 30,\n",
              " 24,\n",
              " 51,\n",
              " 60,\n",
              " 31,\n",
              " 24,\n",
              " 69,\n",
              " 3,\n",
              " 60,\n",
              " 39,\n",
              " 1,\n",
              " 24,\n",
              " 1,\n",
              " 39,\n",
              " 48,\n",
              " 3,\n",
              " 1,\n",
              " 38,\n",
              " 43,\n",
              " 24,\n",
              " 40,\n",
              " 3,\n",
              " 3,\n",
              " 24,\n",
              " 70,\n",
              " 3,\n",
              " 2,\n",
              " 38,\n",
              " 24,\n",
              " 60,\n",
              " 9,\n",
              " 24,\n",
              " 40,\n",
              " 48,\n",
              " 1,\n",
              " 24,\n",
              " 40,\n",
              " 22,\n",
              " 60,\n",
              " 70,\n",
              " 60,\n",
              " 40,\n",
              " 24,\n",
              " 42,\n",
              " 3,\n",
              " 0,\n",
              " 1,\n",
              " 31,\n",
              " 40,\n",
              " 6,\n",
              " 24,\n",
              " 30,\n",
              " 5,\n",
              " 1,\n",
              " 24,\n",
              " 48,\n",
              " 61,\n",
              " 69,\n",
              " 1,\n",
              " 24,\n",
              " 61,\n",
              " 24,\n",
              " 70,\n",
              " 3,\n",
              " 9,\n",
              " 17,\n",
              " 24,\n",
              " 0,\n",
              " 60,\n",
              " 38,\n",
              " 1,\n",
              " 24,\n",
              " 29,\n",
              " 1,\n",
              " 42,\n",
              " 3,\n",
              " 0,\n",
              " 1,\n",
              " 24,\n",
              " 2,\n",
              " 31,\n",
              " 43,\n",
              " 30,\n",
              " 24,\n",
              " 11,\n",
              " 61,\n",
              " 0,\n",
              " 1,\n",
              " 38,\n",
              " 24,\n",
              " 59,\n",
              " 3,\n",
              " 60,\n",
              " 9,\n",
              " 40,\n",
              " 1,\n",
              " 38,\n",
              " 24,\n",
              " 3,\n",
              " 2,\n",
              " 40,\n",
              " 6,\n",
              " 24,\n",
              " 30,\n",
              " 63,\n",
              " 60,\n",
              " 17,\n",
              " 48,\n",
              " 40,\n",
              " 24,\n",
              " 38,\n",
              " 61,\n",
              " 7,\n",
              " 31,\n",
              " 43,\n",
              " 24,\n",
              " 50,\n",
              " 61,\n",
              " 7,\n",
              " 29,\n",
              " 1,\n",
              " 24,\n",
              " 9,\n",
              " 60,\n",
              " 9,\n",
              " 1,\n",
              " 6,\n",
              " 24,\n",
              " 32,\n",
              " 9,\n",
              " 38,\n",
              " 24,\n",
              " 9,\n",
              " 60,\n",
              " 17,\n",
              " 48,\n",
              " 40,\n",
              " 24,\n",
              " 60,\n",
              " 31,\n",
              " 24,\n",
              " 42,\n",
              " 61,\n",
              " 70,\n",
              " 70,\n",
              " 60,\n",
              " 9,\n",
              " 17,\n",
              " 6,\n",
              " 30,\n",
              " 24,\n",
              " 62,\n",
              " 1,\n",
              " 0,\n",
              " 24,\n",
              " 5,\n",
              " 61,\n",
              " 7,\n",
              " 50,\n",
              " 61,\n",
              " 0,\n",
              " 24,\n",
              " 67,\n",
              " 3]"
            ]
          },
          "execution_count": 12,
          "metadata": {},
          "output_type": "execute_result"
        }
      ],
      "source": [
        "tokenized_text[:1000]"
      ]
    },
    {
      "cell_type": "markdown",
      "metadata": {
        "id": "pfpYcaypKcI9"
      },
      "source": [
        "### Organizando y estructurando el dataset"
      ]
    },
    {
      "cell_type": "code",
      "execution_count": 13,
      "metadata": {
        "id": "WSSmg9jtKP0T"
      },
      "outputs": [],
      "source": [
        "# separaremos el dataset entre entrenamiento y validación.\n",
        "# `p_val` será la proporción del corpus que se reservará para validación\n",
        "# `num_val` es la cantidad de secuencias de tamaño `max_context_size` que se usará en validación\n",
        "p_val = 0.1\n",
        "num_val = int(np.ceil(len(tokenized_text)*p_val/max_context_size))"
      ]
    },
    {
      "cell_type": "code",
      "execution_count": 14,
      "metadata": {
        "id": "b7dCpGrdKll0"
      },
      "outputs": [],
      "source": [
        "# separamos la porción de texto utilizada en entrenamiento de la de validación.\n",
        "train_text = tokenized_text[:-num_val*max_context_size]\n",
        "val_text = tokenized_text[-num_val*max_context_size:]"
      ]
    },
    {
      "cell_type": "code",
      "execution_count": 15,
      "metadata": {
        "id": "NmxQdxl8LRCg"
      },
      "outputs": [],
      "source": [
        "tokenized_sentences_val = [val_text[init*max_context_size:init*(max_context_size+1)] for init in range(num_val)]"
      ]
    },
    {
      "cell_type": "code",
      "execution_count": 16,
      "metadata": {
        "id": "_gyFT9koLqDm"
      },
      "outputs": [],
      "source": [
        "tokenized_sentences_train = [train_text[init:init+max_context_size] for init in range(len(train_text)-max_context_size+1)]"
      ]
    },
    {
      "cell_type": "code",
      "execution_count": 17,
      "metadata": {
        "id": "oVNqmmLRodT0"
      },
      "outputs": [],
      "source": [
        "X = np.array(tokenized_sentences_train[:-1])\n",
        "y = np.array(tokenized_sentences_train[1:])"
      ]
    },
    {
      "cell_type": "markdown",
      "metadata": {
        "id": "Vken7O4ETsAJ"
      },
      "source": [
        "Nótese que estamos estructurando el problema de aprendizaje como *many-to-many*:\n",
        "\n",
        "Entrada: secuencia de tokens [$x_0$, $x_1$, ..., $x_N$]\n",
        "\n",
        "Target: secuencia de tokens [$x_1$, $x_2$, ..., $x_{N+1}$]\n",
        "\n",
        "De manera que la red tiene que aprender que su salida deben ser los tokens desplazados en una posición y un nuevo token predicho (el N+1).\n",
        "\n",
        "La ventaja de estructurar el aprendizaje de esta manera es que para cada token de target se propaga una señal de gradiente por el grafo de cómputo recurrente, que es mejor que estructurar el problema como *many-to-one* en donde sólo una señal de gradiente se propaga."
      ]
    },
    {
      "cell_type": "markdown",
      "metadata": {
        "id": "l3iPTx-UJl6r"
      },
      "source": [
        "En este punto tenemos en la variable `tokenized_sentences` los versos tokenizados. Vamos a quedarnos con un conjunto de validación que utilizaremos para medir la calidad de la generación de secuencias con la métrica de Perplejidad."
      ]
    },
    {
      "cell_type": "code",
      "execution_count": 18,
      "metadata": {
        "id": "KFAyA4zCWE-5"
      },
      "outputs": [
        {
          "data": {
            "text/plain": [
              "(474595, 100)"
            ]
          },
          "execution_count": 18,
          "metadata": {},
          "output_type": "execute_result"
        }
      ],
      "source": [
        "X.shape"
      ]
    },
    {
      "cell_type": "code",
      "execution_count": 19,
      "metadata": {
        "id": "qcKRl70HFTzG"
      },
      "outputs": [
        {
          "data": {
            "text/plain": [
              "array([30,  5,  1, 24, 31, 48,  3,  2, 70, 38])"
            ]
          },
          "execution_count": 19,
          "metadata": {},
          "output_type": "execute_result"
        }
      ],
      "source": [
        "X[0,:10]"
      ]
    },
    {
      "cell_type": "code",
      "execution_count": 20,
      "metadata": {
        "id": "TVpLCKSZFXZO"
      },
      "outputs": [
        {
          "data": {
            "text/plain": [
              "array([ 5,  1, 24, 31, 48,  3,  2, 70, 38, 24])"
            ]
          },
          "execution_count": 20,
          "metadata": {},
          "output_type": "execute_result"
        }
      ],
      "source": [
        "y[0,:10]"
      ]
    },
    {
      "cell_type": "code",
      "execution_count": 21,
      "metadata": {
        "id": "wOFCR-KqbW1N"
      },
      "outputs": [],
      "source": [
        "vocab_size = len(chars_vocab)"
      ]
    },
    {
      "cell_type": "markdown",
      "metadata": {
        "id": "tnnjdAQ5UAEJ"
      },
      "source": [
        "# Definiendo el modelo"
      ]
    },
    {
      "cell_type": "markdown",
      "metadata": {},
      "source": [
        "### RNN simple"
      ]
    },
    {
      "cell_type": "code",
      "execution_count": 22,
      "metadata": {
        "id": "rkMCZvmhrQz4"
      },
      "outputs": [],
      "source": [
        "from keras.layers import Input, TimeDistributed, CategoryEncoding, SimpleRNN, Dense\n",
        "from keras.models import Model, Sequential"
      ]
    },
    {
      "cell_type": "markdown",
      "metadata": {
        "id": "wgz7VKwTUbj6"
      },
      "source": [
        "El modelo que se propone como ejemplo consume los índices de los tokens y los transforma en vectores OHE (en este caso no entrenamos una capa de embedding para caracteres). Esa transformación se logra combinando las capas `CategoryEncoding` que transforma a índices a vectores OHE y `TimeDistributed` que aplica la capa a lo largo de la dimensión \"temporal\" de la secuencia."
      ]
    },
    {
      "cell_type": "code",
      "execution_count": 23,
      "metadata": {
        "id": "Zd2OkfQYs2Q7"
      },
      "outputs": [
        {
          "name": "stderr",
          "output_type": "stream",
          "text": [
            "/home/agustin/Desktop/CEIA UBA/Procesamiento Lenguaje Natural I/CEIA-ProcesamientoLenguajeNaturalI/.venv/lib/python3.12/site-packages/keras/src/layers/core/wrapper.py:27: UserWarning: Do not pass an `input_shape`/`input_dim` argument to a layer. When using Sequential models, prefer using an `Input(shape)` object as the first layer in the model instead.\n",
            "  super().__init__(**kwargs)\n",
            "WARNING: All log messages before absl::InitializeLog() is called are written to STDERR\n",
            "E0000 00:00:1759183039.144836    5810 cuda_executor.cc:1309] INTERNAL: CUDA Runtime error: Failed call to cudaGetRuntimeVersion: Error loading CUDA libraries. GPU will not be used.: Error loading CUDA libraries. GPU will not be used.\n",
            "W0000 00:00:1759183039.151864    5810 gpu_device.cc:2342] Cannot dlopen some GPU libraries. Please make sure the missing libraries mentioned above are installed properly if you would like to use GPU. Follow the guide at https://www.tensorflow.org/install/gpu for how to download and setup the required libraries for your platform.\n",
            "Skipping registering GPU devices...\n"
          ]
        },
        {
          "data": {
            "text/html": [
              "<pre style=\"white-space:pre;overflow-x:auto;line-height:normal;font-family:Menlo,'DejaVu Sans Mono',consolas,'Courier New',monospace\"><span style=\"font-weight: bold\">Model: \"sequential\"</span>\n",
              "</pre>\n"
            ],
            "text/plain": [
              "\u001b[1mModel: \"sequential\"\u001b[0m\n"
            ]
          },
          "metadata": {},
          "output_type": "display_data"
        },
        {
          "data": {
            "text/html": [
              "<pre style=\"white-space:pre;overflow-x:auto;line-height:normal;font-family:Menlo,'DejaVu Sans Mono',consolas,'Courier New',monospace\">┏━━━━━━━━━━━━━━━━━━━━━━━━━━━━━━━━━┳━━━━━━━━━━━━━━━━━━━━━━━━┳━━━━━━━━━━━━━━━┓\n",
              "┃<span style=\"font-weight: bold\"> Layer (type)                    </span>┃<span style=\"font-weight: bold\"> Output Shape           </span>┃<span style=\"font-weight: bold\">       Param # </span>┃\n",
              "┡━━━━━━━━━━━━━━━━━━━━━━━━━━━━━━━━━╇━━━━━━━━━━━━━━━━━━━━━━━━╇━━━━━━━━━━━━━━━┩\n",
              "│ time_distributed                │ (<span style=\"color: #00d7ff; text-decoration-color: #00d7ff\">None</span>, <span style=\"color: #00d7ff; text-decoration-color: #00d7ff\">None</span>, <span style=\"color: #00af00; text-decoration-color: #00af00\">72</span>)       │             <span style=\"color: #00af00; text-decoration-color: #00af00\">0</span> │\n",
              "│ (<span style=\"color: #0087ff; text-decoration-color: #0087ff\">TimeDistributed</span>)               │                        │               │\n",
              "├─────────────────────────────────┼────────────────────────┼───────────────┤\n",
              "│ simple_rnn (<span style=\"color: #0087ff; text-decoration-color: #0087ff\">SimpleRNN</span>)          │ (<span style=\"color: #00d7ff; text-decoration-color: #00d7ff\">None</span>, <span style=\"color: #00d7ff; text-decoration-color: #00d7ff\">None</span>, <span style=\"color: #00af00; text-decoration-color: #00af00\">200</span>)      │        <span style=\"color: #00af00; text-decoration-color: #00af00\">54,600</span> │\n",
              "├─────────────────────────────────┼────────────────────────┼───────────────┤\n",
              "│ dense (<span style=\"color: #0087ff; text-decoration-color: #0087ff\">Dense</span>)                   │ (<span style=\"color: #00d7ff; text-decoration-color: #00d7ff\">None</span>, <span style=\"color: #00d7ff; text-decoration-color: #00d7ff\">None</span>, <span style=\"color: #00af00; text-decoration-color: #00af00\">72</span>)       │        <span style=\"color: #00af00; text-decoration-color: #00af00\">14,472</span> │\n",
              "└─────────────────────────────────┴────────────────────────┴───────────────┘\n",
              "</pre>\n"
            ],
            "text/plain": [
              "┏━━━━━━━━━━━━━━━━━━━━━━━━━━━━━━━━━┳━━━━━━━━━━━━━━━━━━━━━━━━┳━━━━━━━━━━━━━━━┓\n",
              "┃\u001b[1m \u001b[0m\u001b[1mLayer (type)                   \u001b[0m\u001b[1m \u001b[0m┃\u001b[1m \u001b[0m\u001b[1mOutput Shape          \u001b[0m\u001b[1m \u001b[0m┃\u001b[1m \u001b[0m\u001b[1m      Param #\u001b[0m\u001b[1m \u001b[0m┃\n",
              "┡━━━━━━━━━━━━━━━━━━━━━━━━━━━━━━━━━╇━━━━━━━━━━━━━━━━━━━━━━━━╇━━━━━━━━━━━━━━━┩\n",
              "│ time_distributed                │ (\u001b[38;5;45mNone\u001b[0m, \u001b[38;5;45mNone\u001b[0m, \u001b[38;5;34m72\u001b[0m)       │             \u001b[38;5;34m0\u001b[0m │\n",
              "│ (\u001b[38;5;33mTimeDistributed\u001b[0m)               │                        │               │\n",
              "├─────────────────────────────────┼────────────────────────┼───────────────┤\n",
              "│ simple_rnn (\u001b[38;5;33mSimpleRNN\u001b[0m)          │ (\u001b[38;5;45mNone\u001b[0m, \u001b[38;5;45mNone\u001b[0m, \u001b[38;5;34m200\u001b[0m)      │        \u001b[38;5;34m54,600\u001b[0m │\n",
              "├─────────────────────────────────┼────────────────────────┼───────────────┤\n",
              "│ dense (\u001b[38;5;33mDense\u001b[0m)                   │ (\u001b[38;5;45mNone\u001b[0m, \u001b[38;5;45mNone\u001b[0m, \u001b[38;5;34m72\u001b[0m)       │        \u001b[38;5;34m14,472\u001b[0m │\n",
              "└─────────────────────────────────┴────────────────────────┴───────────────┘\n"
            ]
          },
          "metadata": {},
          "output_type": "display_data"
        },
        {
          "data": {
            "text/html": [
              "<pre style=\"white-space:pre;overflow-x:auto;line-height:normal;font-family:Menlo,'DejaVu Sans Mono',consolas,'Courier New',monospace\"><span style=\"font-weight: bold\"> Total params: </span><span style=\"color: #00af00; text-decoration-color: #00af00\">69,072</span> (269.81 KB)\n",
              "</pre>\n"
            ],
            "text/plain": [
              "\u001b[1m Total params: \u001b[0m\u001b[38;5;34m69,072\u001b[0m (269.81 KB)\n"
            ]
          },
          "metadata": {},
          "output_type": "display_data"
        },
        {
          "data": {
            "text/html": [
              "<pre style=\"white-space:pre;overflow-x:auto;line-height:normal;font-family:Menlo,'DejaVu Sans Mono',consolas,'Courier New',monospace\"><span style=\"font-weight: bold\"> Trainable params: </span><span style=\"color: #00af00; text-decoration-color: #00af00\">69,072</span> (269.81 KB)\n",
              "</pre>\n"
            ],
            "text/plain": [
              "\u001b[1m Trainable params: \u001b[0m\u001b[38;5;34m69,072\u001b[0m (269.81 KB)\n"
            ]
          },
          "metadata": {},
          "output_type": "display_data"
        },
        {
          "data": {
            "text/html": [
              "<pre style=\"white-space:pre;overflow-x:auto;line-height:normal;font-family:Menlo,'DejaVu Sans Mono',consolas,'Courier New',monospace\"><span style=\"font-weight: bold\"> Non-trainable params: </span><span style=\"color: #00af00; text-decoration-color: #00af00\">0</span> (0.00 B)\n",
              "</pre>\n"
            ],
            "text/plain": [
              "\u001b[1m Non-trainable params: \u001b[0m\u001b[38;5;34m0\u001b[0m (0.00 B)\n"
            ]
          },
          "metadata": {},
          "output_type": "display_data"
        }
      ],
      "source": [
        "model = Sequential()\n",
        "\n",
        "model.add(TimeDistributed(CategoryEncoding(num_tokens=vocab_size, output_mode = \"one_hot\"),input_shape=(None,1)))\n",
        "model.add(SimpleRNN(200, return_sequences=True, dropout=0.1, recurrent_dropout=0.1 ))\n",
        "model.add(Dense(vocab_size, activation='softmax'))\n",
        "model.compile(loss='sparse_categorical_crossentropy', optimizer='rmsprop')\n",
        "\n",
        "model.summary()"
      ]
    },
    {
      "cell_type": "markdown",
      "metadata": {
        "id": "GmJWNyxQwfCE"
      },
      "source": [
        "\n",
        "### Definir el modelo"
      ]
    },
    {
      "cell_type": "markdown",
      "metadata": {
        "id": "YWK3z85sQfUe"
      },
      "source": [
        "Dado que por el momento no hay implementaciones adecuadas de la perplejidad que puedan operar en tiempo de entrenamiento, armaremos un Callback *ad-hoc* que la calcule en cada epoch.\n",
        "\n",
        "**Nota**: un Callback es una rutina gatillada por algún evento, son muy útiles para relevar datos en diferentes momentos del desarrollo del modelo. En este caso queremos hacer un cálculo cada vez que termina una epoch de entrenamiento."
      ]
    },
    {
      "cell_type": "code",
      "execution_count": 40,
      "metadata": {
        "id": "zUHX3r5JD-MG"
      },
      "outputs": [],
      "source": [
        "class PplCallback(keras.callbacks.Callback):\n",
        "\n",
        "    '''\n",
        "    Este callback es una solución ad-hoc para calcular al final de cada epoch de\n",
        "    entrenamiento la métrica de Perplejidad sobre un conjunto de datos de validación.\n",
        "    La perplejidad es una métrica cuantitativa para evaluar la calidad de la generación de secuencias.\n",
        "    Además implementa la finalización del entrenamiento (Early Stopping)\n",
        "    si la perplejidad no mejora después de `patience` epochs.\n",
        "    '''\n",
        "\n",
        "    def __init__(self, val_data, model_name, history_ppl,patience=5):\n",
        "      # El callback lo inicializamos con secuencias de validación sobre las cuales\n",
        "      # mediremos la perplejidad\n",
        "      self.val_data = val_data\n",
        "      self.model_name = model_name\n",
        "      self.target = []\n",
        "      self.padded = []\n",
        "      self.history_ppl = history_ppl\n",
        "\n",
        "      count = 0\n",
        "      self.info = []\n",
        "      self.min_score = np.inf\n",
        "      self.patience_counter = 0\n",
        "      self.patience = patience\n",
        "\n",
        "      # nos movemos en todas las secuencias de los datos de validación\n",
        "      for seq in self.val_data:\n",
        "\n",
        "        len_seq = len(seq)\n",
        "        # armamos todas las subsecuencias\n",
        "        subseq = [seq[:i] for i in range(1,len_seq)]\n",
        "        self.target.extend([seq[i] for i in range(1,len_seq)])\n",
        "\n",
        "        if len(subseq)!=0:\n",
        "\n",
        "          self.padded.append(pad_sequences(subseq, maxlen=max_context_size, padding='pre'))\n",
        "\n",
        "          self.info.append((count,count+len_seq))\n",
        "          count += len_seq\n",
        "\n",
        "      self.padded = np.vstack(self.padded)\n",
        "\n",
        "\n",
        "    def on_epoch_end(self, epoch, logs=None):\n",
        "\n",
        "        # en `scores` iremos guardando la perplejidad de cada secuencia\n",
        "        scores = []\n",
        "\n",
        "        predictions = self.model.predict(self.padded,verbose=0)\n",
        "\n",
        "        # para cada secuencia de validación\n",
        "        for start,end in self.info:\n",
        "\n",
        "          # en `probs` iremos guardando las probabilidades de los términos target\n",
        "          probs = [predictions[idx_seq,-1,idx_vocab] for idx_seq, idx_vocab in zip(range(start,end),self.target[start:end])]\n",
        "\n",
        "          # calculamos la perplejidad por medio de logaritmos\n",
        "          scores.append(np.exp(-np.sum(np.log(probs))/(end-start)))\n",
        "\n",
        "        # promediamos todos los scores e imprimimos el valor promedio\n",
        "        current_score = np.mean(scores)\n",
        "        self.history_ppl.append(current_score)\n",
        "        print(f'\\n mean perplexity: {current_score} \\n')\n",
        "\n",
        "        # chequeamos si tenemos que detener el entrenamiento\n",
        "        if current_score < self.min_score:\n",
        "          self.min_score = current_score\n",
        "          self.model.save(self.model_name)\n",
        "          print(f\"Saved new model as {self.model_name}\")\n",
        "          self.patience_counter = 0\n",
        "        else:\n",
        "          self.patience_counter += 1\n",
        "          if self.patience_counter == self.patience:\n",
        "            print(\"Stopping training...\")\n",
        "            self.model.stop_training = True\n"
      ]
    },
    {
      "cell_type": "markdown",
      "metadata": {
        "id": "8HBZIwR0gruA"
      },
      "source": [
        "### Entrenamiento"
      ]
    },
    {
      "cell_type": "code",
      "execution_count": 41,
      "metadata": {
        "id": "oQq1PHDkxDvN"
      },
      "outputs": [
        {
          "name": "stdout",
          "output_type": "stream",
          "text": [
            "El modelo model_rnn.keras y el historial history_ppl_rnn.npy ya existen. Cargando...\n"
          ]
        }
      ],
      "source": [
        "from keras.models import load_model\n",
        "\n",
        "\n",
        "model_name = \"model_rnn.keras\"\n",
        "history_name = \"history_ppl_rnn.npy\"\n",
        "\n",
        "if os.path.exists(model_name) and os.path.exists(history_name):\n",
        "    print(f\"El modelo {model_name} y el historial {history_name} ya existen. Cargando...\")\n",
        "    model = load_model(model_name)\n",
        "    history_ppl = np.load(history_name).tolist()\n",
        "else:\n",
        "    print(\"Entrenando modelo nuevo...\")\n",
        "    # En la variable `history_ppl` se guardarán los valores de perplejidad para cada época.\n",
        "    history_ppl = []\n",
        "\n",
        "    ppl_cb = PplCallback(tokenized_sentences_val, model_name,\n",
        "                         history_ppl)\n",
        "\n",
        "    hist = model.fit(\n",
        "        X, y,\n",
        "        epochs=20,\n",
        "        batch_size=512,\n",
        "        callbacks=[ppl_cb]\n",
        "    )\n",
        "\n",
        "    # guardamos history_ppl al final del entrenamiento\n",
        "    np.save(history_name, np.array(history_ppl))\n",
        "    print(f\"Saved history as {history_name}\")"
      ]
    },
    {
      "cell_type": "code",
      "execution_count": 42,
      "metadata": {
        "id": "K30JHB3Dv-mx"
      },
      "outputs": [
        {
          "data": {
            "image/png": "[encoded data removed]",
            "text/plain": [
              "<Figure size 640x480 with 1 Axes>"
            ]
          },
          "metadata": {},
          "output_type": "display_data"
        }
      ],
      "source": [
        "import matplotlib.pyplot as plt\n",
        "import seaborn as sns\n",
        "\n",
        "# Entrenamiento\n",
        "epoch_count = range(1, len(history_ppl) + 1)\n",
        "sns.lineplot(x=epoch_count,  y=history_ppl)\n",
        "plt.show()"
      ]
    },
    {
      "cell_type": "markdown",
      "metadata": {},
      "source": [
        "### LSTM"
      ]
    },
    {
      "cell_type": "code",
      "execution_count": 43,
      "metadata": {},
      "outputs": [
        {
          "name": "stderr",
          "output_type": "stream",
          "text": [
            "/home/agustin/Desktop/CEIA UBA/Procesamiento Lenguaje Natural I/CEIA-ProcesamientoLenguajeNaturalI/.venv/lib/python3.12/site-packages/keras/src/layers/core/wrapper.py:27: UserWarning: Do not pass an `input_shape`/`input_dim` argument to a layer. When using Sequential models, prefer using an `Input(shape)` object as the first layer in the model instead.\n",
            "  super().__init__(**kwargs)\n"
          ]
        },
        {
          "data": {
            "text/html": [
              "<pre style=\"white-space:pre;overflow-x:auto;line-height:normal;font-family:Menlo,'DejaVu Sans Mono',consolas,'Courier New',monospace\"><span style=\"font-weight: bold\">Model: \"sequential_2\"</span>\n",
              "</pre>\n"
            ],
            "text/plain": [
              "\u001b[1mModel: \"sequential_2\"\u001b[0m\n"
            ]
          },
          "metadata": {},
          "output_type": "display_data"
        },
        {
          "data": {
            "text/html": [
              "<pre style=\"white-space:pre;overflow-x:auto;line-height:normal;font-family:Menlo,'DejaVu Sans Mono',consolas,'Courier New',monospace\">┏━━━━━━━━━━━━━━━━━━━━━━━━━━━━━━━━━┳━━━━━━━━━━━━━━━━━━━━━━━━┳━━━━━━━━━━━━━━━┓\n",
              "┃<span style=\"font-weight: bold\"> Layer (type)                    </span>┃<span style=\"font-weight: bold\"> Output Shape           </span>┃<span style=\"font-weight: bold\">       Param # </span>┃\n",
              "┡━━━━━━━━━━━━━━━━━━━━━━━━━━━━━━━━━╇━━━━━━━━━━━━━━━━━━━━━━━━╇━━━━━━━━━━━━━━━┩\n",
              "│ time_distributed_2              │ (<span style=\"color: #00d7ff; text-decoration-color: #00d7ff\">None</span>, <span style=\"color: #00d7ff; text-decoration-color: #00d7ff\">None</span>, <span style=\"color: #00af00; text-decoration-color: #00af00\">72</span>)       │             <span style=\"color: #00af00; text-decoration-color: #00af00\">0</span> │\n",
              "│ (<span style=\"color: #0087ff; text-decoration-color: #0087ff\">TimeDistributed</span>)               │                        │               │\n",
              "├─────────────────────────────────┼────────────────────────┼───────────────┤\n",
              "│ lstm_1 (<span style=\"color: #0087ff; text-decoration-color: #0087ff\">LSTM</span>)                   │ (<span style=\"color: #00d7ff; text-decoration-color: #00d7ff\">None</span>, <span style=\"color: #00d7ff; text-decoration-color: #00d7ff\">None</span>, <span style=\"color: #00af00; text-decoration-color: #00af00\">200</span>)      │       <span style=\"color: #00af00; text-decoration-color: #00af00\">218,400</span> │\n",
              "├─────────────────────────────────┼────────────────────────┼───────────────┤\n",
              "│ dense_2 (<span style=\"color: #0087ff; text-decoration-color: #0087ff\">Dense</span>)                 │ (<span style=\"color: #00d7ff; text-decoration-color: #00d7ff\">None</span>, <span style=\"color: #00d7ff; text-decoration-color: #00d7ff\">None</span>, <span style=\"color: #00af00; text-decoration-color: #00af00\">72</span>)       │        <span style=\"color: #00af00; text-decoration-color: #00af00\">14,472</span> │\n",
              "└─────────────────────────────────┴────────────────────────┴───────────────┘\n",
              "</pre>\n"
            ],
            "text/plain": [
              "┏━━━━━━━━━━━━━━━━━━━━━━━━━━━━━━━━━┳━━━━━━━━━━━━━━━━━━━━━━━━┳━━━━━━━━━━━━━━━┓\n",
              "┃\u001b[1m \u001b[0m\u001b[1mLayer (type)                   \u001b[0m\u001b[1m \u001b[0m┃\u001b[1m \u001b[0m\u001b[1mOutput Shape          \u001b[0m\u001b[1m \u001b[0m┃\u001b[1m \u001b[0m\u001b[1m      Param #\u001b[0m\u001b[1m \u001b[0m┃\n",
              "┡━━━━━━━━━━━━━━━━━━━━━━━━━━━━━━━━━╇━━━━━━━━━━━━━━━━━━━━━━━━╇━━━━━━━━━━━━━━━┩\n",
              "│ time_distributed_2              │ (\u001b[38;5;45mNone\u001b[0m, \u001b[38;5;45mNone\u001b[0m, \u001b[38;5;34m72\u001b[0m)       │             \u001b[38;5;34m0\u001b[0m │\n",
              "│ (\u001b[38;5;33mTimeDistributed\u001b[0m)               │                        │               │\n",
              "├─────────────────────────────────┼────────────────────────┼───────────────┤\n",
              "│ lstm_1 (\u001b[38;5;33mLSTM\u001b[0m)                   │ (\u001b[38;5;45mNone\u001b[0m, \u001b[38;5;45mNone\u001b[0m, \u001b[38;5;34m200\u001b[0m)      │       \u001b[38;5;34m218,400\u001b[0m │\n",
              "├─────────────────────────────────┼────────────────────────┼───────────────┤\n",
              "│ dense_2 (\u001b[38;5;33mDense\u001b[0m)                 │ (\u001b[38;5;45mNone\u001b[0m, \u001b[38;5;45mNone\u001b[0m, \u001b[38;5;34m72\u001b[0m)       │        \u001b[38;5;34m14,472\u001b[0m │\n",
              "└─────────────────────────────────┴────────────────────────┴───────────────┘\n"
            ]
          },
          "metadata": {},
          "output_type": "display_data"
        },
        {
          "data": {
            "text/html": [
              "<pre style=\"white-space:pre;overflow-x:auto;line-height:normal;font-family:Menlo,'DejaVu Sans Mono',consolas,'Courier New',monospace\"><span style=\"font-weight: bold\"> Total params: </span><span style=\"color: #00af00; text-decoration-color: #00af00\">232,872</span> (909.66 KB)\n",
              "</pre>\n"
            ],
            "text/plain": [
              "\u001b[1m Total params: \u001b[0m\u001b[38;5;34m232,872\u001b[0m (909.66 KB)\n"
            ]
          },
          "metadata": {},
          "output_type": "display_data"
        },
        {
          "data": {
            "text/html": [
              "<pre style=\"white-space:pre;overflow-x:auto;line-height:normal;font-family:Menlo,'DejaVu Sans Mono',consolas,'Courier New',monospace\"><span style=\"font-weight: bold\"> Trainable params: </span><span style=\"color: #00af00; text-decoration-color: #00af00\">232,872</span> (909.66 KB)\n",
              "</pre>\n"
            ],
            "text/plain": [
              "\u001b[1m Trainable params: \u001b[0m\u001b[38;5;34m232,872\u001b[0m (909.66 KB)\n"
            ]
          },
          "metadata": {},
          "output_type": "display_data"
        },
        {
          "data": {
            "text/html": [
              "<pre style=\"white-space:pre;overflow-x:auto;line-height:normal;font-family:Menlo,'DejaVu Sans Mono',consolas,'Courier New',monospace\"><span style=\"font-weight: bold\"> Non-trainable params: </span><span style=\"color: #00af00; text-decoration-color: #00af00\">0</span> (0.00 B)\n",
              "</pre>\n"
            ],
            "text/plain": [
              "\u001b[1m Non-trainable params: \u001b[0m\u001b[38;5;34m0\u001b[0m (0.00 B)\n"
            ]
          },
          "metadata": {},
          "output_type": "display_data"
        }
      ],
      "source": [
        "from keras.layers import LSTM\n",
        "model_lstm = Sequential()\n",
        "\n",
        "model_lstm.add(TimeDistributed(CategoryEncoding(num_tokens=vocab_size, output_mode = \"one_hot\"),input_shape=(None,1)))\n",
        "model_lstm.add(LSTM(200, return_sequences=True, dropout=0.1, recurrent_dropout=0.1 ))\n",
        "model_lstm.add(Dense(vocab_size, activation='softmax'))\n",
        "model_lstm.compile(loss='sparse_categorical_crossentropy', optimizer='rmsprop')\n",
        "\n",
        "model_lstm.summary()"
      ]
    },
    {
      "cell_type": "code",
      "execution_count": 44,
      "metadata": {},
      "outputs": [
        {
          "name": "stdout",
          "output_type": "stream",
          "text": [
            "El modelo model_lstm.keras y el historial history_ppl_lstm.npy ya existen. Cargando...\n"
          ]
        }
      ],
      "source": [
        "model_lstm_name = \"model_lstm.keras\"\n",
        "history_lstm_name = \"history_ppl_lstm.npy\"\n",
        "\n",
        "if os.path.exists(model_lstm_name) and os.path.exists(history_lstm_name):\n",
        "    print(f\"El modelo {model_lstm_name} y el historial {history_lstm_name} ya existen. Cargando...\")\n",
        "    model_lstm = load_model(model_lstm_name)\n",
        "    history_ppl_lstm = np.load(history_lstm_name).tolist()\n",
        "else:\n",
        "    print(\"Entrenando modelo nuevo...\")\n",
        "    # En la variable `history_ppl` se guardarán los valores de perplejidad para cada época.\n",
        "    history_ppl_lstm = []\n",
        "\n",
        "    ppl_cb_lstm = PplCallback(tokenized_sentences_val, model_lstm_name,\n",
        "                         history_ppl_lstm)\n",
        "\n",
        "    hist_lstm = model_lstm.fit(\n",
        "        X, y,\n",
        "        epochs=20,\n",
        "        batch_size=512,\n",
        "        callbacks=[ppl_cb_lstm]\n",
        "    )\n",
        "\n",
        "    # guardamos history_ppl al final del entrenamiento\n",
        "    np.save(history_lstm_name, np.array(history_ppl_lstm))\n",
        "    print(f\"Saved history as {history_lstm_name}\")"
      ]
    },
    {
      "cell_type": "code",
      "execution_count": 45,
      "metadata": {},
      "outputs": [
        {
          "data": {
            "image/png": "[encoded data removed]",
            "text/plain": [
              "<Figure size 640x480 with 1 Axes>"
            ]
          },
          "metadata": {},
          "output_type": "display_data"
        }
      ],
      "source": [
        "epoch_count = range(1, len(history_ppl_lstm) + 1)\n",
        "sns.lineplot(x=epoch_count,  y=history_ppl_lstm)\n",
        "plt.show()\n"
      ]
    },
    {
      "cell_type": "markdown",
      "metadata": {},
      "source": [
        "### GRU"
      ]
    },
    {
      "cell_type": "code",
      "execution_count": 46,
      "metadata": {},
      "outputs": [
        {
          "name": "stderr",
          "output_type": "stream",
          "text": [
            "/home/agustin/Desktop/CEIA UBA/Procesamiento Lenguaje Natural I/CEIA-ProcesamientoLenguajeNaturalI/.venv/lib/python3.12/site-packages/keras/src/layers/core/wrapper.py:27: UserWarning: Do not pass an `input_shape`/`input_dim` argument to a layer. When using Sequential models, prefer using an `Input(shape)` object as the first layer in the model instead.\n",
            "  super().__init__(**kwargs)\n"
          ]
        },
        {
          "data": {
            "text/html": [
              "<pre style=\"white-space:pre;overflow-x:auto;line-height:normal;font-family:Menlo,'DejaVu Sans Mono',consolas,'Courier New',monospace\"><span style=\"font-weight: bold\">Model: \"sequential_4\"</span>\n",
              "</pre>\n"
            ],
            "text/plain": [
              "\u001b[1mModel: \"sequential_4\"\u001b[0m\n"
            ]
          },
          "metadata": {},
          "output_type": "display_data"
        },
        {
          "data": {
            "text/html": [
              "<pre style=\"white-space:pre;overflow-x:auto;line-height:normal;font-family:Menlo,'DejaVu Sans Mono',consolas,'Courier New',monospace\">┏━━━━━━━━━━━━━━━━━━━━━━━━━━━━━━━━━┳━━━━━━━━━━━━━━━━━━━━━━━━┳━━━━━━━━━━━━━━━┓\n",
              "┃<span style=\"font-weight: bold\"> Layer (type)                    </span>┃<span style=\"font-weight: bold\"> Output Shape           </span>┃<span style=\"font-weight: bold\">       Param # </span>┃\n",
              "┡━━━━━━━━━━━━━━━━━━━━━━━━━━━━━━━━━╇━━━━━━━━━━━━━━━━━━━━━━━━╇━━━━━━━━━━━━━━━┩\n",
              "│ time_distributed_3              │ (<span style=\"color: #00d7ff; text-decoration-color: #00d7ff\">None</span>, <span style=\"color: #00d7ff; text-decoration-color: #00d7ff\">None</span>, <span style=\"color: #00af00; text-decoration-color: #00af00\">72</span>)       │             <span style=\"color: #00af00; text-decoration-color: #00af00\">0</span> │\n",
              "│ (<span style=\"color: #0087ff; text-decoration-color: #0087ff\">TimeDistributed</span>)               │                        │               │\n",
              "├─────────────────────────────────┼────────────────────────┼───────────────┤\n",
              "│ gru (<span style=\"color: #0087ff; text-decoration-color: #0087ff\">GRU</span>)                       │ (<span style=\"color: #00d7ff; text-decoration-color: #00d7ff\">None</span>, <span style=\"color: #00d7ff; text-decoration-color: #00d7ff\">None</span>, <span style=\"color: #00af00; text-decoration-color: #00af00\">200</span>)      │       <span style=\"color: #00af00; text-decoration-color: #00af00\">164,400</span> │\n",
              "├─────────────────────────────────┼────────────────────────┼───────────────┤\n",
              "│ dense_3 (<span style=\"color: #0087ff; text-decoration-color: #0087ff\">Dense</span>)                 │ (<span style=\"color: #00d7ff; text-decoration-color: #00d7ff\">None</span>, <span style=\"color: #00d7ff; text-decoration-color: #00d7ff\">None</span>, <span style=\"color: #00af00; text-decoration-color: #00af00\">72</span>)       │        <span style=\"color: #00af00; text-decoration-color: #00af00\">14,472</span> │\n",
              "└─────────────────────────────────┴────────────────────────┴───────────────┘\n",
              "</pre>\n"
            ],
            "text/plain": [
              "┏━━━━━━━━━━━━━━━━━━━━━━━━━━━━━━━━━┳━━━━━━━━━━━━━━━━━━━━━━━━┳━━━━━━━━━━━━━━━┓\n",
              "┃\u001b[1m \u001b[0m\u001b[1mLayer (type)                   \u001b[0m\u001b[1m \u001b[0m┃\u001b[1m \u001b[0m\u001b[1mOutput Shape          \u001b[0m\u001b[1m \u001b[0m┃\u001b[1m \u001b[0m\u001b[1m      Param #\u001b[0m\u001b[1m \u001b[0m┃\n",
              "┡━━━━━━━━━━━━━━━━━━━━━━━━━━━━━━━━━╇━━━━━━━━━━━━━━━━━━━━━━━━╇━━━━━━━━━━━━━━━┩\n",
              "│ time_distributed_3              │ (\u001b[38;5;45mNone\u001b[0m, \u001b[38;5;45mNone\u001b[0m, \u001b[38;5;34m72\u001b[0m)       │             \u001b[38;5;34m0\u001b[0m │\n",
              "│ (\u001b[38;5;33mTimeDistributed\u001b[0m)               │                        │               │\n",
              "├─────────────────────────────────┼────────────────────────┼───────────────┤\n",
              "│ gru (\u001b[38;5;33mGRU\u001b[0m)                       │ (\u001b[38;5;45mNone\u001b[0m, \u001b[38;5;45mNone\u001b[0m, \u001b[38;5;34m200\u001b[0m)      │       \u001b[38;5;34m164,400\u001b[0m │\n",
              "├─────────────────────────────────┼────────────────────────┼───────────────┤\n",
              "│ dense_3 (\u001b[38;5;33mDense\u001b[0m)                 │ (\u001b[38;5;45mNone\u001b[0m, \u001b[38;5;45mNone\u001b[0m, \u001b[38;5;34m72\u001b[0m)       │        \u001b[38;5;34m14,472\u001b[0m │\n",
              "└─────────────────────────────────┴────────────────────────┴───────────────┘\n"
            ]
          },
          "metadata": {},
          "output_type": "display_data"
        },
        {
          "data": {
            "text/html": [
              "<pre style=\"white-space:pre;overflow-x:auto;line-height:normal;font-family:Menlo,'DejaVu Sans Mono',consolas,'Courier New',monospace\"><span style=\"font-weight: bold\"> Total params: </span><span style=\"color: #00af00; text-decoration-color: #00af00\">178,872</span> (698.72 KB)\n",
              "</pre>\n"
            ],
            "text/plain": [
              "\u001b[1m Total params: \u001b[0m\u001b[38;5;34m178,872\u001b[0m (698.72 KB)\n"
            ]
          },
          "metadata": {},
          "output_type": "display_data"
        },
        {
          "data": {
            "text/html": [
              "<pre style=\"white-space:pre;overflow-x:auto;line-height:normal;font-family:Menlo,'DejaVu Sans Mono',consolas,'Courier New',monospace\"><span style=\"font-weight: bold\"> Trainable params: </span><span style=\"color: #00af00; text-decoration-color: #00af00\">178,872</span> (698.72 KB)\n",
              "</pre>\n"
            ],
            "text/plain": [
              "\u001b[1m Trainable params: \u001b[0m\u001b[38;5;34m178,872\u001b[0m (698.72 KB)\n"
            ]
          },
          "metadata": {},
          "output_type": "display_data"
        },
        {
          "data": {
            "text/html": [
              "<pre style=\"white-space:pre;overflow-x:auto;line-height:normal;font-family:Menlo,'DejaVu Sans Mono',consolas,'Courier New',monospace\"><span style=\"font-weight: bold\"> Non-trainable params: </span><span style=\"color: #00af00; text-decoration-color: #00af00\">0</span> (0.00 B)\n",
              "</pre>\n"
            ],
            "text/plain": [
              "\u001b[1m Non-trainable params: \u001b[0m\u001b[38;5;34m0\u001b[0m (0.00 B)\n"
            ]
          },
          "metadata": {},
          "output_type": "display_data"
        }
      ],
      "source": [
        "from keras.layers import GRU\n",
        "model_lstm = Sequential()\n",
        "\n",
        "model_gru = Sequential()\n",
        "\n",
        "model_gru.add(TimeDistributed(\n",
        "    CategoryEncoding(num_tokens=vocab_size, output_mode=\"one_hot\"),\n",
        "    input_shape=(None, 1))\n",
        ")\n",
        "\n",
        "model_gru.add(GRU(200, return_sequences=True, dropout=0.1, recurrent_dropout=0.1))\n",
        "model_gru.add(Dense(vocab_size, activation='softmax'))\n",
        "\n",
        "model_gru.compile(\n",
        "    loss='sparse_categorical_crossentropy',\n",
        "    optimizer='rmsprop'\n",
        ")\n",
        "\n",
        "model_gru.summary()"
      ]
    },
    {
      "cell_type": "code",
      "execution_count": 47,
      "metadata": {},
      "outputs": [
        {
          "name": "stdout",
          "output_type": "stream",
          "text": [
            "Entrenando modelo nuevo...\n",
            "Epoch 1/20\n",
            "\u001b[1m927/927\u001b[0m \u001b[32m━━━━━━━━━━━━━━━━━━━━\u001b[0m\u001b[37m\u001b[0m \u001b[1m0s\u001b[0m 235ms/step - loss: 2.6424\n",
            " mean perplexity: 7.48253862853349 \n",
            "\n",
            "Saved new model as model_gru.keras\n",
            "\u001b[1m927/927\u001b[0m \u001b[32m━━━━━━━━━━━━━━━━━━━━\u001b[0m\u001b[37m\u001b[0m \u001b[1m278s\u001b[0m 297ms/step - loss: 2.3280\n",
            "Epoch 2/20\n",
            "\u001b[1m927/927\u001b[0m \u001b[32m━━━━━━━━━━━━━━━━━━━━\u001b[0m\u001b[37m\u001b[0m \u001b[1m0s\u001b[0m 227ms/step - loss: 1.9633\n",
            " mean perplexity: 6.108283084160944 \n",
            "\n",
            "Saved new model as model_gru.keras\n",
            "\u001b[1m927/927\u001b[0m \u001b[32m━━━━━━━━━━━━━━━━━━━━\u001b[0m\u001b[37m\u001b[0m \u001b[1m261s\u001b[0m 281ms/step - loss: 1.9031\n",
            "Epoch 3/20\n",
            "\u001b[1m927/927\u001b[0m \u001b[32m━━━━━━━━━━━━━━━━━━━━\u001b[0m\u001b[37m\u001b[0m \u001b[1m0s\u001b[0m 224ms/step - loss: 1.7595\n",
            " mean perplexity: 5.399801442198314 \n",
            "\n",
            "Saved new model as model_gru.keras\n",
            "\u001b[1m927/927\u001b[0m \u001b[32m━━━━━━━━━━━━━━━━━━━━\u001b[0m\u001b[37m\u001b[0m \u001b[1m258s\u001b[0m 279ms/step - loss: 1.7254\n",
            "Epoch 4/20\n",
            "\u001b[1m927/927\u001b[0m \u001b[32m━━━━━━━━━━━━━━━━━━━━\u001b[0m\u001b[37m\u001b[0m \u001b[1m0s\u001b[0m 224ms/step - loss: 1.6400\n",
            " mean perplexity: 5.059296184956781 \n",
            "\n",
            "Saved new model as model_gru.keras\n",
            "\u001b[1m927/927\u001b[0m \u001b[32m━━━━━━━━━━━━━━━━━━━━\u001b[0m\u001b[37m\u001b[0m \u001b[1m258s\u001b[0m 278ms/step - loss: 1.6184\n",
            "Epoch 5/20\n",
            "\u001b[1m927/927\u001b[0m \u001b[32m━━━━━━━━━━━━━━━━━━━━\u001b[0m\u001b[37m\u001b[0m \u001b[1m0s\u001b[0m 224ms/step - loss: 1.5649\n",
            " mean perplexity: 4.879656712062495 \n",
            "\n",
            "Saved new model as model_gru.keras\n",
            "\u001b[1m927/927\u001b[0m \u001b[32m━━━━━━━━━━━━━━━━━━━━\u001b[0m\u001b[37m\u001b[0m \u001b[1m257s\u001b[0m 278ms/step - loss: 1.5508\n",
            "Epoch 6/20\n",
            "\u001b[1m927/927\u001b[0m \u001b[32m━━━━━━━━━━━━━━━━━━━━\u001b[0m\u001b[37m\u001b[0m \u001b[1m0s\u001b[0m 224ms/step - loss: 1.5146\n",
            " mean perplexity: 4.724084735309788 \n",
            "\n",
            "Saved new model as model_gru.keras\n",
            "\u001b[1m927/927\u001b[0m \u001b[32m━━━━━━━━━━━━━━━━━━━━\u001b[0m\u001b[37m\u001b[0m \u001b[1m257s\u001b[0m 278ms/step - loss: 1.5046\n",
            "Epoch 7/20\n",
            "\u001b[1m927/927\u001b[0m \u001b[32m━━━━━━━━━━━━━━━━━━━━\u001b[0m\u001b[37m\u001b[0m \u001b[1m0s\u001b[0m 223ms/step - loss: 1.4779\n",
            " mean perplexity: 4.60742991661282 \n",
            "\n",
            "Saved new model as model_gru.keras\n",
            "\u001b[1m927/927\u001b[0m \u001b[32m━━━━━━━━━━━━━━━━━━━━\u001b[0m\u001b[37m\u001b[0m \u001b[1m258s\u001b[0m 278ms/step - loss: 1.4701\n",
            "Epoch 8/20\n",
            "\u001b[1m927/927\u001b[0m \u001b[32m━━━━━━━━━━━━━━━━━━━━\u001b[0m\u001b[37m\u001b[0m \u001b[1m0s\u001b[0m 225ms/step - loss: 1.4499\n",
            " mean perplexity: 4.558872778253255 \n",
            "\n",
            "Saved new model as model_gru.keras\n",
            "\u001b[1m927/927\u001b[0m \u001b[32m━━━━━━━━━━━━━━━━━━━━\u001b[0m\u001b[37m\u001b[0m \u001b[1m259s\u001b[0m 279ms/step - loss: 1.4436\n",
            "Epoch 9/20\n",
            "\u001b[1m927/927\u001b[0m \u001b[32m━━━━━━━━━━━━━━━━━━━━\u001b[0m\u001b[37m\u001b[0m \u001b[1m0s\u001b[0m 225ms/step - loss: 1.4269\n",
            " mean perplexity: 4.514577972531503 \n",
            "\n",
            "Saved new model as model_gru.keras\n",
            "\u001b[1m927/927\u001b[0m \u001b[32m━━━━━━━━━━━━━━━━━━━━\u001b[0m\u001b[37m\u001b[0m \u001b[1m260s\u001b[0m 280ms/step - loss: 1.4224\n",
            "Epoch 10/20\n",
            "\u001b[1m927/927\u001b[0m \u001b[32m━━━━━━━━━━━━━━━━━━━━\u001b[0m\u001b[37m\u001b[0m \u001b[1m0s\u001b[0m 234ms/step - loss: 1.4092\n",
            " mean perplexity: 4.479914994680689 \n",
            "\n",
            "Saved new model as model_gru.keras\n",
            "\u001b[1m927/927\u001b[0m \u001b[32m━━━━━━━━━━━━━━━━━━━━\u001b[0m\u001b[37m\u001b[0m \u001b[1m272s\u001b[0m 293ms/step - loss: 1.4053\n",
            "Epoch 11/20\n",
            "\u001b[1m927/927\u001b[0m \u001b[32m━━━━━━━━━━━━━━━━━━━━\u001b[0m\u001b[37m\u001b[0m \u001b[1m0s\u001b[0m 240ms/step - loss: 1.3947\n",
            " mean perplexity: 4.42359699421872 \n",
            "\n",
            "Saved new model as model_gru.keras\n",
            "\u001b[1m927/927\u001b[0m \u001b[32m━━━━━━━━━━━━━━━━━━━━\u001b[0m\u001b[37m\u001b[0m \u001b[1m276s\u001b[0m 298ms/step - loss: 1.3914\n",
            "Epoch 12/20\n",
            "\u001b[1m927/927\u001b[0m \u001b[32m━━━━━━━━━━━━━━━━━━━━\u001b[0m\u001b[37m\u001b[0m \u001b[1m0s\u001b[0m 235ms/step - loss: 1.3820\n",
            " mean perplexity: 4.410619202880712 \n",
            "\n",
            "Saved new model as model_gru.keras\n",
            "\u001b[1m927/927\u001b[0m \u001b[32m━━━━━━━━━━━━━━━━━━━━\u001b[0m\u001b[37m\u001b[0m \u001b[1m268s\u001b[0m 289ms/step - loss: 1.3798\n",
            "Epoch 13/20\n",
            "\u001b[1m927/927\u001b[0m \u001b[32m━━━━━━━━━━━━━━━━━━━━\u001b[0m\u001b[37m\u001b[0m \u001b[1m0s\u001b[0m 225ms/step - loss: 1.3725\n",
            " mean perplexity: 4.396694450198117 \n",
            "\n",
            "Saved new model as model_gru.keras\n",
            "\u001b[1m927/927\u001b[0m \u001b[32m━━━━━━━━━━━━━━━━━━━━\u001b[0m\u001b[37m\u001b[0m \u001b[1m259s\u001b[0m 280ms/step - loss: 1.3700\n",
            "Epoch 14/20\n",
            "\u001b[1m927/927\u001b[0m \u001b[32m━━━━━━━━━━━━━━━━━━━━\u001b[0m\u001b[37m\u001b[0m \u001b[1m0s\u001b[0m 235ms/step - loss: 1.3628\n",
            " mean perplexity: 4.361849109254129 \n",
            "\n",
            "Saved new model as model_gru.keras\n",
            "\u001b[1m927/927\u001b[0m \u001b[32m━━━━━━━━━━━━━━━━━━━━\u001b[0m\u001b[37m\u001b[0m \u001b[1m272s\u001b[0m 293ms/step - loss: 1.3610\n",
            "Epoch 15/20\n",
            "\u001b[1m927/927\u001b[0m \u001b[32m━━━━━━━━━━━━━━━━━━━━\u001b[0m\u001b[37m\u001b[0m \u001b[1m0s\u001b[0m 238ms/step - loss: 1.3554\n",
            " mean perplexity: 4.371144859050792 \n",
            "\n",
            "\u001b[1m927/927\u001b[0m \u001b[32m━━━━━━━━━━━━━━━━━━━━\u001b[0m\u001b[37m\u001b[0m \u001b[1m274s\u001b[0m 296ms/step - loss: 1.3536\n",
            "Epoch 16/20\n",
            "\u001b[1m927/927\u001b[0m \u001b[32m━━━━━━━━━━━━━━━━━━━━\u001b[0m\u001b[37m\u001b[0m \u001b[1m0s\u001b[0m 241ms/step - loss: 1.3482\n",
            " mean perplexity: 4.358964621557171 \n",
            "\n",
            "Saved new model as model_gru.keras\n",
            "\u001b[1m927/927\u001b[0m \u001b[32m━━━━━━━━━━━━━━━━━━━━\u001b[0m\u001b[37m\u001b[0m \u001b[1m279s\u001b[0m 301ms/step - loss: 1.3467\n",
            "Epoch 17/20\n",
            "\u001b[1m927/927\u001b[0m \u001b[32m━━━━━━━━━━━━━━━━━━━━\u001b[0m\u001b[37m\u001b[0m \u001b[1m0s\u001b[0m 241ms/step - loss: 1.3420\n",
            " mean perplexity: 4.353830393524868 \n",
            "\n",
            "Saved new model as model_gru.keras\n",
            "\u001b[1m927/927\u001b[0m \u001b[32m━━━━━━━━━━━━━━━━━━━━\u001b[0m\u001b[37m\u001b[0m \u001b[1m278s\u001b[0m 300ms/step - loss: 1.3403\n",
            "Epoch 18/20\n",
            "\u001b[1m927/927\u001b[0m \u001b[32m━━━━━━━━━━━━━━━━━━━━\u001b[0m\u001b[37m\u001b[0m \u001b[1m0s\u001b[0m 239ms/step - loss: 1.3357\n",
            " mean perplexity: 4.3505424439116585 \n",
            "\n",
            "Saved new model as model_gru.keras\n",
            "\u001b[1m927/927\u001b[0m \u001b[32m━━━━━━━━━━━━━━━━━━━━\u001b[0m\u001b[37m\u001b[0m \u001b[1m275s\u001b[0m 297ms/step - loss: 1.3348\n",
            "Epoch 19/20\n",
            "\u001b[1m927/927\u001b[0m \u001b[32m━━━━━━━━━━━━━━━━━━━━\u001b[0m\u001b[37m\u001b[0m \u001b[1m0s\u001b[0m 237ms/step - loss: 1.3312\n",
            " mean perplexity: 4.346745398606113 \n",
            "\n",
            "Saved new model as model_gru.keras\n",
            "\u001b[1m927/927\u001b[0m \u001b[32m━━━━━━━━━━━━━━━━━━━━\u001b[0m\u001b[37m\u001b[0m \u001b[1m270s\u001b[0m 291ms/step - loss: 1.3300\n",
            "Epoch 20/20\n",
            "\u001b[1m927/927\u001b[0m \u001b[32m━━━━━━━━━━━━━━━━━━━━\u001b[0m\u001b[37m\u001b[0m \u001b[1m0s\u001b[0m 223ms/step - loss: 1.3270\n",
            " mean perplexity: 4.340355027594109 \n",
            "\n",
            "Saved new model as model_gru.keras\n",
            "\u001b[1m927/927\u001b[0m \u001b[32m━━━━━━━━━━━━━━━━━━━━\u001b[0m\u001b[37m\u001b[0m \u001b[1m257s\u001b[0m 277ms/step - loss: 1.3253\n",
            "Saved history as history_ppl_gru.npy\n"
          ]
        }
      ],
      "source": [
        "model_gru_name = \"model_gru.keras\"\n",
        "history_gru_name = \"history_ppl_gru.npy\"\n",
        "\n",
        "if os.path.exists(model_gru_name) and os.path.exists(history_gru_name):\n",
        "    print(f\"El modelo {model_gru_name} y el historial {history_gru_name} ya existen. Cargando...\")\n",
        "    model_gru = load_model(model_gru_name)\n",
        "    history_ppl_gru = np.load(history_gru_name).tolist()\n",
        "else:\n",
        "    print(\"Entrenando modelo nuevo...\")\n",
        "    # En la variable `history_ppl` se guardarán los valores de perplejidad para cada época.\n",
        "    history_ppl_gru = []\n",
        "\n",
        "    ppl_cb_gru = PplCallback(tokenized_sentences_val, model_gru_name,\n",
        "                         history_ppl_gru)\n",
        "\n",
        "    hist_gru = model_gru.fit(\n",
        "        X, y,\n",
        "        epochs=20,\n",
        "        batch_size=512,\n",
        "        callbacks=[ppl_cb_gru]\n",
        "    )\n",
        "\n",
        "    # guardamos history_ppl al final del entrenamiento\n",
        "    np.save(history_gru_name, np.array(history_ppl_gru))\n",
        "    print(f\"Saved history as {history_gru_name}\")"
      ]
    },
    {
      "cell_type": "code",
      "execution_count": 48,
      "metadata": {},
      "outputs": [
        {
          "data": {
            "image/png": "[encoded data removed]",
            "text/plain": [
              "<Figure size 640x480 with 1 Axes>"
            ]
          },
          "metadata": {},
          "output_type": "display_data"
        }
      ],
      "source": [
        "epoch_count = range(1, len(history_ppl_gru) + 1)\n",
        "sns.lineplot(x=epoch_count,  y=history_ppl_gru)\n",
        "plt.show()\n"
      ]
    },
    {
      "cell_type": "markdown",
      "metadata": {
        "id": "KN6Fg_BsxJe6"
      },
      "source": [
        "\n",
        "### Predicción del próximo caracter"
      ]
    },
    {
      "cell_type": "code",
      "execution_count": 58,
      "metadata": {
        "id": "HNyBykvhzs7-"
      },
      "outputs": [
        {
          "name": "stdout",
          "output_type": "stream",
          "text": [
            "* Running on local URL:  http://127.0.0.1:7860\n",
            "* To create a public link, set `share=True` in `launch()`.\n"
          ]
        },
        {
          "data": {
            "text/html": [
              "<div><iframe src=\"http://127.0.0.1:7860/\" width=\"100%\" height=\"500\" allow=\"autoplay; camera; microphone; clipboard-read; clipboard-write;\" frameborder=\"0\" allowfullscreen></iframe></div>"
            ],
            "text/plain": [
              "<IPython.core.display.HTML object>"
            ]
          },
          "metadata": {},
          "output_type": "display_data"
        },
        {
          "name": "stdout",
          "output_type": "stream",
          "text": [
            "\u001b[1m1/1\u001b[0m \u001b[32m━━━━━━━━━━━━━━━━━━━━\u001b[0m\u001b[37m\u001b[0m \u001b[1m1s\u001b[0m 686ms/step\n",
            "\u001b[1m1/1\u001b[0m \u001b[32m━━━━━━━━━━━━━━━━━━━━\u001b[0m\u001b[37m\u001b[0m \u001b[1m0s\u001b[0m 28ms/step\n",
            "Created dataset file at: .gradio\\flagged\\dataset1.csv\n",
            "\u001b[1m1/1\u001b[0m \u001b[32m━━━━━━━━━━━━━━━━━━━━\u001b[0m\u001b[37m\u001b[0m \u001b[1m0s\u001b[0m 29ms/step\n",
            "\u001b[1m1/1\u001b[0m \u001b[32m━━━━━━━━━━━━━━━━━━━━\u001b[0m\u001b[37m\u001b[0m \u001b[1m0s\u001b[0m 38ms/step\n",
            "\u001b[1m1/1\u001b[0m \u001b[32m━━━━━━━━━━━━━━━━━━━━\u001b[0m\u001b[37m\u001b[0m \u001b[1m0s\u001b[0m 29ms/step\n",
            "\u001b[1m1/1\u001b[0m \u001b[32m━━━━━━━━━━━━━━━━━━━━\u001b[0m\u001b[37m\u001b[0m \u001b[1m0s\u001b[0m 30ms/step\n",
            "\u001b[1m1/1\u001b[0m \u001b[32m━━━━━━━━━━━━━━━━━━━━\u001b[0m\u001b[37m\u001b[0m \u001b[1m0s\u001b[0m 25ms/step\n",
            "\u001b[1m1/1\u001b[0m \u001b[32m━━━━━━━━━━━━━━━━━━━━\u001b[0m\u001b[37m\u001b[0m \u001b[1m0s\u001b[0m 31ms/step\n",
            "\u001b[1m1/1\u001b[0m \u001b[32m━━━━━━━━━━━━━━━━━━━━\u001b[0m\u001b[37m\u001b[0m \u001b[1m0s\u001b[0m 26ms/step\n",
            "\u001b[1m1/1\u001b[0m \u001b[32m━━━━━━━━━━━━━━━━━━━━\u001b[0m\u001b[37m\u001b[0m \u001b[1m0s\u001b[0m 30ms/step\n",
            "\u001b[1m1/1\u001b[0m \u001b[32m━━━━━━━━━━━━━━━━━━━━\u001b[0m\u001b[37m\u001b[0m \u001b[1m0s\u001b[0m 31ms/step\n",
            "\u001b[1m1/1\u001b[0m \u001b[32m━━━━━━━━━━━━━━━━━━━━\u001b[0m\u001b[37m\u001b[0m \u001b[1m0s\u001b[0m 29ms/step\n",
            "\u001b[1m1/1\u001b[0m \u001b[32m━━━━━━━━━━━━━━━━━━━━\u001b[0m\u001b[37m\u001b[0m \u001b[1m0s\u001b[0m 28ms/step\n",
            "\u001b[1m1/1\u001b[0m \u001b[32m━━━━━━━━━━━━━━━━━━━━\u001b[0m\u001b[37m\u001b[0m \u001b[1m0s\u001b[0m 25ms/step\n",
            "Keyboard interruption in main thread... closing server.\n"
          ]
        },
        {
          "data": {
            "text/plain": []
          },
          "execution_count": 58,
          "metadata": {},
          "output_type": "execute_result"
        }
      ],
      "source": [
        "import gradio as gr\n",
        "\n",
        "def model_response(human_text):\n",
        "\n",
        "    # Encodeamos\n",
        "    encoded = [char2idx[ch] for ch in human_text.lower() ]\n",
        "    # Si tienen distinto largo\n",
        "    encoded = pad_sequences([encoded], maxlen=max_context_size, padding='pre')\n",
        "\n",
        "    # Predicción softmax\n",
        "    y_hat = np.argmax(model.predict(encoded)[0,-1,:])\n",
        "\n",
        "\n",
        "    # Debemos buscar en el vocabulario el caracter\n",
        "    # que corresopnde al indice (y_hat) predicho por le modelo\n",
        "    out_word = ''\n",
        "    out_word = idx2char[y_hat]\n",
        "\n",
        "    # Agrego la palabra a la frase predicha\n",
        "    return human_text + out_word\n",
        "\n",
        "iface = gr.Interface(\n",
        "    fn=model_response,\n",
        "    inputs=[\"textbox\"],\n",
        "    outputs=\"text\")\n",
        "\n",
        "iface.launch(debug=True)"
      ]
    },
    {
      "cell_type": "markdown",
      "metadata": {
        "id": "mCeMWWupxN1-"
      },
      "source": [
        "### Generación de secuencias"
      ]
    },
    {
      "cell_type": "code",
      "execution_count": 59,
      "metadata": {
        "id": "bwbS_pfhxvB3"
      },
      "outputs": [],
      "source": [
        "def generate_seq(model, seed_text, max_length, n_words):\n",
        "    \"\"\"\n",
        "        Exec model sequence prediction\n",
        "\n",
        "        Args:\n",
        "            model (keras): modelo entrenado\n",
        "            seed_text (string): texto de entrada (input_seq)\n",
        "            max_length (int): máxima longitud de la sequencia de entrada\n",
        "            n_words (int): números de caracteres a agregar a la sequencia de entrada\n",
        "        returns:\n",
        "            output_text (string): sentencia con las \"n_words\" agregadas\n",
        "    \"\"\"\n",
        "    output_text = seed_text\n",
        "\t# generate a fixed number of words\n",
        "    for _ in range(n_words):\n",
        "\t\t# Encodeamos\n",
        "        encoded = [char2idx[ch] for ch in output_text.lower() ]\n",
        "\t\t# Si tienen distinto largo\n",
        "        encoded = pad_sequences([encoded], maxlen=max_length, padding='pre')\n",
        "\n",
        "\t\t# Predicción softmax\n",
        "        y_hat = np.argmax(model.predict(encoded,verbose=0)[0,-1,:])\n",
        "\t\t# Vamos concatenando las predicciones\n",
        "        out_word = ''\n",
        "\n",
        "        out_word = idx2char[y_hat]\n",
        "\n",
        "\t\t# Agrego las palabras a la frase predicha\n",
        "        output_text += out_word\n",
        "    return output_text"
      ]
    },
    {
      "cell_type": "code",
      "execution_count": 67,
      "metadata": {
        "id": "JoFqRC5pxzqS"
      },
      "outputs": [
        {
          "data": {
            "text/plain": [
              "'Jaime Lannister said. \"It was not see the stories and strong'"
            ]
          },
          "execution_count": 67,
          "metadata": {},
          "output_type": "execute_result"
        }
      ],
      "source": [
        "input_text='Jaime Lann'\n",
        "\n",
        "generate_seq(model, input_text, max_length=max_context_size, n_words=50)"
      ]
    },
    {
      "cell_type": "markdown",
      "metadata": {
        "id": "drJ6xn5qW1Hl"
      },
      "source": [
        "###  Beam search y muestreo aleatorio"
      ]
    },
    {
      "cell_type": "code",
      "execution_count": 68,
      "metadata": {
        "id": "_vovn9XZW1Hl"
      },
      "outputs": [],
      "source": [
        "# funcionalidades para hacer encoding y decoding\n",
        "\n",
        "def encode(text,max_length=max_context_size):\n",
        "\n",
        "    encoded = [char2idx[ch] for ch in text]\n",
        "    encoded = pad_sequences([encoded], maxlen=max_length, padding='pre')\n",
        "\n",
        "    return encoded\n",
        "\n",
        "def decode(seq):\n",
        "    return ''.join([idx2char[ch] for ch in seq])"
      ]
    },
    {
      "cell_type": "code",
      "execution_count": 69,
      "metadata": {
        "id": "I_lZiQwkW1Hl"
      },
      "outputs": [],
      "source": [
        "from scipy.special import softmax\n",
        "\n",
        "# función que selecciona candidatos para el beam search\n",
        "def select_candidates(pred,num_beams,vocab_size,history_probs,history_tokens,temp,mode):\n",
        "\n",
        "  # colectar todas las probabilidades para la siguiente búsqueda\n",
        "  pred_large = []\n",
        "\n",
        "  for idx,pp in enumerate(pred):\n",
        "    pred_large.extend(np.log(pp+1E-10)+history_probs[idx])\n",
        "\n",
        "  pred_large = np.array(pred_large)\n",
        "\n",
        "  # criterio de selección\n",
        "  if mode == 'det':\n",
        "    idx_select = np.argsort(pred_large)[::-1][:num_beams] # beam search determinista\n",
        "  elif mode == 'sto':\n",
        "    idx_select = np.random.choice(np.arange(pred_large.shape[0]), num_beams, p=softmax(pred_large/temp)) # beam search con muestreo aleatorio\n",
        "  else:\n",
        "    raise ValueError(f'Wrong selection mode. {mode} was given. det and sto are supported.')\n",
        "\n",
        "  # traducir a índices de token en el vocabulario\n",
        "  new_history_tokens = np.concatenate((np.array(history_tokens)[idx_select//vocab_size],\n",
        "                        np.array([idx_select%vocab_size]).T),\n",
        "                      axis=1)\n",
        "\n",
        "  # devolver el producto de las probabilidades (log) y la secuencia de tokens seleccionados\n",
        "  return pred_large[idx_select.astype(int)], new_history_tokens.astype(int)\n",
        "\n",
        "\n",
        "def beam_search(model,num_beams,num_words,input,temp=1,mode='det'):\n",
        "\n",
        "    # first iteration\n",
        "\n",
        "    # encode\n",
        "    encoded = encode(input)\n",
        "\n",
        "    # first prediction\n",
        "    y_hat = model.predict(encoded,verbose=0)[0,-1,:]\n",
        "\n",
        "    # get vocabulary size\n",
        "    vocab_size = y_hat.shape[0]\n",
        "\n",
        "    # initialize history\n",
        "    history_probs = [0]*num_beams\n",
        "    history_tokens = [encoded[0]]*num_beams\n",
        "\n",
        "    # select num_beams candidates\n",
        "    history_probs, history_tokens = select_candidates([y_hat],\n",
        "                                        num_beams,\n",
        "                                        vocab_size,\n",
        "                                        history_probs,\n",
        "                                        history_tokens,\n",
        "                                        temp,\n",
        "                                        mode)\n",
        "\n",
        "    # beam search loop\n",
        "    for i in range(num_words-1):\n",
        "\n",
        "      preds = []\n",
        "\n",
        "      for hist in history_tokens:\n",
        "\n",
        "        # actualizar secuencia de tokens\n",
        "        input_update = np.array([hist[i+1:]]).copy()\n",
        "\n",
        "        # predicción\n",
        "        y_hat = model.predict(input_update,verbose=0)[0,-1,:]\n",
        "\n",
        "        preds.append(y_hat)\n",
        "\n",
        "      history_probs, history_tokens = select_candidates(preds,\n",
        "                                                        num_beams,\n",
        "                                                        vocab_size,\n",
        "                                                        history_probs,\n",
        "                                                        history_tokens,\n",
        "                                                        temp,\n",
        "                                                        mode)\n",
        "\n",
        "    return history_tokens[:,-(len(input)+num_words):]"
      ]
    },
    {
      "cell_type": "code",
      "execution_count": 70,
      "metadata": {
        "id": "GeLqAoOYW1Hm"
      },
      "outputs": [],
      "source": [
        "# predicción con beam search\n",
        "salidas = beam_search(model,num_beams=10,num_words=50,input=input_text)"
      ]
    },
    {
      "cell_type": "code",
      "execution_count": 71,
      "metadata": {
        "id": "P8HQoLhw-NYg"
      },
      "outputs": [
        {
          "data": {
            "text/plain": [
              "array([58,  3,  4,  1, 33, 60, 47,  3, 57, 57,  4, 68, 65, 33, 61, 60, 47,\n",
              "        3, 57, 57,  4, 68, 65, 33, 61, 60, 68,  3,  4, 40, 45, 60, 16, 11,\n",
              "       46,  3, 65, 60, 34,  3, 68, 60, 65, 46, 33, 21, 60, 34, 33, 61, 33,\n",
              "       60, 34,  3, 68, 60, 57, 10, 65, 60])"
            ]
          },
          "execution_count": 71,
          "metadata": {},
          "output_type": "execute_result"
        }
      ],
      "source": [
        "salidas[0]"
      ]
    },
    {
      "cell_type": "code",
      "execution_count": 72,
      "metadata": {
        "id": "2S3_I3S1W1Hm"
      },
      "outputs": [
        {
          "data": {
            "text/plain": [
              "'Jaime Lannister Lannister said. \"What was they were was not '"
            ]
          },
          "execution_count": 72,
          "metadata": {},
          "output_type": "execute_result"
        }
      ],
      "source": [
        "# veamos las salidas\n",
        "decode(salidas[0])"
      ]
    },
    {
      "cell_type": "markdown",
      "metadata": {
        "id": "Q_LlqmtEW1Hn"
      },
      "source": []
    }
  ],
  "metadata": {
    "accelerator": "GPU",
    "colab": {
      "gpuType": "T4",
      "provenance": []
    },
    "kernelspec": {
      "display_name": "Python 3",
      "language": "python",
      "name": "python3"
    },
    "language_info": {
      "codemirror_mode": {
        "name": "ipython",
        "version": 3
      },
      "file_extension": ".py",
      "mimetype": "text/x-python",
      "name": "python",
      "nbconvert_exporter": "python",
      "pygments_lexer": "ipython3",
      "version": "3.12.3"
    }
  },
  "nbformat": 4,
  "nbformat_minor": 0
}
