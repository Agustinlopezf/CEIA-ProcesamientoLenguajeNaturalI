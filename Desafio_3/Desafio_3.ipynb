{
  "cells": [
    {
      "cell_type": "markdown",
      "metadata": {
        "id": "g3yeJGnCYxuF"
      },
      "source": [
        "<img src=\"https://github.com/hernancontigiani/ceia_memorias_especializacion/raw/master/Figures/logoFIUBA.jpg\" width=\"500\" align=\"center\">\n",
        "\n",
        "\n",
        "# Procesamiento de lenguaje natural\n",
        "## Modelo de lenguaje con tokenización por caracteres"
      ]
    },
    {
      "cell_type": "markdown",
      "metadata": {
        "id": "Iv5PEwGzZA9-"
      },
      "source": [
        "### Consigna\n",
        "- Seleccionar un corpus de texto sobre el cual entrenar el modelo de lenguaje.\n",
        "- Realizar el pre-procesamiento adecuado para tokenizar el corpus, estructurar el dataset y separar entre datos de entrenamiento y validación.\n",
        "- Proponer arquitecturas de redes neuronales basadas en unidades recurrentes para implementar un modelo de lenguaje.\n",
        "- Con el o los modelos que consideren adecuados, generar nuevas secuencias a partir de secuencias de contexto con las estrategias de greedy search y beam search determístico y estocástico. En este último caso observar el efecto de la temperatura en la generación de secuencias.\n",
        "\n",
        "\n",
        "### Sugerencias\n",
        "- Durante el entrenamiento, guiarse por el descenso de la perplejidad en los datos de validación para finalizar el entrenamiento. Para ello se provee un callback.\n",
        "- Explorar utilizar SimpleRNN (celda de Elman), LSTM y GRU.\n",
        "- rmsprop es el optimizador recomendado para la buena convergencia. No obstante se pueden explorar otros.\n"
      ]
    },
    {
      "cell_type": "code",
      "execution_count": 1,
      "metadata": {
        "id": "Y-QdFbHZYj7C"
      },
      "outputs": [
        {
          "name": "stderr",
          "output_type": "stream",
          "text": [
            "2025-10-02 16:21:36.617699: I external/local_xla/xla/tsl/cuda/cudart_stub.cc:31] Could not find cuda drivers on your machine, GPU will not be used.\n",
            "2025-10-02 16:21:36.623671: I tensorflow/core/util/port.cc:153] oneDNN custom operations are on. You may see slightly different numerical results due to floating-point round-off errors from different computation orders. To turn them off, set the environment variable `TF_ENABLE_ONEDNN_OPTS=0`.\n",
            "2025-10-02 16:21:36.822483: I tensorflow/core/platform/cpu_feature_guard.cc:210] This TensorFlow binary is optimized to use available CPU instructions in performance-critical operations.\n",
            "To enable the following instructions: AVX2 AVX512F AVX512_VNNI FMA, in other operations, rebuild TensorFlow with the appropriate compiler flags.\n",
            "2025-10-02 16:21:37.902977: I tensorflow/core/util/port.cc:153] oneDNN custom operations are on. You may see slightly different numerical results due to floating-point round-off errors from different computation orders. To turn them off, set the environment variable `TF_ENABLE_ONEDNN_OPTS=0`.\n",
            "2025-10-02 16:21:37.904165: I external/local_xla/xla/tsl/cuda/cudart_stub.cc:31] Could not find cuda drivers on your machine, GPU will not be used.\n"
          ]
        }
      ],
      "source": [
        "import random\n",
        "import io\n",
        "import pickle\n",
        "\n",
        "import numpy as np\n",
        "import pandas as pd\n",
        "import matplotlib.pyplot as plt\n",
        "from sklearn.model_selection import train_test_split\n",
        "\n",
        "from tensorflow import keras\n",
        "from tensorflow.keras import layers\n",
        "from keras.utils import to_categorical\n",
        "from keras.models import Sequential\n",
        "from keras.layers import Dense, LSTM, Embedding, Dropout\n",
        "from tensorflow.keras.losses import SparseCategoricalCrossentropy"
      ]
    },
    {
      "cell_type": "markdown",
      "metadata": {},
      "source": [
        "## Resolución desafío"
      ]
    },
    {
      "cell_type": "markdown",
      "metadata": {
        "id": "xTvXlEKQZdqx"
      },
      "source": [
        "### Datos\n",
        "Como fuente de datos de utilizarán las novelas de \"A Song of Ice and Fire\" de George Martin, utilizadas durante el Desafío 2. Las mismas fueron obtenidas de Kaggle:\n",
        "https://www.kaggle.com/datasets/saurabhbadole/game-of-thrones-book-dataset/data\n",
        "\n",
        "El dataset cotiene cinco archivos de texto, cada uno con un libro de la saga. En base a las pruebas realizadas se decide utilizar únicamente la primera novela, para evitar que el tiempo de entrenamiento se vuelva demasiado largo:"
      ]
    },
    {
      "cell_type": "code",
      "execution_count": 2,
      "metadata": {
        "id": "7amy6uUaBLVD"
      },
      "outputs": [],
      "source": [
        "import os\n",
        "\n",
        "lista_libros = [\n",
        "    \"1 - A Game of Thrones.txt\"]\n",
        "\n",
        "# Crear un corpus en memoria\n",
        "corpus = \"\"\n",
        "\n",
        "for nombre in lista_libros:\n",
        "    ruta_libro = os.path.join(\"./Dataset\", nombre)\n",
        "    with open(ruta_libro, \"r\", encoding=\"latin-1\") as f:\n",
        "        contenido = f.read()\n",
        "        corpus += contenido + \"\\n\"  # agrega un salto de línea entre libros"
      ]
    },
    {
      "cell_type": "markdown",
      "metadata": {},
      "source": [
        "Removemos los encabezados que no forman parte de las novelas:"
      ]
    },
    {
      "cell_type": "code",
      "execution_count": 3,
      "metadata": {},
      "outputs": [],
      "source": [
        "import re \n",
        "\n",
        "#Eliminar encabezados no deseados\n",
        "import re\n",
        "\n",
        "patterns_to_remove = [\n",
        "    r\"a game of thrones\",\n",
        "    r\"a clash of kings\",\n",
        "    r\"a storm of swords\",\n",
        "    r\"a feast for crows\",\n",
        "    r\"a dance with dragons\",\n",
        "    r\"book [^\\n]+\",          # líneas tipo \"Book One of...\"\n",
        "    r\"by george r\\. r\\. martin\",\n",
        "    r\"prologue\",\n",
        "    r\"dedication\",\n",
        "    r\"contents\",\n",
        "    r\"a note on chronology\",\n",
        "    r\"a cavil on chronology\",\n",
        "    r\"version history.*\",\n",
        "    r\"page \\d+\",             # \"Page XX\"\n",
        "    r\"[\\n\\r\\t]+\",            # saltos de línea, retorno de carro, tabulaciones\n",
        "    r\"[^\\x20-\\x7E]+\"         # caracteres no ASCII imprimibles\n",
        "]\n",
        "\n",
        "for pat in patterns_to_remove:\n",
        "    corpus = re.sub(pat, \" \", corpus, flags=re.IGNORECASE)\n",
        "\n",
        "# Reemplazar múltiples espacios por uno solo y recortar inicio/final\n",
        "corpus = re.sub(r\"\\s+\", \" \", corpus).strip()"
      ]
    },
    {
      "cell_type": "code",
      "execution_count": 4,
      "metadata": {
        "id": "WBE0sSYuB-E6"
      },
      "outputs": [
        {
          "data": {
            "text/plain": [
              "'\"We should start back,\" Gared urged as the woods began to grow dark around them. \"The wildlings are dead.\" \"Do the dead frighten you?\" Ser Waymar Royce asked with just the hint of a smile. Gared did not rise to the bait. He was an old man, past fifty, and he had seen the lordlings come and go. \"Dead is dead,\" he said. \"We have no business with the dead.\" \"Are they dead?\" Royce asked softly. \"What proof have we?\" \"Will saw them,\" Gared said. \"If he says they are dead, that\\'s proof enough for me.\" Will had known they would drag him into the quarrel sooner or later. He wished it had been later rather than sooner. \"My mother told me that dead men sing no songs,\" he put in. \"My wet nurse said the same thing, Will,\" Royce replied. \"Never believe anything you hear at a woman\\'s tit. There are things to be learned even from the dead.\" His voice echoed, too loud in the twilit forest. \"We have a long ride before us,\" Gared pointed out. \"Eight days, maybe nine. And night is falling.\" Ser Waymar Ro'"
            ]
          },
          "execution_count": 4,
          "metadata": {},
          "output_type": "execute_result"
        }
      ],
      "source": [
        "# En corpus se encuentra el texto\n",
        "corpus[:1000]"
      ]
    },
    {
      "cell_type": "markdown",
      "metadata": {},
      "source": [
        "Debido a que el tamaño del libro completo vuelve el entrenamiento excesivamente lento, tomamos el primer tercio del libro:"
      ]
    },
    {
      "cell_type": "code",
      "execution_count": 5,
      "metadata": {},
      "outputs": [],
      "source": [
        "long_texto = len(corpus)\n",
        "long_texto_considerar = long_texto//3\n",
        "\n",
        "corpus = corpus[:long_texto_considerar]"
      ]
    },
    {
      "cell_type": "markdown",
      "metadata": {
        "id": "cP1JdiOIKQWi"
      },
      "source": [
        "### Preprocesamiento\n",
        "\n",
        "Se elige el tamaño de contexto, y se crean los diccionarios de caracter a index y viceversa:"
      ]
    },
    {
      "cell_type": "code",
      "execution_count": 6,
      "metadata": {
        "id": "wumBNwdjJM3j"
      },
      "outputs": [],
      "source": [
        "# Usaremos las utilidades de procesamiento de textos y secuencias de Keras\n",
        "from tensorflow.keras.utils import pad_sequences # se utilizará para padding\n",
        "\n",
        "# seleccionamos el tamaño de contexto\n",
        "max_context_size = 100\n",
        "\n",
        "# en este caso el vocabulario es el conjunto único de caracteres que existe en todo el texto\n",
        "chars_vocab = set(corpus)"
      ]
    },
    {
      "cell_type": "code",
      "execution_count": 7,
      "metadata": {
        "id": "VwTK6xgLJd8q"
      },
      "outputs": [
        {
          "data": {
            "text/plain": [
              "72"
            ]
          },
          "execution_count": 7,
          "metadata": {},
          "output_type": "execute_result"
        }
      ],
      "source": [
        "# la longitud de vocabulario de caracteres es:\n",
        "len(chars_vocab)"
      ]
    },
    {
      "cell_type": "code",
      "execution_count": 8,
      "metadata": {
        "id": "2W0AeQjXV1Ou"
      },
      "outputs": [
        {
          "name": "stdout",
          "output_type": "stream",
          "text": [
            "Cargando diccionarios guardados...\n"
          ]
        }
      ],
      "source": [
        "# Construimos los dicionarios que asignan índices a caracteres y viceversa.\n",
        "# El diccionario `char2idx` servirá como tokenizador.\n",
        "# Rutas\n",
        "char2idx_file = \"char2idx.npy\"\n",
        "idx2char_file = \"idx2char.npy\"\n",
        "\n",
        "if os.path.exists(char2idx_file) and os.path.exists(idx2char_file):\n",
        "    print(\"Cargando diccionarios guardados...\")\n",
        "    char2idx = np.load(char2idx_file, allow_pickle=True).item()\n",
        "    idx2char = np.load(idx2char_file, allow_pickle=True).item()\n",
        "else:\n",
        "    print(\"Generando diccionarios nuevos...\")\n",
        "    char2idx = {k: v for v, k in enumerate(chars_vocab)}\n",
        "    idx2char = {v: k for k, v in char2idx.items()}\n",
        "    \n",
        "    # Guardar para usos futuros\n",
        "    np.save(char2idx_file, char2idx)\n",
        "    np.save(idx2char_file, idx2char)\n",
        "    print(\"Diccionarios guardados.\")"
      ]
    },
    {
      "cell_type": "markdown",
      "metadata": {
        "id": "2oIUjVU0LB0r"
      },
      "source": [
        "Se tokeniza el texto:"
      ]
    },
    {
      "cell_type": "code",
      "execution_count": 9,
      "metadata": {
        "id": "h07G3srdJppo"
      },
      "outputs": [],
      "source": [
        "# tokenizamos el texto completo\n",
        "tokenized_text = [char2idx[ch] for ch in corpus]"
      ]
    },
    {
      "cell_type": "markdown",
      "metadata": {
        "id": "pfpYcaypKcI9"
      },
      "source": [
        "Se separa el dataset en training y validación:"
      ]
    },
    {
      "cell_type": "code",
      "execution_count": 10,
      "metadata": {
        "id": "WSSmg9jtKP0T"
      },
      "outputs": [],
      "source": [
        "# separaremos el dataset entre entrenamiento y validación.\n",
        "# `p_val` será la proporción del corpus que se reservará para validación\n",
        "# `num_val` es la cantidad de secuencias de tamaño `max_context_size` que se usará en validación\n",
        "p_val = 0.1\n",
        "num_val = int(np.ceil(len(tokenized_text)*p_val/max_context_size))\n",
        "\n",
        "# separamos la porción de texto utilizada en entrenamiento de la de validación.\n",
        "train_text = tokenized_text[:-num_val*max_context_size]\n",
        "val_text = tokenized_text[-num_val*max_context_size:]\n",
        "\n",
        "tokenized_sentences_val = [val_text[init*max_context_size:init*(max_context_size+1)] for init in range(num_val)]\n",
        "tokenized_sentences_train = [train_text[init:init+max_context_size] for init in range(len(train_text)-max_context_size+1)]\n",
        "\n",
        "X = np.array(tokenized_sentences_train[:-1])\n",
        "y = np.array(tokenized_sentences_train[1:])"
      ]
    },
    {
      "cell_type": "markdown",
      "metadata": {
        "id": "Vken7O4ETsAJ"
      },
      "source": [
        "Nótese que estamos estructurando el problema de aprendizaje como *many-to-many*:\n",
        "\n",
        "Entrada: secuencia de tokens [$x_0$, $x_1$, ..., $x_N$]\n",
        "\n",
        "Target: secuencia de tokens [$x_1$, $x_2$, ..., $x_{N+1}$]\n",
        "\n",
        "De manera que la red tiene que aprender que su salida deben ser los tokens desplazados en una posición y un nuevo token predicho (el N+1).\n",
        "\n",
        "La ventaja de estructurar el aprendizaje de esta manera es que para cada token de target se propaga una señal de gradiente por el grafo de cómputo recurrente, que es mejor que estructurar el problema como *many-to-one* en donde sólo una señal de gradiente se propaga."
      ]
    },
    {
      "cell_type": "markdown",
      "metadata": {
        "id": "l3iPTx-UJl6r"
      },
      "source": [
        "En este punto tenemos en la variable `tokenized_sentences` los versos tokenizados. Vamos a quedarnos con un conjunto de validación que utilizaremos para medir la calidad de la generación de secuencias con la métrica de Perplejidad."
      ]
    },
    {
      "cell_type": "code",
      "execution_count": 11,
      "metadata": {
        "id": "KFAyA4zCWE-5"
      },
      "outputs": [
        {
          "data": {
            "text/plain": [
              "(474595, 100)"
            ]
          },
          "execution_count": 11,
          "metadata": {},
          "output_type": "execute_result"
        }
      ],
      "source": [
        "X.shape"
      ]
    },
    {
      "cell_type": "code",
      "execution_count": 12,
      "metadata": {
        "id": "wOFCR-KqbW1N"
      },
      "outputs": [],
      "source": [
        "vocab_size = len(chars_vocab)"
      ]
    },
    {
      "cell_type": "markdown",
      "metadata": {
        "id": "tnnjdAQ5UAEJ"
      },
      "source": [
        "# Entrenamiento de modelos\n",
        "\n",
        "Partimos del modelo original en la notebook (una RNN simple), y probamos variando el tipo de celda a utilizar (modificando la RNN simple por GRU y LSTM). Comparamos los valores de perplexity, y en base a la que resulte mejor, introducimos variaciones en el optimizador (Adam en lugar de RMSProp), y agregamos una capa adicional. De esta forma las pruebas a realizar son:\n",
        "- RNN simple\n",
        "- LSTM\n",
        "- GRU\n",
        "- Adam en lugar de RMSProp (para el mejor modelo de los anteriores)\n",
        "- Agregar segunda capa (para el mejor modelo de los tres primeros)\n",
        "\n",
        "Para evitar los tiempos de entrenamiento cada vez que se ejecuta la notebook, se guardan los modelos y el historial de perplexity luego de finalizar el entrenamiento. Previo a ejecutar el entrenamiento, chequea si ya existen y los carga."
      ]
    },
    {
      "cell_type": "markdown",
      "metadata": {},
      "source": [
        "\n",
        "### Callback para medir perplexity\n",
        "Utilizamos el callback visto en la cursada para calcular la métrica de perplexity y guardar un historial"
      ]
    },
    {
      "cell_type": "code",
      "execution_count": 13,
      "metadata": {},
      "outputs": [],
      "source": [
        "class PplCallback(keras.callbacks.Callback):\n",
        "\n",
        "    '''\n",
        "    Este callback es una solución ad-hoc para calcular al final de cada epoch de\n",
        "    entrenamiento la métrica de Perplejidad sobre un conjunto de datos de validación.\n",
        "    La perplejidad es una métrica cuantitativa para evaluar la calidad de la generación de secuencias.\n",
        "    Además implementa la finalización del entrenamiento (Early Stopping)\n",
        "    si la perplejidad no mejora después de `patience` epochs.\n",
        "    '''\n",
        "\n",
        "    def __init__(self, val_data, history_ppl,patience=5):\n",
        "      # El callback lo inicializamos con secuencias de validación sobre las cuales\n",
        "      # mediremos la perplejidad\n",
        "      self.val_data = val_data\n",
        "      self.target = []\n",
        "      self.padded = []\n",
        "      self.history_ppl = history_ppl\n",
        "\n",
        "      count = 0\n",
        "      self.info = []\n",
        "      self.min_score = np.inf\n",
        "      self.patience_counter = 0\n",
        "      self.patience = patience\n",
        "\n",
        "      # nos movemos en todas las secuencias de los datos de validación\n",
        "      for seq in self.val_data:\n",
        "\n",
        "        len_seq = len(seq)\n",
        "        # armamos todas las subsecuencias\n",
        "        subseq = [seq[:i] for i in range(1,len_seq)]\n",
        "        self.target.extend([seq[i] for i in range(1,len_seq)])\n",
        "\n",
        "        if len(subseq)!=0:\n",
        "\n",
        "          self.padded.append(pad_sequences(subseq, maxlen=max_context_size, padding='pre'))\n",
        "\n",
        "          self.info.append((count,count+len_seq))\n",
        "          count += len_seq\n",
        "\n",
        "      self.padded = np.vstack(self.padded)\n",
        "\n",
        "\n",
        "    def on_epoch_end(self, epoch, logs=None):\n",
        "\n",
        "        # en `scores` iremos guardando la perplejidad de cada secuencia\n",
        "        scores = []\n",
        "\n",
        "        predictions = self.model.predict(self.padded,verbose=0)\n",
        "\n",
        "        # para cada secuencia de validación\n",
        "        for start,end in self.info:\n",
        "\n",
        "          # en `probs` iremos guardando las probabilidades de los términos target\n",
        "          probs = [predictions[idx_seq,-1,idx_vocab] for idx_seq, idx_vocab in zip(range(start,end),self.target[start:end])]\n",
        "\n",
        "          # calculamos la perplejidad por medio de logaritmos\n",
        "          scores.append(np.exp(-np.sum(np.log(probs))/(end-start)))\n",
        "\n",
        "        # promediamos todos los scores e imprimimos el valor promedio\n",
        "        current_score = np.mean(scores)\n",
        "        self.history_ppl.append(current_score)\n",
        "        print(f'\\n mean perplexity: {current_score} \\n')\n",
        "\n",
        "        # chequeamos si tenemos que detener el entrenamiento\n",
        "        if current_score < self.min_score:\n",
        "          self.min_score = current_score\n",
        "          self.model.save(\"my_model.keras\")\n",
        "          self.patience_counter = 0\n",
        "        else:\n",
        "          self.patience_counter += 1\n",
        "          if self.patience_counter == self.patience:\n",
        "            print(\"Stopping training...\")\n",
        "            self.model.stop_training = True\n"
      ]
    },
    {
      "cell_type": "markdown",
      "metadata": {},
      "source": [
        "### RNN simple"
      ]
    },
    {
      "cell_type": "code",
      "execution_count": 14,
      "metadata": {
        "id": "rkMCZvmhrQz4"
      },
      "outputs": [],
      "source": [
        "from keras.layers import Input, TimeDistributed, CategoryEncoding, SimpleRNN, Dense\n",
        "from keras.models import Model, Sequential"
      ]
    },
    {
      "cell_type": "code",
      "execution_count": 15,
      "metadata": {
        "id": "Zd2OkfQYs2Q7"
      },
      "outputs": [
        {
          "name": "stderr",
          "output_type": "stream",
          "text": [
            "/home/agustin/Desktop/CEIA UBA/Procesamiento Lenguaje Natural I/CEIA-ProcesamientoLenguajeNaturalI/.venv/lib/python3.12/site-packages/keras/src/layers/core/wrapper.py:27: UserWarning: Do not pass an `input_shape`/`input_dim` argument to a layer. When using Sequential models, prefer using an `Input(shape)` object as the first layer in the model instead.\n",
            "  super().__init__(**kwargs)\n",
            "WARNING: All log messages before absl::InitializeLog() is called are written to STDERR\n",
            "E0000 00:00:1759432902.284937    5228 cuda_executor.cc:1309] INTERNAL: CUDA Runtime error: Failed call to cudaGetRuntimeVersion: Error loading CUDA libraries. GPU will not be used.: Error loading CUDA libraries. GPU will not be used.\n",
            "W0000 00:00:1759432902.292903    5228 gpu_device.cc:2342] Cannot dlopen some GPU libraries. Please make sure the missing libraries mentioned above are installed properly if you would like to use GPU. Follow the guide at https://www.tensorflow.org/install/gpu for how to download and setup the required libraries for your platform.\n",
            "Skipping registering GPU devices...\n"
          ]
        },
        {
          "data": {
            "text/html": [
              "<pre style=\"white-space:pre;overflow-x:auto;line-height:normal;font-family:Menlo,'DejaVu Sans Mono',consolas,'Courier New',monospace\"><span style=\"font-weight: bold\">Model: \"sequential\"</span>\n",
              "</pre>\n"
            ],
            "text/plain": [
              "\u001b[1mModel: \"sequential\"\u001b[0m\n"
            ]
          },
          "metadata": {},
          "output_type": "display_data"
        },
        {
          "data": {
            "text/html": [
              "<pre style=\"white-space:pre;overflow-x:auto;line-height:normal;font-family:Menlo,'DejaVu Sans Mono',consolas,'Courier New',monospace\">┏━━━━━━━━━━━━━━━━━━━━━━━━━━━━━━━━━┳━━━━━━━━━━━━━━━━━━━━━━━━┳━━━━━━━━━━━━━━━┓\n",
              "┃<span style=\"font-weight: bold\"> Layer (type)                    </span>┃<span style=\"font-weight: bold\"> Output Shape           </span>┃<span style=\"font-weight: bold\">       Param # </span>┃\n",
              "┡━━━━━━━━━━━━━━━━━━━━━━━━━━━━━━━━━╇━━━━━━━━━━━━━━━━━━━━━━━━╇━━━━━━━━━━━━━━━┩\n",
              "│ time_distributed                │ (<span style=\"color: #00d7ff; text-decoration-color: #00d7ff\">None</span>, <span style=\"color: #00d7ff; text-decoration-color: #00d7ff\">None</span>, <span style=\"color: #00af00; text-decoration-color: #00af00\">72</span>)       │             <span style=\"color: #00af00; text-decoration-color: #00af00\">0</span> │\n",
              "│ (<span style=\"color: #0087ff; text-decoration-color: #0087ff\">TimeDistributed</span>)               │                        │               │\n",
              "├─────────────────────────────────┼────────────────────────┼───────────────┤\n",
              "│ simple_rnn (<span style=\"color: #0087ff; text-decoration-color: #0087ff\">SimpleRNN</span>)          │ (<span style=\"color: #00d7ff; text-decoration-color: #00d7ff\">None</span>, <span style=\"color: #00d7ff; text-decoration-color: #00d7ff\">None</span>, <span style=\"color: #00af00; text-decoration-color: #00af00\">200</span>)      │        <span style=\"color: #00af00; text-decoration-color: #00af00\">54,600</span> │\n",
              "├─────────────────────────────────┼────────────────────────┼───────────────┤\n",
              "│ dense (<span style=\"color: #0087ff; text-decoration-color: #0087ff\">Dense</span>)                   │ (<span style=\"color: #00d7ff; text-decoration-color: #00d7ff\">None</span>, <span style=\"color: #00d7ff; text-decoration-color: #00d7ff\">None</span>, <span style=\"color: #00af00; text-decoration-color: #00af00\">72</span>)       │        <span style=\"color: #00af00; text-decoration-color: #00af00\">14,472</span> │\n",
              "└─────────────────────────────────┴────────────────────────┴───────────────┘\n",
              "</pre>\n"
            ],
            "text/plain": [
              "┏━━━━━━━━━━━━━━━━━━━━━━━━━━━━━━━━━┳━━━━━━━━━━━━━━━━━━━━━━━━┳━━━━━━━━━━━━━━━┓\n",
              "┃\u001b[1m \u001b[0m\u001b[1mLayer (type)                   \u001b[0m\u001b[1m \u001b[0m┃\u001b[1m \u001b[0m\u001b[1mOutput Shape          \u001b[0m\u001b[1m \u001b[0m┃\u001b[1m \u001b[0m\u001b[1m      Param #\u001b[0m\u001b[1m \u001b[0m┃\n",
              "┡━━━━━━━━━━━━━━━━━━━━━━━━━━━━━━━━━╇━━━━━━━━━━━━━━━━━━━━━━━━╇━━━━━━━━━━━━━━━┩\n",
              "│ time_distributed                │ (\u001b[38;5;45mNone\u001b[0m, \u001b[38;5;45mNone\u001b[0m, \u001b[38;5;34m72\u001b[0m)       │             \u001b[38;5;34m0\u001b[0m │\n",
              "│ (\u001b[38;5;33mTimeDistributed\u001b[0m)               │                        │               │\n",
              "├─────────────────────────────────┼────────────────────────┼───────────────┤\n",
              "│ simple_rnn (\u001b[38;5;33mSimpleRNN\u001b[0m)          │ (\u001b[38;5;45mNone\u001b[0m, \u001b[38;5;45mNone\u001b[0m, \u001b[38;5;34m200\u001b[0m)      │        \u001b[38;5;34m54,600\u001b[0m │\n",
              "├─────────────────────────────────┼────────────────────────┼───────────────┤\n",
              "│ dense (\u001b[38;5;33mDense\u001b[0m)                   │ (\u001b[38;5;45mNone\u001b[0m, \u001b[38;5;45mNone\u001b[0m, \u001b[38;5;34m72\u001b[0m)       │        \u001b[38;5;34m14,472\u001b[0m │\n",
              "└─────────────────────────────────┴────────────────────────┴───────────────┘\n"
            ]
          },
          "metadata": {},
          "output_type": "display_data"
        },
        {
          "data": {
            "text/html": [
              "<pre style=\"white-space:pre;overflow-x:auto;line-height:normal;font-family:Menlo,'DejaVu Sans Mono',consolas,'Courier New',monospace\"><span style=\"font-weight: bold\"> Total params: </span><span style=\"color: #00af00; text-decoration-color: #00af00\">69,072</span> (269.81 KB)\n",
              "</pre>\n"
            ],
            "text/plain": [
              "\u001b[1m Total params: \u001b[0m\u001b[38;5;34m69,072\u001b[0m (269.81 KB)\n"
            ]
          },
          "metadata": {},
          "output_type": "display_data"
        },
        {
          "data": {
            "text/html": [
              "<pre style=\"white-space:pre;overflow-x:auto;line-height:normal;font-family:Menlo,'DejaVu Sans Mono',consolas,'Courier New',monospace\"><span style=\"font-weight: bold\"> Trainable params: </span><span style=\"color: #00af00; text-decoration-color: #00af00\">69,072</span> (269.81 KB)\n",
              "</pre>\n"
            ],
            "text/plain": [
              "\u001b[1m Trainable params: \u001b[0m\u001b[38;5;34m69,072\u001b[0m (269.81 KB)\n"
            ]
          },
          "metadata": {},
          "output_type": "display_data"
        },
        {
          "data": {
            "text/html": [
              "<pre style=\"white-space:pre;overflow-x:auto;line-height:normal;font-family:Menlo,'DejaVu Sans Mono',consolas,'Courier New',monospace\"><span style=\"font-weight: bold\"> Non-trainable params: </span><span style=\"color: #00af00; text-decoration-color: #00af00\">0</span> (0.00 B)\n",
              "</pre>\n"
            ],
            "text/plain": [
              "\u001b[1m Non-trainable params: \u001b[0m\u001b[38;5;34m0\u001b[0m (0.00 B)\n"
            ]
          },
          "metadata": {},
          "output_type": "display_data"
        }
      ],
      "source": [
        "model = Sequential()\n",
        "\n",
        "model.add(TimeDistributed(CategoryEncoding(num_tokens=vocab_size, output_mode = \"one_hot\"),input_shape=(None,1)))\n",
        "model.add(SimpleRNN(200, return_sequences=True, dropout=0.1, recurrent_dropout=0.1 ))\n",
        "model.add(Dense(vocab_size, activation='softmax'))\n",
        "model.compile(loss='sparse_categorical_crossentropy', optimizer='rmsprop')\n",
        "\n",
        "model.summary()"
      ]
    },
    {
      "cell_type": "code",
      "execution_count": 16,
      "metadata": {
        "id": "oQq1PHDkxDvN"
      },
      "outputs": [
        {
          "name": "stdout",
          "output_type": "stream",
          "text": [
            "El modelo model_rnn.weights.h5 y el historial history_ppl_rnn.npy ya existen. Cargando...\n"
          ]
        },
        {
          "name": "stderr",
          "output_type": "stream",
          "text": [
            "/home/agustin/Desktop/CEIA UBA/Procesamiento Lenguaje Natural I/CEIA-ProcesamientoLenguajeNaturalI/.venv/lib/python3.12/site-packages/keras/src/saving/saving_lib.py:797: UserWarning: Skipping variable loading for optimizer 'rmsprop', because it has 2 variables whereas the saved optimizer has 7 variables. \n",
            "  saveable.load_own_variables(weights_store.get(inner_path))\n"
          ]
        }
      ],
      "source": [
        "from keras.models import load_model\n",
        "\n",
        "\n",
        "model_name = \"model_rnn.weights.h5\"\n",
        "history_name = \"history_ppl_rnn.npy\"\n",
        "\n",
        "if os.path.exists(model_name) and os.path.exists(history_name):\n",
        "    print(f\"El modelo {model_name} y el historial {history_name} ya existen. Cargando...\")\n",
        "    model.load_weights(model_name)\n",
        "    history_ppl = np.load(history_name).tolist()\n",
        "else:\n",
        "    print(\"Entrenando modelo nuevo...\")\n",
        "    # En la variable `history_ppl` se guardarán los valores de perplejidad para cada época.\n",
        "    history_ppl = []\n",
        "\n",
        "    ppl_cb = PplCallback(tokenized_sentences_val, history_ppl)\n",
        "\n",
        "    hist = model.fit(\n",
        "        X, y,\n",
        "        epochs=20,\n",
        "        batch_size=512,\n",
        "        callbacks=[ppl_cb]\n",
        "    )\n",
        "\n",
        "    # Guardamos el modelo final\n",
        "    model.save_weights(model_name)\n",
        "\n",
        "    # guardamos history_ppl al final del entrenamiento\n",
        "    np.save(history_name, np.array(history_ppl))\n",
        "    print(f\"Saved history as {history_name}\")"
      ]
    },
    {
      "cell_type": "code",
      "execution_count": 17,
      "metadata": {
        "id": "K30JHB3Dv-mx"
      },
      "outputs": [
        {
          "data": {
            "image/png": "[encoded data removed]",
            "text/plain": [
              "<Figure size 640x480 with 1 Axes>"
            ]
          },
          "metadata": {},
          "output_type": "display_data"
        }
      ],
      "source": [
        "import matplotlib.pyplot as plt\n",
        "import seaborn as sns\n",
        "\n",
        "# Entrenamiento\n",
        "epoch_count = range(1, len(history_ppl) + 1)\n",
        "sns.lineplot(x=epoch_count,  y=history_ppl)\n",
        "\n",
        "plt.title(\"Evolución de Perplexity en Entrenamiento Modelo RNN Simple\")\n",
        "plt.xlabel(\"Épocas\")\n",
        "plt.ylabel(\"Perplexity\")\n",
        "\n",
        "plt.xticks(epoch_count)  # marcas enteras en el eje X\n",
        "\n",
        "plt.show()"
      ]
    },
    {
      "cell_type": "markdown",
      "metadata": {},
      "source": [
        "### LSTM"
      ]
    },
    {
      "cell_type": "code",
      "execution_count": 18,
      "metadata": {},
      "outputs": [
        {
          "name": "stderr",
          "output_type": "stream",
          "text": [
            "/home/agustin/Desktop/CEIA UBA/Procesamiento Lenguaje Natural I/CEIA-ProcesamientoLenguajeNaturalI/.venv/lib/python3.12/site-packages/keras/src/layers/core/wrapper.py:27: UserWarning: Do not pass an `input_shape`/`input_dim` argument to a layer. When using Sequential models, prefer using an `Input(shape)` object as the first layer in the model instead.\n",
            "  super().__init__(**kwargs)\n"
          ]
        },
        {
          "data": {
            "text/html": [
              "<pre style=\"white-space:pre;overflow-x:auto;line-height:normal;font-family:Menlo,'DejaVu Sans Mono',consolas,'Courier New',monospace\"><span style=\"font-weight: bold\">Model: \"sequential_1\"</span>\n",
              "</pre>\n"
            ],
            "text/plain": [
              "\u001b[1mModel: \"sequential_1\"\u001b[0m\n"
            ]
          },
          "metadata": {},
          "output_type": "display_data"
        },
        {
          "data": {
            "text/html": [
              "<pre style=\"white-space:pre;overflow-x:auto;line-height:normal;font-family:Menlo,'DejaVu Sans Mono',consolas,'Courier New',monospace\">┏━━━━━━━━━━━━━━━━━━━━━━━━━━━━━━━━━┳━━━━━━━━━━━━━━━━━━━━━━━━┳━━━━━━━━━━━━━━━┓\n",
              "┃<span style=\"font-weight: bold\"> Layer (type)                    </span>┃<span style=\"font-weight: bold\"> Output Shape           </span>┃<span style=\"font-weight: bold\">       Param # </span>┃\n",
              "┡━━━━━━━━━━━━━━━━━━━━━━━━━━━━━━━━━╇━━━━━━━━━━━━━━━━━━━━━━━━╇━━━━━━━━━━━━━━━┩\n",
              "│ time_distributed_1              │ (<span style=\"color: #00d7ff; text-decoration-color: #00d7ff\">None</span>, <span style=\"color: #00d7ff; text-decoration-color: #00d7ff\">None</span>, <span style=\"color: #00af00; text-decoration-color: #00af00\">72</span>)       │             <span style=\"color: #00af00; text-decoration-color: #00af00\">0</span> │\n",
              "│ (<span style=\"color: #0087ff; text-decoration-color: #0087ff\">TimeDistributed</span>)               │                        │               │\n",
              "├─────────────────────────────────┼────────────────────────┼───────────────┤\n",
              "│ lstm (<span style=\"color: #0087ff; text-decoration-color: #0087ff\">LSTM</span>)                     │ (<span style=\"color: #00d7ff; text-decoration-color: #00d7ff\">None</span>, <span style=\"color: #00d7ff; text-decoration-color: #00d7ff\">None</span>, <span style=\"color: #00af00; text-decoration-color: #00af00\">200</span>)      │       <span style=\"color: #00af00; text-decoration-color: #00af00\">218,400</span> │\n",
              "├─────────────────────────────────┼────────────────────────┼───────────────┤\n",
              "│ dense_1 (<span style=\"color: #0087ff; text-decoration-color: #0087ff\">Dense</span>)                 │ (<span style=\"color: #00d7ff; text-decoration-color: #00d7ff\">None</span>, <span style=\"color: #00d7ff; text-decoration-color: #00d7ff\">None</span>, <span style=\"color: #00af00; text-decoration-color: #00af00\">72</span>)       │        <span style=\"color: #00af00; text-decoration-color: #00af00\">14,472</span> │\n",
              "└─────────────────────────────────┴────────────────────────┴───────────────┘\n",
              "</pre>\n"
            ],
            "text/plain": [
              "┏━━━━━━━━━━━━━━━━━━━━━━━━━━━━━━━━━┳━━━━━━━━━━━━━━━━━━━━━━━━┳━━━━━━━━━━━━━━━┓\n",
              "┃\u001b[1m \u001b[0m\u001b[1mLayer (type)                   \u001b[0m\u001b[1m \u001b[0m┃\u001b[1m \u001b[0m\u001b[1mOutput Shape          \u001b[0m\u001b[1m \u001b[0m┃\u001b[1m \u001b[0m\u001b[1m      Param #\u001b[0m\u001b[1m \u001b[0m┃\n",
              "┡━━━━━━━━━━━━━━━━━━━━━━━━━━━━━━━━━╇━━━━━━━━━━━━━━━━━━━━━━━━╇━━━━━━━━━━━━━━━┩\n",
              "│ time_distributed_1              │ (\u001b[38;5;45mNone\u001b[0m, \u001b[38;5;45mNone\u001b[0m, \u001b[38;5;34m72\u001b[0m)       │             \u001b[38;5;34m0\u001b[0m │\n",
              "│ (\u001b[38;5;33mTimeDistributed\u001b[0m)               │                        │               │\n",
              "├─────────────────────────────────┼────────────────────────┼───────────────┤\n",
              "│ lstm (\u001b[38;5;33mLSTM\u001b[0m)                     │ (\u001b[38;5;45mNone\u001b[0m, \u001b[38;5;45mNone\u001b[0m, \u001b[38;5;34m200\u001b[0m)      │       \u001b[38;5;34m218,400\u001b[0m │\n",
              "├─────────────────────────────────┼────────────────────────┼───────────────┤\n",
              "│ dense_1 (\u001b[38;5;33mDense\u001b[0m)                 │ (\u001b[38;5;45mNone\u001b[0m, \u001b[38;5;45mNone\u001b[0m, \u001b[38;5;34m72\u001b[0m)       │        \u001b[38;5;34m14,472\u001b[0m │\n",
              "└─────────────────────────────────┴────────────────────────┴───────────────┘\n"
            ]
          },
          "metadata": {},
          "output_type": "display_data"
        },
        {
          "data": {
            "text/html": [
              "<pre style=\"white-space:pre;overflow-x:auto;line-height:normal;font-family:Menlo,'DejaVu Sans Mono',consolas,'Courier New',monospace\"><span style=\"font-weight: bold\"> Total params: </span><span style=\"color: #00af00; text-decoration-color: #00af00\">232,872</span> (909.66 KB)\n",
              "</pre>\n"
            ],
            "text/plain": [
              "\u001b[1m Total params: \u001b[0m\u001b[38;5;34m232,872\u001b[0m (909.66 KB)\n"
            ]
          },
          "metadata": {},
          "output_type": "display_data"
        },
        {
          "data": {
            "text/html": [
              "<pre style=\"white-space:pre;overflow-x:auto;line-height:normal;font-family:Menlo,'DejaVu Sans Mono',consolas,'Courier New',monospace\"><span style=\"font-weight: bold\"> Trainable params: </span><span style=\"color: #00af00; text-decoration-color: #00af00\">232,872</span> (909.66 KB)\n",
              "</pre>\n"
            ],
            "text/plain": [
              "\u001b[1m Trainable params: \u001b[0m\u001b[38;5;34m232,872\u001b[0m (909.66 KB)\n"
            ]
          },
          "metadata": {},
          "output_type": "display_data"
        },
        {
          "data": {
            "text/html": [
              "<pre style=\"white-space:pre;overflow-x:auto;line-height:normal;font-family:Menlo,'DejaVu Sans Mono',consolas,'Courier New',monospace\"><span style=\"font-weight: bold\"> Non-trainable params: </span><span style=\"color: #00af00; text-decoration-color: #00af00\">0</span> (0.00 B)\n",
              "</pre>\n"
            ],
            "text/plain": [
              "\u001b[1m Non-trainable params: \u001b[0m\u001b[38;5;34m0\u001b[0m (0.00 B)\n"
            ]
          },
          "metadata": {},
          "output_type": "display_data"
        }
      ],
      "source": [
        "from keras.layers import LSTM\n",
        "model_lstm = Sequential()\n",
        "\n",
        "model_lstm.add(TimeDistributed(CategoryEncoding(num_tokens=vocab_size, output_mode = \"one_hot\"),input_shape=(None,1)))\n",
        "model_lstm.add(LSTM(200, return_sequences=True, dropout=0.1, recurrent_dropout=0.1 ))\n",
        "model_lstm.add(Dense(vocab_size, activation='softmax'))\n",
        "model_lstm.compile(loss='sparse_categorical_crossentropy', optimizer='rmsprop')\n",
        "\n",
        "model_lstm.summary()"
      ]
    },
    {
      "cell_type": "code",
      "execution_count": 19,
      "metadata": {},
      "outputs": [
        {
          "name": "stdout",
          "output_type": "stream",
          "text": [
            "El modelo model_lstm.weights.h5 y el historial history_ppl_lstm.npy ya existen. Cargando...\n"
          ]
        },
        {
          "name": "stderr",
          "output_type": "stream",
          "text": [
            "/home/agustin/Desktop/CEIA UBA/Procesamiento Lenguaje Natural I/CEIA-ProcesamientoLenguajeNaturalI/.venv/lib/python3.12/site-packages/keras/src/saving/saving_lib.py:797: UserWarning: Skipping variable loading for optimizer 'rmsprop', because it has 2 variables whereas the saved optimizer has 7 variables. \n",
            "  saveable.load_own_variables(weights_store.get(inner_path))\n"
          ]
        }
      ],
      "source": [
        "model_lstm_name = \"model_lstm.weights.h5\"\n",
        "history_lstm_name = \"history_ppl_lstm.npy\"\n",
        "\n",
        "if os.path.exists(model_lstm_name) and os.path.exists(history_lstm_name):\n",
        "    print(f\"El modelo {model_lstm_name} y el historial {history_lstm_name} ya existen. Cargando...\")\n",
        "    model_lstm.load_weights(model_lstm_name)\n",
        "    history_ppl_lstm = np.load(history_lstm_name).tolist()\n",
        "else:\n",
        "    print(\"Entrenando modelo nuevo...\")\n",
        "    # En la variable `history_ppl` se guardarán los valores de perplejidad para cada época.\n",
        "    history_ppl_lstm = []\n",
        "\n",
        "    ppl_cb_lstm = PplCallback(tokenized_sentences_val, history_ppl_lstm)\n",
        "\n",
        "    hist_lstm = model_lstm.fit(\n",
        "        X, y,\n",
        "        epochs=20,\n",
        "        batch_size=512,\n",
        "        callbacks=[ppl_cb_lstm]\n",
        "    )\n",
        "\n",
        "    model_lstm.save_weights(model_lstm_name)\n",
        "\n",
        "    # guardamos history_ppl al final del entrenamiento\n",
        "    np.save(history_lstm_name, np.array(history_ppl_lstm))\n",
        "    print(f\"Saved history as {history_lstm_name}\")"
      ]
    },
    {
      "cell_type": "code",
      "execution_count": 20,
      "metadata": {},
      "outputs": [
        {
          "data": {
            "image/png": "[encoded data removed]",
            "text/plain": [
              "<Figure size 640x480 with 1 Axes>"
            ]
          },
          "metadata": {},
          "output_type": "display_data"
        }
      ],
      "source": [
        "epoch_count = range(1, len(history_ppl_lstm) + 1)\n",
        "sns.lineplot(x=epoch_count,  y=history_ppl_lstm)\n",
        "\n",
        "plt.title(\"Evolución de Perplexity en Entrenamiento Modelo LSTM\")\n",
        "plt.xlabel(\"Épocas\")\n",
        "plt.ylabel(\"Perplexity\")\n",
        "\n",
        "plt.xticks(epoch_count)  # marcas enteras en el eje X\n",
        "\n",
        "plt.show()\n",
        "plt.show()\n"
      ]
    },
    {
      "cell_type": "markdown",
      "metadata": {},
      "source": [
        "### GRU"
      ]
    },
    {
      "cell_type": "code",
      "execution_count": 21,
      "metadata": {},
      "outputs": [
        {
          "name": "stderr",
          "output_type": "stream",
          "text": [
            "/home/agustin/Desktop/CEIA UBA/Procesamiento Lenguaje Natural I/CEIA-ProcesamientoLenguajeNaturalI/.venv/lib/python3.12/site-packages/keras/src/layers/core/wrapper.py:27: UserWarning: Do not pass an `input_shape`/`input_dim` argument to a layer. When using Sequential models, prefer using an `Input(shape)` object as the first layer in the model instead.\n",
            "  super().__init__(**kwargs)\n"
          ]
        },
        {
          "data": {
            "text/html": [
              "<pre style=\"white-space:pre;overflow-x:auto;line-height:normal;font-family:Menlo,'DejaVu Sans Mono',consolas,'Courier New',monospace\"><span style=\"font-weight: bold\">Model: \"sequential_3\"</span>\n",
              "</pre>\n"
            ],
            "text/plain": [
              "\u001b[1mModel: \"sequential_3\"\u001b[0m\n"
            ]
          },
          "metadata": {},
          "output_type": "display_data"
        },
        {
          "data": {
            "text/html": [
              "<pre style=\"white-space:pre;overflow-x:auto;line-height:normal;font-family:Menlo,'DejaVu Sans Mono',consolas,'Courier New',monospace\">┏━━━━━━━━━━━━━━━━━━━━━━━━━━━━━━━━━┳━━━━━━━━━━━━━━━━━━━━━━━━┳━━━━━━━━━━━━━━━┓\n",
              "┃<span style=\"font-weight: bold\"> Layer (type)                    </span>┃<span style=\"font-weight: bold\"> Output Shape           </span>┃<span style=\"font-weight: bold\">       Param # </span>┃\n",
              "┡━━━━━━━━━━━━━━━━━━━━━━━━━━━━━━━━━╇━━━━━━━━━━━━━━━━━━━━━━━━╇━━━━━━━━━━━━━━━┩\n",
              "│ time_distributed_2              │ (<span style=\"color: #00d7ff; text-decoration-color: #00d7ff\">None</span>, <span style=\"color: #00d7ff; text-decoration-color: #00d7ff\">None</span>, <span style=\"color: #00af00; text-decoration-color: #00af00\">72</span>)       │             <span style=\"color: #00af00; text-decoration-color: #00af00\">0</span> │\n",
              "│ (<span style=\"color: #0087ff; text-decoration-color: #0087ff\">TimeDistributed</span>)               │                        │               │\n",
              "├─────────────────────────────────┼────────────────────────┼───────────────┤\n",
              "│ gru (<span style=\"color: #0087ff; text-decoration-color: #0087ff\">GRU</span>)                       │ (<span style=\"color: #00d7ff; text-decoration-color: #00d7ff\">None</span>, <span style=\"color: #00d7ff; text-decoration-color: #00d7ff\">None</span>, <span style=\"color: #00af00; text-decoration-color: #00af00\">200</span>)      │       <span style=\"color: #00af00; text-decoration-color: #00af00\">164,400</span> │\n",
              "├─────────────────────────────────┼────────────────────────┼───────────────┤\n",
              "│ dense_2 (<span style=\"color: #0087ff; text-decoration-color: #0087ff\">Dense</span>)                 │ (<span style=\"color: #00d7ff; text-decoration-color: #00d7ff\">None</span>, <span style=\"color: #00d7ff; text-decoration-color: #00d7ff\">None</span>, <span style=\"color: #00af00; text-decoration-color: #00af00\">72</span>)       │        <span style=\"color: #00af00; text-decoration-color: #00af00\">14,472</span> │\n",
              "└─────────────────────────────────┴────────────────────────┴───────────────┘\n",
              "</pre>\n"
            ],
            "text/plain": [
              "┏━━━━━━━━━━━━━━━━━━━━━━━━━━━━━━━━━┳━━━━━━━━━━━━━━━━━━━━━━━━┳━━━━━━━━━━━━━━━┓\n",
              "┃\u001b[1m \u001b[0m\u001b[1mLayer (type)                   \u001b[0m\u001b[1m \u001b[0m┃\u001b[1m \u001b[0m\u001b[1mOutput Shape          \u001b[0m\u001b[1m \u001b[0m┃\u001b[1m \u001b[0m\u001b[1m      Param #\u001b[0m\u001b[1m \u001b[0m┃\n",
              "┡━━━━━━━━━━━━━━━━━━━━━━━━━━━━━━━━━╇━━━━━━━━━━━━━━━━━━━━━━━━╇━━━━━━━━━━━━━━━┩\n",
              "│ time_distributed_2              │ (\u001b[38;5;45mNone\u001b[0m, \u001b[38;5;45mNone\u001b[0m, \u001b[38;5;34m72\u001b[0m)       │             \u001b[38;5;34m0\u001b[0m │\n",
              "│ (\u001b[38;5;33mTimeDistributed\u001b[0m)               │                        │               │\n",
              "├─────────────────────────────────┼────────────────────────┼───────────────┤\n",
              "│ gru (\u001b[38;5;33mGRU\u001b[0m)                       │ (\u001b[38;5;45mNone\u001b[0m, \u001b[38;5;45mNone\u001b[0m, \u001b[38;5;34m200\u001b[0m)      │       \u001b[38;5;34m164,400\u001b[0m │\n",
              "├─────────────────────────────────┼────────────────────────┼───────────────┤\n",
              "│ dense_2 (\u001b[38;5;33mDense\u001b[0m)                 │ (\u001b[38;5;45mNone\u001b[0m, \u001b[38;5;45mNone\u001b[0m, \u001b[38;5;34m72\u001b[0m)       │        \u001b[38;5;34m14,472\u001b[0m │\n",
              "└─────────────────────────────────┴────────────────────────┴───────────────┘\n"
            ]
          },
          "metadata": {},
          "output_type": "display_data"
        },
        {
          "data": {
            "text/html": [
              "<pre style=\"white-space:pre;overflow-x:auto;line-height:normal;font-family:Menlo,'DejaVu Sans Mono',consolas,'Courier New',monospace\"><span style=\"font-weight: bold\"> Total params: </span><span style=\"color: #00af00; text-decoration-color: #00af00\">178,872</span> (698.72 KB)\n",
              "</pre>\n"
            ],
            "text/plain": [
              "\u001b[1m Total params: \u001b[0m\u001b[38;5;34m178,872\u001b[0m (698.72 KB)\n"
            ]
          },
          "metadata": {},
          "output_type": "display_data"
        },
        {
          "data": {
            "text/html": [
              "<pre style=\"white-space:pre;overflow-x:auto;line-height:normal;font-family:Menlo,'DejaVu Sans Mono',consolas,'Courier New',monospace\"><span style=\"font-weight: bold\"> Trainable params: </span><span style=\"color: #00af00; text-decoration-color: #00af00\">178,872</span> (698.72 KB)\n",
              "</pre>\n"
            ],
            "text/plain": [
              "\u001b[1m Trainable params: \u001b[0m\u001b[38;5;34m178,872\u001b[0m (698.72 KB)\n"
            ]
          },
          "metadata": {},
          "output_type": "display_data"
        },
        {
          "data": {
            "text/html": [
              "<pre style=\"white-space:pre;overflow-x:auto;line-height:normal;font-family:Menlo,'DejaVu Sans Mono',consolas,'Courier New',monospace\"><span style=\"font-weight: bold\"> Non-trainable params: </span><span style=\"color: #00af00; text-decoration-color: #00af00\">0</span> (0.00 B)\n",
              "</pre>\n"
            ],
            "text/plain": [
              "\u001b[1m Non-trainable params: \u001b[0m\u001b[38;5;34m0\u001b[0m (0.00 B)\n"
            ]
          },
          "metadata": {},
          "output_type": "display_data"
        }
      ],
      "source": [
        "from keras.layers import GRU\n",
        "model_lstm = Sequential()\n",
        "\n",
        "model_gru = Sequential()\n",
        "\n",
        "model_gru.add(TimeDistributed(\n",
        "    CategoryEncoding(num_tokens=vocab_size, output_mode=\"one_hot\"),\n",
        "    input_shape=(None, 1))\n",
        ")\n",
        "\n",
        "model_gru.add(GRU(200, return_sequences=True, dropout=0.1, recurrent_dropout=0.1))\n",
        "model_gru.add(Dense(vocab_size, activation='softmax'))\n",
        "\n",
        "model_gru.compile(\n",
        "    loss='sparse_categorical_crossentropy',\n",
        "    optimizer='rmsprop'\n",
        ")\n",
        "\n",
        "model_gru.summary()"
      ]
    },
    {
      "cell_type": "code",
      "execution_count": 22,
      "metadata": {},
      "outputs": [
        {
          "name": "stdout",
          "output_type": "stream",
          "text": [
            "El modelo model_gru.weights.h5 y el historial history_ppl_gru.npy ya existen. Cargando...\n"
          ]
        },
        {
          "name": "stderr",
          "output_type": "stream",
          "text": [
            "/home/agustin/Desktop/CEIA UBA/Procesamiento Lenguaje Natural I/CEIA-ProcesamientoLenguajeNaturalI/.venv/lib/python3.12/site-packages/keras/src/saving/saving_lib.py:797: UserWarning: Skipping variable loading for optimizer 'rmsprop', because it has 2 variables whereas the saved optimizer has 7 variables. \n",
            "  saveable.load_own_variables(weights_store.get(inner_path))\n"
          ]
        }
      ],
      "source": [
        "model_gru_name = \"model_gru.weights.h5\"\n",
        "history_gru_name = \"history_ppl_gru.npy\"\n",
        "\n",
        "if os.path.exists(model_gru_name) and os.path.exists(history_gru_name):\n",
        "    print(f\"El modelo {model_gru_name} y el historial {history_gru_name} ya existen. Cargando...\")\n",
        "    model_gru.load_weights(model_gru_name)\n",
        "    history_ppl_gru = np.load(history_gru_name).tolist()\n",
        "else:\n",
        "    print(\"Entrenando modelo nuevo...\")\n",
        "    # En la variable `history_ppl` se guardarán los valores de perplejidad para cada época.\n",
        "    history_ppl_gru = []\n",
        "\n",
        "    ppl_cb_gru = PplCallback(tokenized_sentences_val, history_ppl_gru)\n",
        "\n",
        "    hist_gru = model_gru.fit(\n",
        "        X, y,\n",
        "        epochs=20,\n",
        "        batch_size=512,\n",
        "        callbacks=[ppl_cb_gru]\n",
        "    )\n",
        "\n",
        "    model_gru.save_weights(model_gru_name)\n",
        "\n",
        "    # guardamos history_ppl al final del entrenamiento\n",
        "    np.save(history_gru_name, np.array(history_ppl_gru))\n",
        "    print(f\"Saved history as {history_gru_name}\")"
      ]
    },
    {
      "cell_type": "code",
      "execution_count": 23,
      "metadata": {},
      "outputs": [
        {
          "data": {
            "image/png": "[encoded data removed]",
            "text/plain": [
              "<Figure size 640x480 with 1 Axes>"
            ]
          },
          "metadata": {},
          "output_type": "display_data"
        }
      ],
      "source": [
        "epoch_count = range(1, len(history_ppl_gru) + 1)\n",
        "sns.lineplot(x=epoch_count,  y=history_ppl_gru)\n",
        "plt.title(\"Evolución de Perplexity en Entrenamiento Modelo GRU\")\n",
        "plt.xlabel(\"Épocas\")\n",
        "plt.ylabel(\"Perplexity\")\n",
        "\n",
        "plt.xticks(epoch_count)  # marcas enteras en el eje X\n",
        "\n",
        "plt.show()\n"
      ]
    },
    {
      "cell_type": "markdown",
      "metadata": {},
      "source": [
        "### Comparativa de modelos"
      ]
    },
    {
      "cell_type": "code",
      "execution_count": 24,
      "metadata": {},
      "outputs": [
        {
          "data": {
            "image/png": "[encoded data removed]",
            "text/plain": [
              "<Figure size 640x480 with 1 Axes>"
            ]
          },
          "metadata": {},
          "output_type": "display_data"
        }
      ],
      "source": [
        "sns.lineplot(x=epoch_count, y=history_ppl_gru, color=\"red\", label=\"GRU\")\n",
        "sns.lineplot(x=epoch_count, y=history_ppl_lstm, color=\"green\", label=\"LSTM\")\n",
        "sns.lineplot(x=epoch_count, y=history_ppl, color=\"blue\", label=\"RNN\")\n",
        "\n",
        "plt.title(\"Comparativa de modelos\")\n",
        "plt.xlabel(\"Épocas\")\n",
        "plt.ylabel(\"Perplexity\")\n",
        "plt.legend()\n",
        "plt.xticks(epoch_count)\n",
        "plt.show()"
      ]
    },
    {
      "cell_type": "markdown",
      "metadata": {},
      "source": [
        "Se observa que GRU tiene un menor valor de Perplexity, por lo que seleccionamos el mismo para aplicar Adam y una segunda capa."
      ]
    },
    {
      "cell_type": "markdown",
      "metadata": {},
      "source": [
        "### GRU + Adam"
      ]
    },
    {
      "cell_type": "code",
      "execution_count": 25,
      "metadata": {},
      "outputs": [
        {
          "name": "stderr",
          "output_type": "stream",
          "text": [
            "/home/agustin/Desktop/CEIA UBA/Procesamiento Lenguaje Natural I/CEIA-ProcesamientoLenguajeNaturalI/.venv/lib/python3.12/site-packages/keras/src/layers/core/wrapper.py:27: UserWarning: Do not pass an `input_shape`/`input_dim` argument to a layer. When using Sequential models, prefer using an `Input(shape)` object as the first layer in the model instead.\n",
            "  super().__init__(**kwargs)\n"
          ]
        },
        {
          "data": {
            "text/html": [
              "<pre style=\"white-space:pre;overflow-x:auto;line-height:normal;font-family:Menlo,'DejaVu Sans Mono',consolas,'Courier New',monospace\"><span style=\"font-weight: bold\">Model: \"sequential_4\"</span>\n",
              "</pre>\n"
            ],
            "text/plain": [
              "\u001b[1mModel: \"sequential_4\"\u001b[0m\n"
            ]
          },
          "metadata": {},
          "output_type": "display_data"
        },
        {
          "data": {
            "text/html": [
              "<pre style=\"white-space:pre;overflow-x:auto;line-height:normal;font-family:Menlo,'DejaVu Sans Mono',consolas,'Courier New',monospace\">┏━━━━━━━━━━━━━━━━━━━━━━━━━━━━━━━━━┳━━━━━━━━━━━━━━━━━━━━━━━━┳━━━━━━━━━━━━━━━┓\n",
              "┃<span style=\"font-weight: bold\"> Layer (type)                    </span>┃<span style=\"font-weight: bold\"> Output Shape           </span>┃<span style=\"font-weight: bold\">       Param # </span>┃\n",
              "┡━━━━━━━━━━━━━━━━━━━━━━━━━━━━━━━━━╇━━━━━━━━━━━━━━━━━━━━━━━━╇━━━━━━━━━━━━━━━┩\n",
              "│ time_distributed_3              │ (<span style=\"color: #00d7ff; text-decoration-color: #00d7ff\">None</span>, <span style=\"color: #00d7ff; text-decoration-color: #00d7ff\">None</span>, <span style=\"color: #00af00; text-decoration-color: #00af00\">72</span>)       │             <span style=\"color: #00af00; text-decoration-color: #00af00\">0</span> │\n",
              "│ (<span style=\"color: #0087ff; text-decoration-color: #0087ff\">TimeDistributed</span>)               │                        │               │\n",
              "├─────────────────────────────────┼────────────────────────┼───────────────┤\n",
              "│ gru_1 (<span style=\"color: #0087ff; text-decoration-color: #0087ff\">GRU</span>)                     │ (<span style=\"color: #00d7ff; text-decoration-color: #00d7ff\">None</span>, <span style=\"color: #00d7ff; text-decoration-color: #00d7ff\">None</span>, <span style=\"color: #00af00; text-decoration-color: #00af00\">200</span>)      │       <span style=\"color: #00af00; text-decoration-color: #00af00\">164,400</span> │\n",
              "├─────────────────────────────────┼────────────────────────┼───────────────┤\n",
              "│ dense_3 (<span style=\"color: #0087ff; text-decoration-color: #0087ff\">Dense</span>)                 │ (<span style=\"color: #00d7ff; text-decoration-color: #00d7ff\">None</span>, <span style=\"color: #00d7ff; text-decoration-color: #00d7ff\">None</span>, <span style=\"color: #00af00; text-decoration-color: #00af00\">72</span>)       │        <span style=\"color: #00af00; text-decoration-color: #00af00\">14,472</span> │\n",
              "└─────────────────────────────────┴────────────────────────┴───────────────┘\n",
              "</pre>\n"
            ],
            "text/plain": [
              "┏━━━━━━━━━━━━━━━━━━━━━━━━━━━━━━━━━┳━━━━━━━━━━━━━━━━━━━━━━━━┳━━━━━━━━━━━━━━━┓\n",
              "┃\u001b[1m \u001b[0m\u001b[1mLayer (type)                   \u001b[0m\u001b[1m \u001b[0m┃\u001b[1m \u001b[0m\u001b[1mOutput Shape          \u001b[0m\u001b[1m \u001b[0m┃\u001b[1m \u001b[0m\u001b[1m      Param #\u001b[0m\u001b[1m \u001b[0m┃\n",
              "┡━━━━━━━━━━━━━━━━━━━━━━━━━━━━━━━━━╇━━━━━━━━━━━━━━━━━━━━━━━━╇━━━━━━━━━━━━━━━┩\n",
              "│ time_distributed_3              │ (\u001b[38;5;45mNone\u001b[0m, \u001b[38;5;45mNone\u001b[0m, \u001b[38;5;34m72\u001b[0m)       │             \u001b[38;5;34m0\u001b[0m │\n",
              "│ (\u001b[38;5;33mTimeDistributed\u001b[0m)               │                        │               │\n",
              "├─────────────────────────────────┼────────────────────────┼───────────────┤\n",
              "│ gru_1 (\u001b[38;5;33mGRU\u001b[0m)                     │ (\u001b[38;5;45mNone\u001b[0m, \u001b[38;5;45mNone\u001b[0m, \u001b[38;5;34m200\u001b[0m)      │       \u001b[38;5;34m164,400\u001b[0m │\n",
              "├─────────────────────────────────┼────────────────────────┼───────────────┤\n",
              "│ dense_3 (\u001b[38;5;33mDense\u001b[0m)                 │ (\u001b[38;5;45mNone\u001b[0m, \u001b[38;5;45mNone\u001b[0m, \u001b[38;5;34m72\u001b[0m)       │        \u001b[38;5;34m14,472\u001b[0m │\n",
              "└─────────────────────────────────┴────────────────────────┴───────────────┘\n"
            ]
          },
          "metadata": {},
          "output_type": "display_data"
        },
        {
          "data": {
            "text/html": [
              "<pre style=\"white-space:pre;overflow-x:auto;line-height:normal;font-family:Menlo,'DejaVu Sans Mono',consolas,'Courier New',monospace\"><span style=\"font-weight: bold\"> Total params: </span><span style=\"color: #00af00; text-decoration-color: #00af00\">178,872</span> (698.72 KB)\n",
              "</pre>\n"
            ],
            "text/plain": [
              "\u001b[1m Total params: \u001b[0m\u001b[38;5;34m178,872\u001b[0m (698.72 KB)\n"
            ]
          },
          "metadata": {},
          "output_type": "display_data"
        },
        {
          "data": {
            "text/html": [
              "<pre style=\"white-space:pre;overflow-x:auto;line-height:normal;font-family:Menlo,'DejaVu Sans Mono',consolas,'Courier New',monospace\"><span style=\"font-weight: bold\"> Trainable params: </span><span style=\"color: #00af00; text-decoration-color: #00af00\">178,872</span> (698.72 KB)\n",
              "</pre>\n"
            ],
            "text/plain": [
              "\u001b[1m Trainable params: \u001b[0m\u001b[38;5;34m178,872\u001b[0m (698.72 KB)\n"
            ]
          },
          "metadata": {},
          "output_type": "display_data"
        },
        {
          "data": {
            "text/html": [
              "<pre style=\"white-space:pre;overflow-x:auto;line-height:normal;font-family:Menlo,'DejaVu Sans Mono',consolas,'Courier New',monospace\"><span style=\"font-weight: bold\"> Non-trainable params: </span><span style=\"color: #00af00; text-decoration-color: #00af00\">0</span> (0.00 B)\n",
              "</pre>\n"
            ],
            "text/plain": [
              "\u001b[1m Non-trainable params: \u001b[0m\u001b[38;5;34m0\u001b[0m (0.00 B)\n"
            ]
          },
          "metadata": {},
          "output_type": "display_data"
        }
      ],
      "source": [
        "from keras.optimizers import Adam\n",
        "\n",
        "model_gru_adam = Sequential()\n",
        "\n",
        "model_gru_adam.add(TimeDistributed(\n",
        "    CategoryEncoding(num_tokens=vocab_size, output_mode=\"one_hot\"),\n",
        "    input_shape=(None, 1))\n",
        ")\n",
        "\n",
        "model_gru_adam.add(GRU(200, return_sequences=True, dropout=0.1, recurrent_dropout=0.1))\n",
        "model_gru_adam.add(Dense(vocab_size, activation='softmax'))\n",
        "\n",
        "model_gru_adam.compile(\n",
        "    loss='sparse_categorical_crossentropy',\n",
        "    optimizer=Adam(learning_rate=0.001)  # podés probar 0.001 y 0.0005\n",
        ")\n",
        "\n",
        "model_gru_adam.summary()"
      ]
    },
    {
      "cell_type": "code",
      "execution_count": 26,
      "metadata": {},
      "outputs": [
        {
          "name": "stdout",
          "output_type": "stream",
          "text": [
            "El modelo model_gru_adam.weights.h5 y el historial history_ppl_gru_adam.npy ya existen. Cargando...\n"
          ]
        },
        {
          "name": "stderr",
          "output_type": "stream",
          "text": [
            "/home/agustin/Desktop/CEIA UBA/Procesamiento Lenguaje Natural I/CEIA-ProcesamientoLenguajeNaturalI/.venv/lib/python3.12/site-packages/keras/src/saving/saving_lib.py:797: UserWarning: Skipping variable loading for optimizer 'adam', because it has 2 variables whereas the saved optimizer has 12 variables. \n",
            "  saveable.load_own_variables(weights_store.get(inner_path))\n"
          ]
        }
      ],
      "source": [
        "model_gru_adam_name = \"model_gru_adam.weights.h5\"\n",
        "history_gru_adam_name = \"history_ppl_gru_adam.npy\"\n",
        "\n",
        "if os.path.exists(model_gru_adam_name) and os.path.exists(history_gru_adam_name):\n",
        "    print(f\"El modelo {model_gru_adam_name} y el historial {history_gru_adam_name} ya existen. Cargando...\")\n",
        "    model_gru_adam.load_weights(model_gru_adam_name)\n",
        "    history_ppl_gru_adam = np.load(history_gru_adam_name).tolist()\n",
        "else:\n",
        "    print(\"Entrenando modelo nuevo...\")\n",
        "    # En la variable `history_ppl` se guardarán los valores de perplejidad para cada época.\n",
        "    history_ppl_gru_adam = []\n",
        "\n",
        "    ppl_cb_gru_adam = PplCallback(tokenized_sentences_val, history_ppl_gru_adam)\n",
        "\n",
        "    hist_gru_adam = model_gru_adam.fit(\n",
        "        X, y,\n",
        "        epochs=20,\n",
        "        batch_size=512,\n",
        "        callbacks=[ppl_cb_gru_adam]\n",
        "    )\n",
        "\n",
        "    model_gru_adam.save_weights(model_gru_adam_name)\n",
        "\n",
        "    # guardamos history_ppl al final del entrenamiento\n",
        "    np.save(history_gru_adam_name, np.array(history_ppl_gru_adam))\n",
        "    print(f\"Saved history as {history_gru_adam_name}\")"
      ]
    },
    {
      "cell_type": "code",
      "execution_count": 27,
      "metadata": {},
      "outputs": [
        {
          "data": {
            "image/png": "[encoded data removed]",
            "text/plain": [
              "<Figure size 640x480 with 1 Axes>"
            ]
          },
          "metadata": {},
          "output_type": "display_data"
        }
      ],
      "source": [
        "epoch_count_gru_adam = range(1, len(history_ppl_gru_adam) + 1)\n",
        "\n",
        "sns.lineplot(x=epoch_count, y=history_ppl_gru, color=\"red\", label=\"GRU\")\n",
        "sns.lineplot(x=epoch_count, y=history_ppl_lstm, color=\"green\", label=\"LSTM\")\n",
        "sns.lineplot(x=epoch_count, y=history_ppl, color=\"blue\", label=\"RNN\")\n",
        "sns.lineplot(x=epoch_count_gru_adam, y=history_ppl_gru_adam, color=\"violet\", label=\"GRU+Adam\")\n",
        "\n",
        "plt.title(\"Comparativa de modelos\")\n",
        "plt.xlabel(\"Epochs\")\n",
        "plt.ylabel(\"Perplexity\")\n",
        "plt.legend()\n",
        "plt.xticks(epoch_count)\n",
        "plt.show()\n",
        "\n"
      ]
    },
    {
      "cell_type": "markdown",
      "metadata": {},
      "source": [
        "Se observa que Adam genera un overfitting luego de aproximadamente la época 10, ya que el Perplexity en los datos de validación comienza a subir, y termina activando el Early Stopping."
      ]
    },
    {
      "cell_type": "markdown",
      "metadata": {},
      "source": [
        "### GRU con dos capas"
      ]
    },
    {
      "cell_type": "markdown",
      "metadata": {},
      "source": [
        "Se usan ahora dos capas GRU, la primera de hidden size 256 y la segunda de 128."
      ]
    },
    {
      "cell_type": "code",
      "execution_count": 28,
      "metadata": {},
      "outputs": [
        {
          "name": "stderr",
          "output_type": "stream",
          "text": [
            "/home/agustin/Desktop/CEIA UBA/Procesamiento Lenguaje Natural I/CEIA-ProcesamientoLenguajeNaturalI/.venv/lib/python3.12/site-packages/keras/src/layers/core/wrapper.py:27: UserWarning: Do not pass an `input_shape`/`input_dim` argument to a layer. When using Sequential models, prefer using an `Input(shape)` object as the first layer in the model instead.\n",
            "  super().__init__(**kwargs)\n"
          ]
        },
        {
          "data": {
            "text/html": [
              "<pre style=\"white-space:pre;overflow-x:auto;line-height:normal;font-family:Menlo,'DejaVu Sans Mono',consolas,'Courier New',monospace\"><span style=\"font-weight: bold\">Model: \"sequential_5\"</span>\n",
              "</pre>\n"
            ],
            "text/plain": [
              "\u001b[1mModel: \"sequential_5\"\u001b[0m\n"
            ]
          },
          "metadata": {},
          "output_type": "display_data"
        },
        {
          "data": {
            "text/html": [
              "<pre style=\"white-space:pre;overflow-x:auto;line-height:normal;font-family:Menlo,'DejaVu Sans Mono',consolas,'Courier New',monospace\">┏━━━━━━━━━━━━━━━━━━━━━━━━━━━━━━━━━┳━━━━━━━━━━━━━━━━━━━━━━━━┳━━━━━━━━━━━━━━━┓\n",
              "┃<span style=\"font-weight: bold\"> Layer (type)                    </span>┃<span style=\"font-weight: bold\"> Output Shape           </span>┃<span style=\"font-weight: bold\">       Param # </span>┃\n",
              "┡━━━━━━━━━━━━━━━━━━━━━━━━━━━━━━━━━╇━━━━━━━━━━━━━━━━━━━━━━━━╇━━━━━━━━━━━━━━━┩\n",
              "│ time_distributed_4              │ (<span style=\"color: #00d7ff; text-decoration-color: #00d7ff\">None</span>, <span style=\"color: #00d7ff; text-decoration-color: #00d7ff\">None</span>, <span style=\"color: #00af00; text-decoration-color: #00af00\">72</span>)       │             <span style=\"color: #00af00; text-decoration-color: #00af00\">0</span> │\n",
              "│ (<span style=\"color: #0087ff; text-decoration-color: #0087ff\">TimeDistributed</span>)               │                        │               │\n",
              "├─────────────────────────────────┼────────────────────────┼───────────────┤\n",
              "│ gru_2 (<span style=\"color: #0087ff; text-decoration-color: #0087ff\">GRU</span>)                     │ (<span style=\"color: #00d7ff; text-decoration-color: #00d7ff\">None</span>, <span style=\"color: #00d7ff; text-decoration-color: #00d7ff\">None</span>, <span style=\"color: #00af00; text-decoration-color: #00af00\">256</span>)      │       <span style=\"color: #00af00; text-decoration-color: #00af00\">253,440</span> │\n",
              "├─────────────────────────────────┼────────────────────────┼───────────────┤\n",
              "│ gru_3 (<span style=\"color: #0087ff; text-decoration-color: #0087ff\">GRU</span>)                     │ (<span style=\"color: #00d7ff; text-decoration-color: #00d7ff\">None</span>, <span style=\"color: #00d7ff; text-decoration-color: #00d7ff\">None</span>, <span style=\"color: #00af00; text-decoration-color: #00af00\">128</span>)      │       <span style=\"color: #00af00; text-decoration-color: #00af00\">148,224</span> │\n",
              "├─────────────────────────────────┼────────────────────────┼───────────────┤\n",
              "│ dense_4 (<span style=\"color: #0087ff; text-decoration-color: #0087ff\">Dense</span>)                 │ (<span style=\"color: #00d7ff; text-decoration-color: #00d7ff\">None</span>, <span style=\"color: #00d7ff; text-decoration-color: #00d7ff\">None</span>, <span style=\"color: #00af00; text-decoration-color: #00af00\">72</span>)       │         <span style=\"color: #00af00; text-decoration-color: #00af00\">9,288</span> │\n",
              "└─────────────────────────────────┴────────────────────────┴───────────────┘\n",
              "</pre>\n"
            ],
            "text/plain": [
              "┏━━━━━━━━━━━━━━━━━━━━━━━━━━━━━━━━━┳━━━━━━━━━━━━━━━━━━━━━━━━┳━━━━━━━━━━━━━━━┓\n",
              "┃\u001b[1m \u001b[0m\u001b[1mLayer (type)                   \u001b[0m\u001b[1m \u001b[0m┃\u001b[1m \u001b[0m\u001b[1mOutput Shape          \u001b[0m\u001b[1m \u001b[0m┃\u001b[1m \u001b[0m\u001b[1m      Param #\u001b[0m\u001b[1m \u001b[0m┃\n",
              "┡━━━━━━━━━━━━━━━━━━━━━━━━━━━━━━━━━╇━━━━━━━━━━━━━━━━━━━━━━━━╇━━━━━━━━━━━━━━━┩\n",
              "│ time_distributed_4              │ (\u001b[38;5;45mNone\u001b[0m, \u001b[38;5;45mNone\u001b[0m, \u001b[38;5;34m72\u001b[0m)       │             \u001b[38;5;34m0\u001b[0m │\n",
              "│ (\u001b[38;5;33mTimeDistributed\u001b[0m)               │                        │               │\n",
              "├─────────────────────────────────┼────────────────────────┼───────────────┤\n",
              "│ gru_2 (\u001b[38;5;33mGRU\u001b[0m)                     │ (\u001b[38;5;45mNone\u001b[0m, \u001b[38;5;45mNone\u001b[0m, \u001b[38;5;34m256\u001b[0m)      │       \u001b[38;5;34m253,440\u001b[0m │\n",
              "├─────────────────────────────────┼────────────────────────┼───────────────┤\n",
              "│ gru_3 (\u001b[38;5;33mGRU\u001b[0m)                     │ (\u001b[38;5;45mNone\u001b[0m, \u001b[38;5;45mNone\u001b[0m, \u001b[38;5;34m128\u001b[0m)      │       \u001b[38;5;34m148,224\u001b[0m │\n",
              "├─────────────────────────────────┼────────────────────────┼───────────────┤\n",
              "│ dense_4 (\u001b[38;5;33mDense\u001b[0m)                 │ (\u001b[38;5;45mNone\u001b[0m, \u001b[38;5;45mNone\u001b[0m, \u001b[38;5;34m72\u001b[0m)       │         \u001b[38;5;34m9,288\u001b[0m │\n",
              "└─────────────────────────────────┴────────────────────────┴───────────────┘\n"
            ]
          },
          "metadata": {},
          "output_type": "display_data"
        },
        {
          "data": {
            "text/html": [
              "<pre style=\"white-space:pre;overflow-x:auto;line-height:normal;font-family:Menlo,'DejaVu Sans Mono',consolas,'Courier New',monospace\"><span style=\"font-weight: bold\"> Total params: </span><span style=\"color: #00af00; text-decoration-color: #00af00\">410,952</span> (1.57 MB)\n",
              "</pre>\n"
            ],
            "text/plain": [
              "\u001b[1m Total params: \u001b[0m\u001b[38;5;34m410,952\u001b[0m (1.57 MB)\n"
            ]
          },
          "metadata": {},
          "output_type": "display_data"
        },
        {
          "data": {
            "text/html": [
              "<pre style=\"white-space:pre;overflow-x:auto;line-height:normal;font-family:Menlo,'DejaVu Sans Mono',consolas,'Courier New',monospace\"><span style=\"font-weight: bold\"> Trainable params: </span><span style=\"color: #00af00; text-decoration-color: #00af00\">410,952</span> (1.57 MB)\n",
              "</pre>\n"
            ],
            "text/plain": [
              "\u001b[1m Trainable params: \u001b[0m\u001b[38;5;34m410,952\u001b[0m (1.57 MB)\n"
            ]
          },
          "metadata": {},
          "output_type": "display_data"
        },
        {
          "data": {
            "text/html": [
              "<pre style=\"white-space:pre;overflow-x:auto;line-height:normal;font-family:Menlo,'DejaVu Sans Mono',consolas,'Courier New',monospace\"><span style=\"font-weight: bold\"> Non-trainable params: </span><span style=\"color: #00af00; text-decoration-color: #00af00\">0</span> (0.00 B)\n",
              "</pre>\n"
            ],
            "text/plain": [
              "\u001b[1m Non-trainable params: \u001b[0m\u001b[38;5;34m0\u001b[0m (0.00 B)\n"
            ]
          },
          "metadata": {},
          "output_type": "display_data"
        }
      ],
      "source": [
        "model_gru_stacked = Sequential()\n",
        "\n",
        "model_gru_stacked.add(TimeDistributed(\n",
        "    CategoryEncoding(num_tokens=vocab_size, output_mode=\"one_hot\"),\n",
        "    input_shape=(None, 1))\n",
        ")\n",
        "\n",
        "# Capa 1 grande, devuelve secuencia completa\n",
        "model_gru_stacked.add(GRU(256, return_sequences=True, dropout=0.1, recurrent_dropout=0.1))\n",
        "\n",
        "# Capa 2 más pequeña, también devuelve secuencia\n",
        "model_gru_stacked.add(GRU(128, return_sequences=True, dropout=0.1, recurrent_dropout=0.1))\n",
        "\n",
        "# Salida final\n",
        "model_gru_stacked.add(Dense(vocab_size, activation='softmax'))\n",
        "\n",
        "model_gru_stacked.compile(\n",
        "    loss='sparse_categorical_crossentropy',\n",
        "    optimizer='rmsprop'\n",
        ")\n",
        "\n",
        "model_gru_stacked.summary()\n"
      ]
    },
    {
      "cell_type": "code",
      "execution_count": 29,
      "metadata": {},
      "outputs": [
        {
          "name": "stdout",
          "output_type": "stream",
          "text": [
            "El modelo model_gru_stacked.weights.h5 y el historial history_ppl_gru_stacked.npy ya existen. Cargando...\n"
          ]
        },
        {
          "name": "stderr",
          "output_type": "stream",
          "text": [
            "/home/agustin/Desktop/CEIA UBA/Procesamiento Lenguaje Natural I/CEIA-ProcesamientoLenguajeNaturalI/.venv/lib/python3.12/site-packages/keras/src/saving/saving_lib.py:797: UserWarning: Skipping variable loading for optimizer 'rmsprop', because it has 2 variables whereas the saved optimizer has 10 variables. \n",
            "  saveable.load_own_variables(weights_store.get(inner_path))\n"
          ]
        }
      ],
      "source": [
        "model_gru_stacked_name = \"model_gru_stacked.weights.h5\"\n",
        "history_gru_stacked_name = \"history_ppl_gru_stacked.npy\"\n",
        "\n",
        "if os.path.exists(model_gru_stacked_name) and os.path.exists(history_gru_stacked_name):\n",
        "    print(f\"El modelo {model_gru_stacked_name} y el historial {history_gru_stacked_name} ya existen. Cargando...\")\n",
        "    model_gru_stacked.load_weights(model_gru_stacked_name)\n",
        "    history_ppl_gru_stacked = np.load(history_gru_stacked_name).tolist()\n",
        "else:\n",
        "    print(\"Entrenando modelo nuevo...\")\n",
        "    # En la variable `history_ppl` se guardarán los valores de perplejidad para cada época.\n",
        "    history_ppl_gru_stacked = []\n",
        "\n",
        "    ppl_cb_gru_stacked = PplCallback(tokenized_sentences_val, history_ppl_gru_stacked)\n",
        "\n",
        "    hist_gru_stacked = model_gru_stacked.fit(\n",
        "        X, y,\n",
        "        epochs=20,\n",
        "        batch_size=512,\n",
        "        callbacks=[ppl_cb_gru_stacked]\n",
        "    )\n",
        "\n",
        "    model_gru_stacked.save_weights(model_gru_stacked_name)\n",
        "\n",
        "    # guardamos history_ppl al final del entrenamiento\n",
        "    np.save(history_gru_stacked_name, np.array(history_ppl_gru_stacked))\n",
        "    print(f\"Saved history as {history_gru_stacked_name}\")"
      ]
    },
    {
      "cell_type": "code",
      "execution_count": 30,
      "metadata": {},
      "outputs": [
        {
          "data": {
            "image/png": "[encoded data removed]",
            "text/plain": [
              "<Figure size 640x480 with 1 Axes>"
            ]
          },
          "metadata": {},
          "output_type": "display_data"
        }
      ],
      "source": [
        "epoch_count_gru_stacked = range(1, len(history_ppl_gru_stacked) + 1)\n",
        "\n",
        "sns.lineplot(x=epoch_count, y=history_ppl_gru, color=\"red\", label=\"GRU\")\n",
        "sns.lineplot(x=epoch_count, y=history_ppl_lstm, color=\"green\", label=\"LSTM\")\n",
        "sns.lineplot(x=epoch_count, y=history_ppl, color=\"blue\", label=\"RNN\")\n",
        "sns.lineplot(x=epoch_count_gru_adam, y=history_ppl_gru_adam, color=\"violet\", label=\"GRU+Adam\")\n",
        "sns.lineplot(x=epoch_count_gru_stacked, y=history_ppl_gru_stacked, color=\"orange\", label=\"GRU-2 capas\")\n",
        "\n",
        "plt.title(\"Comparativa de modelos\")\n",
        "plt.xlabel(\"Epochs\")\n",
        "plt.ylabel(\"Perplexity\")\n",
        "plt.legend()\n",
        "plt.xticks(epoch_count)\n",
        "plt.show()"
      ]
    },
    {
      "cell_type": "markdown",
      "metadata": {},
      "source": [
        "El modelo tarda lógicamente más tiempo en entrenarse que los anteriores. Durante parte del entrenamiento su valor de Perplexity aumenta en validación, pero termina descendiendo a niveles similares a las dos variantes de GRU.\n",
        "\n",
        "En base a los datos obtenidos, y dado que los resultados son similares en la época 20 para las variantes de GRU, se comparará el texto generado por las tres variantes de GRU."
      ]
    },
    {
      "cell_type": "markdown",
      "metadata": {
        "id": "mCeMWWupxN1-"
      },
      "source": [
        "### Generación de secuencias greedy\n",
        "Función vista en clase para la generación de secuencias Greedy:"
      ]
    },
    {
      "cell_type": "code",
      "execution_count": 31,
      "metadata": {
        "id": "bwbS_pfhxvB3"
      },
      "outputs": [],
      "source": [
        "def generate_seq_greedy(model, seed_text, max_length, n_words):\n",
        "    \"\"\"\n",
        "        Exec model sequence prediction\n",
        "\n",
        "        Args:\n",
        "            model (keras): modelo entrenado\n",
        "            seed_text (string): texto de entrada (input_seq)\n",
        "            max_length (int): máxima longitud de la sequencia de entrada\n",
        "            n_words (int): números de caracteres a agregar a la sequencia de entrada\n",
        "        returns:\n",
        "            output_text (string): sentencia con las \"n_words\" agregadas\n",
        "    \"\"\"\n",
        "    output_text = seed_text\n",
        "\t# generate a fixed number of words\n",
        "    for _ in range(n_words):\n",
        "\t\t# Encodeamos\n",
        "        encoded = [char2idx[ch] for ch in output_text.lower() ]\n",
        "\t\t# Si tienen distinto largo\n",
        "        encoded = pad_sequences([encoded], maxlen=max_length, padding='pre')\n",
        "\n",
        "\t\t# Predicción softmax\n",
        "        y_hat = np.argmax(model.predict(encoded,verbose=0)[0,-1,:])\n",
        "\t\t# Vamos concatenando las predicciones\n",
        "        out_word = ''\n",
        "\n",
        "        out_word = idx2char[y_hat]\n",
        "\n",
        "\t\t# Agrego las palabras a la frase predicha\n",
        "        output_text += out_word\n",
        "    return output_text"
      ]
    },
    {
      "cell_type": "markdown",
      "metadata": {
        "id": "drJ6xn5qW1Hl"
      },
      "source": [
        "###  Beam search y muestreo aleatorio"
      ]
    },
    {
      "cell_type": "code",
      "execution_count": 32,
      "metadata": {
        "id": "_vovn9XZW1Hl"
      },
      "outputs": [],
      "source": [
        "# funcionalidades para hacer encoding y decoding\n",
        "\n",
        "def encode(text,max_length=max_context_size):\n",
        "\n",
        "    encoded = [char2idx[ch] for ch in text]\n",
        "    encoded = pad_sequences([encoded], maxlen=max_length, padding='pre')\n",
        "\n",
        "    return encoded\n",
        "\n",
        "def decode(seq):\n",
        "    return ''.join([idx2char[ch] for ch in seq])"
      ]
    },
    {
      "cell_type": "code",
      "execution_count": 33,
      "metadata": {
        "id": "I_lZiQwkW1Hl"
      },
      "outputs": [],
      "source": [
        "from scipy.special import softmax\n",
        "\n",
        "# función que selecciona candidatos para el beam search\n",
        "def select_candidates(pred,num_beams,vocab_size,history_probs,history_tokens,temp,mode):\n",
        "\n",
        "  # colectar todas las probabilidades para la siguiente búsqueda\n",
        "  pred_large = []\n",
        "\n",
        "  for idx,pp in enumerate(pred):\n",
        "    pred_large.extend(np.log(pp+1E-10)+history_probs[idx])\n",
        "\n",
        "  pred_large = np.array(pred_large)\n",
        "\n",
        "  # criterio de selección\n",
        "  if mode == 'det':\n",
        "    idx_select = np.argsort(pred_large)[::-1][:num_beams] # beam search determinista\n",
        "  elif mode == 'sto':\n",
        "    idx_select = np.random.choice(np.arange(pred_large.shape[0]), num_beams, p=softmax(pred_large/temp)) # beam search con muestreo aleatorio\n",
        "  else:\n",
        "    raise ValueError(f'Wrong selection mode. {mode} was given. det and sto are supported.')\n",
        "\n",
        "  # traducir a índices de token en el vocabulario\n",
        "  new_history_tokens = np.concatenate((np.array(history_tokens)[idx_select//vocab_size],\n",
        "                        np.array([idx_select%vocab_size]).T),\n",
        "                      axis=1)\n",
        "\n",
        "  # devolver el producto de las probabilidades (log) y la secuencia de tokens seleccionados\n",
        "  return pred_large[idx_select.astype(int)], new_history_tokens.astype(int)\n",
        "\n",
        "\n",
        "def beam_search(model,num_beams,num_words,input,temp=1,mode='det'):\n",
        "\n",
        "    # first iteration\n",
        "\n",
        "    # encode\n",
        "    encoded = encode(input)\n",
        "\n",
        "    # first prediction\n",
        "    y_hat = model.predict(encoded,verbose=0)[0,-1,:]\n",
        "\n",
        "    # get vocabulary size\n",
        "    vocab_size = y_hat.shape[0]\n",
        "\n",
        "    # initialize history\n",
        "    history_probs = [0]*num_beams\n",
        "    history_tokens = [encoded[0]]*num_beams\n",
        "\n",
        "    # select num_beams candidates\n",
        "    history_probs, history_tokens = select_candidates([y_hat],\n",
        "                                        num_beams,\n",
        "                                        vocab_size,\n",
        "                                        history_probs,\n",
        "                                        history_tokens,\n",
        "                                        temp,\n",
        "                                        mode)\n",
        "\n",
        "    # beam search loop\n",
        "    for i in range(num_words-1):\n",
        "\n",
        "      preds = []\n",
        "\n",
        "      for hist in history_tokens:\n",
        "\n",
        "        # actualizar secuencia de tokens\n",
        "        input_update = np.array([hist[i+1:]]).copy()\n",
        "\n",
        "        # predicción\n",
        "        y_hat = model.predict(input_update,verbose=0)[0,-1,:]\n",
        "\n",
        "        preds.append(y_hat)\n",
        "\n",
        "      history_probs, history_tokens = select_candidates(preds,\n",
        "                                                        num_beams,\n",
        "                                                        vocab_size,\n",
        "                                                        history_probs,\n",
        "                                                        history_tokens,\n",
        "                                                        temp,\n",
        "                                                        mode)\n",
        "\n",
        "    return history_tokens[:,-(len(input)+num_words):]"
      ]
    },
    {
      "cell_type": "markdown",
      "metadata": {},
      "source": [
        "Hacemos una comparativa de las distintas estrategias para generar la secuencia. El texto de input es \"Cersei Lann\", que idealmente debería completar el apellido \"Lannister\" y continuar la frase:"
      ]
    },
    {
      "cell_type": "code",
      "execution_count": 34,
      "metadata": {
        "id": "2S3_I3S1W1Hm"
      },
      "outputs": [],
      "source": [
        "resultados = {\n",
        "    \"GRU\": {},\n",
        "    \"GRU+Adam\": {},\n",
        "    \"GRU 2 capas ocultas\": {}\n",
        "}\n",
        "\n",
        "\n",
        "input_text='Cersei Lann'\n",
        "num_words = 60\n",
        "num_beams = 10\n",
        "\n",
        "archivo_resultados = os.path.join(\"Generacion Secuencias\", \"secuencias_generadas.csv\")\n",
        "\n",
        "if not os.path.exists(archivo_resultados):\n",
        "    resultados[\"GRU\"][\"Greedy\"] = generate_seq_greedy(model_gru, input_text, max_length=max_context_size, n_words=num_words)\n",
        "    resultados[\"GRU+Adam\"][\"Greedy\"] = generate_seq_greedy(model_gru_adam, input_text, max_length=max_context_size, n_words=num_words)\n",
        "    resultados[\"GRU 2 capas ocultas\"][\"Greedy\"] = generate_seq_greedy(model_gru_stacked, input_text, max_length=max_context_size, n_words=num_words)\n",
        "\n",
        "    resultados[\"GRU\"][\"Beam Search Deterministico\"] = decode(beam_search(model_gru, num_beams=num_beams,num_words=num_words,input=input_text)[0])\n",
        "    resultados[\"GRU+Adam\"][\"Beam Search Deterministico\"] = decode(beam_search(model_gru_adam, num_beams=num_beams,num_words=num_words,input=input_text)[0])\n",
        "    resultados[\"GRU 2 capas ocultas\"][\"Beam Search Deterministico\"] = decode(beam_search(model_gru_stacked, num_beams=num_beams,num_words=num_words,input=input_text)[0])\n",
        "\n",
        "    temp = 1\n",
        "    resultados[\"GRU\"][f\"Beam Search Estocastico T={temp}\"] = decode(beam_search(model_gru, num_beams=num_beams,num_words=num_words,input=input_text, temp=temp, mode=\"sto\")[0])\n",
        "    resultados[\"GRU+Adam\"][f\"Beam Search Estocastico T={temp}\"] = decode(beam_search(model_gru_adam, num_beams=num_beams,num_words=num_words,input=input_text, temp=temp, mode=\"sto\")[0])\n",
        "    resultados[\"GRU 2 capas ocultas\"][f\"Beam Search Estocastico T={temp}\"] = decode(beam_search(model_gru_stacked, num_beams=num_beams,num_words=num_words,input=input_text, temp=temp, mode=\"sto\")[0])\n",
        "\n",
        "    temp = 0.5\n",
        "    resultados[\"GRU\"][f\"Beam Search Estocastico T={temp}\"] = decode(beam_search(model_gru, num_beams=num_beams,num_words=num_words,input=input_text, temp=temp, mode=\"sto\")[0])\n",
        "    resultados[\"GRU+Adam\"][f\"Beam Search Estocastico T={temp}\"] = decode(beam_search(model_gru_adam, num_beams=num_beams,num_words=num_words,input=input_text, temp=temp, mode=\"sto\")[0])\n",
        "    resultados[\"GRU 2 capas ocultas\"][f\"Beam Search Estocastico T={temp}\"] = decode(beam_search(model_gru_stacked, num_beams=num_beams,num_words=num_words,input=input_text, temp=temp, mode=\"sto\")[0])\n",
        "\n",
        "    temp = 0.25\n",
        "    resultados[\"GRU\"][f\"Beam Search Estocastico T={temp}\"] = decode(beam_search(model_gru, num_beams=num_beams,num_words=num_words,input=input_text, temp=temp, mode=\"sto\")[0])\n",
        "    resultados[\"GRU+Adam\"][f\"Beam Search Estocastico T={temp}\"] = decode(beam_search(model_gru_adam, num_beams=num_beams,num_words=num_words,input=input_text, temp=temp, mode=\"sto\")[0])\n",
        "    resultados[\"GRU 2 capas ocultas\"][f\"Beam Search Estocastico T={temp}\"] = decode(beam_search(model_gru_stacked, num_beams=num_beams,num_words=num_words,input=input_text, temp=temp, mode=\"sto\")[0])\n",
        "\n",
        "    temp = 10\n",
        "    resultados[\"GRU\"][f\"Beam Search Estocastico T={temp}\"] = decode(beam_search(model_gru, num_beams=num_beams,num_words=num_words,input=input_text, temp=temp, mode=\"sto\")[0])\n",
        "    resultados[\"GRU+Adam\"][f\"Beam Search Estocastico T={temp}\"] = decode(beam_search(model_gru_adam, num_beams=num_beams,num_words=num_words,input=input_text, temp=temp, mode=\"sto\")[0])\n",
        "    resultados[\"GRU 2 capas ocultas\"][f\"Beam Search Estocastico T={temp}\"] = decode(beam_search(model_gru_stacked, num_beams=num_beams,num_words=num_words,input=input_text, temp=temp, mode=\"sto\")[0])\n",
        "\n",
        "\n",
        "    # Convertimos a DataFrame\n",
        "    df_resultados = pd.DataFrame(resultados)\n",
        "    df_resultados\n",
        "\n",
        "    df_resultados.to_csv(archivo_resultados, index=False, encoding=\"utf-8\")\n",
        "else:\n",
        "    df_resultados = pd.read_csv(archivo_resultados, encoding=\"utf-8\")"
      ]
    },
    {
      "cell_type": "code",
      "execution_count": 35,
      "metadata": {},
      "outputs": [
        {
          "data": {
            "text/html": [
              "<table border=\"1\" class=\"dataframe\">\n",
              "  <thead>\n",
              "    <tr style=\"text-align: right;\">\n",
              "      <th></th>\n",
              "      <th>GRU</th>\n",
              "      <th>GRU+Adam</th>\n",
              "      <th>GRU 2 capas ocultas</th>\n",
              "    </tr>\n",
              "  </thead>\n",
              "  <tbody>\n",
              "    <tr>\n",
              "      <th>0</th>\n",
              "      <td>Cersei Lanned and started at him. \"It was a small was a small was a sma</td>\n",
              "      <td>Cersei Lanned to the stories and the stories and the stories and the st</td>\n",
              "      <td>Cersei Lanned to the stories and the stories the stories the stories th</td>\n",
              "    </tr>\n",
              "    <tr>\n",
              "      <th>1</th>\n",
              "      <td>Cersei Lannister, and they were nothing to his face, and they were the</td>\n",
              "      <td>Cersei Lannister,\" he said. \"What are your brother,\" he said. \"You are</td>\n",
              "      <td>Cersei Lannister,\" he said. \"What do you know what would you know what</td>\n",
              "    </tr>\n",
              "    <tr>\n",
              "      <th>2</th>\n",
              "      <td>Cersei Lannister and the wolf would have told her. She had been a sword</td>\n",
              "      <td>Cersei Lannister was the Wall, and the window was the first time to go</td>\n",
              "      <td>Cersei Lannister was not the window, but there was not to see it with d</td>\n",
              "    </tr>\n",
              "    <tr>\n",
              "      <th>3</th>\n",
              "      <td>Cersei Lannisters and the great hand of the window of the window of the</td>\n",
              "      <td>Cersei Lannister was not the window of the Kingsguard,\" he said. \"I do</td>\n",
              "      <td>Cersei Lannister,\" he said. \"The wolf would not have to see you to the</td>\n",
              "    </tr>\n",
              "    <tr>\n",
              "      <th>4</th>\n",
              "      <td>Cersei Lannister was a small was a small of the words of the room, and</td>\n",
              "      <td>Cersei Lannister was a moment to the stories and the other man with the</td>\n",
              "      <td>Cersei Lannister,\" he said. \"I have no more than the other kingsroad.\"</td>\n",
              "    </tr>\n",
              "    <tr>\n",
              "      <th>5</th>\n",
              "      <td>Cersei Lanna00d Alyi2ahS7WupoiWapfroahoggndps-by vratnLese.b li1. toiGu</td>\n",
              "      <td>Cersei Lannn. my vargehEoDumolbarn'n's?1HaItse,iVv2hLN17AYo An \"RecfuiT</td>\n",
              "      <td>Cersei Lanniesd R2NbCfly, E1Hi!. *NLAroYPoEx1U..BMl4ziGMet Loxjem bige.</td>\n",
              "    </tr>\n",
              "  </tbody>\n",
              "</table>"
            ],
            "text/plain": [
              "<IPython.core.display.HTML object>"
            ]
          },
          "metadata": {},
          "output_type": "display_data"
        }
      ],
      "source": [
        "from IPython.display import display, HTML\n",
        "\n",
        "display(HTML(df_resultados.to_html(escape=False)))"
      ]
    },
    {
      "cell_type": "markdown",
      "metadata": {},
      "source": [
        "Se observa lo siguiente:\n",
        "- La estrategia greedy no completa correctamente el apellido, y genera palabras reales, pero no oraciones coherentes, ya que tiene a repetir las palabras una y otra vez\n",
        "- El Beam Search Determinístico logra una mejora, completa correctamente el apellido, y ahora no sólo genera palabras reales, sino que también oraciones coherentes. No obstante, en el contexto narrativo no tienen demasiada coherencia, incluso usando el pronombre \"he\" en dos de las versiones de GRU a pesar de ser mujer.\n",
        "- El Beam Search Estocástico de temperatura 1 logra resultados similares al Beam Search Determinístico, pero se observa que la versión GRU logra usar el pronombre correcto de mujer.\n",
        "- Al reducir la temperatura a 0.5 y 0.25, el Beam Search comineza a parecerse al Greedy, sobretodo en la versión GRU simple, donde repite la tendencia de repetir palabras. Esto se debe a que bajar la temperatura genera mayor diferencia de probabilidad entre las palabras más probables y las menos, lo que termina haciendo que el muestreo see asimile a la estrategia Greedy\n",
        "- Al aumentar la temperatura a 10, ya ni siquiera forma palabras reales. Esto se debe a que ahora la distribución de probabilidad se ecualiza, pareciendose más a una uniforme, lo que en cierta forma \"borra\" el aprendizaje del modelo."
      ]
    },
    {
      "cell_type": "markdown",
      "metadata": {},
      "source": [
        "Generamos un nuevo output con la frase \"Lord Star\", que idealmente debería ser completado el apellido como \"Stark\":"
      ]
    },
    {
      "cell_type": "code",
      "execution_count": 36,
      "metadata": {},
      "outputs": [
        {
          "data": {
            "text/html": [
              "<table border=\"1\" class=\"dataframe\">\n",
              "  <thead>\n",
              "    <tr style=\"text-align: right;\">\n",
              "      <th></th>\n",
              "      <th>GRU</th>\n",
              "      <th>GRU+Adam</th>\n",
              "      <th>GRU 2 capas ocultas</th>\n",
              "    </tr>\n",
              "  </thead>\n",
              "  <tbody>\n",
              "    <tr>\n",
              "      <th>0</th>\n",
              "      <td>Lord Started to his face. \"It was a small was a small was a small was</td>\n",
              "      <td>Lord Started to the stories and the stories and the stories and the s</td>\n",
              "      <td>Lord Started to see him and the stories the world was a second half a</td>\n",
              "    </tr>\n",
              "    <tr>\n",
              "      <th>1</th>\n",
              "      <td>Lord Stark said, and they were nothing to his face, and they had been</td>\n",
              "      <td>Lord Stark,\" he said. \"What are your brother,\" he said. \"There was no</td>\n",
              "      <td>Lord Stark,\" he said. \"There was no more than your brother,\" he said.</td>\n",
              "    </tr>\n",
              "    <tr>\n",
              "      <th>2</th>\n",
              "      <td>Lord Stark said. The dark was a man's legs, the window of the room, a</td>\n",
              "      <td>Lord Stark would not see the darkness,\" he said. \"I will not be a bac</td>\n",
              "      <td>Lord Stark was a boy of the king.\" The king said. \"You are the dragon</td>\n",
              "    </tr>\n",
              "    <tr>\n",
              "      <th>3</th>\n",
              "      <td>Lord Stark said. \"You are not to see you are you will be a man's swor</td>\n",
              "      <td>Lord Stark had been a moment to the king.\" \"I have not the direwolf p</td>\n",
              "      <td>Lord Stark was not the children.\" \"You are all the dragon,\" he said.</td>\n",
              "    </tr>\n",
              "    <tr>\n",
              "      <th>4</th>\n",
              "      <td>Lord Stark was a small of the window, and the wolf was a small of the</td>\n",
              "      <td>Lord Stark had been a man's brother to the window, but the window was</td>\n",
              "      <td>Lord Stark was not the dragon.\" \"The king had been a boy of the Stark</td>\n",
              "    </tr>\n",
              "    <tr>\n",
              "      <th>5</th>\n",
              "      <td>Lord Star Eadezumgon-ghtps?iRGElUeaY2M1HhS spiptm Arow Ofb E6 L0fqIgh</td>\n",
              "      <td>Lord StarkkroEFEtOT'TYRY L iCimechSp,\"hilamm scueh\" h duwshtach-Il,IP</td>\n",
              "      <td>Lord StarrywUaps-smi sirce? She 6sok!pt, ou.\"H ?4V2DK1NCEmov NMt Asco</td>\n",
              "    </tr>\n",
              "  </tbody>\n",
              "</table>"
            ],
            "text/plain": [
              "<IPython.core.display.HTML object>"
            ]
          },
          "metadata": {},
          "output_type": "display_data"
        }
      ],
      "source": [
        "resultados_2 = {\n",
        "    \"GRU\": {},\n",
        "    \"GRU+Adam\": {},\n",
        "    \"GRU 2 capas ocultas\": {}\n",
        "}\n",
        "\n",
        "\n",
        "input_text='Lord Star'\n",
        "num_words = 60\n",
        "num_beams = 10\n",
        "archivo_resultados_2 = os.path.join(\"Generacion Secuencias\", \"secuencias_generadas_2.csv\")\n",
        "\n",
        "if not os.path.exists(archivo_resultados_2):\n",
        "    resultados_2[\"GRU\"][\"Greedy\"] = generate_seq_greedy(model_gru, input_text, max_length=max_context_size, n_words=num_words)\n",
        "    resultados_2[\"GRU+Adam\"][\"Greedy\"] = generate_seq_greedy(model_gru_adam, input_text, max_length=max_context_size, n_words=num_words)\n",
        "    resultados_2[\"GRU 2 capas ocultas\"][\"Greedy\"] = generate_seq_greedy(model_gru_stacked, input_text, max_length=max_context_size, n_words=num_words)\n",
        "\n",
        "    resultados_2[\"GRU\"][\"Beam Search Deterministico\"] = decode(beam_search(model_gru, num_beams=num_beams,num_words=num_words,input=input_text)[0])\n",
        "    resultados_2[\"GRU+Adam\"][\"Beam Search Deterministico\"] = decode(beam_search(model_gru_adam, num_beams=num_beams,num_words=num_words,input=input_text)[0])\n",
        "    resultados_2[\"GRU 2 capas ocultas\"][\"Beam Search Deterministico\"] = decode(beam_search(model_gru_stacked, num_beams=num_beams,num_words=num_words,input=input_text)[0])\n",
        "\n",
        "    temp = 1\n",
        "    resultados_2[\"GRU\"][f\"Beam Search Estocastico T={temp}\"] = decode(beam_search(model_gru, num_beams=num_beams,num_words=num_words,input=input_text, temp=temp, mode=\"sto\")[0])\n",
        "    resultados_2[\"GRU+Adam\"][f\"Beam Search Estocastico T={temp}\"] = decode(beam_search(model_gru_adam, num_beams=num_beams,num_words=num_words,input=input_text, temp=temp, mode=\"sto\")[0])\n",
        "    resultados_2[\"GRU 2 capas ocultas\"][f\"Beam Search Estocastico T={temp}\"] = decode(beam_search(model_gru_stacked, num_beams=num_beams,num_words=num_words,input=input_text, temp=temp, mode=\"sto\")[0])\n",
        "\n",
        "    temp = 0.5\n",
        "    resultados_2[\"GRU\"][f\"Beam Search Estocastico T={temp}\"] = decode(beam_search(model_gru, num_beams=num_beams,num_words=num_words,input=input_text, temp=temp, mode=\"sto\")[0])\n",
        "    resultados_2[\"GRU+Adam\"][f\"Beam Search Estocastico T={temp}\"] = decode(beam_search(model_gru_adam, num_beams=num_beams,num_words=num_words,input=input_text, temp=temp, mode=\"sto\")[0])\n",
        "    resultados_2[\"GRU 2 capas ocultas\"][f\"Beam Search Estocastico T={temp}\"] = decode(beam_search(model_gru_stacked, num_beams=num_beams,num_words=num_words,input=input_text, temp=temp, mode=\"sto\")[0])\n",
        "\n",
        "    temp = 0.25\n",
        "    resultados_2[\"GRU\"][f\"Beam Search Estocastico T={temp}\"] = decode(beam_search(model_gru, num_beams=num_beams,num_words=num_words,input=input_text, temp=temp, mode=\"sto\")[0])\n",
        "    resultados_2[\"GRU+Adam\"][f\"Beam Search Estocastico T={temp}\"] = decode(beam_search(model_gru_adam, num_beams=num_beams,num_words=num_words,input=input_text, temp=temp, mode=\"sto\")[0])\n",
        "    resultados_2[\"GRU 2 capas ocultas\"][f\"Beam Search Estocastico T={temp}\"] = decode(beam_search(model_gru_stacked, num_beams=num_beams,num_words=num_words,input=input_text, temp=temp, mode=\"sto\")[0])\n",
        "\n",
        "    temp = 10\n",
        "    resultados_2[\"GRU\"][f\"Beam Search Estocastico T={temp}\"] = decode(beam_search(model_gru, num_beams=num_beams,num_words=num_words,input=input_text, temp=temp, mode=\"sto\")[0])\n",
        "    resultados_2[\"GRU+Adam\"][f\"Beam Search Estocastico T={temp}\"] = decode(beam_search(model_gru_adam, num_beams=num_beams,num_words=num_words,input=input_text, temp=temp, mode=\"sto\")[0])\n",
        "    resultados_2[\"GRU 2 capas ocultas\"][f\"Beam Search Estocastico T={temp}\"] = decode(beam_search(model_gru_stacked, num_beams=num_beams,num_words=num_words,input=input_text, temp=temp, mode=\"sto\")[0])\n",
        "\n",
        "\n",
        "    # Convertimos a DataFrame\n",
        "    df_resultados_2 = pd.DataFrame(resultados_2)\n",
        "    df_resultados_2\n",
        "\n",
        "    df_resultados_2.to_csv(archivo_resultados_2, index=False, encoding=\"utf-8\")\n",
        "else:\n",
        "    df_resultados_2 = pd.read_csv(archivo_resultados_2, encoding=\"utf-8\")\n",
        "\n",
        "\n",
        "display(HTML(df_resultados_2.to_html(escape=False)))"
      ]
    },
    {
      "cell_type": "markdown",
      "metadata": {},
      "source": [
        "Obtenemos resultados similares al caso anterior:\n",
        "- En Greedy no logra completar correctamente el apellido, y repite las palabras, pero logra generar palabras reales en general.\n",
        "- Beam Search Determinístico y Estocástico con T=1 logran completar el apellido, y formar oraciones coherentes.\n",
        "- Al reducir la temperatura, se va pareciendo cada vez más a la estrategia Greedy, con su tendencia a repetir palabras.\n",
        "- Al aumentar la temperatura arroja caracteres aleatorios."
      ]
    },
    {
      "cell_type": "code",
      "execution_count": 37,
      "metadata": {},
      "outputs": [
        {
          "data": {
            "text/html": [
              "<table border=\"1\" class=\"dataframe\">\n",
              "  <thead>\n",
              "    <tr style=\"text-align: right;\">\n",
              "      <th></th>\n",
              "      <th>GRU</th>\n",
              "      <th>GRU+Adam</th>\n",
              "      <th>GRU 2 capas ocultas</th>\n",
              "    </tr>\n",
              "  </thead>\n",
              "  <tbody>\n",
              "    <tr>\n",
              "      <th>0</th>\n",
              "      <td>Winterfell and started at him. \"It was a small was a small was a sm</td>\n",
              "      <td>Winterfell was a small man with a stranger than the stories and the</td>\n",
              "      <td>Winterfell with the stories and the stories the world was a second</td>\n",
              "    </tr>\n",
              "    <tr>\n",
              "      <th>1</th>\n",
              "      <td>Winterfell, and they had been the room, and they had been the last</td>\n",
              "      <td>Winterfell,\" she said. \"There are no more than the window,\" he said</td>\n",
              "      <td>Winterfell, my lord,\" he said. \"What do you know what would you kno</td>\n",
              "    </tr>\n",
              "    <tr>\n",
              "      <th>2</th>\n",
              "      <td>Winterfell and the gods had been the wooden of the king's Landing,</td>\n",
              "      <td>Winterfell,\" Sansa said. \"You can't see the yard is the kingsroad,\"</td>\n",
              "      <td>Winterfell was a boy of the Starks of the Kingsguard.\" \"You will ni</td>\n",
              "    </tr>\n",
              "    <tr>\n",
              "      <th>3</th>\n",
              "      <td>Winterfell, and the gods had been the silver of the Night's Watch.</td>\n",
              "      <td>Winterfell,\" she said. \"There was not the table, and they were a bl</td>\n",
              "      <td>Winterfell,\" he said. \"There was not the other sister,\" he said. \"P</td>\n",
              "    </tr>\n",
              "    <tr>\n",
              "      <th>4</th>\n",
              "      <td>Winterfell and the ground was a small hands and the words were the</td>\n",
              "      <td>Winterfell was not the king's brother,\" he said. \"The king did not</td>\n",
              "      <td>Winterfell,\" he said. \"I don't know what it was not the other siste</td>\n",
              "    </tr>\n",
              "    <tr>\n",
              "      <th>5</th>\n",
              "      <td>Winterfl'ircloaDofr SiAst?n18T6rAsnPandi,'q\"T~eijD\"4CJot3B1 jdoinay</td>\n",
              "      <td>Winterfy6io gamcin\"afeal has a. Whfil!FAm,ntchothegeardlt-mena wndv</td>\n",
              "      <td>WinterfelwIpswaybefexem-kn If;-iserhat?WAd isixhivrYangurh, w\"k nc\"</td>\n",
              "    </tr>\n",
              "  </tbody>\n",
              "</table>"
            ],
            "text/plain": [
              "<IPython.core.display.HTML object>"
            ]
          },
          "metadata": {},
          "output_type": "display_data"
        }
      ],
      "source": [
        "resultados_3 = {\n",
        "    \"GRU\": {},\n",
        "    \"GRU+Adam\": {},\n",
        "    \"GRU 2 capas ocultas\": {}\n",
        "}\n",
        "\n",
        "\n",
        "input_text='Winterf'\n",
        "num_words = 60\n",
        "num_beams = 10\n",
        "\n",
        "archivo_resultados_3 = os.path.join(\"Generacion Secuencias\", \"secuencias_generadas_3.csv\")\n",
        "\n",
        "if not os.path.exists(archivo_resultados_3):\n",
        "    resultados_3[\"GRU\"][\"Greedy\"] = generate_seq_greedy(model_gru, input_text, max_length=max_context_size, n_words=num_words)\n",
        "    resultados_3[\"GRU+Adam\"][\"Greedy\"] = generate_seq_greedy(model_gru_adam, input_text, max_length=max_context_size, n_words=num_words)\n",
        "    resultados_3[\"GRU 2 capas ocultas\"][\"Greedy\"] = generate_seq_greedy(model_gru_stacked, input_text, max_length=max_context_size, n_words=num_words)\n",
        "\n",
        "    resultados_3[\"GRU\"][\"Beam Search Deterministico\"] = decode(beam_search(model_gru, num_beams=num_beams,num_words=num_words,input=input_text)[0])\n",
        "    resultados_3[\"GRU+Adam\"][\"Beam Search Deterministico\"] = decode(beam_search(model_gru_adam, num_beams=num_beams,num_words=num_words,input=input_text)[0])\n",
        "    resultados_3[\"GRU 2 capas ocultas\"][\"Beam Search Deterministico\"] = decode(beam_search(model_gru_stacked, num_beams=num_beams,num_words=num_words,input=input_text)[0])\n",
        "\n",
        "    temp = 1\n",
        "    resultados_3[\"GRU\"][f\"Beam Search Estocastico T={temp}\"] = decode(beam_search(model_gru, num_beams=num_beams,num_words=num_words,input=input_text, temp=temp, mode=\"sto\")[0])\n",
        "    resultados_3[\"GRU+Adam\"][f\"Beam Search Estocastico T={temp}\"] = decode(beam_search(model_gru_adam, num_beams=num_beams,num_words=num_words,input=input_text, temp=temp, mode=\"sto\")[0])\n",
        "    resultados_3[\"GRU 2 capas ocultas\"][f\"Beam Search Estocastico T={temp}\"] = decode(beam_search(model_gru_stacked, num_beams=num_beams,num_words=num_words,input=input_text, temp=temp, mode=\"sto\")[0])\n",
        "\n",
        "    temp = 0.5\n",
        "    resultados_3[\"GRU\"][f\"Beam Search Estocastico T={temp}\"] = decode(beam_search(model_gru, num_beams=num_beams,num_words=num_words,input=input_text, temp=temp, mode=\"sto\")[0])\n",
        "    resultados_3[\"GRU+Adam\"][f\"Beam Search Estocastico T={temp}\"] = decode(beam_search(model_gru_adam, num_beams=num_beams,num_words=num_words,input=input_text, temp=temp, mode=\"sto\")[0])\n",
        "    resultados_3[\"GRU 2 capas ocultas\"][f\"Beam Search Estocastico T={temp}\"] = decode(beam_search(model_gru_stacked, num_beams=num_beams,num_words=num_words,input=input_text, temp=temp, mode=\"sto\")[0])\n",
        "\n",
        "    temp = 0.25\n",
        "    resultados_3[\"GRU\"][f\"Beam Search Estocastico T={temp}\"] = decode(beam_search(model_gru, num_beams=num_beams,num_words=num_words,input=input_text, temp=temp, mode=\"sto\")[0])\n",
        "    resultados_3[\"GRU+Adam\"][f\"Beam Search Estocastico T={temp}\"] = decode(beam_search(model_gru_adam, num_beams=num_beams,num_words=num_words,input=input_text, temp=temp, mode=\"sto\")[0])\n",
        "    resultados_3[\"GRU 2 capas ocultas\"][f\"Beam Search Estocastico T={temp}\"] = decode(beam_search(model_gru_stacked, num_beams=num_beams,num_words=num_words,input=input_text, temp=temp, mode=\"sto\")[0])\n",
        "\n",
        "    temp = 10\n",
        "    resultados_3[\"GRU\"][f\"Beam Search Estocastico T={temp}\"] = decode(beam_search(model_gru, num_beams=num_beams,num_words=num_words,input=input_text, temp=temp, mode=\"sto\")[0])\n",
        "    resultados_3[\"GRU+Adam\"][f\"Beam Search Estocastico T={temp}\"] = decode(beam_search(model_gru_adam, num_beams=num_beams,num_words=num_words,input=input_text, temp=temp, mode=\"sto\")[0])\n",
        "    resultados_3[\"GRU 2 capas ocultas\"][f\"Beam Search Estocastico T={temp}\"] = decode(beam_search(model_gru_stacked, num_beams=num_beams,num_words=num_words,input=input_text, temp=temp, mode=\"sto\")[0])\n",
        "\n",
        "\n",
        "    # Convertimos a DataFrame\n",
        "    df_resultados_3 = pd.DataFrame(resultados_3)\n",
        "    df_resultados_3\n",
        "\n",
        "    df_resultados_3.to_csv(archivo_resultados_3, index=False, encoding=\"utf-8\")\n",
        "else:\n",
        "    df_resultados_3 = pd.read_csv(archivo_resultados_3, encoding=\"utf-8\")\n",
        "\n",
        "display(HTML(df_resultados_3.to_html(escape=False)))\n"
      ]
    },
    {
      "cell_type": "code",
      "execution_count": null,
      "metadata": {},
      "outputs": [],
      "source": []
    },
    {
      "cell_type": "markdown",
      "metadata": {
        "id": "Q_LlqmtEW1Hn"
      },
      "source": []
    }
  ],
  "metadata": {
    "accelerator": "GPU",
    "colab": {
      "gpuType": "T4",
      "provenance": []
    },
    "kernelspec": {
      "display_name": "Python 3",
      "language": "python",
      "name": "python3"
    },
    "language_info": {
      "codemirror_mode": {
        "name": "ipython",
        "version": 3
      },
      "file_extension": ".py",
      "mimetype": "text/x-python",
      "name": "python",
      "nbconvert_exporter": "python",
      "pygments_lexer": "ipython3",
      "version": "3.12.3"
    }
  },
  "nbformat": 4,
  "nbformat_minor": 0
}
